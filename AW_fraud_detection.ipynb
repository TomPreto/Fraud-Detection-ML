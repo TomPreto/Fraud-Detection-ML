{
 "cells": [
  {
   "cell_type": "code",
   "execution_count": 470,
   "metadata": {},
   "outputs": [],
   "source": [
    "import pandas as pd\n",
    "import numpy as np\n",
    "import seaborn as sns\n",
    "import warnings\n",
    "warnings.filterwarnings('ignore')\n",
    "import os # makes you access your files on hard drive outside the folder\n"
   ]
  },
  {
   "attachments": {},
   "cell_type": "markdown",
   "metadata": {},
   "source": [
    "Client_id: Unique id for client\n",
    "District: District where the client is\n",
    "Client_catg: Category client belongs to\n",
    "Region: Area where the client is\n",
    "Creation_date: Date client joined\n",
    "Target: fraud:1 , not fraud: 0\n",
    "Invoice data\n",
    "\n",
    "Client_id: Unique id for the client\n",
    "Invoice_date: Date of the invoice\n",
    "Tarif_type: Type of tax\n",
    "Counter_number:\n",
    "Counter_statue: takes up to 5 values such as working fine, not working, on hold statue, ect\n",
    "Counter_code:\n",
    "Reading_remarque: notes that the STEG agent takes during his visit to the client (e.g: If the counter shows something wrong, the agent gives a bad score)\n",
    "Counter_coefficient: An additional coefficient to be added when standard consumption is exceeded\n",
    "Consommation_level_1: Consumption_level_1\n",
    "Consommation_level_2: Consumption_level_2\n",
    "Consommation_level_3: Consumption_level_3\n",
    "Consommation_level_4: Consumption_level_4\n",
    "Old_index: Old index\n",
    "New_index: New index\n",
    "Months_number: Month number\n",
    "Counter_type: Type of counter"
   ]
  },
  {
   "cell_type": "code",
   "execution_count": null,
   "metadata": {},
   "outputs": [],
   "source": []
  },
  {
   "cell_type": "code",
   "execution_count": 471,
   "metadata": {},
   "outputs": [],
   "source": [
    "df_client = pd.read_csv('data/client_train.csv')\n",
    "df_invoice = pd.read_csv('data/invoice_train.csv')"
   ]
  },
  {
   "cell_type": "code",
   "execution_count": 472,
   "metadata": {},
   "outputs": [
    {
     "name": "stdout",
     "output_type": "stream",
     "text": [
      "<class 'pandas.core.frame.DataFrame'>\n",
      "RangeIndex: 135493 entries, 0 to 135492\n",
      "Data columns (total 6 columns):\n",
      " #   Column         Non-Null Count   Dtype  \n",
      "---  ------         --------------   -----  \n",
      " 0   disrict        135493 non-null  int64  \n",
      " 1   client_id      135493 non-null  object \n",
      " 2   client_catg    135493 non-null  int64  \n",
      " 3   region         135493 non-null  int64  \n",
      " 4   creation_date  135493 non-null  object \n",
      " 5   target         135493 non-null  float64\n",
      "dtypes: float64(1), int64(3), object(2)\n",
      "memory usage: 6.2+ MB\n"
     ]
    }
   ],
   "source": [
    "df_client.info()"
   ]
  },
  {
   "cell_type": "code",
   "execution_count": 473,
   "metadata": {},
   "outputs": [
    {
     "data": {
      "text/plain": [
       "array(['31/12/1994', '29/05/2002', '13/03/1986', ..., '16/08/2004',\n",
       "       '30/08/1978', '25/05/1978'], dtype=object)"
      ]
     },
     "execution_count": 473,
     "metadata": {},
     "output_type": "execute_result"
    }
   ],
   "source": [
    "df_client.creation_date.unique()"
   ]
  },
  {
   "cell_type": "code",
   "execution_count": 474,
   "metadata": {},
   "outputs": [
    {
     "name": "stdout",
     "output_type": "stream",
     "text": [
      "<class 'pandas.core.frame.DataFrame'>\n",
      "RangeIndex: 4476749 entries, 0 to 4476748\n",
      "Data columns (total 16 columns):\n",
      " #   Column                Dtype \n",
      "---  ------                ----- \n",
      " 0   client_id             object\n",
      " 1   invoice_date          object\n",
      " 2   tarif_type            int64 \n",
      " 3   counter_number        int64 \n",
      " 4   counter_statue        object\n",
      " 5   counter_code          int64 \n",
      " 6   reading_remarque      int64 \n",
      " 7   counter_coefficient   int64 \n",
      " 8   consommation_level_1  int64 \n",
      " 9   consommation_level_2  int64 \n",
      " 10  consommation_level_3  int64 \n",
      " 11  consommation_level_4  int64 \n",
      " 12  old_index             int64 \n",
      " 13  new_index             int64 \n",
      " 14  months_number         int64 \n",
      " 15  counter_type          object\n",
      "dtypes: int64(12), object(4)\n",
      "memory usage: 546.5+ MB\n"
     ]
    }
   ],
   "source": [
    "df_invoice.info()"
   ]
  },
  {
   "cell_type": "code",
   "execution_count": 475,
   "metadata": {},
   "outputs": [
    {
     "data": {
      "text/plain": [
       "array([  8,   6,   9,   7, 207, 413, 203,   5])"
      ]
     },
     "execution_count": 475,
     "metadata": {},
     "output_type": "execute_result"
    }
   ],
   "source": [
    "df_invoice.reading_remarque.unique()"
   ]
  },
  {
   "cell_type": "code",
   "execution_count": 476,
   "metadata": {},
   "outputs": [
    {
     "name": "stdout",
     "output_type": "stream",
     "text": [
      "<class 'pandas.core.frame.DataFrame'>\n",
      "RangeIndex: 4476749 entries, 0 to 4476748\n",
      "Data columns (total 16 columns):\n",
      " #   Column                Dtype \n",
      "---  ------                ----- \n",
      " 0   client_id             object\n",
      " 1   invoice_date          object\n",
      " 2   tarif_type            int64 \n",
      " 3   counter_number        int64 \n",
      " 4   counter_statue        object\n",
      " 5   counter_code          int64 \n",
      " 6   reading_remarque      int64 \n",
      " 7   counter_coefficient   int64 \n",
      " 8   consommation_level_1  int64 \n",
      " 9   consommation_level_2  int64 \n",
      " 10  consommation_level_3  int64 \n",
      " 11  consommation_level_4  int64 \n",
      " 12  old_index             int64 \n",
      " 13  new_index             int64 \n",
      " 14  months_number         int64 \n",
      " 15  counter_type          object\n",
      "dtypes: int64(12), object(4)\n",
      "memory usage: 546.5+ MB\n"
     ]
    }
   ],
   "source": [
    "df_invoice.info()"
   ]
  },
  {
   "cell_type": "code",
   "execution_count": 477,
   "metadata": {},
   "outputs": [],
   "source": [
    "df = pd.merge(df_client, df_invoice, how='right', on='client_id')"
   ]
  },
  {
   "cell_type": "code",
   "execution_count": 478,
   "metadata": {},
   "outputs": [
    {
     "data": {
      "text/html": [
       "<div>\n",
       "<style scoped>\n",
       "    .dataframe tbody tr th:only-of-type {\n",
       "        vertical-align: middle;\n",
       "    }\n",
       "\n",
       "    .dataframe tbody tr th {\n",
       "        vertical-align: top;\n",
       "    }\n",
       "\n",
       "    .dataframe thead th {\n",
       "        text-align: right;\n",
       "    }\n",
       "</style>\n",
       "<table border=\"1\" class=\"dataframe\">\n",
       "  <thead>\n",
       "    <tr style=\"text-align: right;\">\n",
       "      <th></th>\n",
       "      <th>disrict</th>\n",
       "      <th>client_catg</th>\n",
       "      <th>region</th>\n",
       "      <th>target</th>\n",
       "      <th>tarif_type</th>\n",
       "      <th>counter_number</th>\n",
       "      <th>counter_code</th>\n",
       "      <th>reading_remarque</th>\n",
       "      <th>counter_coefficient</th>\n",
       "      <th>consommation_level_1</th>\n",
       "      <th>consommation_level_2</th>\n",
       "      <th>consommation_level_3</th>\n",
       "      <th>consommation_level_4</th>\n",
       "      <th>old_index</th>\n",
       "      <th>new_index</th>\n",
       "      <th>months_number</th>\n",
       "    </tr>\n",
       "  </thead>\n",
       "  <tbody>\n",
       "    <tr>\n",
       "      <th>count</th>\n",
       "      <td>4.476749e+06</td>\n",
       "      <td>4.476749e+06</td>\n",
       "      <td>4.476749e+06</td>\n",
       "      <td>4.476749e+06</td>\n",
       "      <td>4.476749e+06</td>\n",
       "      <td>4.476749e+06</td>\n",
       "      <td>4.476749e+06</td>\n",
       "      <td>4.476749e+06</td>\n",
       "      <td>4.476749e+06</td>\n",
       "      <td>4.476749e+06</td>\n",
       "      <td>4.476749e+06</td>\n",
       "      <td>4.476749e+06</td>\n",
       "      <td>4.476749e+06</td>\n",
       "      <td>4.476749e+06</td>\n",
       "      <td>4.476749e+06</td>\n",
       "      <td>4.476749e+06</td>\n",
       "    </tr>\n",
       "    <tr>\n",
       "      <th>mean</th>\n",
       "      <td>6.348246e+01</td>\n",
       "      <td>1.194381e+01</td>\n",
       "      <td>2.103584e+02</td>\n",
       "      <td>7.887688e-02</td>\n",
       "      <td>2.012804e+01</td>\n",
       "      <td>1.230587e+11</td>\n",
       "      <td>1.724884e+02</td>\n",
       "      <td>7.321702e+00</td>\n",
       "      <td>1.003040e+00</td>\n",
       "      <td>4.109795e+02</td>\n",
       "      <td>1.093225e+02</td>\n",
       "      <td>2.030620e+01</td>\n",
       "      <td>5.292588e+01</td>\n",
       "      <td>1.776700e+04</td>\n",
       "      <td>1.834970e+04</td>\n",
       "      <td>4.483095e+01</td>\n",
       "    </tr>\n",
       "    <tr>\n",
       "      <th>std</th>\n",
       "      <td>3.273403e+00</td>\n",
       "      <td>6.022452e+00</td>\n",
       "      <td>1.035828e+02</td>\n",
       "      <td>2.695465e-01</td>\n",
       "      <td>1.347256e+01</td>\n",
       "      <td>1.657267e+12</td>\n",
       "      <td>1.338871e+02</td>\n",
       "      <td>1.571654e+00</td>\n",
       "      <td>3.083466e-01</td>\n",
       "      <td>7.573080e+02</td>\n",
       "      <td>1.220123e+03</td>\n",
       "      <td>1.574239e+02</td>\n",
       "      <td>8.754725e+02</td>\n",
       "      <td>4.036693e+04</td>\n",
       "      <td>4.095321e+04</td>\n",
       "      <td>3.128335e+03</td>\n",
       "    </tr>\n",
       "    <tr>\n",
       "      <th>min</th>\n",
       "      <td>6.000000e+01</td>\n",
       "      <td>1.100000e+01</td>\n",
       "      <td>1.010000e+02</td>\n",
       "      <td>0.000000e+00</td>\n",
       "      <td>8.000000e+00</td>\n",
       "      <td>0.000000e+00</td>\n",
       "      <td>0.000000e+00</td>\n",
       "      <td>5.000000e+00</td>\n",
       "      <td>0.000000e+00</td>\n",
       "      <td>0.000000e+00</td>\n",
       "      <td>0.000000e+00</td>\n",
       "      <td>0.000000e+00</td>\n",
       "      <td>0.000000e+00</td>\n",
       "      <td>0.000000e+00</td>\n",
       "      <td>0.000000e+00</td>\n",
       "      <td>0.000000e+00</td>\n",
       "    </tr>\n",
       "    <tr>\n",
       "      <th>25%</th>\n",
       "      <td>6.200000e+01</td>\n",
       "      <td>1.100000e+01</td>\n",
       "      <td>1.030000e+02</td>\n",
       "      <td>0.000000e+00</td>\n",
       "      <td>1.100000e+01</td>\n",
       "      <td>1.211080e+05</td>\n",
       "      <td>5.000000e+00</td>\n",
       "      <td>6.000000e+00</td>\n",
       "      <td>1.000000e+00</td>\n",
       "      <td>7.900000e+01</td>\n",
       "      <td>0.000000e+00</td>\n",
       "      <td>0.000000e+00</td>\n",
       "      <td>0.000000e+00</td>\n",
       "      <td>1.791000e+03</td>\n",
       "      <td>2.056000e+03</td>\n",
       "      <td>4.000000e+00</td>\n",
       "    </tr>\n",
       "    <tr>\n",
       "      <th>50%</th>\n",
       "      <td>6.200000e+01</td>\n",
       "      <td>1.100000e+01</td>\n",
       "      <td>3.010000e+02</td>\n",
       "      <td>0.000000e+00</td>\n",
       "      <td>1.100000e+01</td>\n",
       "      <td>4.945610e+05</td>\n",
       "      <td>2.030000e+02</td>\n",
       "      <td>8.000000e+00</td>\n",
       "      <td>1.000000e+00</td>\n",
       "      <td>2.740000e+02</td>\n",
       "      <td>0.000000e+00</td>\n",
       "      <td>0.000000e+00</td>\n",
       "      <td>0.000000e+00</td>\n",
       "      <td>7.690000e+03</td>\n",
       "      <td>8.192000e+03</td>\n",
       "      <td>4.000000e+00</td>\n",
       "    </tr>\n",
       "    <tr>\n",
       "      <th>75%</th>\n",
       "      <td>6.300000e+01</td>\n",
       "      <td>1.100000e+01</td>\n",
       "      <td>3.090000e+02</td>\n",
       "      <td>0.000000e+00</td>\n",
       "      <td>4.000000e+01</td>\n",
       "      <td>1.115161e+06</td>\n",
       "      <td>2.070000e+02</td>\n",
       "      <td>9.000000e+00</td>\n",
       "      <td>1.000000e+00</td>\n",
       "      <td>6.000000e+02</td>\n",
       "      <td>0.000000e+00</td>\n",
       "      <td>0.000000e+00</td>\n",
       "      <td>0.000000e+00</td>\n",
       "      <td>2.166000e+04</td>\n",
       "      <td>2.234300e+04</td>\n",
       "      <td>4.000000e+00</td>\n",
       "    </tr>\n",
       "    <tr>\n",
       "      <th>max</th>\n",
       "      <td>6.900000e+01</td>\n",
       "      <td>5.100000e+01</td>\n",
       "      <td>3.990000e+02</td>\n",
       "      <td>1.000000e+00</td>\n",
       "      <td>4.500000e+01</td>\n",
       "      <td>2.798115e+13</td>\n",
       "      <td>6.000000e+02</td>\n",
       "      <td>4.130000e+02</td>\n",
       "      <td>5.000000e+01</td>\n",
       "      <td>9.999100e+05</td>\n",
       "      <td>9.990730e+05</td>\n",
       "      <td>6.449200e+04</td>\n",
       "      <td>5.479460e+05</td>\n",
       "      <td>2.800280e+06</td>\n",
       "      <td>2.870972e+06</td>\n",
       "      <td>6.366240e+05</td>\n",
       "    </tr>\n",
       "  </tbody>\n",
       "</table>\n",
       "</div>"
      ],
      "text/plain": [
       "            disrict   client_catg        region        target    tarif_type   \n",
       "count  4.476749e+06  4.476749e+06  4.476749e+06  4.476749e+06  4.476749e+06  \\\n",
       "mean   6.348246e+01  1.194381e+01  2.103584e+02  7.887688e-02  2.012804e+01   \n",
       "std    3.273403e+00  6.022452e+00  1.035828e+02  2.695465e-01  1.347256e+01   \n",
       "min    6.000000e+01  1.100000e+01  1.010000e+02  0.000000e+00  8.000000e+00   \n",
       "25%    6.200000e+01  1.100000e+01  1.030000e+02  0.000000e+00  1.100000e+01   \n",
       "50%    6.200000e+01  1.100000e+01  3.010000e+02  0.000000e+00  1.100000e+01   \n",
       "75%    6.300000e+01  1.100000e+01  3.090000e+02  0.000000e+00  4.000000e+01   \n",
       "max    6.900000e+01  5.100000e+01  3.990000e+02  1.000000e+00  4.500000e+01   \n",
       "\n",
       "       counter_number  counter_code  reading_remarque  counter_coefficient   \n",
       "count    4.476749e+06  4.476749e+06      4.476749e+06         4.476749e+06  \\\n",
       "mean     1.230587e+11  1.724884e+02      7.321702e+00         1.003040e+00   \n",
       "std      1.657267e+12  1.338871e+02      1.571654e+00         3.083466e-01   \n",
       "min      0.000000e+00  0.000000e+00      5.000000e+00         0.000000e+00   \n",
       "25%      1.211080e+05  5.000000e+00      6.000000e+00         1.000000e+00   \n",
       "50%      4.945610e+05  2.030000e+02      8.000000e+00         1.000000e+00   \n",
       "75%      1.115161e+06  2.070000e+02      9.000000e+00         1.000000e+00   \n",
       "max      2.798115e+13  6.000000e+02      4.130000e+02         5.000000e+01   \n",
       "\n",
       "       consommation_level_1  consommation_level_2  consommation_level_3   \n",
       "count          4.476749e+06          4.476749e+06          4.476749e+06  \\\n",
       "mean           4.109795e+02          1.093225e+02          2.030620e+01   \n",
       "std            7.573080e+02          1.220123e+03          1.574239e+02   \n",
       "min            0.000000e+00          0.000000e+00          0.000000e+00   \n",
       "25%            7.900000e+01          0.000000e+00          0.000000e+00   \n",
       "50%            2.740000e+02          0.000000e+00          0.000000e+00   \n",
       "75%            6.000000e+02          0.000000e+00          0.000000e+00   \n",
       "max            9.999100e+05          9.990730e+05          6.449200e+04   \n",
       "\n",
       "       consommation_level_4     old_index     new_index  months_number  \n",
       "count          4.476749e+06  4.476749e+06  4.476749e+06   4.476749e+06  \n",
       "mean           5.292588e+01  1.776700e+04  1.834970e+04   4.483095e+01  \n",
       "std            8.754725e+02  4.036693e+04  4.095321e+04   3.128335e+03  \n",
       "min            0.000000e+00  0.000000e+00  0.000000e+00   0.000000e+00  \n",
       "25%            0.000000e+00  1.791000e+03  2.056000e+03   4.000000e+00  \n",
       "50%            0.000000e+00  7.690000e+03  8.192000e+03   4.000000e+00  \n",
       "75%            0.000000e+00  2.166000e+04  2.234300e+04   4.000000e+00  \n",
       "max            5.479460e+05  2.800280e+06  2.870972e+06   6.366240e+05  "
      ]
     },
     "execution_count": 478,
     "metadata": {},
     "output_type": "execute_result"
    }
   ],
   "source": [
    "df.describe()"
   ]
  },
  {
   "cell_type": "code",
   "execution_count": 479,
   "metadata": {},
   "outputs": [
    {
     "data": {
      "text/plain": [
       "disrict                 0\n",
       "client_id               0\n",
       "client_catg             0\n",
       "region                  0\n",
       "creation_date           0\n",
       "target                  0\n",
       "invoice_date            0\n",
       "tarif_type              0\n",
       "counter_number          0\n",
       "counter_statue          0\n",
       "counter_code            0\n",
       "reading_remarque        0\n",
       "counter_coefficient     0\n",
       "consommation_level_1    0\n",
       "consommation_level_2    0\n",
       "consommation_level_3    0\n",
       "consommation_level_4    0\n",
       "old_index               0\n",
       "new_index               0\n",
       "months_number           0\n",
       "counter_type            0\n",
       "dtype: int64"
      ]
     },
     "execution_count": 479,
     "metadata": {},
     "output_type": "execute_result"
    }
   ],
   "source": [
    "df.isnull().sum()"
   ]
  },
  {
   "cell_type": "code",
   "execution_count": 480,
   "metadata": {},
   "outputs": [
    {
     "data": {
      "text/html": [
       "<div>\n",
       "<style scoped>\n",
       "    .dataframe tbody tr th:only-of-type {\n",
       "        vertical-align: middle;\n",
       "    }\n",
       "\n",
       "    .dataframe tbody tr th {\n",
       "        vertical-align: top;\n",
       "    }\n",
       "\n",
       "    .dataframe thead th {\n",
       "        text-align: right;\n",
       "    }\n",
       "</style>\n",
       "<table border=\"1\" class=\"dataframe\">\n",
       "  <thead>\n",
       "    <tr style=\"text-align: right;\">\n",
       "      <th></th>\n",
       "      <th>disrict</th>\n",
       "      <th>client_id</th>\n",
       "      <th>client_catg</th>\n",
       "      <th>region</th>\n",
       "      <th>creation_date</th>\n",
       "      <th>target</th>\n",
       "      <th>invoice_date</th>\n",
       "      <th>tarif_type</th>\n",
       "      <th>counter_number</th>\n",
       "      <th>counter_statue</th>\n",
       "      <th>...</th>\n",
       "      <th>reading_remarque</th>\n",
       "      <th>counter_coefficient</th>\n",
       "      <th>consommation_level_1</th>\n",
       "      <th>consommation_level_2</th>\n",
       "      <th>consommation_level_3</th>\n",
       "      <th>consommation_level_4</th>\n",
       "      <th>old_index</th>\n",
       "      <th>new_index</th>\n",
       "      <th>months_number</th>\n",
       "      <th>counter_type</th>\n",
       "    </tr>\n",
       "  </thead>\n",
       "  <tbody>\n",
       "    <tr>\n",
       "      <th>0</th>\n",
       "      <td>60</td>\n",
       "      <td>train_Client_0</td>\n",
       "      <td>11</td>\n",
       "      <td>101</td>\n",
       "      <td>31/12/1994</td>\n",
       "      <td>0.0</td>\n",
       "      <td>2014-03-24</td>\n",
       "      <td>11</td>\n",
       "      <td>1335667</td>\n",
       "      <td>0</td>\n",
       "      <td>...</td>\n",
       "      <td>8</td>\n",
       "      <td>1</td>\n",
       "      <td>82</td>\n",
       "      <td>0</td>\n",
       "      <td>0</td>\n",
       "      <td>0</td>\n",
       "      <td>14302</td>\n",
       "      <td>14384</td>\n",
       "      <td>4</td>\n",
       "      <td>ELEC</td>\n",
       "    </tr>\n",
       "    <tr>\n",
       "      <th>1</th>\n",
       "      <td>60</td>\n",
       "      <td>train_Client_0</td>\n",
       "      <td>11</td>\n",
       "      <td>101</td>\n",
       "      <td>31/12/1994</td>\n",
       "      <td>0.0</td>\n",
       "      <td>2013-03-29</td>\n",
       "      <td>11</td>\n",
       "      <td>1335667</td>\n",
       "      <td>0</td>\n",
       "      <td>...</td>\n",
       "      <td>6</td>\n",
       "      <td>1</td>\n",
       "      <td>1200</td>\n",
       "      <td>184</td>\n",
       "      <td>0</td>\n",
       "      <td>0</td>\n",
       "      <td>12294</td>\n",
       "      <td>13678</td>\n",
       "      <td>4</td>\n",
       "      <td>ELEC</td>\n",
       "    </tr>\n",
       "    <tr>\n",
       "      <th>2</th>\n",
       "      <td>60</td>\n",
       "      <td>train_Client_0</td>\n",
       "      <td>11</td>\n",
       "      <td>101</td>\n",
       "      <td>31/12/1994</td>\n",
       "      <td>0.0</td>\n",
       "      <td>2015-03-23</td>\n",
       "      <td>11</td>\n",
       "      <td>1335667</td>\n",
       "      <td>0</td>\n",
       "      <td>...</td>\n",
       "      <td>8</td>\n",
       "      <td>1</td>\n",
       "      <td>123</td>\n",
       "      <td>0</td>\n",
       "      <td>0</td>\n",
       "      <td>0</td>\n",
       "      <td>14624</td>\n",
       "      <td>14747</td>\n",
       "      <td>4</td>\n",
       "      <td>ELEC</td>\n",
       "    </tr>\n",
       "    <tr>\n",
       "      <th>3</th>\n",
       "      <td>60</td>\n",
       "      <td>train_Client_0</td>\n",
       "      <td>11</td>\n",
       "      <td>101</td>\n",
       "      <td>31/12/1994</td>\n",
       "      <td>0.0</td>\n",
       "      <td>2015-07-13</td>\n",
       "      <td>11</td>\n",
       "      <td>1335667</td>\n",
       "      <td>0</td>\n",
       "      <td>...</td>\n",
       "      <td>8</td>\n",
       "      <td>1</td>\n",
       "      <td>102</td>\n",
       "      <td>0</td>\n",
       "      <td>0</td>\n",
       "      <td>0</td>\n",
       "      <td>14747</td>\n",
       "      <td>14849</td>\n",
       "      <td>4</td>\n",
       "      <td>ELEC</td>\n",
       "    </tr>\n",
       "    <tr>\n",
       "      <th>4</th>\n",
       "      <td>60</td>\n",
       "      <td>train_Client_0</td>\n",
       "      <td>11</td>\n",
       "      <td>101</td>\n",
       "      <td>31/12/1994</td>\n",
       "      <td>0.0</td>\n",
       "      <td>2016-11-17</td>\n",
       "      <td>11</td>\n",
       "      <td>1335667</td>\n",
       "      <td>0</td>\n",
       "      <td>...</td>\n",
       "      <td>9</td>\n",
       "      <td>1</td>\n",
       "      <td>572</td>\n",
       "      <td>0</td>\n",
       "      <td>0</td>\n",
       "      <td>0</td>\n",
       "      <td>15066</td>\n",
       "      <td>15638</td>\n",
       "      <td>12</td>\n",
       "      <td>ELEC</td>\n",
       "    </tr>\n",
       "  </tbody>\n",
       "</table>\n",
       "<p>5 rows × 21 columns</p>\n",
       "</div>"
      ],
      "text/plain": [
       "   disrict       client_id  client_catg  region creation_date  target   \n",
       "0       60  train_Client_0           11     101    31/12/1994     0.0  \\\n",
       "1       60  train_Client_0           11     101    31/12/1994     0.0   \n",
       "2       60  train_Client_0           11     101    31/12/1994     0.0   \n",
       "3       60  train_Client_0           11     101    31/12/1994     0.0   \n",
       "4       60  train_Client_0           11     101    31/12/1994     0.0   \n",
       "\n",
       "  invoice_date  tarif_type  counter_number counter_statue  ...   \n",
       "0   2014-03-24          11         1335667              0  ...  \\\n",
       "1   2013-03-29          11         1335667              0  ...   \n",
       "2   2015-03-23          11         1335667              0  ...   \n",
       "3   2015-07-13          11         1335667              0  ...   \n",
       "4   2016-11-17          11         1335667              0  ...   \n",
       "\n",
       "   reading_remarque  counter_coefficient  consommation_level_1   \n",
       "0                 8                    1                    82  \\\n",
       "1                 6                    1                  1200   \n",
       "2                 8                    1                   123   \n",
       "3                 8                    1                   102   \n",
       "4                 9                    1                   572   \n",
       "\n",
       "   consommation_level_2  consommation_level_3  consommation_level_4   \n",
       "0                     0                     0                     0  \\\n",
       "1                   184                     0                     0   \n",
       "2                     0                     0                     0   \n",
       "3                     0                     0                     0   \n",
       "4                     0                     0                     0   \n",
       "\n",
       "   old_index  new_index  months_number  counter_type  \n",
       "0      14302      14384              4          ELEC  \n",
       "1      12294      13678              4          ELEC  \n",
       "2      14624      14747              4          ELEC  \n",
       "3      14747      14849              4          ELEC  \n",
       "4      15066      15638             12          ELEC  \n",
       "\n",
       "[5 rows x 21 columns]"
      ]
     },
     "execution_count": 480,
     "metadata": {},
     "output_type": "execute_result"
    }
   ],
   "source": [
    "df.head()"
   ]
  },
  {
   "cell_type": "code",
   "execution_count": null,
   "metadata": {},
   "outputs": [],
   "source": []
  },
  {
   "cell_type": "code",
   "execution_count": 481,
   "metadata": {},
   "outputs": [
    {
     "data": {
      "text/plain": [
       "<Axes: xlabel='months_number', ylabel='Count'>"
      ]
     },
     "execution_count": 481,
     "metadata": {},
     "output_type": "execute_result"
    },
    {
     "data": {
      "image/png": "[encoded data removed]",
      "text/plain": [
       "<Figure size 640x480 with 1 Axes>"
      ]
     },
     "metadata": {},
     "output_type": "display_data"
    }
   ],
   "source": [
    "sns.histplot(df.months_number, bins=10)"
   ]
  },
  {
   "cell_type": "code",
   "execution_count": 482,
   "metadata": {},
   "outputs": [
    {
     "data": {
      "text/plain": [
       "<Axes: ylabel='Count'>"
      ]
     },
     "execution_count": 482,
     "metadata": {},
     "output_type": "execute_result"
    },
    {
     "data": {
      "image/png": "[encoded data removed]",
      "text/plain": [
       "<Figure size 640x480 with 1 Axes>"
      ]
     },
     "metadata": {},
     "output_type": "display_data"
    }
   ],
   "source": [
    "df_months = df.groupby('months_number').count()\n",
    "sns.histplot(df_months)"
   ]
  },
  {
   "cell_type": "code",
   "execution_count": 483,
   "metadata": {},
   "outputs": [],
   "source": [
    "from scipy.stats import zscore, boxcox"
   ]
  },
  {
   "cell_type": "code",
   "execution_count": 484,
   "metadata": {},
   "outputs": [
    {
     "data": {
      "text/plain": [
       "<Axes: xlabel='months_number', ylabel='Count'>"
      ]
     },
     "execution_count": 484,
     "metadata": {},
     "output_type": "execute_result"
    },
    {
     "data": {
      "image/png": "[encoded data removed]",
      "text/plain": [
       "<Figure size 640x480 with 1 Axes>"
      ]
     },
     "metadata": {},
     "output_type": "display_data"
    }
   ],
   "source": [
    "months_zscore  = zscore(df.months_number)\n",
    "sns.histplot(months_zscore, bins= 15)"
   ]
  },
  {
   "cell_type": "code",
   "execution_count": 485,
   "metadata": {},
   "outputs": [],
   "source": [
    "mask = df.months_number > 180\n",
    "drop_months = df[mask].index\n",
    "df.drop(drop_months, inplace=True)"
   ]
  },
  {
   "cell_type": "code",
   "execution_count": 486,
   "metadata": {},
   "outputs": [
    {
     "data": {
      "text/plain": [
       "130"
      ]
     },
     "execution_count": 486,
     "metadata": {},
     "output_type": "execute_result"
    }
   ],
   "source": [
    "df.months_number.max()"
   ]
  },
  {
   "cell_type": "code",
   "execution_count": 487,
   "metadata": {},
   "outputs": [
    {
     "data": {
      "text/plain": [
       "disrict                                 69\n",
       "client_id               train_Client_78752\n",
       "client_catg                             11\n",
       "region                                 103\n",
       "creation_date                   30/04/2014\n",
       "target                                 0.0\n",
       "invoice_date                    2016-01-09\n",
       "tarif_type                              40\n",
       "counter_number                      466795\n",
       "counter_statue                           0\n",
       "counter_code                             5\n",
       "reading_remarque                         8\n",
       "counter_coefficient                      1\n",
       "consommation_level_1                    81\n",
       "consommation_level_2                     0\n",
       "consommation_level_3                     0\n",
       "consommation_level_4                     0\n",
       "old_index                             1744\n",
       "new_index                             1825\n",
       "months_number                            4\n",
       "counter_type                           GAZ\n",
       "Name: 3692358, dtype: object"
      ]
     },
     "execution_count": 487,
     "metadata": {},
     "output_type": "execute_result"
    }
   ],
   "source": [
    "df.iloc[3691041, :]"
   ]
  },
  {
   "cell_type": "code",
   "execution_count": 488,
   "metadata": {},
   "outputs": [],
   "source": [
    "df['difference_index'] = df['new_index'] - df['old_index'] /df['months_number']"
   ]
  },
  {
   "cell_type": "code",
   "execution_count": 489,
   "metadata": {},
   "outputs": [
    {
     "data": {
      "text/plain": [
       "count    4.475337e+06\n",
       "mean     1.137228e+04\n",
       "std      1.856923e+04\n",
       "min     -9.985390e+05\n",
       "25%      1.445000e+03\n",
       "50%      5.631000e+03\n",
       "75%      1.572900e+04\n",
       "max      1.743970e+06\n",
       "Name: difference_index, dtype: float64"
      ]
     },
     "execution_count": 489,
     "metadata": {},
     "output_type": "execute_result"
    }
   ],
   "source": [
    "df.difference_index.describe()"
   ]
  },
  {
   "cell_type": "code",
   "execution_count": 490,
   "metadata": {},
   "outputs": [
    {
     "data": {
      "text/plain": [
       "<Axes: xlabel='difference_index', ylabel='Count'>"
      ]
     },
     "execution_count": 490,
     "metadata": {},
     "output_type": "execute_result"
    },
    {
     "data": {
      "image/png": "[encoded data removed]",
      "text/plain": [
       "<Figure size 640x480 with 1 Axes>"
      ]
     },
     "metadata": {},
     "output_type": "display_data"
    }
   ],
   "source": [
    "sns.histplot(np.log(df.difference_index), bins=100)"
   ]
  },
  {
   "cell_type": "code",
   "execution_count": 491,
   "metadata": {},
   "outputs": [
    {
     "data": {
      "text/html": [
       "<div>\n",
       "<style scoped>\n",
       "    .dataframe tbody tr th:only-of-type {\n",
       "        vertical-align: middle;\n",
       "    }\n",
       "\n",
       "    .dataframe tbody tr th {\n",
       "        vertical-align: top;\n",
       "    }\n",
       "\n",
       "    .dataframe thead th {\n",
       "        text-align: right;\n",
       "    }\n",
       "</style>\n",
       "<table border=\"1\" class=\"dataframe\">\n",
       "  <thead>\n",
       "    <tr style=\"text-align: right;\">\n",
       "      <th></th>\n",
       "      <th>disrict</th>\n",
       "      <th>client_id</th>\n",
       "      <th>client_catg</th>\n",
       "      <th>region</th>\n",
       "      <th>creation_date</th>\n",
       "      <th>target</th>\n",
       "      <th>invoice_date</th>\n",
       "      <th>tarif_type</th>\n",
       "      <th>counter_number</th>\n",
       "      <th>counter_statue</th>\n",
       "      <th>...</th>\n",
       "      <th>counter_coefficient</th>\n",
       "      <th>consommation_level_1</th>\n",
       "      <th>consommation_level_2</th>\n",
       "      <th>consommation_level_3</th>\n",
       "      <th>consommation_level_4</th>\n",
       "      <th>old_index</th>\n",
       "      <th>new_index</th>\n",
       "      <th>months_number</th>\n",
       "      <th>counter_type</th>\n",
       "      <th>difference_index</th>\n",
       "    </tr>\n",
       "  </thead>\n",
       "  <tbody>\n",
       "    <tr>\n",
       "      <th>1120</th>\n",
       "      <td>60</td>\n",
       "      <td>train_Client_100024</td>\n",
       "      <td>11</td>\n",
       "      <td>101</td>\n",
       "      <td>22/03/1985</td>\n",
       "      <td>0.0</td>\n",
       "      <td>2014-06-20</td>\n",
       "      <td>11</td>\n",
       "      <td>482429</td>\n",
       "      <td>0</td>\n",
       "      <td>...</td>\n",
       "      <td>1</td>\n",
       "      <td>800</td>\n",
       "      <td>400</td>\n",
       "      <td>318</td>\n",
       "      <td>0</td>\n",
       "      <td>99260</td>\n",
       "      <td>778</td>\n",
       "      <td>4</td>\n",
       "      <td>ELEC</td>\n",
       "      <td>-24037.000</td>\n",
       "    </tr>\n",
       "    <tr>\n",
       "      <th>2818</th>\n",
       "      <td>63</td>\n",
       "      <td>train_Client_10008</td>\n",
       "      <td>11</td>\n",
       "      <td>101</td>\n",
       "      <td>14/09/1987</td>\n",
       "      <td>0.0</td>\n",
       "      <td>2015-05-01</td>\n",
       "      <td>11</td>\n",
       "      <td>842528</td>\n",
       "      <td>0</td>\n",
       "      <td>...</td>\n",
       "      <td>1</td>\n",
       "      <td>800</td>\n",
       "      <td>400</td>\n",
       "      <td>800</td>\n",
       "      <td>363</td>\n",
       "      <td>99486</td>\n",
       "      <td>1849</td>\n",
       "      <td>4</td>\n",
       "      <td>ELEC</td>\n",
       "      <td>-23022.500</td>\n",
       "    </tr>\n",
       "    <tr>\n",
       "      <th>5751</th>\n",
       "      <td>60</td>\n",
       "      <td>train_Client_100157</td>\n",
       "      <td>11</td>\n",
       "      <td>101</td>\n",
       "      <td>11/07/2011</td>\n",
       "      <td>0.0</td>\n",
       "      <td>2018-12-02</td>\n",
       "      <td>11</td>\n",
       "      <td>35572</td>\n",
       "      <td>0</td>\n",
       "      <td>...</td>\n",
       "      <td>1</td>\n",
       "      <td>800</td>\n",
       "      <td>400</td>\n",
       "      <td>800</td>\n",
       "      <td>4086</td>\n",
       "      <td>97099</td>\n",
       "      <td>3185</td>\n",
       "      <td>4</td>\n",
       "      <td>ELEC</td>\n",
       "      <td>-21089.750</td>\n",
       "    </tr>\n",
       "    <tr>\n",
       "      <th>9104</th>\n",
       "      <td>60</td>\n",
       "      <td>train_Client_100257</td>\n",
       "      <td>11</td>\n",
       "      <td>101</td>\n",
       "      <td>01/10/2007</td>\n",
       "      <td>0.0</td>\n",
       "      <td>2011-01-06</td>\n",
       "      <td>10</td>\n",
       "      <td>7292038</td>\n",
       "      <td>0</td>\n",
       "      <td>...</td>\n",
       "      <td>1</td>\n",
       "      <td>200</td>\n",
       "      <td>421</td>\n",
       "      <td>0</td>\n",
       "      <td>0</td>\n",
       "      <td>9946</td>\n",
       "      <td>567</td>\n",
       "      <td>4</td>\n",
       "      <td>ELEC</td>\n",
       "      <td>-1919.500</td>\n",
       "    </tr>\n",
       "    <tr>\n",
       "      <th>20153</th>\n",
       "      <td>69</td>\n",
       "      <td>train_Client_100549</td>\n",
       "      <td>11</td>\n",
       "      <td>104</td>\n",
       "      <td>15/05/1992</td>\n",
       "      <td>0.0</td>\n",
       "      <td>2006-09-21</td>\n",
       "      <td>11</td>\n",
       "      <td>37721</td>\n",
       "      <td>0</td>\n",
       "      <td>...</td>\n",
       "      <td>1</td>\n",
       "      <td>1200</td>\n",
       "      <td>338</td>\n",
       "      <td>0</td>\n",
       "      <td>0</td>\n",
       "      <td>98483</td>\n",
       "      <td>21</td>\n",
       "      <td>4</td>\n",
       "      <td>ELEC</td>\n",
       "      <td>-24599.750</td>\n",
       "    </tr>\n",
       "    <tr>\n",
       "      <th>...</th>\n",
       "      <td>...</td>\n",
       "      <td>...</td>\n",
       "      <td>...</td>\n",
       "      <td>...</td>\n",
       "      <td>...</td>\n",
       "      <td>...</td>\n",
       "      <td>...</td>\n",
       "      <td>...</td>\n",
       "      <td>...</td>\n",
       "      <td>...</td>\n",
       "      <td>...</td>\n",
       "      <td>...</td>\n",
       "      <td>...</td>\n",
       "      <td>...</td>\n",
       "      <td>...</td>\n",
       "      <td>...</td>\n",
       "      <td>...</td>\n",
       "      <td>...</td>\n",
       "      <td>...</td>\n",
       "      <td>...</td>\n",
       "      <td>...</td>\n",
       "    </tr>\n",
       "    <tr>\n",
       "      <th>4458606</th>\n",
       "      <td>69</td>\n",
       "      <td>train_Client_99506</td>\n",
       "      <td>11</td>\n",
       "      <td>104</td>\n",
       "      <td>08/09/1998</td>\n",
       "      <td>0.0</td>\n",
       "      <td>2019-04-15</td>\n",
       "      <td>11</td>\n",
       "      <td>14604</td>\n",
       "      <td>0</td>\n",
       "      <td>...</td>\n",
       "      <td>1</td>\n",
       "      <td>1600</td>\n",
       "      <td>800</td>\n",
       "      <td>1600</td>\n",
       "      <td>1823</td>\n",
       "      <td>97232</td>\n",
       "      <td>3055</td>\n",
       "      <td>8</td>\n",
       "      <td>ELEC</td>\n",
       "      <td>-9099.000</td>\n",
       "    </tr>\n",
       "    <tr>\n",
       "      <th>4461423</th>\n",
       "      <td>62</td>\n",
       "      <td>train_Client_99580</td>\n",
       "      <td>12</td>\n",
       "      <td>309</td>\n",
       "      <td>19/06/1990</td>\n",
       "      <td>0.0</td>\n",
       "      <td>2011-03-25</td>\n",
       "      <td>11</td>\n",
       "      <td>10907</td>\n",
       "      <td>0</td>\n",
       "      <td>...</td>\n",
       "      <td>1</td>\n",
       "      <td>1200</td>\n",
       "      <td>1518</td>\n",
       "      <td>0</td>\n",
       "      <td>0</td>\n",
       "      <td>99336</td>\n",
       "      <td>2054</td>\n",
       "      <td>4</td>\n",
       "      <td>ELEC</td>\n",
       "      <td>-22780.000</td>\n",
       "    </tr>\n",
       "    <tr>\n",
       "      <th>4461805</th>\n",
       "      <td>60</td>\n",
       "      <td>train_Client_9959</td>\n",
       "      <td>11</td>\n",
       "      <td>101</td>\n",
       "      <td>14/05/1981</td>\n",
       "      <td>0.0</td>\n",
       "      <td>2010-06-18</td>\n",
       "      <td>11</td>\n",
       "      <td>1167412</td>\n",
       "      <td>0</td>\n",
       "      <td>...</td>\n",
       "      <td>1</td>\n",
       "      <td>1200</td>\n",
       "      <td>1491</td>\n",
       "      <td>0</td>\n",
       "      <td>0</td>\n",
       "      <td>98382</td>\n",
       "      <td>1073</td>\n",
       "      <td>4</td>\n",
       "      <td>ELEC</td>\n",
       "      <td>-23522.500</td>\n",
       "    </tr>\n",
       "    <tr>\n",
       "      <th>4466699</th>\n",
       "      <td>69</td>\n",
       "      <td>train_Client_99733</td>\n",
       "      <td>11</td>\n",
       "      <td>104</td>\n",
       "      <td>20/01/1986</td>\n",
       "      <td>0.0</td>\n",
       "      <td>2012-03-04</td>\n",
       "      <td>11</td>\n",
       "      <td>800241</td>\n",
       "      <td>0</td>\n",
       "      <td>...</td>\n",
       "      <td>1</td>\n",
       "      <td>4800</td>\n",
       "      <td>3079</td>\n",
       "      <td>0</td>\n",
       "      <td>0</td>\n",
       "      <td>92306</td>\n",
       "      <td>185</td>\n",
       "      <td>16</td>\n",
       "      <td>ELEC</td>\n",
       "      <td>-5584.125</td>\n",
       "    </tr>\n",
       "    <tr>\n",
       "      <th>4476318</th>\n",
       "      <td>60</td>\n",
       "      <td>train_Client_99985</td>\n",
       "      <td>51</td>\n",
       "      <td>101</td>\n",
       "      <td>31/12/1994</td>\n",
       "      <td>0.0</td>\n",
       "      <td>2006-10-18</td>\n",
       "      <td>11</td>\n",
       "      <td>974695</td>\n",
       "      <td>0</td>\n",
       "      <td>...</td>\n",
       "      <td>3</td>\n",
       "      <td>1200</td>\n",
       "      <td>48618</td>\n",
       "      <td>0</td>\n",
       "      <td>0</td>\n",
       "      <td>99908</td>\n",
       "      <td>16514</td>\n",
       "      <td>4</td>\n",
       "      <td>ELEC</td>\n",
       "      <td>-8463.000</td>\n",
       "    </tr>\n",
       "  </tbody>\n",
       "</table>\n",
       "<p>2085 rows × 22 columns</p>\n",
       "</div>"
      ],
      "text/plain": [
       "         disrict            client_id  client_catg  region creation_date   \n",
       "1120          60  train_Client_100024           11     101    22/03/1985  \\\n",
       "2818          63   train_Client_10008           11     101    14/09/1987   \n",
       "5751          60  train_Client_100157           11     101    11/07/2011   \n",
       "9104          60  train_Client_100257           11     101    01/10/2007   \n",
       "20153         69  train_Client_100549           11     104    15/05/1992   \n",
       "...          ...                  ...          ...     ...           ...   \n",
       "4458606       69   train_Client_99506           11     104    08/09/1998   \n",
       "4461423       62   train_Client_99580           12     309    19/06/1990   \n",
       "4461805       60    train_Client_9959           11     101    14/05/1981   \n",
       "4466699       69   train_Client_99733           11     104    20/01/1986   \n",
       "4476318       60   train_Client_99985           51     101    31/12/1994   \n",
       "\n",
       "         target invoice_date  tarif_type  counter_number counter_statue  ...   \n",
       "1120        0.0   2014-06-20          11          482429              0  ...  \\\n",
       "2818        0.0   2015-05-01          11          842528              0  ...   \n",
       "5751        0.0   2018-12-02          11           35572              0  ...   \n",
       "9104        0.0   2011-01-06          10         7292038              0  ...   \n",
       "20153       0.0   2006-09-21          11           37721              0  ...   \n",
       "...         ...          ...         ...             ...            ...  ...   \n",
       "4458606     0.0   2019-04-15          11           14604              0  ...   \n",
       "4461423     0.0   2011-03-25          11           10907              0  ...   \n",
       "4461805     0.0   2010-06-18          11         1167412              0  ...   \n",
       "4466699     0.0   2012-03-04          11          800241              0  ...   \n",
       "4476318     0.0   2006-10-18          11          974695              0  ...   \n",
       "\n",
       "         counter_coefficient  consommation_level_1  consommation_level_2   \n",
       "1120                       1                   800                   400  \\\n",
       "2818                       1                   800                   400   \n",
       "5751                       1                   800                   400   \n",
       "9104                       1                   200                   421   \n",
       "20153                      1                  1200                   338   \n",
       "...                      ...                   ...                   ...   \n",
       "4458606                    1                  1600                   800   \n",
       "4461423                    1                  1200                  1518   \n",
       "4461805                    1                  1200                  1491   \n",
       "4466699                    1                  4800                  3079   \n",
       "4476318                    3                  1200                 48618   \n",
       "\n",
       "         consommation_level_3  consommation_level_4  old_index  new_index   \n",
       "1120                      318                     0      99260        778  \\\n",
       "2818                      800                   363      99486       1849   \n",
       "5751                      800                  4086      97099       3185   \n",
       "9104                        0                     0       9946        567   \n",
       "20153                       0                     0      98483         21   \n",
       "...                       ...                   ...        ...        ...   \n",
       "4458606                  1600                  1823      97232       3055   \n",
       "4461423                     0                     0      99336       2054   \n",
       "4461805                     0                     0      98382       1073   \n",
       "4466699                     0                     0      92306        185   \n",
       "4476318                     0                     0      99908      16514   \n",
       "\n",
       "         months_number  counter_type  difference_index  \n",
       "1120                 4          ELEC        -24037.000  \n",
       "2818                 4          ELEC        -23022.500  \n",
       "5751                 4          ELEC        -21089.750  \n",
       "9104                 4          ELEC         -1919.500  \n",
       "20153                4          ELEC        -24599.750  \n",
       "...                ...           ...               ...  \n",
       "4458606              8          ELEC         -9099.000  \n",
       "4461423              4          ELEC        -22780.000  \n",
       "4461805              4          ELEC        -23522.500  \n",
       "4466699             16          ELEC         -5584.125  \n",
       "4476318              4          ELEC         -8463.000  \n",
       "\n",
       "[2085 rows x 22 columns]"
      ]
     },
     "execution_count": 491,
     "metadata": {},
     "output_type": "execute_result"
    }
   ],
   "source": [
    "df[df['difference_index'] < 0 ]"
   ]
  },
  {
   "cell_type": "code",
   "execution_count": 492,
   "metadata": {},
   "outputs": [],
   "source": [
    "#Counter statue is weird lets drop all values which are not 1-5 and make them 6 like this we can stil use the information but we do not have the unnecessary unusable details \n",
    "conf_values = [769, '0', '5', '1', '4', 'A', 618, 269375, 46,\n",
    "       420]\n",
    "df.counter_statue = df.counter_statue.replace(conf_values, 6)"
   ]
  },
  {
   "cell_type": "code",
   "execution_count": 493,
   "metadata": {},
   "outputs": [
    {
     "data": {
      "text/plain": [
       "0          788832000000000000\n",
       "1          788832000000000000\n",
       "2          788832000000000000\n",
       "3          788832000000000000\n",
       "4          788832000000000000\n",
       "                  ...        \n",
       "4476744    756518400000000000\n",
       "4476745    756518400000000000\n",
       "4476746    509068800000000000\n",
       "4476747    509068800000000000\n",
       "4476748    509068800000000000\n",
       "Name: creation_date, Length: 4475339, dtype: int64"
      ]
     },
     "execution_count": 493,
     "metadata": {},
     "output_type": "execute_result"
    }
   ],
   "source": [
    "df['creation_date'] = pd.to_datetime(df['creation_date'], format='%d/%m/%Y').astype(int)\n",
    "df.creation_date"
   ]
  },
  {
   "cell_type": "code",
   "execution_count": 494,
   "metadata": {},
   "outputs": [],
   "source": [
    "df['invoice_date'] = pd.to_datetime(df['invoice_date'], format='%Y-%m-%d').dt.strftime('%d/%m/%Y')\n",
    "df['invoice_date'] = pd.to_datetime(df['invoice_date'], format='%d/%m/%Y').astype(int)"
   ]
  },
  {
   "cell_type": "code",
   "execution_count": 495,
   "metadata": {},
   "outputs": [
    {
     "data": {
      "text/plain": [
       "0          1395619200000000000\n",
       "1          1364515200000000000\n",
       "2          1427068800000000000\n",
       "3          1436745600000000000\n",
       "4          1479340800000000000\n",
       "                  ...         \n",
       "4476744    1124409600000000000\n",
       "4476745    1134950400000000000\n",
       "4476746     843609600000000000\n",
       "4476747     833241600000000000\n",
       "4476748     822528000000000000\n",
       "Name: invoice_date, Length: 4475339, dtype: int64"
      ]
     },
     "execution_count": 495,
     "metadata": {},
     "output_type": "execute_result"
    }
   ],
   "source": [
    "df.invoice_date"
   ]
  },
  {
   "cell_type": "code",
   "execution_count": 496,
   "metadata": {},
   "outputs": [],
   "source": [
    "# some columns can be reduced to int8, to save memory.\n",
    "df.counter_coefficient = df.counter_coefficient.astype('int8')\n",
    "df.months_number = df.months_number.astype('int16')\n",
    "df.consommation_level_4 = df.consommation_level_4.astype('int32')\n",
    "df.consommation_level_3 = df.consommation_level_3.astype('int32')\n",
    "df.consommation_level_2 = df.consommation_level_2.astype('int32')\n",
    "df.consommation_level_1 = df.consommation_level_1.astype('int32')"
   ]
  },
  {
   "cell_type": "code",
   "execution_count": 497,
   "metadata": {},
   "outputs": [],
   "source": [
    "# now I have an idea of the data and therfor I will split now into train and test set \n",
    "from sklearn.preprocessing import StandardScaler, MinMaxScaler\n",
    "from sklearn.model_selection import train_test_split, cross_val_predict"
   ]
  },
  {
   "cell_type": "code",
   "execution_count": 498,
   "metadata": {},
   "outputs": [],
   "source": [
    "df.drop(['invoice_date', 'creation_date'], axis=1, inplace=True)"
   ]
  },
  {
   "cell_type": "code",
   "execution_count": 499,
   "metadata": {},
   "outputs": [],
   "source": [
    "y = df.target\n",
    "x = df.drop(['target', 'client_id', 'difference_index'], axis=1)"
   ]
  },
  {
   "cell_type": "code",
   "execution_count": 500,
   "metadata": {},
   "outputs": [],
   "source": [
    "cat_features = ['counter_type']\n",
    "num_cat_features = ['disrict', 'client_catg', 'region', 'tarif_type', 'counter_number',\n",
    "       'counter_statue', 'reading_remarque','months_number']\n",
    "\n",
    "date_feature = ['creation_date', 'invoice_date']\n",
    "\n",
    "num_features =['disrict', 'client_catg', 'region', 'tarif_type', 'counter_number',\n",
    "       'counter_statue', 'counter_code','reading_remarque', 'counter_coefficient', 'consommation_level_1', 'consommation_level_2',\n",
    "       'consommation_level_3', 'consommation_level_4', 'old_index',\n",
    "       'new_index', 'months_number',]"
   ]
  },
  {
   "cell_type": "code",
   "execution_count": 501,
   "metadata": {},
   "outputs": [],
   "source": [
    "x_train, x_test, y_train, y_test = train_test_split(x, y, random_state=42, stratify=y)"
   ]
  },
  {
   "cell_type": "code",
   "execution_count": 502,
   "metadata": {},
   "outputs": [
    {
     "data": {
      "text/plain": [
       "(3356504, 17)"
      ]
     },
     "execution_count": 502,
     "metadata": {},
     "output_type": "execute_result"
    }
   ],
   "source": [
    "x_train.shape"
   ]
  },
  {
   "cell_type": "code",
   "execution_count": 503,
   "metadata": {},
   "outputs": [
    {
     "data": {
      "text/plain": [
       "Index(['disrict', 'client_id', 'client_catg', 'region', 'target', 'tarif_type',\n",
       "       'counter_number', 'counter_statue', 'counter_code', 'reading_remarque',\n",
       "       'counter_coefficient', 'consommation_level_1', 'consommation_level_2',\n",
       "       'consommation_level_3', 'consommation_level_4', 'old_index',\n",
       "       'new_index', 'months_number', 'counter_type', 'difference_index'],\n",
       "      dtype='object')"
      ]
     },
     "execution_count": 503,
     "metadata": {},
     "output_type": "execute_result"
    }
   ],
   "source": [
    "df.columns"
   ]
  },
  {
   "cell_type": "code",
   "execution_count": 504,
   "metadata": {},
   "outputs": [],
   "source": [
    "#the num_cat features we don't have to scale because they are categorical but the cat features should become dummy variables "
   ]
  },
  {
   "cell_type": "code",
   "execution_count": 505,
   "metadata": {},
   "outputs": [],
   "source": [
    "# Lets first convert the counter type into a dummy variable \n",
    "\n",
    "dummy_train = pd.get_dummies(x_train['counter_type'], dtype='int', drop_first=True)\n",
    "#dummy_train.replace({'True': 1, 'False':0})\n",
    "x_train_1 = pd.concat([dummy_train, x_train.drop('counter_type', axis=1)], axis=1)\n",
    "x_train_1.sort_index(inplace=True)\n",
    "\n",
    "dummy_test = pd.get_dummies(x_test['counter_type'], dtype='int', drop_first=True)\n",
    "x_test_1 = pd.concat([dummy_test, x_test.drop('counter_type', axis=1)], axis=1)\n",
    "x_test_1.sort_index(inplace=True)"
   ]
  },
  {
   "cell_type": "code",
   "execution_count": 506,
   "metadata": {},
   "outputs": [
    {
     "data": {
      "text/plain": [
       "(3356504, 17)"
      ]
     },
     "execution_count": 506,
     "metadata": {},
     "output_type": "execute_result"
    }
   ],
   "source": [
    "x_train_1.shape"
   ]
  },
  {
   "cell_type": "code",
   "execution_count": 507,
   "metadata": {},
   "outputs": [
    {
     "data": {
      "text/html": [
       "<div>\n",
       "<style scoped>\n",
       "    .dataframe tbody tr th:only-of-type {\n",
       "        vertical-align: middle;\n",
       "    }\n",
       "\n",
       "    .dataframe tbody tr th {\n",
       "        vertical-align: top;\n",
       "    }\n",
       "\n",
       "    .dataframe thead th {\n",
       "        text-align: right;\n",
       "    }\n",
       "</style>\n",
       "<table border=\"1\" class=\"dataframe\">\n",
       "  <thead>\n",
       "    <tr style=\"text-align: right;\">\n",
       "      <th></th>\n",
       "      <th>GAZ</th>\n",
       "      <th>disrict</th>\n",
       "      <th>client_catg</th>\n",
       "      <th>region</th>\n",
       "      <th>tarif_type</th>\n",
       "      <th>counter_number</th>\n",
       "      <th>counter_statue</th>\n",
       "      <th>counter_code</th>\n",
       "      <th>reading_remarque</th>\n",
       "      <th>counter_coefficient</th>\n",
       "      <th>consommation_level_1</th>\n",
       "      <th>consommation_level_2</th>\n",
       "      <th>consommation_level_3</th>\n",
       "      <th>consommation_level_4</th>\n",
       "      <th>old_index</th>\n",
       "      <th>new_index</th>\n",
       "      <th>months_number</th>\n",
       "    </tr>\n",
       "  </thead>\n",
       "  <tbody>\n",
       "    <tr>\n",
       "      <th>0</th>\n",
       "      <td>0</td>\n",
       "      <td>60</td>\n",
       "      <td>11</td>\n",
       "      <td>101</td>\n",
       "      <td>11</td>\n",
       "      <td>1335667</td>\n",
       "      <td>0</td>\n",
       "      <td>203</td>\n",
       "      <td>8</td>\n",
       "      <td>1</td>\n",
       "      <td>82</td>\n",
       "      <td>0</td>\n",
       "      <td>0</td>\n",
       "      <td>0</td>\n",
       "      <td>14302</td>\n",
       "      <td>14384</td>\n",
       "      <td>4</td>\n",
       "    </tr>\n",
       "    <tr>\n",
       "      <th>1</th>\n",
       "      <td>0</td>\n",
       "      <td>60</td>\n",
       "      <td>11</td>\n",
       "      <td>101</td>\n",
       "      <td>11</td>\n",
       "      <td>1335667</td>\n",
       "      <td>0</td>\n",
       "      <td>203</td>\n",
       "      <td>6</td>\n",
       "      <td>1</td>\n",
       "      <td>1200</td>\n",
       "      <td>184</td>\n",
       "      <td>0</td>\n",
       "      <td>0</td>\n",
       "      <td>12294</td>\n",
       "      <td>13678</td>\n",
       "      <td>4</td>\n",
       "    </tr>\n",
       "    <tr>\n",
       "      <th>2</th>\n",
       "      <td>0</td>\n",
       "      <td>60</td>\n",
       "      <td>11</td>\n",
       "      <td>101</td>\n",
       "      <td>11</td>\n",
       "      <td>1335667</td>\n",
       "      <td>0</td>\n",
       "      <td>203</td>\n",
       "      <td>8</td>\n",
       "      <td>1</td>\n",
       "      <td>123</td>\n",
       "      <td>0</td>\n",
       "      <td>0</td>\n",
       "      <td>0</td>\n",
       "      <td>14624</td>\n",
       "      <td>14747</td>\n",
       "      <td>4</td>\n",
       "    </tr>\n",
       "    <tr>\n",
       "      <th>3</th>\n",
       "      <td>0</td>\n",
       "      <td>60</td>\n",
       "      <td>11</td>\n",
       "      <td>101</td>\n",
       "      <td>11</td>\n",
       "      <td>1335667</td>\n",
       "      <td>0</td>\n",
       "      <td>207</td>\n",
       "      <td>8</td>\n",
       "      <td>1</td>\n",
       "      <td>102</td>\n",
       "      <td>0</td>\n",
       "      <td>0</td>\n",
       "      <td>0</td>\n",
       "      <td>14747</td>\n",
       "      <td>14849</td>\n",
       "      <td>4</td>\n",
       "    </tr>\n",
       "    <tr>\n",
       "      <th>5</th>\n",
       "      <td>0</td>\n",
       "      <td>60</td>\n",
       "      <td>11</td>\n",
       "      <td>101</td>\n",
       "      <td>11</td>\n",
       "      <td>1335667</td>\n",
       "      <td>0</td>\n",
       "      <td>207</td>\n",
       "      <td>9</td>\n",
       "      <td>1</td>\n",
       "      <td>314</td>\n",
       "      <td>0</td>\n",
       "      <td>0</td>\n",
       "      <td>0</td>\n",
       "      <td>15638</td>\n",
       "      <td>15952</td>\n",
       "      <td>8</td>\n",
       "    </tr>\n",
       "  </tbody>\n",
       "</table>\n",
       "</div>"
      ],
      "text/plain": [
       "   GAZ  disrict  client_catg  region  tarif_type  counter_number   \n",
       "0    0       60           11     101          11         1335667  \\\n",
       "1    0       60           11     101          11         1335667   \n",
       "2    0       60           11     101          11         1335667   \n",
       "3    0       60           11     101          11         1335667   \n",
       "5    0       60           11     101          11         1335667   \n",
       "\n",
       "   counter_statue  counter_code  reading_remarque  counter_coefficient   \n",
       "0               0           203                 8                    1  \\\n",
       "1               0           203                 6                    1   \n",
       "2               0           203                 8                    1   \n",
       "3               0           207                 8                    1   \n",
       "5               0           207                 9                    1   \n",
       "\n",
       "   consommation_level_1  consommation_level_2  consommation_level_3   \n",
       "0                    82                     0                     0  \\\n",
       "1                  1200                   184                     0   \n",
       "2                   123                     0                     0   \n",
       "3                   102                     0                     0   \n",
       "5                   314                     0                     0   \n",
       "\n",
       "   consommation_level_4  old_index  new_index  months_number  \n",
       "0                     0      14302      14384              4  \n",
       "1                     0      12294      13678              4  \n",
       "2                     0      14624      14747              4  \n",
       "3                     0      14747      14849              4  \n",
       "5                     0      15638      15952              8  "
      ]
     },
     "execution_count": 507,
     "metadata": {},
     "output_type": "execute_result"
    }
   ],
   "source": [
    "x_train_1.head()"
   ]
  },
  {
   "cell_type": "code",
   "execution_count": 508,
   "metadata": {},
   "outputs": [
    {
     "data": {
      "text/plain": [
       "GAZ    disrict  client_catg  region  tarif_type  counter_number  counter_statue  counter_code  reading_remarque  counter_coefficient  consommation_level_1  consommation_level_2  consommation_level_3  consommation_level_4  old_index  new_index  months_number\n",
       "False  False    False        False   False       False           False           False         False             False                False                 False                 False                 False                 False      False      False            3356504\n",
       "Name: count, dtype: int64"
      ]
     },
     "execution_count": 508,
     "metadata": {},
     "output_type": "execute_result"
    }
   ],
   "source": [
    "x_train_1.isnull().value_counts()"
   ]
  },
  {
   "cell_type": "code",
   "execution_count": 509,
   "metadata": {},
   "outputs": [],
   "source": [
    "# now we can scale all the numerical variables \n",
    "scale = MinMaxScaler()\n",
    "x_train_scaled = pd.DataFrame(scale.fit_transform(x_train[num_features]),columns=num_features)\n",
    "x_test_scaled = pd.DataFrame(scale.transform(x_test[num_features]),columns=num_features)"
   ]
  },
  {
   "cell_type": "code",
   "execution_count": 510,
   "metadata": {},
   "outputs": [
    {
     "data": {
      "text/plain": [
       "(3356504, 16)"
      ]
     },
     "execution_count": 510,
     "metadata": {},
     "output_type": "execute_result"
    }
   ],
   "source": [
    "x_train_scaled.shape"
   ]
  },
  {
   "cell_type": "code",
   "execution_count": 511,
   "metadata": {},
   "outputs": [
    {
     "data": {
      "text/html": [
       "<div>\n",
       "<style scoped>\n",
       "    .dataframe tbody tr th:only-of-type {\n",
       "        vertical-align: middle;\n",
       "    }\n",
       "\n",
       "    .dataframe tbody tr th {\n",
       "        vertical-align: top;\n",
       "    }\n",
       "\n",
       "    .dataframe thead th {\n",
       "        text-align: right;\n",
       "    }\n",
       "</style>\n",
       "<table border=\"1\" class=\"dataframe\">\n",
       "  <thead>\n",
       "    <tr style=\"text-align: right;\">\n",
       "      <th></th>\n",
       "      <th>disrict</th>\n",
       "      <th>client_catg</th>\n",
       "      <th>region</th>\n",
       "      <th>tarif_type</th>\n",
       "      <th>counter_number</th>\n",
       "      <th>counter_statue</th>\n",
       "      <th>counter_code</th>\n",
       "      <th>reading_remarque</th>\n",
       "      <th>counter_coefficient</th>\n",
       "      <th>consommation_level_1</th>\n",
       "      <th>consommation_level_2</th>\n",
       "      <th>consommation_level_3</th>\n",
       "      <th>consommation_level_4</th>\n",
       "      <th>old_index</th>\n",
       "      <th>new_index</th>\n",
       "      <th>months_number</th>\n",
       "    </tr>\n",
       "  </thead>\n",
       "  <tbody>\n",
       "    <tr>\n",
       "      <th>0</th>\n",
       "      <td>1.0</td>\n",
       "      <td>0.0</td>\n",
       "      <td>0.020134</td>\n",
       "      <td>0.864865</td>\n",
       "      <td>2.488981e-07</td>\n",
       "      <td>0.0</td>\n",
       "      <td>0.008333</td>\n",
       "      <td>0.009804</td>\n",
       "      <td>0.02</td>\n",
       "      <td>0.003941</td>\n",
       "      <td>0.000000</td>\n",
       "      <td>0.000000</td>\n",
       "      <td>0.000000</td>\n",
       "      <td>0.000810</td>\n",
       "      <td>0.000963</td>\n",
       "      <td>0.054545</td>\n",
       "    </tr>\n",
       "    <tr>\n",
       "      <th>1</th>\n",
       "      <td>0.0</td>\n",
       "      <td>0.0</td>\n",
       "      <td>0.000000</td>\n",
       "      <td>0.864865</td>\n",
       "      <td>6.341152e-08</td>\n",
       "      <td>0.0</td>\n",
       "      <td>0.008333</td>\n",
       "      <td>0.002451</td>\n",
       "      <td>0.02</td>\n",
       "      <td>0.006026</td>\n",
       "      <td>0.000000</td>\n",
       "      <td>0.000000</td>\n",
       "      <td>0.000000</td>\n",
       "      <td>0.008716</td>\n",
       "      <td>0.008766</td>\n",
       "      <td>0.036364</td>\n",
       "    </tr>\n",
       "    <tr>\n",
       "      <th>2</th>\n",
       "      <td>0.0</td>\n",
       "      <td>0.0</td>\n",
       "      <td>0.000000</td>\n",
       "      <td>0.081081</td>\n",
       "      <td>3.715540e-09</td>\n",
       "      <td>0.0</td>\n",
       "      <td>0.338333</td>\n",
       "      <td>0.007353</td>\n",
       "      <td>0.02</td>\n",
       "      <td>0.006343</td>\n",
       "      <td>0.000038</td>\n",
       "      <td>0.000000</td>\n",
       "      <td>0.000000</td>\n",
       "      <td>0.008804</td>\n",
       "      <td>0.008879</td>\n",
       "      <td>0.036364</td>\n",
       "    </tr>\n",
       "    <tr>\n",
       "      <th>3</th>\n",
       "      <td>1.0</td>\n",
       "      <td>0.0</td>\n",
       "      <td>0.016779</td>\n",
       "      <td>0.081081</td>\n",
       "      <td>2.020272e-08</td>\n",
       "      <td>0.0</td>\n",
       "      <td>0.843333</td>\n",
       "      <td>0.007353</td>\n",
       "      <td>0.02</td>\n",
       "      <td>0.045989</td>\n",
       "      <td>0.002903</td>\n",
       "      <td>0.402778</td>\n",
       "      <td>0.125801</td>\n",
       "      <td>0.095196</td>\n",
       "      <td>0.121913</td>\n",
       "      <td>0.263636</td>\n",
       "    </tr>\n",
       "    <tr>\n",
       "      <th>4</th>\n",
       "      <td>0.0</td>\n",
       "      <td>0.0</td>\n",
       "      <td>0.000000</td>\n",
       "      <td>0.054054</td>\n",
       "      <td>3.998546e-08</td>\n",
       "      <td>0.0</td>\n",
       "      <td>0.336667</td>\n",
       "      <td>0.002451</td>\n",
       "      <td>0.02</td>\n",
       "      <td>0.001586</td>\n",
       "      <td>0.000181</td>\n",
       "      <td>0.000000</td>\n",
       "      <td>0.000000</td>\n",
       "      <td>0.006410</td>\n",
       "      <td>0.006385</td>\n",
       "      <td>0.036364</td>\n",
       "    </tr>\n",
       "  </tbody>\n",
       "</table>\n",
       "</div>"
      ],
      "text/plain": [
       "   disrict  client_catg    region  tarif_type  counter_number  counter_statue   \n",
       "0      1.0          0.0  0.020134    0.864865    2.488981e-07             0.0  \\\n",
       "1      0.0          0.0  0.000000    0.864865    6.341152e-08             0.0   \n",
       "2      0.0          0.0  0.000000    0.081081    3.715540e-09             0.0   \n",
       "3      1.0          0.0  0.016779    0.081081    2.020272e-08             0.0   \n",
       "4      0.0          0.0  0.000000    0.054054    3.998546e-08             0.0   \n",
       "\n",
       "   counter_code  reading_remarque  counter_coefficient  consommation_level_1   \n",
       "0      0.008333          0.009804                 0.02              0.003941  \\\n",
       "1      0.008333          0.002451                 0.02              0.006026   \n",
       "2      0.338333          0.007353                 0.02              0.006343   \n",
       "3      0.843333          0.007353                 0.02              0.045989   \n",
       "4      0.336667          0.002451                 0.02              0.001586   \n",
       "\n",
       "   consommation_level_2  consommation_level_3  consommation_level_4   \n",
       "0              0.000000              0.000000              0.000000  \\\n",
       "1              0.000000              0.000000              0.000000   \n",
       "2              0.000038              0.000000              0.000000   \n",
       "3              0.002903              0.402778              0.125801   \n",
       "4              0.000181              0.000000              0.000000   \n",
       "\n",
       "   old_index  new_index  months_number  \n",
       "0   0.000810   0.000963       0.054545  \n",
       "1   0.008716   0.008766       0.036364  \n",
       "2   0.008804   0.008879       0.036364  \n",
       "3   0.095196   0.121913       0.263636  \n",
       "4   0.006410   0.006385       0.036364  "
      ]
     },
     "execution_count": 511,
     "metadata": {},
     "output_type": "execute_result"
    }
   ],
   "source": [
    "x_train_scaled.head()"
   ]
  },
  {
   "cell_type": "code",
   "execution_count": 512,
   "metadata": {},
   "outputs": [
    {
     "data": {
      "text/plain": [
       "disrict  client_catg  region  tarif_type  counter_number  counter_statue  counter_code  reading_remarque  counter_coefficient  consommation_level_1  consommation_level_2  consommation_level_3  consommation_level_4  old_index  new_index  months_number\n",
       "False    False        False   False       False           False           False         False             False                False                 False                 False                 False                 False      False      False            3356504\n",
       "Name: count, dtype: int64"
      ]
     },
     "execution_count": 512,
     "metadata": {},
     "output_type": "execute_result"
    }
   ],
   "source": [
    "x_train_scaled.isnull().value_counts()"
   ]
  },
  {
   "cell_type": "code",
   "execution_count": 513,
   "metadata": {},
   "outputs": [
    {
     "name": "stdout",
     "output_type": "stream",
     "text": [
      "False\n"
     ]
    }
   ],
   "source": [
    "# we clearly see that the indexes are not exactly the same between both dataframes therfore we have to use reset index in the concatination function\n",
    "print(x_train_scaled.index.difference(x_train_1.index).empty)"
   ]
  },
  {
   "cell_type": "code",
   "execution_count": 514,
   "metadata": {},
   "outputs": [],
   "source": [
    "# in the final step lets concatenate the dummy variable data frame (x_train_1) with the scaled data frame (x_train_scaled) \n",
    "# the reset index and drop true is essential to concatenate without adding rows \n",
    "x_train_final = pd.concat([x_train_scaled.reset_index(drop=True), x_train_1.drop(num_features, axis=1).reset_index(drop=True)], axis=1)\n",
    "x_test_final = pd.concat([x_test_scaled.reset_index(drop=True), x_test_1.drop(num_features, axis =1).reset_index(drop=True)], axis=1)"
   ]
  },
  {
   "cell_type": "code",
   "execution_count": 515,
   "metadata": {},
   "outputs": [
    {
     "data": {
      "text/plain": [
       "(3356504, 17)"
      ]
     },
     "execution_count": 515,
     "metadata": {},
     "output_type": "execute_result"
    }
   ],
   "source": [
    "x_train_final.shape"
   ]
  },
  {
   "cell_type": "code",
   "execution_count": 516,
   "metadata": {},
   "outputs": [
    {
     "name": "stdout",
     "output_type": "stream",
     "text": [
      "<class 'pandas.core.frame.DataFrame'>\n",
      "RangeIndex: 3356504 entries, 0 to 3356503\n",
      "Data columns (total 17 columns):\n",
      " #   Column                Dtype  \n",
      "---  ------                -----  \n",
      " 0   disrict               float64\n",
      " 1   client_catg           float64\n",
      " 2   region                float64\n",
      " 3   tarif_type            float64\n",
      " 4   counter_number        float64\n",
      " 5   counter_statue        float64\n",
      " 6   counter_code          float64\n",
      " 7   reading_remarque      float64\n",
      " 8   counter_coefficient   float64\n",
      " 9   consommation_level_1  float64\n",
      " 10  consommation_level_2  float64\n",
      " 11  consommation_level_3  float64\n",
      " 12  consommation_level_4  float64\n",
      " 13  old_index             float64\n",
      " 14  new_index             float64\n",
      " 15  months_number         float64\n",
      " 16  GAZ                   int64  \n",
      "dtypes: float64(16), int64(1)\n",
      "memory usage: 435.3 MB\n"
     ]
    }
   ],
   "source": [
    "x_train_final.info()"
   ]
  },
  {
   "cell_type": "code",
   "execution_count": 517,
   "metadata": {},
   "outputs": [],
   "source": [
    "#x_train_final.drop(['creation_date', 'invoice_date'], axis=1, inplace=True)"
   ]
  },
  {
   "cell_type": "code",
   "execution_count": 518,
   "metadata": {},
   "outputs": [],
   "source": [
    "#x_test_final.drop(['creation_date', 'invoice_date'], axis=1, inplace=True)"
   ]
  },
  {
   "cell_type": "code",
   "execution_count": 519,
   "metadata": {},
   "outputs": [
    {
     "name": "stdout",
     "output_type": "stream",
     "text": [
      "<class 'pandas.core.frame.DataFrame'>\n",
      "RangeIndex: 3356504 entries, 0 to 3356503\n",
      "Data columns (total 17 columns):\n",
      " #   Column                Dtype  \n",
      "---  ------                -----  \n",
      " 0   disrict               float64\n",
      " 1   client_catg           float64\n",
      " 2   region                float64\n",
      " 3   tarif_type            float64\n",
      " 4   counter_number        float64\n",
      " 5   counter_statue        float64\n",
      " 6   counter_code          float64\n",
      " 7   reading_remarque      float64\n",
      " 8   counter_coefficient   float64\n",
      " 9   consommation_level_1  float64\n",
      " 10  consommation_level_2  float64\n",
      " 11  consommation_level_3  float64\n",
      " 12  consommation_level_4  float64\n",
      " 13  old_index             float64\n",
      " 14  new_index             float64\n",
      " 15  months_number         float64\n",
      " 16  GAZ                   int64  \n",
      "dtypes: float64(16), int64(1)\n",
      "memory usage: 435.3 MB\n"
     ]
    }
   ],
   "source": [
    "x_train_final.info()"
   ]
  },
  {
   "cell_type": "code",
   "execution_count": 520,
   "metadata": {},
   "outputs": [
    {
     "data": {
      "text/plain": [
       "disrict  client_catg  region  tarif_type  counter_number  counter_statue  counter_code  reading_remarque  counter_coefficient  consommation_level_1  consommation_level_2  consommation_level_3  consommation_level_4  old_index  new_index  months_number  GAZ  \n",
       "False    False        False   False       False           False           False         False             False                False                 False                 False                 False                 False      False      False          False    3356504\n",
       "Name: count, dtype: int64"
      ]
     },
     "execution_count": 520,
     "metadata": {},
     "output_type": "execute_result"
    }
   ],
   "source": [
    "x_train_final.isnull().value_counts()"
   ]
  },
  {
   "cell_type": "code",
   "execution_count": 521,
   "metadata": {},
   "outputs": [
    {
     "data": {
      "text/plain": [
       "1706905    0.0\n",
       "3691041    0.0\n",
       "964991     0.0\n",
       "2152185    1.0\n",
       "3228760    0.0\n",
       "          ... \n",
       "3873083    0.0\n",
       "2804169    0.0\n",
       "761331     0.0\n",
       "4057987    0.0\n",
       "317502     0.0\n",
       "Name: target, Length: 3356504, dtype: float64"
      ]
     },
     "execution_count": 521,
     "metadata": {},
     "output_type": "execute_result"
    }
   ],
   "source": [
    "y_train"
   ]
  },
  {
   "cell_type": "code",
   "execution_count": 522,
   "metadata": {},
   "outputs": [],
   "source": [
    "from sklearn.model_selection import GridSearchCV, RandomizedSearchCV\n",
    "from xgboost import XGBClassifier"
   ]
  },
  {
   "cell_type": "code",
   "execution_count": 523,
   "metadata": {},
   "outputs": [
    {
     "data": {
      "text/html": [
       "<style>#sk-container-id-1 {color: black;background-color: white;}#sk-container-id-1 pre{padding: 0;}#sk-container-id-1 div.sk-toggleable {background-color: white;}#sk-container-id-1 label.sk-toggleable__label {cursor: pointer;display: block;width: 100%;margin-bottom: 0;padding: 0.3em;box-sizing: border-box;text-align: center;}#sk-container-id-1 label.sk-toggleable__label-arrow:before {content: \"▸\";float: left;margin-right: 0.25em;color: #696969;}#sk-container-id-1 label.sk-toggleable__label-arrow:hover:before {color: black;}#sk-container-id-1 div.sk-estimator:hover label.sk-toggleable__label-arrow:before {color: black;}#sk-container-id-1 div.sk-toggleable__content {max-height: 0;max-width: 0;overflow: hidden;text-align: left;background-color: #f0f8ff;}#sk-container-id-1 div.sk-toggleable__content pre {margin: 0.2em;color: black;border-radius: 0.25em;background-color: #f0f8ff;}#sk-container-id-1 input.sk-toggleable__control:checked~div.sk-toggleable__content {max-height: 200px;max-width: 100%;overflow: auto;}#sk-container-id-1 input.sk-toggleable__control:checked~label.sk-toggleable__label-arrow:before {content: \"▾\";}#sk-container-id-1 div.sk-estimator input.sk-toggleable__control:checked~label.sk-toggleable__label {background-color: #d4ebff;}#sk-container-id-1 div.sk-label input.sk-toggleable__control:checked~label.sk-toggleable__label {background-color: #d4ebff;}#sk-container-id-1 input.sk-hidden--visually {border: 0;clip: rect(1px 1px 1px 1px);clip: rect(1px, 1px, 1px, 1px);height: 1px;margin: -1px;overflow: hidden;padding: 0;position: absolute;width: 1px;}#sk-container-id-1 div.sk-estimator {font-family: monospace;background-color: #f0f8ff;border: 1px dotted black;border-radius: 0.25em;box-sizing: border-box;margin-bottom: 0.5em;}#sk-container-id-1 div.sk-estimator:hover {background-color: #d4ebff;}#sk-container-id-1 div.sk-parallel-item::after {content: \"\";width: 100%;border-bottom: 1px solid gray;flex-grow: 1;}#sk-container-id-1 div.sk-label:hover label.sk-toggleable__label {background-color: #d4ebff;}#sk-container-id-1 div.sk-serial::before {content: \"\";position: absolute;border-left: 1px solid gray;box-sizing: border-box;top: 0;bottom: 0;left: 50%;z-index: 0;}#sk-container-id-1 div.sk-serial {display: flex;flex-direction: column;align-items: center;background-color: white;padding-right: 0.2em;padding-left: 0.2em;position: relative;}#sk-container-id-1 div.sk-item {position: relative;z-index: 1;}#sk-container-id-1 div.sk-parallel {display: flex;align-items: stretch;justify-content: center;background-color: white;position: relative;}#sk-container-id-1 div.sk-item::before, #sk-container-id-1 div.sk-parallel-item::before {content: \"\";position: absolute;border-left: 1px solid gray;box-sizing: border-box;top: 0;bottom: 0;left: 50%;z-index: -1;}#sk-container-id-1 div.sk-parallel-item {display: flex;flex-direction: column;z-index: 1;position: relative;background-color: white;}#sk-container-id-1 div.sk-parallel-item:first-child::after {align-self: flex-end;width: 50%;}#sk-container-id-1 div.sk-parallel-item:last-child::after {align-self: flex-start;width: 50%;}#sk-container-id-1 div.sk-parallel-item:only-child::after {width: 0;}#sk-container-id-1 div.sk-dashed-wrapped {border: 1px dashed gray;margin: 0 0.4em 0.5em 0.4em;box-sizing: border-box;padding-bottom: 0.4em;background-color: white;}#sk-container-id-1 div.sk-label label {font-family: monospace;font-weight: bold;display: inline-block;line-height: 1.2em;}#sk-container-id-1 div.sk-label-container {text-align: center;}#sk-container-id-1 div.sk-container {/* jupyter's `normalize.less` sets `[hidden] { display: none; }` but bootstrap.min.css set `[hidden] { display: none !important; }` so we also need the `!important` here to be able to override the default hidden behavior on the sphinx rendered scikit-learn.org. See: https://github.com/scikit-learn/scikit-learn/issues/21755 */display: inline-block !important;position: relative;}#sk-container-id-1 div.sk-text-repr-fallback {display: none;}</style><div id=\"sk-container-id-1\" class=\"sk-top-container\"><div class=\"sk-text-repr-fallback\"><pre>XGBClassifier(base_score=None, booster=None, callbacks=None,\n",
       "              colsample_bylevel=None, colsample_bynode=None,\n",
       "              colsample_bytree=None, early_stopping_rounds=None,\n",
       "              enable_categorical=False, eval_metric=None, feature_types=None,\n",
       "              gamma=None, gpu_id=None, grow_policy=None, importance_type=None,\n",
       "              interaction_constraints=None, learning_rate=None, max_bin=None,\n",
       "              max_cat_threshold=None, max_cat_to_onehot=None,\n",
       "              max_delta_step=None, max_depth=None, max_leaves=None,\n",
       "              min_child_weight=None, missing=nan, monotone_constraints=None,\n",
       "              n_estimators=100, n_jobs=None, num_parallel_tree=None,\n",
       "              predictor=None, random_state=None, ...)</pre><b>In a Jupyter environment, please rerun this cell to show the HTML representation or trust the notebook. <br />On GitHub, the HTML representation is unable to render, please try loading this page with nbviewer.org.</b></div><div class=\"sk-container\" hidden><div class=\"sk-item\"><div class=\"sk-estimator sk-toggleable\"><input class=\"sk-toggleable__control sk-hidden--visually\" id=\"sk-estimator-id-1\" type=\"checkbox\" checked><label for=\"sk-estimator-id-1\" class=\"sk-toggleable__label sk-toggleable__label-arrow\">XGBClassifier</label><div class=\"sk-toggleable__content\"><pre>XGBClassifier(base_score=None, booster=None, callbacks=None,\n",
       "              colsample_bylevel=None, colsample_bynode=None,\n",
       "              colsample_bytree=None, early_stopping_rounds=None,\n",
       "              enable_categorical=False, eval_metric=None, feature_types=None,\n",
       "              gamma=None, gpu_id=None, grow_policy=None, importance_type=None,\n",
       "              interaction_constraints=None, learning_rate=None, max_bin=None,\n",
       "              max_cat_threshold=None, max_cat_to_onehot=None,\n",
       "              max_delta_step=None, max_depth=None, max_leaves=None,\n",
       "              min_child_weight=None, missing=nan, monotone_constraints=None,\n",
       "              n_estimators=100, n_jobs=None, num_parallel_tree=None,\n",
       "              predictor=None, random_state=None, ...)</pre></div></div></div></div></div>"
      ],
      "text/plain": [
       "XGBClassifier(base_score=None, booster=None, callbacks=None,\n",
       "              colsample_bylevel=None, colsample_bynode=None,\n",
       "              colsample_bytree=None, early_stopping_rounds=None,\n",
       "              enable_categorical=False, eval_metric=None, feature_types=None,\n",
       "              gamma=None, gpu_id=None, grow_policy=None, importance_type=None,\n",
       "              interaction_constraints=None, learning_rate=None, max_bin=None,\n",
       "              max_cat_threshold=None, max_cat_to_onehot=None,\n",
       "              max_delta_step=None, max_depth=None, max_leaves=None,\n",
       "              min_child_weight=None, missing=nan, monotone_constraints=None,\n",
       "              n_estimators=100, n_jobs=None, num_parallel_tree=None,\n",
       "              predictor=None, random_state=None, ...)"
      ]
     },
     "execution_count": 523,
     "metadata": {},
     "output_type": "execute_result"
    }
   ],
   "source": [
    "model1 = XGBClassifier()\n",
    "model1.fit(x_train_final, y_train)"
   ]
  },
  {
   "cell_type": "code",
   "execution_count": 524,
   "metadata": {},
   "outputs": [],
   "source": [
    "y_train_pred = model1.predict(x_train_final)\n",
    "y_test_pred = model1.predict(x_test_final)"
   ]
  },
  {
   "cell_type": "code",
   "execution_count": 525,
   "metadata": {},
   "outputs": [],
   "source": [
    "from sklearn.metrics import accuracy_score, confusion_matrix, classification_report, f1_score, recall_score"
   ]
  },
  {
   "cell_type": "code",
   "execution_count": 528,
   "metadata": {},
   "outputs": [
    {
     "name": "stdout",
     "output_type": "stream",
     "text": [
      "This is the classification report for our training data \n",
      "               precision    recall  f1-score   support\n",
      "\n",
      "         0.0       0.93      1.00      0.96   3091852\n",
      "         1.0       0.90      0.07      0.14    264652\n",
      "\n",
      "    accuracy                           0.93   3356504\n",
      "   macro avg       0.91      0.54      0.55   3356504\n",
      "weighted avg       0.92      0.93      0.90   3356504\n",
      "\n",
      "the classification report for our testing data\n",
      "               precision    recall  f1-score   support\n",
      "\n",
      "         0.0       0.93      1.00      0.96   1030617\n",
      "         1.0       0.88      0.07      0.13     88218\n",
      "\n",
      "    accuracy                           0.93   1118835\n",
      "   macro avg       0.90      0.54      0.55   1118835\n",
      "weighted avg       0.92      0.93      0.90   1118835\n",
      "\n",
      "\n"
     ]
    }
   ],
   "source": [
    "print(f'This is the classification report for our training data \\n {classification_report(y_train, y_train_pred)}\\n'\n",
    "        f'the classification report for our testing data\\n {classification_report(y_split, y_test_pred)}\\n')"
   ]
  },
  {
   "cell_type": "code",
   "execution_count": 529,
   "metadata": {},
   "outputs": [
    {
     "name": "stdout",
     "output_type": "stream",
     "text": [
      "This is the confusion matrix for our training data \n",
      " [[3089536    2316]\n",
      " [ 244827   19825]]\n",
      "the confusion matrix for our testing data\n",
      " [[1029756     861]\n",
      " [  81795    6423]]\n",
      "\n"
     ]
    }
   ],
   "source": [
    "print(f'This is the confusion matrix for our training data \\n {confusion_matrix(y_train, y_train_pred)}\\n'\n",
    "        f'the confusion matrix for our testing data\\n {confusion_matrix(y_split, y_test_pred)}\\n')"
   ]
  },
  {
   "cell_type": "code",
   "execution_count": null,
   "metadata": {},
   "outputs": [],
   "source": [
    "param_grid ={'eta': np.linspace(0, 1, 10),\n",
    "             'alpha': , \n",
    "             'lambda': , \n",
    "             'num_features': range(2, 20, 1).tolist() , \n",
    "             'max_depth': np.linspace(2, 500, 20),\n",
    "             ''\n",
    "\n",
    "}\n",
    "\n",
    "gs = GridSearchCV()"
   ]
  }
 ],
 "metadata": {
  "kernelspec": {
   "display_name": ".venv",
   "language": "python",
   "name": "python3"
  },
  "language_info": {
   "codemirror_mode": {
    "name": "ipython",
    "version": 3
   },
   "file_extension": ".py",
   "mimetype": "text/x-python",
   "name": "python",
   "nbconvert_exporter": "python",
   "pygments_lexer": "ipython3",
   "version": "3.11.3"
  },
  "orig_nbformat": 4
 },
 "nbformat": 4,
 "nbformat_minor": 2
}
