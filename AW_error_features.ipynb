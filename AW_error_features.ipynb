{
 "cells": [
  {
   "cell_type": "code",
   "execution_count": 106,
   "metadata": {},
   "outputs": [],
   "source": [
    "import pandas as pd\n",
    "import numpy as np\n",
    "import seaborn as sns\n",
    "import warnings\n",
    "warnings.filterwarnings('ignore')\n",
    "import os # makes you access your files on hard drive outside the folder\n",
    "import matplotlib.pyplot as plt\n",
    "\n",
    "from sklearn.tree import DecisionTreeClassifier\n",
    "from sklearn.ensemble import RandomForestClassifier\n",
    "from sklearn.model_selection import train_test_split, GridSearchCV, RandomizedSearchCV\n",
    "from sklearn.metrics import accuracy_score, recall_score, roc_curve, precision_score, RocCurveDisplay, precision_recall_curve, PrecisionRecallDisplay"
   ]
  },
  {
   "cell_type": "code",
   "execution_count": 107,
   "metadata": {},
   "outputs": [],
   "source": [
    "dfc = pd.read_csv('data/client_train.csv')\n",
    "dfi = pd.read_csv('data/invoice_train.csv')"
   ]
  },
  {
   "cell_type": "code",
   "execution_count": 108,
   "metadata": {},
   "outputs": [],
   "source": [
    "dfc['client_id'] = dfc['client_id'].apply(lambda x: x.replace('train_Client_', ''))\n",
    "dfi['client_id'] = dfc['client_id'].apply(lambda x: x.replace('train_Client_', ''))"
   ]
  },
  {
   "cell_type": "code",
   "execution_count": 109,
   "metadata": {},
   "outputs": [
    {
     "data": {
      "text/plain": [
       "Index(['disrict', 'client_id', 'client_catg', 'region', 'creation_date',\n",
       "       'target'],\n",
       "      dtype='object')"
      ]
     },
     "execution_count": 109,
     "metadata": {},
     "output_type": "execute_result"
    }
   ],
   "source": [
    "dfc.columns"
   ]
  },
  {
   "cell_type": "code",
   "execution_count": 110,
   "metadata": {},
   "outputs": [],
   "source": [
    "# we check the values for certain columns and decider, wether we transform them to categorical or not.\n",
    "dfi.tarif_type= dfi.tarif_type.astype('category')\n",
    "#dfi.counter_type = dfi.counter_type.astype('category')\n",
    "#dfi.counter_code = dfi.counter_code.astype('category')\n",
    "dfi.reading_remarque = dfi.reading_remarque.astype('category')\n",
    "dfc.region = dfc.region.astype('category')\n",
    "dfc.disrict = dfc.disrict.astype('category')\n",
    "dfc.client_catg = dfc.client_catg.astype('category')\n",
    "\n",
    "\n",
    "\n",
    "# some columns can be reduced to int8, to save memory.\n",
    "dfi.counter_coefficient = dfi.counter_coefficient.astype('int8')\n",
    "dfi.months_number = dfi.months_number.astype('int16')\n",
    "\n",
    "dfi.consommation_level_4 = dfi.consommation_level_4.astype('int32')\n",
    "dfi.consommation_level_3 = dfi.consommation_level_3.astype('int32')\n",
    "dfi.consommation_level_2 = dfi.consommation_level_2.astype('int32')\n",
    "dfi.consommation_level_1 = dfi.consommation_level_1.astype('int32')\n",
    "\n",
    "# dfi.counter_statue.value_counts()\n",
    "dfi.counter_statue = dfi.counter_statue.astype('category')"
   ]
  },
  {
   "cell_type": "code",
   "execution_count": null,
   "metadata": {},
   "outputs": [],
   "source": []
  },
  {
   "cell_type": "code",
   "execution_count": 111,
   "metadata": {},
   "outputs": [],
   "source": [
    "dfi.drop(dfi[dfi['months_number'] > 48].index, axis=0, inplace=True)\n",
    "\n",
    "list_erroneous_month_clients = dfi.query(\"months_number > 48\").client_id.tolist() ### why? "
   ]
  },
  {
   "cell_type": "code",
   "execution_count": 112,
   "metadata": {},
   "outputs": [],
   "source": [
    "# we also want to get rid of the erroneous <0 month numbers\n",
    "dfi.drop(dfi[dfi['months_number'] < 1].index, axis=0, inplace=True)\n"
   ]
  },
  {
   "cell_type": "code",
   "execution_count": 113,
   "metadata": {},
   "outputs": [
    {
     "data": {
      "text/plain": [
       "[0, 1, 5, 4, 3, 2, 6]\n",
       "Categories (10, int64): [0, 1, 2, 3, ..., 46, 6, 769, 269375]"
      ]
     },
     "execution_count": 113,
     "metadata": {},
     "output_type": "execute_result"
    }
   ],
   "source": [
    "#Have to clean up the counter_statue column cause Decision tree gets upset converting the string to a float\n",
    "\n",
    "#I'm wondering now if the 0s are actually all missing values, kinda\n",
    "\n",
    "dfi.counter_statue.unique().tolist()\n",
    "dfi.counter_statue.replace({'4' : 4, '5' : 5, '0' : 0, '1' : 1, 'A' : 6, 618 : 6, 420 : 6 }, inplace=True)\n",
    "\n",
    "dfi.counter_type.replace({\"ELEC\":0,\"GAZ\":1}, inplace=True)\n",
    "dfi.counter_statue.unique()"
   ]
  },
  {
   "cell_type": "code",
   "execution_count": 114,
   "metadata": {},
   "outputs": [],
   "source": [
    "dfi.reading_remarque.value_counts()\n",
    "dfi.reading_remarque.replace({413 : 7, 5 : 7}, inplace=True)"
   ]
  },
  {
   "cell_type": "code",
   "execution_count": 115,
   "metadata": {},
   "outputs": [],
   "source": [
    "#Let's generate the avg monthly use column\n",
    "\n",
    "dfi.eval('avg_month_use = (new_index - old_index) / months_number ', inplace=True)"
   ]
  },
  {
   "cell_type": "code",
   "execution_count": 116,
   "metadata": {},
   "outputs": [],
   "source": [
    "x = dfc.drop('target', axis=1)  # split on the client id \n",
    "y = dfc['target']\n",
    "#list_of_targets = dfc.query('target == 1').client_id.tolist()\n",
    "#y = pd.Series(dfi.client_id.isin(list_of_targets))"
   ]
  },
  {
   "cell_type": "code",
   "execution_count": 117,
   "metadata": {},
   "outputs": [],
   "source": [
    "X_train_client, X_test_client , y_train_client, y_test_client = train_test_split(x, y, stratify=y, random_state=42)"
   ]
  },
  {
   "cell_type": "code",
   "execution_count": 118,
   "metadata": {},
   "outputs": [],
   "source": [
    "x_train_alt = pd.concat([X_train_client, dfi], axis=1, join='inner').drop(['creation_date', 'invoice_date', 'counter_number', 'old_index', 'new_index', 'months_number'], axis=1)\n",
    "# might have to include invoice date for the regular descision tree"
   ]
  },
  {
   "cell_type": "code",
   "execution_count": 119,
   "metadata": {},
   "outputs": [],
   "source": [
    "x_test_alt = pd.concat([X_test_client, dfi], join='inner', axis =1).drop(['creation_date', 'counter_number', 'invoice_date',  'old_index', 'new_index', 'months_number'], axis=1)\n",
    "# might have to include invoice date for the regular descision tree  and "
   ]
  },
  {
   "cell_type": "code",
   "execution_count": 120,
   "metadata": {},
   "outputs": [],
   "source": [
    "y_train = pd.concat([y_train_client, dfi], join='inner', axis =1)['target']"
   ]
  },
  {
   "cell_type": "code",
   "execution_count": 121,
   "metadata": {},
   "outputs": [],
   "source": [
    "y_test = pd.concat([y_test_client, dfi], join='inner', axis =1)['target']"
   ]
  },
  {
   "cell_type": "code",
   "execution_count": 122,
   "metadata": {},
   "outputs": [],
   "source": [
    "x_train = x_train_alt.drop('client_id', axis=1)\n",
    "x_test = x_test_alt.drop('client_id', axis=1)"
   ]
  },
  {
   "attachments": {},
   "cell_type": "markdown",
   "metadata": {},
   "source": [
    "tree = DecisionTreeClassifier(random_state=42, )\n",
    "tree.fit(x_train, y_train)"
   ]
  },
  {
   "attachments": {},
   "cell_type": "markdown",
   "metadata": {},
   "source": [
    "y_train_pred = tree.predict(x_train)\n",
    "y_test_pred = tree.predict(x_test)"
   ]
  },
  {
   "cell_type": "code",
   "execution_count": 123,
   "metadata": {},
   "outputs": [],
   "source": [
    "from sklearn.metrics import accuracy_score, confusion_matrix, classification_report, f1_score, recall_score"
   ]
  },
  {
   "attachments": {},
   "cell_type": "markdown",
   "metadata": {},
   "source": [
    "print(f'This is the classification report for our training data \\n {classification_report(y_train, y_train_pred)}\\n'\n",
    "        f'the classification report for our testing data\\n {classification_report(y_test, y_test_pred)}\\n')"
   ]
  },
  {
   "cell_type": "code",
   "execution_count": 124,
   "metadata": {},
   "outputs": [],
   "source": [
    "from sklearn.model_selection import GridSearchCV, RandomizedSearchCV\n",
    "from xgboost import XGBClassifier"
   ]
  },
  {
   "cell_type": "code",
   "execution_count": 125,
   "metadata": {},
   "outputs": [],
   "source": [
    "# for XGBoost we need to encode the data "
   ]
  },
  {
   "cell_type": "code",
   "execution_count": 126,
   "metadata": {},
   "outputs": [
    {
     "data": {
      "text/plain": [
       "Index(['disrict', 'client_catg', 'region', 'tarif_type', 'counter_statue',\n",
       "       'counter_code', 'reading_remarque', 'counter_coefficient',\n",
       "       'consommation_level_1', 'consommation_level_2', 'consommation_level_3',\n",
       "       'consommation_level_4', 'counter_type', 'avg_month_use'],\n",
       "      dtype='object')"
      ]
     },
     "execution_count": 126,
     "metadata": {},
     "output_type": "execute_result"
    }
   ],
   "source": [
    "x_train.columns"
   ]
  },
  {
   "cell_type": "code",
   "execution_count": 127,
   "metadata": {},
   "outputs": [],
   "source": [
    "#which columns to get dummies from \n",
    "dummies = ['disrict', 'client_catg', 'region', 'tarif_type', 'counter_statue', 'reading_remarque' ]\n"
   ]
  },
  {
   "cell_type": "code",
   "execution_count": 128,
   "metadata": {},
   "outputs": [],
   "source": [
    "dummy_train = pd.get_dummies(x_train[dummies], dtype='int', drop_first=True)\n",
    "dummy_train\n",
    "x_train_final = pd.concat([dummy_train, x_train.drop(dummies, axis=1)], axis=1)\n"
   ]
  },
  {
   "cell_type": "code",
   "execution_count": 129,
   "metadata": {},
   "outputs": [],
   "source": [
    "#x_train_final['invoice_date'] = pd.to_datetime(x_train_final['invoice_date'], format='%Y-%m-%d').astype(int)"
   ]
  },
  {
   "cell_type": "code",
   "execution_count": 130,
   "metadata": {},
   "outputs": [],
   "source": [
    "dummy_test = pd.get_dummies(x_test[dummies], dtype='int', drop_first=True)\n",
    "dummy_test\n",
    "x_test_final = pd.concat([dummy_test, x_test.drop(dummies, axis=1)], axis=1)\n"
   ]
  },
  {
   "cell_type": "code",
   "execution_count": 131,
   "metadata": {},
   "outputs": [],
   "source": [
    "#x_test_final['invoice_date'] = pd.to_datetime(x_test_final['invoice_date'], format='%Y-%m-%d').astype(int)"
   ]
  },
  {
   "cell_type": "code",
   "execution_count": 132,
   "metadata": {},
   "outputs": [
    {
     "data": {
      "text/html": [
       "<style>#sk-container-id-4 {color: black;background-color: white;}#sk-container-id-4 pre{padding: 0;}#sk-container-id-4 div.sk-toggleable {background-color: white;}#sk-container-id-4 label.sk-toggleable__label {cursor: pointer;display: block;width: 100%;margin-bottom: 0;padding: 0.3em;box-sizing: border-box;text-align: center;}#sk-container-id-4 label.sk-toggleable__label-arrow:before {content: \"▸\";float: left;margin-right: 0.25em;color: #696969;}#sk-container-id-4 label.sk-toggleable__label-arrow:hover:before {color: black;}#sk-container-id-4 div.sk-estimator:hover label.sk-toggleable__label-arrow:before {color: black;}#sk-container-id-4 div.sk-toggleable__content {max-height: 0;max-width: 0;overflow: hidden;text-align: left;background-color: #f0f8ff;}#sk-container-id-4 div.sk-toggleable__content pre {margin: 0.2em;color: black;border-radius: 0.25em;background-color: #f0f8ff;}#sk-container-id-4 input.sk-toggleable__control:checked~div.sk-toggleable__content {max-height: 200px;max-width: 100%;overflow: auto;}#sk-container-id-4 input.sk-toggleable__control:checked~label.sk-toggleable__label-arrow:before {content: \"▾\";}#sk-container-id-4 div.sk-estimator input.sk-toggleable__control:checked~label.sk-toggleable__label {background-color: #d4ebff;}#sk-container-id-4 div.sk-label input.sk-toggleable__control:checked~label.sk-toggleable__label {background-color: #d4ebff;}#sk-container-id-4 input.sk-hidden--visually {border: 0;clip: rect(1px 1px 1px 1px);clip: rect(1px, 1px, 1px, 1px);height: 1px;margin: -1px;overflow: hidden;padding: 0;position: absolute;width: 1px;}#sk-container-id-4 div.sk-estimator {font-family: monospace;background-color: #f0f8ff;border: 1px dotted black;border-radius: 0.25em;box-sizing: border-box;margin-bottom: 0.5em;}#sk-container-id-4 div.sk-estimator:hover {background-color: #d4ebff;}#sk-container-id-4 div.sk-parallel-item::after {content: \"\";width: 100%;border-bottom: 1px solid gray;flex-grow: 1;}#sk-container-id-4 div.sk-label:hover label.sk-toggleable__label {background-color: #d4ebff;}#sk-container-id-4 div.sk-serial::before {content: \"\";position: absolute;border-left: 1px solid gray;box-sizing: border-box;top: 0;bottom: 0;left: 50%;z-index: 0;}#sk-container-id-4 div.sk-serial {display: flex;flex-direction: column;align-items: center;background-color: white;padding-right: 0.2em;padding-left: 0.2em;position: relative;}#sk-container-id-4 div.sk-item {position: relative;z-index: 1;}#sk-container-id-4 div.sk-parallel {display: flex;align-items: stretch;justify-content: center;background-color: white;position: relative;}#sk-container-id-4 div.sk-item::before, #sk-container-id-4 div.sk-parallel-item::before {content: \"\";position: absolute;border-left: 1px solid gray;box-sizing: border-box;top: 0;bottom: 0;left: 50%;z-index: -1;}#sk-container-id-4 div.sk-parallel-item {display: flex;flex-direction: column;z-index: 1;position: relative;background-color: white;}#sk-container-id-4 div.sk-parallel-item:first-child::after {align-self: flex-end;width: 50%;}#sk-container-id-4 div.sk-parallel-item:last-child::after {align-self: flex-start;width: 50%;}#sk-container-id-4 div.sk-parallel-item:only-child::after {width: 0;}#sk-container-id-4 div.sk-dashed-wrapped {border: 1px dashed gray;margin: 0 0.4em 0.5em 0.4em;box-sizing: border-box;padding-bottom: 0.4em;background-color: white;}#sk-container-id-4 div.sk-label label {font-family: monospace;font-weight: bold;display: inline-block;line-height: 1.2em;}#sk-container-id-4 div.sk-label-container {text-align: center;}#sk-container-id-4 div.sk-container {/* jupyter's `normalize.less` sets `[hidden] { display: none; }` but bootstrap.min.css set `[hidden] { display: none !important; }` so we also need the `!important` here to be able to override the default hidden behavior on the sphinx rendered scikit-learn.org. See: https://github.com/scikit-learn/scikit-learn/issues/21755 */display: inline-block !important;position: relative;}#sk-container-id-4 div.sk-text-repr-fallback {display: none;}</style><div id=\"sk-container-id-4\" class=\"sk-top-container\"><div class=\"sk-text-repr-fallback\"><pre>XGBClassifier(base_score=None, booster=None, callbacks=None,\n",
       "              colsample_bylevel=None, colsample_bynode=None,\n",
       "              colsample_bytree=None, early_stopping_rounds=None,\n",
       "              enable_categorical=False, eval_metric=None, feature_types=None,\n",
       "              gamma=None, gpu_id=None, grow_policy=None, importance_type=None,\n",
       "              interaction_constraints=None, learning_rate=None, max_bin=None,\n",
       "              max_cat_threshold=None, max_cat_to_onehot=None, max_delta_step=1,\n",
       "              max_depth=None, max_leaves=None, min_child_weight=None,\n",
       "              missing=nan, monotone_constraints=None, n_estimators=100,\n",
       "              n_jobs=None, num_parallel_tree=None, predictor=None,\n",
       "              random_state=None, ...)</pre><b>In a Jupyter environment, please rerun this cell to show the HTML representation or trust the notebook. <br />On GitHub, the HTML representation is unable to render, please try loading this page with nbviewer.org.</b></div><div class=\"sk-container\" hidden><div class=\"sk-item\"><div class=\"sk-estimator sk-toggleable\"><input class=\"sk-toggleable__control sk-hidden--visually\" id=\"sk-estimator-id-6\" type=\"checkbox\" checked><label for=\"sk-estimator-id-6\" class=\"sk-toggleable__label sk-toggleable__label-arrow\">XGBClassifier</label><div class=\"sk-toggleable__content\"><pre>XGBClassifier(base_score=None, booster=None, callbacks=None,\n",
       "              colsample_bylevel=None, colsample_bynode=None,\n",
       "              colsample_bytree=None, early_stopping_rounds=None,\n",
       "              enable_categorical=False, eval_metric=None, feature_types=None,\n",
       "              gamma=None, gpu_id=None, grow_policy=None, importance_type=None,\n",
       "              interaction_constraints=None, learning_rate=None, max_bin=None,\n",
       "              max_cat_threshold=None, max_cat_to_onehot=None, max_delta_step=1,\n",
       "              max_depth=None, max_leaves=None, min_child_weight=None,\n",
       "              missing=nan, monotone_constraints=None, n_estimators=100,\n",
       "              n_jobs=None, num_parallel_tree=None, predictor=None,\n",
       "              random_state=None, ...)</pre></div></div></div></div></div>"
      ],
      "text/plain": [
       "XGBClassifier(base_score=None, booster=None, callbacks=None,\n",
       "              colsample_bylevel=None, colsample_bynode=None,\n",
       "              colsample_bytree=None, early_stopping_rounds=None,\n",
       "              enable_categorical=False, eval_metric=None, feature_types=None,\n",
       "              gamma=None, gpu_id=None, grow_policy=None, importance_type=None,\n",
       "              interaction_constraints=None, learning_rate=None, max_bin=None,\n",
       "              max_cat_threshold=None, max_cat_to_onehot=None, max_delta_step=1,\n",
       "              max_depth=None, max_leaves=None, min_child_weight=None,\n",
       "              missing=nan, monotone_constraints=None, n_estimators=100,\n",
       "              n_jobs=None, num_parallel_tree=None, predictor=None,\n",
       "              random_state=None, ...)"
      ]
     },
     "execution_count": 132,
     "metadata": {},
     "output_type": "execute_result"
    }
   ],
   "source": [
    "model1 = XGBClassifier(scale_pos_weight= len(y[y == 0]) / len(y[y == 1]) , max_delta_step=1)\n",
    "model1.fit(x_train_final, y_train)"
   ]
  },
  {
   "cell_type": "code",
   "execution_count": 133,
   "metadata": {},
   "outputs": [],
   "source": [
    "y_train_pred = model1.predict(x_train_final)\n",
    "y_test_pred = model1.predict(x_test_final)"
   ]
  },
  {
   "cell_type": "code",
   "execution_count": 134,
   "metadata": {},
   "outputs": [
    {
     "name": "stdout",
     "output_type": "stream",
     "text": [
      "This is the classification report for our training data \n",
      "               precision    recall  f1-score   support\n",
      "\n",
      "         0.0       0.97      0.70      0.81     95845\n",
      "         1.0       0.11      0.66      0.20      5669\n",
      "\n",
      "    accuracy                           0.70    101514\n",
      "   macro avg       0.54      0.68      0.50    101514\n",
      "weighted avg       0.92      0.70      0.78    101514\n",
      "\n",
      "the classification report for our testing data\n",
      "               precision    recall  f1-score   support\n",
      "\n",
      "         0.0       0.95      0.69      0.80     31944\n",
      "         1.0       0.08      0.43      0.13      1892\n",
      "\n",
      "    accuracy                           0.67     33836\n",
      "   macro avg       0.51      0.56      0.46     33836\n",
      "weighted avg       0.90      0.67      0.76     33836\n",
      "\n",
      "\n"
     ]
    }
   ],
   "source": [
    "print(f'This is the classification report for our training data \\n {classification_report(y_train, y_train_pred)}\\n'\n",
    "        f'the classification report for our testing data\\n {classification_report(y_test, y_test_pred)}\\n')"
   ]
  },
  {
   "attachments": {},
   "cell_type": "markdown",
   "metadata": {},
   "source": [
    "grid_params = {'max_depth': [5, 10, 15, 20 ,25, 30 , 45, 50 ], \n",
    "                'learning_rate':  [0.01 , 0.05, 0.1, 0.15, 0.2],\n",
    "                'colsample_bytree': [0.5, 0.6, 0.7, 0.8, 0.9],\n",
    "                'reg_alpha': [0, 0.0001, 0.005, 0.01, 0.05],\n",
    "                #'reg_lambda': [0.1, 0.5, 1, 5, 10]\n",
    "               }\n"
   ]
  },
  {
   "attachments": {},
   "cell_type": "markdown",
   "metadata": {},
   "source": [
    "#random_search = RandomizedSearchCV(estimator=XGBClassifier(scale_pos_weight= len(y[y == 0]) / len(y[y == 1]) , max_delta_step=1), \n",
    "                                    param_distributions=grid_params,\n",
    "                                    scoring='recall', \n",
    "                                    verbose=3,\n",
    "                                    n_jobs=-1)"
   ]
  },
  {
   "cell_type": "code",
   "execution_count": 135,
   "metadata": {},
   "outputs": [],
   "source": [
    "#random_search.fit(x_train_final, y_train)"
   ]
  },
  {
   "cell_type": "code",
   "execution_count": 136,
   "metadata": {},
   "outputs": [],
   "source": [
    "#best_params = random_search.best_params_"
   ]
  },
  {
   "cell_type": "code",
   "execution_count": 137,
   "metadata": {},
   "outputs": [],
   "source": [
    "#print(f' these are the optimal parameters : {random_search.best_params_} \\n resulting in an accuracy of: {random_search.best_score_}')"
   ]
  },
  {
   "cell_type": "code",
   "execution_count": 138,
   "metadata": {},
   "outputs": [],
   "source": [
    "#model_best = XGBClassifier(**best_params)"
   ]
  },
  {
   "cell_type": "code",
   "execution_count": 139,
   "metadata": {},
   "outputs": [],
   "source": [
    "#model_best.fit(x_train_final, y_train)\n",
    "#y_train_pred = model_best.predict(x_train_final)\n",
    "#y_test_pred = model_best.predict(x_test_final)"
   ]
  },
  {
   "cell_type": "code",
   "execution_count": 140,
   "metadata": {},
   "outputs": [],
   "source": [
    "#print(f' the classification report for out training set with the best model {classification_report(y_train_pred, y_train_pred)}\\n '\n",
    "#      f' and the report on our Test data {classification_report(y_test, y_test_pred )}')"
   ]
  },
  {
   "cell_type": "code",
   "execution_count": 141,
   "metadata": {},
   "outputs": [
    {
     "data": {
      "text/plain": [
       "<sklearn.metrics._plot.roc_curve.RocCurveDisplay at 0x154ed4690>"
      ]
     },
     "execution_count": 141,
     "metadata": {},
     "output_type": "execute_result"
    },
    {
     "data": {
      "image/png": "[encoded data removed]",
      "text/plain": [
       "<Figure size 640x480 with 1 Axes>"
      ]
     },
     "metadata": {},
     "output_type": "display_data"
    }
   ],
   "source": [
    "roc_curve(y_train, y_train_pred)\n",
    "RocCurveDisplay.from_predictions(y_train,y_train_pred)"
   ]
  },
  {
   "cell_type": "code",
   "execution_count": 142,
   "metadata": {},
   "outputs": [
    {
     "data": {
      "text/plain": [
       "array([[0.43311727, 0.5668827 ],\n",
       "       [0.5417167 , 0.4582833 ],\n",
       "       [0.48558468, 0.5144153 ],\n",
       "       ...,\n",
       "       [0.5281838 , 0.4718162 ],\n",
       "       [0.48558468, 0.5144153 ],\n",
       "       [0.48921525, 0.51078475]], dtype=float32)"
      ]
     },
     "execution_count": 142,
     "metadata": {},
     "output_type": "execute_result"
    }
   ],
   "source": [
    "y_test_prob = model1.predict_proba(x_test_final)\n",
    "\n",
    "y_test_prob"
   ]
  },
  {
   "cell_type": "code",
   "execution_count": 143,
   "metadata": {},
   "outputs": [],
   "source": [
    "x_test_alt['predictions_1'] = y_test_prob[: , 1]"
   ]
  },
  {
   "cell_type": "code",
   "execution_count": 144,
   "metadata": {},
   "outputs": [
    {
     "data": {
      "text/html": [
       "<div>\n",
       "<style scoped>\n",
       "    .dataframe tbody tr th:only-of-type {\n",
       "        vertical-align: middle;\n",
       "    }\n",
       "\n",
       "    .dataframe tbody tr th {\n",
       "        vertical-align: top;\n",
       "    }\n",
       "\n",
       "    .dataframe thead th {\n",
       "        text-align: right;\n",
       "    }\n",
       "</style>\n",
       "<table border=\"1\" class=\"dataframe\">\n",
       "  <thead>\n",
       "    <tr style=\"text-align: right;\">\n",
       "      <th></th>\n",
       "      <th>disrict</th>\n",
       "      <th>client_id</th>\n",
       "      <th>client_catg</th>\n",
       "      <th>region</th>\n",
       "      <th>client_id</th>\n",
       "      <th>tarif_type</th>\n",
       "      <th>counter_statue</th>\n",
       "      <th>counter_code</th>\n",
       "      <th>reading_remarque</th>\n",
       "      <th>counter_coefficient</th>\n",
       "      <th>consommation_level_1</th>\n",
       "      <th>consommation_level_2</th>\n",
       "      <th>consommation_level_3</th>\n",
       "      <th>consommation_level_4</th>\n",
       "      <th>counter_type</th>\n",
       "      <th>avg_month_use</th>\n",
       "      <th>predictions_1</th>\n",
       "      <th>tresh</th>\n",
       "    </tr>\n",
       "  </thead>\n",
       "  <tbody>\n",
       "    <tr>\n",
       "      <th>55911</th>\n",
       "      <td>69</td>\n",
       "      <td>28374</td>\n",
       "      <td>11</td>\n",
       "      <td>103</td>\n",
       "      <td>28374</td>\n",
       "      <td>11</td>\n",
       "      <td>0</td>\n",
       "      <td>203</td>\n",
       "      <td>6</td>\n",
       "      <td>1</td>\n",
       "      <td>369</td>\n",
       "      <td>0</td>\n",
       "      <td>0</td>\n",
       "      <td>0</td>\n",
       "      <td>0</td>\n",
       "      <td>92.25</td>\n",
       "      <td>0.566883</td>\n",
       "      <td>1</td>\n",
       "    </tr>\n",
       "    <tr>\n",
       "      <th>105078</th>\n",
       "      <td>69</td>\n",
       "      <td>72624</td>\n",
       "      <td>11</td>\n",
       "      <td>107</td>\n",
       "      <td>72624</td>\n",
       "      <td>11</td>\n",
       "      <td>0</td>\n",
       "      <td>203</td>\n",
       "      <td>9</td>\n",
       "      <td>1</td>\n",
       "      <td>633</td>\n",
       "      <td>0</td>\n",
       "      <td>0</td>\n",
       "      <td>0</td>\n",
       "      <td>0</td>\n",
       "      <td>158.25</td>\n",
       "      <td>0.458283</td>\n",
       "      <td>0</td>\n",
       "    </tr>\n",
       "    <tr>\n",
       "      <th>87970</th>\n",
       "      <td>69</td>\n",
       "      <td>57227</td>\n",
       "      <td>11</td>\n",
       "      <td>107</td>\n",
       "      <td>57227</td>\n",
       "      <td>11</td>\n",
       "      <td>0</td>\n",
       "      <td>203</td>\n",
       "      <td>6</td>\n",
       "      <td>1</td>\n",
       "      <td>305</td>\n",
       "      <td>0</td>\n",
       "      <td>0</td>\n",
       "      <td>0</td>\n",
       "      <td>0</td>\n",
       "      <td>76.25</td>\n",
       "      <td>0.514415</td>\n",
       "      <td>1</td>\n",
       "    </tr>\n",
       "    <tr>\n",
       "      <th>77202</th>\n",
       "      <td>69</td>\n",
       "      <td>47536</td>\n",
       "      <td>11</td>\n",
       "      <td>103</td>\n",
       "      <td>47536</td>\n",
       "      <td>40</td>\n",
       "      <td>0</td>\n",
       "      <td>5</td>\n",
       "      <td>6</td>\n",
       "      <td>1</td>\n",
       "      <td>105</td>\n",
       "      <td>0</td>\n",
       "      <td>0</td>\n",
       "      <td>0</td>\n",
       "      <td>1</td>\n",
       "      <td>26.25</td>\n",
       "      <td>0.591854</td>\n",
       "      <td>1</td>\n",
       "    </tr>\n",
       "    <tr>\n",
       "      <th>40801</th>\n",
       "      <td>69</td>\n",
       "      <td>14775</td>\n",
       "      <td>11</td>\n",
       "      <td>107</td>\n",
       "      <td>14775</td>\n",
       "      <td>11</td>\n",
       "      <td>0</td>\n",
       "      <td>207</td>\n",
       "      <td>6</td>\n",
       "      <td>1</td>\n",
       "      <td>533</td>\n",
       "      <td>0</td>\n",
       "      <td>0</td>\n",
       "      <td>0</td>\n",
       "      <td>0</td>\n",
       "      <td>133.25</td>\n",
       "      <td>0.502124</td>\n",
       "      <td>1</td>\n",
       "    </tr>\n",
       "    <tr>\n",
       "      <th>...</th>\n",
       "      <td>...</td>\n",
       "      <td>...</td>\n",
       "      <td>...</td>\n",
       "      <td>...</td>\n",
       "      <td>...</td>\n",
       "      <td>...</td>\n",
       "      <td>...</td>\n",
       "      <td>...</td>\n",
       "      <td>...</td>\n",
       "      <td>...</td>\n",
       "      <td>...</td>\n",
       "      <td>...</td>\n",
       "      <td>...</td>\n",
       "      <td>...</td>\n",
       "      <td>...</td>\n",
       "      <td>...</td>\n",
       "      <td>...</td>\n",
       "      <td>...</td>\n",
       "    </tr>\n",
       "    <tr>\n",
       "      <th>129141</th>\n",
       "      <td>63</td>\n",
       "      <td>94281</td>\n",
       "      <td>11</td>\n",
       "      <td>311</td>\n",
       "      <td>94281</td>\n",
       "      <td>11</td>\n",
       "      <td>0</td>\n",
       "      <td>203</td>\n",
       "      <td>6</td>\n",
       "      <td>1</td>\n",
       "      <td>597</td>\n",
       "      <td>0</td>\n",
       "      <td>0</td>\n",
       "      <td>0</td>\n",
       "      <td>0</td>\n",
       "      <td>149.25</td>\n",
       "      <td>0.615704</td>\n",
       "      <td>1</td>\n",
       "    </tr>\n",
       "    <tr>\n",
       "      <th>16080</th>\n",
       "      <td>62</td>\n",
       "      <td>114469</td>\n",
       "      <td>11</td>\n",
       "      <td>309</td>\n",
       "      <td>114469</td>\n",
       "      <td>40</td>\n",
       "      <td>0</td>\n",
       "      <td>5</td>\n",
       "      <td>6</td>\n",
       "      <td>1</td>\n",
       "      <td>149</td>\n",
       "      <td>0</td>\n",
       "      <td>0</td>\n",
       "      <td>0</td>\n",
       "      <td>1</td>\n",
       "      <td>37.25</td>\n",
       "      <td>0.448996</td>\n",
       "      <td>0</td>\n",
       "    </tr>\n",
       "    <tr>\n",
       "      <th>81165</th>\n",
       "      <td>69</td>\n",
       "      <td>51101</td>\n",
       "      <td>11</td>\n",
       "      <td>104</td>\n",
       "      <td>51101</td>\n",
       "      <td>40</td>\n",
       "      <td>0</td>\n",
       "      <td>5</td>\n",
       "      <td>6</td>\n",
       "      <td>1</td>\n",
       "      <td>89</td>\n",
       "      <td>0</td>\n",
       "      <td>0</td>\n",
       "      <td>0</td>\n",
       "      <td>1</td>\n",
       "      <td>22.25</td>\n",
       "      <td>0.471816</td>\n",
       "      <td>0</td>\n",
       "    </tr>\n",
       "    <tr>\n",
       "      <th>55106</th>\n",
       "      <td>69</td>\n",
       "      <td>2765</td>\n",
       "      <td>11</td>\n",
       "      <td>107</td>\n",
       "      <td>2765</td>\n",
       "      <td>11</td>\n",
       "      <td>0</td>\n",
       "      <td>203</td>\n",
       "      <td>6</td>\n",
       "      <td>1</td>\n",
       "      <td>294</td>\n",
       "      <td>0</td>\n",
       "      <td>0</td>\n",
       "      <td>0</td>\n",
       "      <td>0</td>\n",
       "      <td>73.50</td>\n",
       "      <td>0.514415</td>\n",
       "      <td>1</td>\n",
       "    </tr>\n",
       "    <tr>\n",
       "      <th>120685</th>\n",
       "      <td>63</td>\n",
       "      <td>86671</td>\n",
       "      <td>11</td>\n",
       "      <td>311</td>\n",
       "      <td>86671</td>\n",
       "      <td>11</td>\n",
       "      <td>0</td>\n",
       "      <td>203</td>\n",
       "      <td>6</td>\n",
       "      <td>1</td>\n",
       "      <td>1200</td>\n",
       "      <td>280</td>\n",
       "      <td>0</td>\n",
       "      <td>0</td>\n",
       "      <td>0</td>\n",
       "      <td>370.00</td>\n",
       "      <td>0.510785</td>\n",
       "      <td>1</td>\n",
       "    </tr>\n",
       "  </tbody>\n",
       "</table>\n",
       "<p>33836 rows × 18 columns</p>\n",
       "</div>"
      ],
      "text/plain": [
       "       disrict client_id client_catg region client_id tarif_type   \n",
       "55911       69     28374          11    103     28374         11  \\\n",
       "105078      69     72624          11    107     72624         11   \n",
       "87970       69     57227          11    107     57227         11   \n",
       "77202       69     47536          11    103     47536         40   \n",
       "40801       69     14775          11    107     14775         11   \n",
       "...        ...       ...         ...    ...       ...        ...   \n",
       "129141      63     94281          11    311     94281         11   \n",
       "16080       62    114469          11    309    114469         40   \n",
       "81165       69     51101          11    104     51101         40   \n",
       "55106       69      2765          11    107      2765         11   \n",
       "120685      63     86671          11    311     86671         11   \n",
       "\n",
       "       counter_statue  counter_code reading_remarque  counter_coefficient   \n",
       "55911               0           203                6                    1  \\\n",
       "105078              0           203                9                    1   \n",
       "87970               0           203                6                    1   \n",
       "77202               0             5                6                    1   \n",
       "40801               0           207                6                    1   \n",
       "...               ...           ...              ...                  ...   \n",
       "129141              0           203                6                    1   \n",
       "16080               0             5                6                    1   \n",
       "81165               0             5                6                    1   \n",
       "55106               0           203                6                    1   \n",
       "120685              0           203                6                    1   \n",
       "\n",
       "        consommation_level_1  consommation_level_2  consommation_level_3   \n",
       "55911                    369                     0                     0  \\\n",
       "105078                   633                     0                     0   \n",
       "87970                    305                     0                     0   \n",
       "77202                    105                     0                     0   \n",
       "40801                    533                     0                     0   \n",
       "...                      ...                   ...                   ...   \n",
       "129141                   597                     0                     0   \n",
       "16080                    149                     0                     0   \n",
       "81165                     89                     0                     0   \n",
       "55106                    294                     0                     0   \n",
       "120685                  1200                   280                     0   \n",
       "\n",
       "        consommation_level_4  counter_type  avg_month_use  predictions_1   \n",
       "55911                      0             0          92.25       0.566883  \\\n",
       "105078                     0             0         158.25       0.458283   \n",
       "87970                      0             0          76.25       0.514415   \n",
       "77202                      0             1          26.25       0.591854   \n",
       "40801                      0             0         133.25       0.502124   \n",
       "...                      ...           ...            ...            ...   \n",
       "129141                     0             0         149.25       0.615704   \n",
       "16080                      0             1          37.25       0.448996   \n",
       "81165                      0             1          22.25       0.471816   \n",
       "55106                      0             0          73.50       0.514415   \n",
       "120685                     0             0         370.00       0.510785   \n",
       "\n",
       "        tresh  \n",
       "55911       1  \n",
       "105078      0  \n",
       "87970       1  \n",
       "77202       1  \n",
       "40801       1  \n",
       "...       ...  \n",
       "129141      1  \n",
       "16080       0  \n",
       "81165       0  \n",
       "55106       1  \n",
       "120685      1  \n",
       "\n",
       "[33836 rows x 18 columns]"
      ]
     },
     "execution_count": 144,
     "metadata": {},
     "output_type": "execute_result"
    }
   ],
   "source": [
    "x_test_alt['tresh'] = x_test_alt['predictions_1'].apply(lambda x: 1 if x  >= 0.5 else 0)\n",
    "x_test_alt"
   ]
  },
  {
   "cell_type": "code",
   "execution_count": 145,
   "metadata": {},
   "outputs": [
    {
     "data": {
      "text/html": [
       "<div>\n",
       "<style scoped>\n",
       "    .dataframe tbody tr th:only-of-type {\n",
       "        vertical-align: middle;\n",
       "    }\n",
       "\n",
       "    .dataframe tbody tr th {\n",
       "        vertical-align: top;\n",
       "    }\n",
       "\n",
       "    .dataframe thead th {\n",
       "        text-align: right;\n",
       "    }\n",
       "</style>\n",
       "<table border=\"1\" class=\"dataframe\">\n",
       "  <thead>\n",
       "    <tr style=\"text-align: right;\">\n",
       "      <th></th>\n",
       "      <th>client_id</th>\n",
       "      <th>invoice_date</th>\n",
       "      <th>tarif_type</th>\n",
       "      <th>counter_number</th>\n",
       "      <th>counter_statue</th>\n",
       "      <th>counter_code</th>\n",
       "      <th>reading_remarque</th>\n",
       "      <th>counter_coefficient</th>\n",
       "      <th>consommation_level_1</th>\n",
       "      <th>consommation_level_2</th>\n",
       "      <th>consommation_level_3</th>\n",
       "      <th>consommation_level_4</th>\n",
       "      <th>old_index</th>\n",
       "      <th>new_index</th>\n",
       "      <th>months_number</th>\n",
       "      <th>counter_type</th>\n",
       "      <th>avg_month_use</th>\n",
       "    </tr>\n",
       "  </thead>\n",
       "  <tbody>\n",
       "    <tr>\n",
       "      <th>2</th>\n",
       "      <td>10</td>\n",
       "      <td>2015-03-23</td>\n",
       "      <td>11</td>\n",
       "      <td>1335667</td>\n",
       "      <td>0</td>\n",
       "      <td>203</td>\n",
       "      <td>8</td>\n",
       "      <td>1</td>\n",
       "      <td>123</td>\n",
       "      <td>0</td>\n",
       "      <td>0</td>\n",
       "      <td>0</td>\n",
       "      <td>14624</td>\n",
       "      <td>14747</td>\n",
       "      <td>4</td>\n",
       "      <td>0</td>\n",
       "      <td>30.75</td>\n",
       "    </tr>\n",
       "    <tr>\n",
       "      <th>5</th>\n",
       "      <td>10000</td>\n",
       "      <td>2017-07-17</td>\n",
       "      <td>11</td>\n",
       "      <td>1335667</td>\n",
       "      <td>0</td>\n",
       "      <td>207</td>\n",
       "      <td>9</td>\n",
       "      <td>1</td>\n",
       "      <td>314</td>\n",
       "      <td>0</td>\n",
       "      <td>0</td>\n",
       "      <td>0</td>\n",
       "      <td>15638</td>\n",
       "      <td>15952</td>\n",
       "      <td>8</td>\n",
       "      <td>0</td>\n",
       "      <td>39.25</td>\n",
       "    </tr>\n",
       "    <tr>\n",
       "      <th>14</th>\n",
       "      <td>100008</td>\n",
       "      <td>2014-07-18</td>\n",
       "      <td>11</td>\n",
       "      <td>1335667</td>\n",
       "      <td>0</td>\n",
       "      <td>203</td>\n",
       "      <td>8</td>\n",
       "      <td>1</td>\n",
       "      <td>99</td>\n",
       "      <td>0</td>\n",
       "      <td>0</td>\n",
       "      <td>0</td>\n",
       "      <td>14384</td>\n",
       "      <td>14483</td>\n",
       "      <td>4</td>\n",
       "      <td>0</td>\n",
       "      <td>24.75</td>\n",
       "    </tr>\n",
       "    <tr>\n",
       "      <th>15</th>\n",
       "      <td>100009</td>\n",
       "      <td>2014-11-24</td>\n",
       "      <td>11</td>\n",
       "      <td>1335667</td>\n",
       "      <td>0</td>\n",
       "      <td>203</td>\n",
       "      <td>8</td>\n",
       "      <td>1</td>\n",
       "      <td>141</td>\n",
       "      <td>0</td>\n",
       "      <td>0</td>\n",
       "      <td>0</td>\n",
       "      <td>14483</td>\n",
       "      <td>14624</td>\n",
       "      <td>4</td>\n",
       "      <td>0</td>\n",
       "      <td>35.25</td>\n",
       "    </tr>\n",
       "    <tr>\n",
       "      <th>16</th>\n",
       "      <td>10001</td>\n",
       "      <td>2015-11-18</td>\n",
       "      <td>11</td>\n",
       "      <td>1335667</td>\n",
       "      <td>0</td>\n",
       "      <td>207</td>\n",
       "      <td>9</td>\n",
       "      <td>1</td>\n",
       "      <td>217</td>\n",
       "      <td>0</td>\n",
       "      <td>0</td>\n",
       "      <td>0</td>\n",
       "      <td>14849</td>\n",
       "      <td>15066</td>\n",
       "      <td>4</td>\n",
       "      <td>0</td>\n",
       "      <td>54.25</td>\n",
       "    </tr>\n",
       "    <tr>\n",
       "      <th>...</th>\n",
       "      <td>...</td>\n",
       "      <td>...</td>\n",
       "      <td>...</td>\n",
       "      <td>...</td>\n",
       "      <td>...</td>\n",
       "      <td>...</td>\n",
       "      <td>...</td>\n",
       "      <td>...</td>\n",
       "      <td>...</td>\n",
       "      <td>...</td>\n",
       "      <td>...</td>\n",
       "      <td>...</td>\n",
       "      <td>...</td>\n",
       "      <td>...</td>\n",
       "      <td>...</td>\n",
       "      <td>...</td>\n",
       "      <td>...</td>\n",
       "    </tr>\n",
       "    <tr>\n",
       "      <th>135470</th>\n",
       "      <td>99979</td>\n",
       "      <td>2012-01-18</td>\n",
       "      <td>40</td>\n",
       "      <td>44518</td>\n",
       "      <td>0</td>\n",
       "      <td>5</td>\n",
       "      <td>6</td>\n",
       "      <td>1</td>\n",
       "      <td>257</td>\n",
       "      <td>0</td>\n",
       "      <td>0</td>\n",
       "      <td>0</td>\n",
       "      <td>5547</td>\n",
       "      <td>5804</td>\n",
       "      <td>4</td>\n",
       "      <td>1</td>\n",
       "      <td>64.25</td>\n",
       "    </tr>\n",
       "    <tr>\n",
       "      <th>135477</th>\n",
       "      <td>99985</td>\n",
       "      <td>2007-05-25</td>\n",
       "      <td>11</td>\n",
       "      <td>524033</td>\n",
       "      <td>0</td>\n",
       "      <td>207</td>\n",
       "      <td>6</td>\n",
       "      <td>1</td>\n",
       "      <td>746</td>\n",
       "      <td>0</td>\n",
       "      <td>0</td>\n",
       "      <td>0</td>\n",
       "      <td>37160</td>\n",
       "      <td>37906</td>\n",
       "      <td>4</td>\n",
       "      <td>0</td>\n",
       "      <td>186.50</td>\n",
       "    </tr>\n",
       "    <tr>\n",
       "      <th>135479</th>\n",
       "      <td>99987</td>\n",
       "      <td>2011-05-20</td>\n",
       "      <td>40</td>\n",
       "      <td>44518</td>\n",
       "      <td>0</td>\n",
       "      <td>5</td>\n",
       "      <td>6</td>\n",
       "      <td>1</td>\n",
       "      <td>372</td>\n",
       "      <td>0</td>\n",
       "      <td>0</td>\n",
       "      <td>0</td>\n",
       "      <td>5095</td>\n",
       "      <td>5467</td>\n",
       "      <td>4</td>\n",
       "      <td>1</td>\n",
       "      <td>93.00</td>\n",
       "    </tr>\n",
       "    <tr>\n",
       "      <th>135484</th>\n",
       "      <td>99991</td>\n",
       "      <td>2014-05-15</td>\n",
       "      <td>40</td>\n",
       "      <td>44518</td>\n",
       "      <td>0</td>\n",
       "      <td>5</td>\n",
       "      <td>6</td>\n",
       "      <td>1</td>\n",
       "      <td>277</td>\n",
       "      <td>0</td>\n",
       "      <td>0</td>\n",
       "      <td>0</td>\n",
       "      <td>7174</td>\n",
       "      <td>7451</td>\n",
       "      <td>4</td>\n",
       "      <td>1</td>\n",
       "      <td>69.25</td>\n",
       "    </tr>\n",
       "    <tr>\n",
       "      <th>135486</th>\n",
       "      <td>99993</td>\n",
       "      <td>2007-05-25</td>\n",
       "      <td>40</td>\n",
       "      <td>44518</td>\n",
       "      <td>0</td>\n",
       "      <td>5</td>\n",
       "      <td>6</td>\n",
       "      <td>1</td>\n",
       "      <td>275</td>\n",
       "      <td>0</td>\n",
       "      <td>0</td>\n",
       "      <td>0</td>\n",
       "      <td>2915</td>\n",
       "      <td>3190</td>\n",
       "      <td>4</td>\n",
       "      <td>1</td>\n",
       "      <td>68.75</td>\n",
       "    </tr>\n",
       "  </tbody>\n",
       "</table>\n",
       "<p>33836 rows × 17 columns</p>\n",
       "</div>"
      ],
      "text/plain": [
       "       client_id invoice_date tarif_type  counter_number counter_statue   \n",
       "2             10   2015-03-23         11         1335667              0  \\\n",
       "5          10000   2017-07-17         11         1335667              0   \n",
       "14        100008   2014-07-18         11         1335667              0   \n",
       "15        100009   2014-11-24         11         1335667              0   \n",
       "16         10001   2015-11-18         11         1335667              0   \n",
       "...          ...          ...        ...             ...            ...   \n",
       "135470     99979   2012-01-18         40           44518              0   \n",
       "135477     99985   2007-05-25         11          524033              0   \n",
       "135479     99987   2011-05-20         40           44518              0   \n",
       "135484     99991   2014-05-15         40           44518              0   \n",
       "135486     99993   2007-05-25         40           44518              0   \n",
       "\n",
       "        counter_code reading_remarque  counter_coefficient   \n",
       "2                203                8                    1  \\\n",
       "5                207                9                    1   \n",
       "14               203                8                    1   \n",
       "15               203                8                    1   \n",
       "16               207                9                    1   \n",
       "...              ...              ...                  ...   \n",
       "135470             5                6                    1   \n",
       "135477           207                6                    1   \n",
       "135479             5                6                    1   \n",
       "135484             5                6                    1   \n",
       "135486             5                6                    1   \n",
       "\n",
       "        consommation_level_1  consommation_level_2  consommation_level_3   \n",
       "2                        123                     0                     0  \\\n",
       "5                        314                     0                     0   \n",
       "14                        99                     0                     0   \n",
       "15                       141                     0                     0   \n",
       "16                       217                     0                     0   \n",
       "...                      ...                   ...                   ...   \n",
       "135470                   257                     0                     0   \n",
       "135477                   746                     0                     0   \n",
       "135479                   372                     0                     0   \n",
       "135484                   277                     0                     0   \n",
       "135486                   275                     0                     0   \n",
       "\n",
       "        consommation_level_4  old_index  new_index  months_number   \n",
       "2                          0      14624      14747              4  \\\n",
       "5                          0      15638      15952              8   \n",
       "14                         0      14384      14483              4   \n",
       "15                         0      14483      14624              4   \n",
       "16                         0      14849      15066              4   \n",
       "...                      ...        ...        ...            ...   \n",
       "135470                     0       5547       5804              4   \n",
       "135477                     0      37160      37906              4   \n",
       "135479                     0       5095       5467              4   \n",
       "135484                     0       7174       7451              4   \n",
       "135486                     0       2915       3190              4   \n",
       "\n",
       "        counter_type  avg_month_use  \n",
       "2                  0          30.75  \n",
       "5                  0          39.25  \n",
       "14                 0          24.75  \n",
       "15                 0          35.25  \n",
       "16                 0          54.25  \n",
       "...              ...            ...  \n",
       "135470             1          64.25  \n",
       "135477             0         186.50  \n",
       "135479             1          93.00  \n",
       "135484             1          69.25  \n",
       "135486             1          68.75  \n",
       "\n",
       "[33836 rows x 17 columns]"
      ]
     },
     "execution_count": 145,
     "metadata": {},
     "output_type": "execute_result"
    }
   ],
   "source": [
    "dfi.query(f\"index in {y_test.index.tolist()}\")"
   ]
  },
  {
   "cell_type": "code",
   "execution_count": 146,
   "metadata": {},
   "outputs": [],
   "source": [
    "from collections import Counter"
   ]
  },
  {
   "cell_type": "code",
   "execution_count": 147,
   "metadata": {},
   "outputs": [],
   "source": [
    "#extract suspects from y_pred\n",
    "\n",
    "test_clients = dfi.loc[y_test.index, 'client_id'].tolist() # get all clients included in y_test\n",
    "\n",
    "y_pred_indexed = pd.DataFrame({'y_pred' : y_test_pred, 'client_id' : test_clients}, index=y_test.index) # assign row indexes of test data to y_pred\n",
    "\n",
    "#pred_suspects = y_pred_indexed.query(\"y_pred == True\").client_id.tolist()\n",
    "#better line suggested by Bito:\n",
    "\n",
    "pred_suspects = y_pred_indexed[y_pred_indexed[\"y_pred\"] == True][\"client_id\"].values\n",
    "\n",
    "#We can also count how many flagged invoices we get for each client, in case we want to change this threshold\n",
    "\n",
    "\n",
    "num_flagged_invoices = Counter(pred_suspects)\n",
    "\n"
   ]
  },
  {
   "cell_type": "code",
   "execution_count": 148,
   "metadata": {},
   "outputs": [],
   "source": [
    "#compare to list of true suspects\n",
    "\n",
    "dfc_test_clients = dfc[dfc[\"client_id\"].isin(set(test_clients))] # get subset of client df with clients in test set\n",
    "\n",
    "dfc_test_clients[\"num_flags\"] = dfc_test_clients[\"client_id\"].map(num_flagged_invoices)\n",
    "\n",
    "#calculate recall and precision"
   ]
  },
  {
   "cell_type": "code",
   "execution_count": 149,
   "metadata": {},
   "outputs": [],
   "source": [
    "#Add predictions columns based on different thresholds\n",
    "\n",
    "dfc_test_clients.eval(\"thresh_1 = num_flags >= 1\", inplace=True)\n",
    "dfc_test_clients.eval(\"thresh_2 = num_flags >= 2\", inplace=True)"
   ]
  },
  {
   "cell_type": "code",
   "execution_count": 150,
   "metadata": {},
   "outputs": [
    {
     "data": {
      "text/plain": [
       "array([False,  True, False, ..., False,  True, False])"
      ]
     },
     "execution_count": 150,
     "metadata": {},
     "output_type": "execute_result"
    }
   ],
   "source": [
    "y_true = dfc_test_clients.target.values\n",
    "y_pred_thresh1 = dfc_test_clients.thresh_1.values\n",
    "y_pred_thresh2 = dfc_test_clients.thresh_2.values\n",
    "y_pred_thresh1"
   ]
  },
  {
   "cell_type": "code",
   "execution_count": 151,
   "metadata": {},
   "outputs": [
    {
     "name": "stdout",
     "output_type": "stream",
     "text": [
      "Recall score threshold 1: 43.13%\n",
      "Precision score threshold 1: 7.51%\n",
      "Recall score threshold 2: 0.0%\n",
      "Precision score threshold 2: 0.0%\n"
     ]
    }
   ],
   "source": [
    "print(\"Recall score threshold 1: {}%\".format(round(recall_score(y_true,y_pred_thresh1) * 100, 2)))\n",
    "\n",
    "print(\"Precision score threshold 1: {}%\".format(round(precision_score(y_true,y_pred_thresh1) * 100, 2)))\n",
    "\n",
    "print(\"Recall score threshold 2: {}%\".format(round(recall_score(y_true,y_pred_thresh2) * 100, 2)))\n",
    "\n",
    "print(\"Precision score threshold 2: {}%\".format(round(precision_score(y_true,y_pred_thresh2) * 100, 2)))"
   ]
  },
  {
   "cell_type": "code",
   "execution_count": 152,
   "metadata": {},
   "outputs": [
    {
     "data": {
      "text/plain": [
       "Text(0.5, 1.0, 'ROC for threshold = 1 flagged invoice')"
      ]
     },
     "execution_count": 152,
     "metadata": {},
     "output_type": "execute_result"
    },
    {
     "data": {
      "image/png": "[encoded data removed]",
      "text/plain": [
       "<Figure size 640x480 with 1 Axes>"
      ]
     },
     "metadata": {},
     "output_type": "display_data"
    }
   ],
   "source": [
    "RocCurveDisplay.from_predictions(y_true,y_pred_thresh1)\n",
    "plt.title(\"ROC for threshold = 1 flagged invoice\")"
   ]
  },
  {
   "cell_type": "code",
   "execution_count": 153,
   "metadata": {},
   "outputs": [
    {
     "data": {
      "text/plain": [
       "{'objective': 'binary:logistic',\n",
       " 'use_label_encoder': None,\n",
       " 'base_score': None,\n",
       " 'booster': None,\n",
       " 'callbacks': None,\n",
       " 'colsample_bylevel': None,\n",
       " 'colsample_bynode': None,\n",
       " 'colsample_bytree': None,\n",
       " 'early_stopping_rounds': None,\n",
       " 'enable_categorical': False,\n",
       " 'eval_metric': None,\n",
       " 'feature_types': None,\n",
       " 'gamma': None,\n",
       " 'gpu_id': None,\n",
       " 'grow_policy': None,\n",
       " 'importance_type': None,\n",
       " 'interaction_constraints': None,\n",
       " 'learning_rate': None,\n",
       " 'max_bin': None,\n",
       " 'max_cat_threshold': None,\n",
       " 'max_cat_to_onehot': None,\n",
       " 'max_delta_step': 1,\n",
       " 'max_depth': None,\n",
       " 'max_leaves': None,\n",
       " 'min_child_weight': None,\n",
       " 'missing': nan,\n",
       " 'monotone_constraints': None,\n",
       " 'n_estimators': 100,\n",
       " 'n_jobs': None,\n",
       " 'num_parallel_tree': None,\n",
       " 'predictor': None,\n",
       " 'random_state': None,\n",
       " 'reg_alpha': None,\n",
       " 'reg_lambda': None,\n",
       " 'sampling_method': None,\n",
       " 'scale_pos_weight': 16.9081416864922,\n",
       " 'subsample': None,\n",
       " 'tree_method': None,\n",
       " 'validate_parameters': None,\n",
       " 'verbosity': None}"
      ]
     },
     "execution_count": 153,
     "metadata": {},
     "output_type": "execute_result"
    }
   ],
   "source": [
    "model1.get_params()"
   ]
  },
  {
   "attachments": {},
   "cell_type": "markdown",
   "metadata": {},
   "source": [
    "## Feature Importance ##\n",
    "\n",
    "Shap allows feature importance analysis."
   ]
  },
  {
   "attachments": {},
   "cell_type": "markdown",
   "metadata": {},
   "source": [
    "import shap    for unindentified reasons it does not work "
   ]
  },
  {
   "cell_type": "code",
   "execution_count": 155,
   "metadata": {},
   "outputs": [
    {
     "data": {
      "text/plain": [
       "<Axes: >"
      ]
     },
     "execution_count": 155,
     "metadata": {},
     "output_type": "execute_result"
    },
    {
     "data": {
      "image/png": "[encoded data removed]",
      "text/plain": [
       "<Figure size 2000x1000 with 1 Axes>"
      ]
     },
     "metadata": {},
     "output_type": "display_data"
    }
   ],
   "source": [
    "feature_important = model1.get_booster().get_score(importance_type='weight')\n",
    "keys = list(feature_important.keys())\n",
    "values = list(feature_important.values())\n",
    "\n",
    "data = pd.DataFrame(data=values, index=keys, columns=[\"score\"]).sort_values(by = \"score\", ascending=False)\n",
    "data.nlargest(40, columns=\"score\").plot(kind='barh', figsize = (20,10)) ## plot top 40 features"
   ]
  },
  {
   "cell_type": "code",
   "execution_count": null,
   "metadata": {},
   "outputs": [
    {
     "data": {
      "text/plain": [
       "array([0.02653744, 0.02274574, 0.02877468, 0.02085043, 0.06405251,\n",
       "       0.0519322 , 0.01047365, 0.0124903 , 0.01450338, 0.02065372,\n",
       "       0.        , 0.00831589, 0.04758226, 0.0160495 , 0.01390376,\n",
       "       0.01577979, 0.01700515, 0.01709988, 0.01537711, 0.02987101,\n",
       "       0.02609286, 0.01550234, 0.03944467, 0.0175306 , 0.01662498,\n",
       "       0.02208222, 0.01827987, 0.01546666, 0.01802215, 0.01176476,\n",
       "       0.02208776, 0.01487899, 0.0195709 , 0.01367062, 0.01272341,\n",
       "       0.01250566, 0.        , 0.        , 0.        , 0.        ,\n",
       "       0.01699627, 0.        , 0.01412804, 0.        , 0.01435112,\n",
       "       0.01757078, 0.        , 0.01333451, 0.00729097, 0.01524652,\n",
       "       0.        , 0.        , 0.        , 0.        , 0.        ,\n",
       "       0.01350644, 0.01290533, 0.        , 0.        , 0.01616633,\n",
       "       0.01669472, 0.01483198, 0.        , 0.01623938, 0.01424952,\n",
       "       0.01639996, 0.01320906, 0.        , 0.01663232], dtype=float32)"
      ]
     },
     "execution_count": 73,
     "metadata": {},
     "output_type": "execute_result"
    }
   ],
   "source": [
    "model1.feature_importances_"
   ]
  }
 ],
 "metadata": {
  "kernelspec": {
   "display_name": ".venv",
   "language": "python",
   "name": "python3"
  },
  "language_info": {
   "codemirror_mode": {
    "name": "ipython",
    "version": 3
   },
   "file_extension": ".py",
   "mimetype": "text/x-python",
   "name": "python",
   "nbconvert_exporter": "python",
   "pygments_lexer": "ipython3",
   "version": "3.11.3"
  },
  "orig_nbformat": 4
 },
 "nbformat": 4,
 "nbformat_minor": 2
}
