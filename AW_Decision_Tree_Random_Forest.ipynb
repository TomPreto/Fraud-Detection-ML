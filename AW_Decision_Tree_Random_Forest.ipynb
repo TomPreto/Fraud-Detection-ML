{
 "cells": [
  {
   "cell_type": "code",
   "execution_count": 77,
   "metadata": {},
   "outputs": [],
   "source": [
    "import pandas as pd\n",
    "import numpy as np\n",
    "import matplotlib.pyplot as plt\n",
    "import seaborn as sns\n",
    "from collections import Counter\n",
    "\n",
    "from sklearn.tree import DecisionTreeClassifier\n",
    "from sklearn.ensemble import RandomForestClassifier\n",
    "from sklearn.model_selection import train_test_split, GridSearchCV, RandomizedSearchCV\n",
    "from sklearn.metrics import accuracy_score, recall_score, roc_curve, precision_score, RocCurveDisplay, precision_recall_curve, PrecisionRecallDisplay, f1_score"
   ]
  },
  {
   "cell_type": "code",
   "execution_count": 78,
   "metadata": {},
   "outputs": [
    {
     "name": "stderr",
     "output_type": "stream",
     "text": [
      "/var/folders/vh/9svjskkn54n5t04bltkc_8fw0000gn/T/ipykernel_11670/253326080.py:2: DtypeWarning: Columns (4) have mixed types. Specify dtype option on import or set low_memory=False.\n",
      "  dfi = pd.read_csv(\"data/invoice_train.csv\")\n"
     ]
    }
   ],
   "source": [
    "#Load dataset\n",
    "dfi = pd.read_csv(\"data/invoice_train.csv\")\n",
    "dfc = pd.read_csv(\"data/client_train.csv\")"
   ]
  },
  {
   "cell_type": "code",
   "execution_count": 79,
   "metadata": {},
   "outputs": [],
   "source": [
    "dfi.drop('invoice_date', axis=1, inplace=True)"
   ]
  },
  {
   "cell_type": "code",
   "execution_count": 80,
   "metadata": {},
   "outputs": [],
   "source": [
    "# we check the values for certain columns and decider, wether we transform them to categorical or not.\n",
    "dfi.tarif_type= dfi.tarif_type.astype('category')\n",
    "dfi.counter_type = dfi.counter_type.astype('category')\n",
    "dfi.counter_code = dfi.counter_code.astype('category')\n",
    "dfi.reading_remarque = dfi.reading_remarque.astype('category')\n",
    "\n",
    "# some columns can be reduced to int8, to save memory.\n",
    "dfi.counter_coefficient = dfi.counter_coefficient.astype('int8')\n",
    "dfi.months_number = dfi.months_number.astype('int16')\n",
    "\n",
    "dfi.consommation_level_4 = dfi.consommation_level_4.astype('int32')\n",
    "dfi.consommation_level_3 = dfi.consommation_level_3.astype('int32')\n",
    "dfi.consommation_level_2 = dfi.consommation_level_2.astype('int32')\n",
    "dfi.consommation_level_1 = dfi.consommation_level_1.astype('int32')\n",
    "\n",
    "# dfi.counter_statue.value_counts()\n",
    "dfi.counter_statue = dfi.counter_statue.astype('category')"
   ]
  },
  {
   "cell_type": "code",
   "execution_count": 81,
   "metadata": {},
   "outputs": [],
   "source": [
    "\n",
    "dfi.drop(dfi[dfi['months_number'] > 48].index, axis=0, inplace=True)\n",
    "\n",
    "\n",
    "list_erroneous_month_clients = dfi.query(\"months_number > 48\").client_id.tolist()\n",
    "\n",
    "# I'm not sure it's necessary to remove these clients completely from the analysis, actually\n",
    "#dfi = dfi[~dfi['client_id'].isin(list_erroneous_month_clients)]\n",
    "#dfc = dfc[~dfc['client_id'].isin(list_erroneous_month_clients)]\n",
    "\n",
    "\n"
   ]
  },
  {
   "cell_type": "code",
   "execution_count": 82,
   "metadata": {},
   "outputs": [],
   "source": [
    "# we also want to get rid of the erroneous <0 month numbers\n",
    "dfi.drop(dfi[dfi['months_number'] < 1].index, axis=0, inplace=True)\n"
   ]
  },
  {
   "cell_type": "code",
   "execution_count": 83,
   "metadata": {},
   "outputs": [
    {
     "data": {
      "text/html": [
       "<div>\n",
       "<style scoped>\n",
       "    .dataframe tbody tr th:only-of-type {\n",
       "        vertical-align: middle;\n",
       "    }\n",
       "\n",
       "    .dataframe tbody tr th {\n",
       "        vertical-align: top;\n",
       "    }\n",
       "\n",
       "    .dataframe thead th {\n",
       "        text-align: right;\n",
       "    }\n",
       "</style>\n",
       "<table border=\"1\" class=\"dataframe\">\n",
       "  <thead>\n",
       "    <tr style=\"text-align: right;\">\n",
       "      <th></th>\n",
       "      <th>client_id</th>\n",
       "      <th>tarif_type</th>\n",
       "      <th>counter_number</th>\n",
       "      <th>counter_statue</th>\n",
       "      <th>counter_code</th>\n",
       "      <th>reading_remarque</th>\n",
       "      <th>counter_coefficient</th>\n",
       "      <th>consommation_level_1</th>\n",
       "      <th>consommation_level_2</th>\n",
       "      <th>consommation_level_3</th>\n",
       "      <th>consommation_level_4</th>\n",
       "      <th>old_index</th>\n",
       "      <th>new_index</th>\n",
       "      <th>months_number</th>\n",
       "      <th>counter_type</th>\n",
       "    </tr>\n",
       "  </thead>\n",
       "  <tbody>\n",
       "    <tr>\n",
       "      <th>0</th>\n",
       "      <td>train_Client_0</td>\n",
       "      <td>11</td>\n",
       "      <td>1335667</td>\n",
       "      <td>0</td>\n",
       "      <td>203</td>\n",
       "      <td>8</td>\n",
       "      <td>1</td>\n",
       "      <td>82</td>\n",
       "      <td>0</td>\n",
       "      <td>0</td>\n",
       "      <td>0</td>\n",
       "      <td>14302</td>\n",
       "      <td>14384</td>\n",
       "      <td>4</td>\n",
       "      <td>ELEC</td>\n",
       "    </tr>\n",
       "    <tr>\n",
       "      <th>1</th>\n",
       "      <td>train_Client_0</td>\n",
       "      <td>11</td>\n",
       "      <td>1335667</td>\n",
       "      <td>0</td>\n",
       "      <td>203</td>\n",
       "      <td>6</td>\n",
       "      <td>1</td>\n",
       "      <td>1200</td>\n",
       "      <td>184</td>\n",
       "      <td>0</td>\n",
       "      <td>0</td>\n",
       "      <td>12294</td>\n",
       "      <td>13678</td>\n",
       "      <td>4</td>\n",
       "      <td>ELEC</td>\n",
       "    </tr>\n",
       "    <tr>\n",
       "      <th>2</th>\n",
       "      <td>train_Client_0</td>\n",
       "      <td>11</td>\n",
       "      <td>1335667</td>\n",
       "      <td>0</td>\n",
       "      <td>203</td>\n",
       "      <td>8</td>\n",
       "      <td>1</td>\n",
       "      <td>123</td>\n",
       "      <td>0</td>\n",
       "      <td>0</td>\n",
       "      <td>0</td>\n",
       "      <td>14624</td>\n",
       "      <td>14747</td>\n",
       "      <td>4</td>\n",
       "      <td>ELEC</td>\n",
       "    </tr>\n",
       "    <tr>\n",
       "      <th>3</th>\n",
       "      <td>train_Client_0</td>\n",
       "      <td>11</td>\n",
       "      <td>1335667</td>\n",
       "      <td>0</td>\n",
       "      <td>207</td>\n",
       "      <td>8</td>\n",
       "      <td>1</td>\n",
       "      <td>102</td>\n",
       "      <td>0</td>\n",
       "      <td>0</td>\n",
       "      <td>0</td>\n",
       "      <td>14747</td>\n",
       "      <td>14849</td>\n",
       "      <td>4</td>\n",
       "      <td>ELEC</td>\n",
       "    </tr>\n",
       "    <tr>\n",
       "      <th>4</th>\n",
       "      <td>train_Client_0</td>\n",
       "      <td>11</td>\n",
       "      <td>1335667</td>\n",
       "      <td>0</td>\n",
       "      <td>207</td>\n",
       "      <td>9</td>\n",
       "      <td>1</td>\n",
       "      <td>572</td>\n",
       "      <td>0</td>\n",
       "      <td>0</td>\n",
       "      <td>0</td>\n",
       "      <td>15066</td>\n",
       "      <td>15638</td>\n",
       "      <td>12</td>\n",
       "      <td>ELEC</td>\n",
       "    </tr>\n",
       "    <tr>\n",
       "      <th>5</th>\n",
       "      <td>train_Client_0</td>\n",
       "      <td>11</td>\n",
       "      <td>1335667</td>\n",
       "      <td>0</td>\n",
       "      <td>207</td>\n",
       "      <td>9</td>\n",
       "      <td>1</td>\n",
       "      <td>314</td>\n",
       "      <td>0</td>\n",
       "      <td>0</td>\n",
       "      <td>0</td>\n",
       "      <td>15638</td>\n",
       "      <td>15952</td>\n",
       "      <td>8</td>\n",
       "      <td>ELEC</td>\n",
       "    </tr>\n",
       "    <tr>\n",
       "      <th>6</th>\n",
       "      <td>train_Client_0</td>\n",
       "      <td>11</td>\n",
       "      <td>1335667</td>\n",
       "      <td>0</td>\n",
       "      <td>207</td>\n",
       "      <td>9</td>\n",
       "      <td>1</td>\n",
       "      <td>541</td>\n",
       "      <td>0</td>\n",
       "      <td>0</td>\n",
       "      <td>0</td>\n",
       "      <td>15952</td>\n",
       "      <td>16493</td>\n",
       "      <td>12</td>\n",
       "      <td>ELEC</td>\n",
       "    </tr>\n",
       "    <tr>\n",
       "      <th>7</th>\n",
       "      <td>train_Client_0</td>\n",
       "      <td>11</td>\n",
       "      <td>1335667</td>\n",
       "      <td>0</td>\n",
       "      <td>207</td>\n",
       "      <td>9</td>\n",
       "      <td>1</td>\n",
       "      <td>585</td>\n",
       "      <td>0</td>\n",
       "      <td>0</td>\n",
       "      <td>0</td>\n",
       "      <td>16493</td>\n",
       "      <td>17078</td>\n",
       "      <td>8</td>\n",
       "      <td>ELEC</td>\n",
       "    </tr>\n",
       "    <tr>\n",
       "      <th>8</th>\n",
       "      <td>train_Client_0</td>\n",
       "      <td>11</td>\n",
       "      <td>1335667</td>\n",
       "      <td>0</td>\n",
       "      <td>203</td>\n",
       "      <td>9</td>\n",
       "      <td>1</td>\n",
       "      <td>1200</td>\n",
       "      <td>186</td>\n",
       "      <td>0</td>\n",
       "      <td>0</td>\n",
       "      <td>7770</td>\n",
       "      <td>9156</td>\n",
       "      <td>4</td>\n",
       "      <td>ELEC</td>\n",
       "    </tr>\n",
       "    <tr>\n",
       "      <th>9</th>\n",
       "      <td>train_Client_0</td>\n",
       "      <td>11</td>\n",
       "      <td>1335667</td>\n",
       "      <td>0</td>\n",
       "      <td>203</td>\n",
       "      <td>6</td>\n",
       "      <td>1</td>\n",
       "      <td>1082</td>\n",
       "      <td>0</td>\n",
       "      <td>0</td>\n",
       "      <td>0</td>\n",
       "      <td>9156</td>\n",
       "      <td>10238</td>\n",
       "      <td>4</td>\n",
       "      <td>ELEC</td>\n",
       "    </tr>\n",
       "    <tr>\n",
       "      <th>10</th>\n",
       "      <td>train_Client_0</td>\n",
       "      <td>11</td>\n",
       "      <td>1335667</td>\n",
       "      <td>0</td>\n",
       "      <td>203</td>\n",
       "      <td>6</td>\n",
       "      <td>1</td>\n",
       "      <td>174</td>\n",
       "      <td>0</td>\n",
       "      <td>0</td>\n",
       "      <td>0</td>\n",
       "      <td>5417</td>\n",
       "      <td>5591</td>\n",
       "      <td>4</td>\n",
       "      <td>ELEC</td>\n",
       "    </tr>\n",
       "    <tr>\n",
       "      <th>11</th>\n",
       "      <td>train_Client_0</td>\n",
       "      <td>11</td>\n",
       "      <td>1335667</td>\n",
       "      <td>0</td>\n",
       "      <td>203</td>\n",
       "      <td>6</td>\n",
       "      <td>1</td>\n",
       "      <td>628</td>\n",
       "      <td>0</td>\n",
       "      <td>0</td>\n",
       "      <td>0</td>\n",
       "      <td>10780</td>\n",
       "      <td>11408</td>\n",
       "      <td>4</td>\n",
       "      <td>ELEC</td>\n",
       "    </tr>\n",
       "    <tr>\n",
       "      <th>12</th>\n",
       "      <td>train_Client_0</td>\n",
       "      <td>11</td>\n",
       "      <td>1335667</td>\n",
       "      <td>0</td>\n",
       "      <td>203</td>\n",
       "      <td>6</td>\n",
       "      <td>1</td>\n",
       "      <td>886</td>\n",
       "      <td>0</td>\n",
       "      <td>0</td>\n",
       "      <td>0</td>\n",
       "      <td>11408</td>\n",
       "      <td>12294</td>\n",
       "      <td>4</td>\n",
       "      <td>ELEC</td>\n",
       "    </tr>\n",
       "    <tr>\n",
       "      <th>13</th>\n",
       "      <td>train_Client_0</td>\n",
       "      <td>11</td>\n",
       "      <td>1335667</td>\n",
       "      <td>0</td>\n",
       "      <td>203</td>\n",
       "      <td>8</td>\n",
       "      <td>1</td>\n",
       "      <td>147</td>\n",
       "      <td>0</td>\n",
       "      <td>0</td>\n",
       "      <td>0</td>\n",
       "      <td>13983</td>\n",
       "      <td>14130</td>\n",
       "      <td>4</td>\n",
       "      <td>ELEC</td>\n",
       "    </tr>\n",
       "    <tr>\n",
       "      <th>14</th>\n",
       "      <td>train_Client_0</td>\n",
       "      <td>11</td>\n",
       "      <td>1335667</td>\n",
       "      <td>0</td>\n",
       "      <td>203</td>\n",
       "      <td>8</td>\n",
       "      <td>1</td>\n",
       "      <td>99</td>\n",
       "      <td>0</td>\n",
       "      <td>0</td>\n",
       "      <td>0</td>\n",
       "      <td>14384</td>\n",
       "      <td>14483</td>\n",
       "      <td>4</td>\n",
       "      <td>ELEC</td>\n",
       "    </tr>\n",
       "  </tbody>\n",
       "</table>\n",
       "</div>"
      ],
      "text/plain": [
       "         client_id tarif_type  counter_number counter_statue counter_code   \n",
       "0   train_Client_0         11         1335667              0          203  \\\n",
       "1   train_Client_0         11         1335667              0          203   \n",
       "2   train_Client_0         11         1335667              0          203   \n",
       "3   train_Client_0         11         1335667              0          207   \n",
       "4   train_Client_0         11         1335667              0          207   \n",
       "5   train_Client_0         11         1335667              0          207   \n",
       "6   train_Client_0         11         1335667              0          207   \n",
       "7   train_Client_0         11         1335667              0          207   \n",
       "8   train_Client_0         11         1335667              0          203   \n",
       "9   train_Client_0         11         1335667              0          203   \n",
       "10  train_Client_0         11         1335667              0          203   \n",
       "11  train_Client_0         11         1335667              0          203   \n",
       "12  train_Client_0         11         1335667              0          203   \n",
       "13  train_Client_0         11         1335667              0          203   \n",
       "14  train_Client_0         11         1335667              0          203   \n",
       "\n",
       "   reading_remarque  counter_coefficient  consommation_level_1   \n",
       "0                 8                    1                    82  \\\n",
       "1                 6                    1                  1200   \n",
       "2                 8                    1                   123   \n",
       "3                 8                    1                   102   \n",
       "4                 9                    1                   572   \n",
       "5                 9                    1                   314   \n",
       "6                 9                    1                   541   \n",
       "7                 9                    1                   585   \n",
       "8                 9                    1                  1200   \n",
       "9                 6                    1                  1082   \n",
       "10                6                    1                   174   \n",
       "11                6                    1                   628   \n",
       "12                6                    1                   886   \n",
       "13                8                    1                   147   \n",
       "14                8                    1                    99   \n",
       "\n",
       "    consommation_level_2  consommation_level_3  consommation_level_4   \n",
       "0                      0                     0                     0  \\\n",
       "1                    184                     0                     0   \n",
       "2                      0                     0                     0   \n",
       "3                      0                     0                     0   \n",
       "4                      0                     0                     0   \n",
       "5                      0                     0                     0   \n",
       "6                      0                     0                     0   \n",
       "7                      0                     0                     0   \n",
       "8                    186                     0                     0   \n",
       "9                      0                     0                     0   \n",
       "10                     0                     0                     0   \n",
       "11                     0                     0                     0   \n",
       "12                     0                     0                     0   \n",
       "13                     0                     0                     0   \n",
       "14                     0                     0                     0   \n",
       "\n",
       "    old_index  new_index  months_number counter_type  \n",
       "0       14302      14384              4         ELEC  \n",
       "1       12294      13678              4         ELEC  \n",
       "2       14624      14747              4         ELEC  \n",
       "3       14747      14849              4         ELEC  \n",
       "4       15066      15638             12         ELEC  \n",
       "5       15638      15952              8         ELEC  \n",
       "6       15952      16493             12         ELEC  \n",
       "7       16493      17078              8         ELEC  \n",
       "8        7770       9156              4         ELEC  \n",
       "9        9156      10238              4         ELEC  \n",
       "10       5417       5591              4         ELEC  \n",
       "11      10780      11408              4         ELEC  \n",
       "12      11408      12294              4         ELEC  \n",
       "13      13983      14130              4         ELEC  \n",
       "14      14384      14483              4         ELEC  "
      ]
     },
     "execution_count": 83,
     "metadata": {},
     "output_type": "execute_result"
    }
   ],
   "source": [
    "dfi.head(15)"
   ]
  },
  {
   "attachments": {},
   "cell_type": "markdown",
   "metadata": {},
   "source": [
    "First, we will try a naive decision tree."
   ]
  },
  {
   "attachments": {},
   "cell_type": "markdown",
   "metadata": {},
   "source": [
    "We need to arrange the categorical and numerical variables"
   ]
  },
  {
   "cell_type": "code",
   "execution_count": 84,
   "metadata": {},
   "outputs": [],
   "source": [
    "#Have to clean up the counter_statue column cause Decision tree gets upset converting the string to a float\n",
    "\n",
    "#I'm wondering now if the 0s are actually all missing values, kinda\n",
    "\n",
    "dfi.counter_statue.unique().tolist()\n",
    "dfi.counter_statue.replace({'4' : 4, '5' : 5, '0' : 0, '1' : 1, 'A' : 6, 618 : 6, 420 : 6 }, inplace=True)\n",
    "\n",
    "dfi.counter_type.replace({\"ELEC\":0,\"GAZ\":1}, inplace=True)"
   ]
  },
  {
   "cell_type": "code",
   "execution_count": 85,
   "metadata": {},
   "outputs": [
    {
     "data": {
      "text/plain": [
       "[0, 1, 5, 4, 3, 2, 6]"
      ]
     },
     "execution_count": 85,
     "metadata": {},
     "output_type": "execute_result"
    }
   ],
   "source": [
    "dfi.counter_statue.unique().tolist()"
   ]
  },
  {
   "cell_type": "code",
   "execution_count": 86,
   "metadata": {},
   "outputs": [],
   "source": [
    "dfi.reading_remarque.value_counts()\n",
    "dfi.reading_remarque.replace({413 : 7, 5 : 7}, inplace=True)"
   ]
  },
  {
   "cell_type": "code",
   "execution_count": 87,
   "metadata": {},
   "outputs": [],
   "source": [
    "#Let's generate the avg monthly use column\n",
    "\n",
    "dfi.eval('avg_month_use = (new_index - old_index) / months_number ', inplace=True)"
   ]
  },
  {
   "cell_type": "code",
   "execution_count": 88,
   "metadata": {},
   "outputs": [],
   "source": [
    "X = dfc['client_id']\n",
    "\n",
    "list_of_targets = dfc.query('target == 1').client_id.tolist()\n",
    "y = dfc['target']"
   ]
  },
  {
   "cell_type": "code",
   "execution_count": 89,
   "metadata": {},
   "outputs": [],
   "source": [
    "#Split into train and test sets\n",
    "\n",
    "clients_train, clients_test, clients_y_train, clients_y_test = train_test_split(X, y, stratify=y, random_state=42)\n",
    "#Because we have heavily imbalanced classes, we use stratify to ensure similar proportions of each class in the train and test splits"
   ]
  },
  {
   "cell_type": "code",
   "execution_count": 90,
   "metadata": {},
   "outputs": [],
   "source": [
    "X_train = dfi[dfi[\"client_id\"].isin(set(clients_train))].drop(['client_id','counter_number'], axis=1) # we get rid of counter_number now\n",
    "\n",
    "X_test = dfi[dfi[\"client_id\"].isin(set(clients_test))].drop(['client_id','counter_number'], axis=1) # we get rid of counter_number now\n",
    "\n",
    "y_train = dfi[dfi[\"client_id\"].isin(set(clients_train))]\n",
    "y_train = pd.Series(y_train.client_id.isin(list_of_targets))\n",
    "\n",
    "y_test = dfi[dfi[\"client_id\"].isin(set(clients_test))]\n",
    "y_test = pd.Series(y_test.client_id.isin(list_of_targets))"
   ]
  },
  {
   "cell_type": "code",
   "execution_count": 91,
   "metadata": {},
   "outputs": [
    {
     "data": {
      "text/html": [
       "<style>#sk-container-id-5 {color: black;background-color: white;}#sk-container-id-5 pre{padding: 0;}#sk-container-id-5 div.sk-toggleable {background-color: white;}#sk-container-id-5 label.sk-toggleable__label {cursor: pointer;display: block;width: 100%;margin-bottom: 0;padding: 0.3em;box-sizing: border-box;text-align: center;}#sk-container-id-5 label.sk-toggleable__label-arrow:before {content: \"▸\";float: left;margin-right: 0.25em;color: #696969;}#sk-container-id-5 label.sk-toggleable__label-arrow:hover:before {color: black;}#sk-container-id-5 div.sk-estimator:hover label.sk-toggleable__label-arrow:before {color: black;}#sk-container-id-5 div.sk-toggleable__content {max-height: 0;max-width: 0;overflow: hidden;text-align: left;background-color: #f0f8ff;}#sk-container-id-5 div.sk-toggleable__content pre {margin: 0.2em;color: black;border-radius: 0.25em;background-color: #f0f8ff;}#sk-container-id-5 input.sk-toggleable__control:checked~div.sk-toggleable__content {max-height: 200px;max-width: 100%;overflow: auto;}#sk-container-id-5 input.sk-toggleable__control:checked~label.sk-toggleable__label-arrow:before {content: \"▾\";}#sk-container-id-5 div.sk-estimator input.sk-toggleable__control:checked~label.sk-toggleable__label {background-color: #d4ebff;}#sk-container-id-5 div.sk-label input.sk-toggleable__control:checked~label.sk-toggleable__label {background-color: #d4ebff;}#sk-container-id-5 input.sk-hidden--visually {border: 0;clip: rect(1px 1px 1px 1px);clip: rect(1px, 1px, 1px, 1px);height: 1px;margin: -1px;overflow: hidden;padding: 0;position: absolute;width: 1px;}#sk-container-id-5 div.sk-estimator {font-family: monospace;background-color: #f0f8ff;border: 1px dotted black;border-radius: 0.25em;box-sizing: border-box;margin-bottom: 0.5em;}#sk-container-id-5 div.sk-estimator:hover {background-color: #d4ebff;}#sk-container-id-5 div.sk-parallel-item::after {content: \"\";width: 100%;border-bottom: 1px solid gray;flex-grow: 1;}#sk-container-id-5 div.sk-label:hover label.sk-toggleable__label {background-color: #d4ebff;}#sk-container-id-5 div.sk-serial::before {content: \"\";position: absolute;border-left: 1px solid gray;box-sizing: border-box;top: 0;bottom: 0;left: 50%;z-index: 0;}#sk-container-id-5 div.sk-serial {display: flex;flex-direction: column;align-items: center;background-color: white;padding-right: 0.2em;padding-left: 0.2em;position: relative;}#sk-container-id-5 div.sk-item {position: relative;z-index: 1;}#sk-container-id-5 div.sk-parallel {display: flex;align-items: stretch;justify-content: center;background-color: white;position: relative;}#sk-container-id-5 div.sk-item::before, #sk-container-id-5 div.sk-parallel-item::before {content: \"\";position: absolute;border-left: 1px solid gray;box-sizing: border-box;top: 0;bottom: 0;left: 50%;z-index: -1;}#sk-container-id-5 div.sk-parallel-item {display: flex;flex-direction: column;z-index: 1;position: relative;background-color: white;}#sk-container-id-5 div.sk-parallel-item:first-child::after {align-self: flex-end;width: 50%;}#sk-container-id-5 div.sk-parallel-item:last-child::after {align-self: flex-start;width: 50%;}#sk-container-id-5 div.sk-parallel-item:only-child::after {width: 0;}#sk-container-id-5 div.sk-dashed-wrapped {border: 1px dashed gray;margin: 0 0.4em 0.5em 0.4em;box-sizing: border-box;padding-bottom: 0.4em;background-color: white;}#sk-container-id-5 div.sk-label label {font-family: monospace;font-weight: bold;display: inline-block;line-height: 1.2em;}#sk-container-id-5 div.sk-label-container {text-align: center;}#sk-container-id-5 div.sk-container {/* jupyter's `normalize.less` sets `[hidden] { display: none; }` but bootstrap.min.css set `[hidden] { display: none !important; }` so we also need the `!important` here to be able to override the default hidden behavior on the sphinx rendered scikit-learn.org. See: https://github.com/scikit-learn/scikit-learn/issues/21755 */display: inline-block !important;position: relative;}#sk-container-id-5 div.sk-text-repr-fallback {display: none;}</style><div id=\"sk-container-id-5\" class=\"sk-top-container\"><div class=\"sk-text-repr-fallback\"><pre>DecisionTreeClassifier(random_state=42)</pre><b>In a Jupyter environment, please rerun this cell to show the HTML representation or trust the notebook. <br />On GitHub, the HTML representation is unable to render, please try loading this page with nbviewer.org.</b></div><div class=\"sk-container\" hidden><div class=\"sk-item\"><div class=\"sk-estimator sk-toggleable\"><input class=\"sk-toggleable__control sk-hidden--visually\" id=\"sk-estimator-id-7\" type=\"checkbox\" checked><label for=\"sk-estimator-id-7\" class=\"sk-toggleable__label sk-toggleable__label-arrow\">DecisionTreeClassifier</label><div class=\"sk-toggleable__content\"><pre>DecisionTreeClassifier(random_state=42)</pre></div></div></div></div></div>"
      ],
      "text/plain": [
       "DecisionTreeClassifier(random_state=42)"
      ]
     },
     "execution_count": 91,
     "metadata": {},
     "output_type": "execute_result"
    }
   ],
   "source": [
    "tree = DecisionTreeClassifier(random_state=42)\n",
    "\n",
    "tree.fit(X_train, y_train)"
   ]
  },
  {
   "cell_type": "code",
   "execution_count": 92,
   "metadata": {},
   "outputs": [],
   "source": [
    "train_pred = tree.predict(X_train)"
   ]
  },
  {
   "cell_type": "code",
   "execution_count": 93,
   "metadata": {},
   "outputs": [
    {
     "data": {
      "text/plain": [
       "0.9051222948366934"
      ]
     },
     "execution_count": 93,
     "metadata": {},
     "output_type": "execute_result"
    }
   ],
   "source": [
    "recall_score(y_train, train_pred) # recall score on training data"
   ]
  },
  {
   "cell_type": "code",
   "execution_count": 94,
   "metadata": {},
   "outputs": [
    {
     "data": {
      "text/plain": [
       "0.997000890948714"
      ]
     },
     "execution_count": 94,
     "metadata": {},
     "output_type": "execute_result"
    }
   ],
   "source": [
    "precision_score(y_train, train_pred) # precision score on training data"
   ]
  },
  {
   "cell_type": "code",
   "execution_count": 95,
   "metadata": {},
   "outputs": [],
   "source": [
    "y_pred = tree.predict(X_test)\n",
    "y_probs = tree.predict_proba(X_test)"
   ]
  },
  {
   "cell_type": "code",
   "execution_count": 96,
   "metadata": {},
   "outputs": [
    {
     "data": {
      "text/plain": [
       "0.09639873106652964"
      ]
     },
     "execution_count": 96,
     "metadata": {},
     "output_type": "execute_result"
    }
   ],
   "source": [
    "recall_score(y_test,y_pred)"
   ]
  },
  {
   "cell_type": "code",
   "execution_count": 97,
   "metadata": {},
   "outputs": [
    {
     "data": {
      "text/plain": [
       "0.09909858184532354"
      ]
     },
     "execution_count": 97,
     "metadata": {},
     "output_type": "execute_result"
    }
   ],
   "source": [
    "precision_score(y_test, y_pred)"
   ]
  },
  {
   "cell_type": "code",
   "execution_count": 98,
   "metadata": {},
   "outputs": [
    {
     "data": {
      "text/plain": [
       "<sklearn.metrics._plot.roc_curve.RocCurveDisplay at 0x2bf56ca50>"
      ]
     },
     "execution_count": 98,
     "metadata": {},
     "output_type": "execute_result"
    },
    {
     "data": {
      "image/png": "[encoded data removed]",
      "text/plain": [
       "<Figure size 640x480 with 1 Axes>"
      ]
     },
     "metadata": {},
     "output_type": "display_data"
    }
   ],
   "source": [
    "roc_curve(y_test, y_pred)\n",
    "RocCurveDisplay.from_predictions(y_test,y_pred)"
   ]
  },
  {
   "cell_type": "code",
   "execution_count": 99,
   "metadata": {},
   "outputs": [
    {
     "data": {
      "text/plain": [
       "<sklearn.metrics._plot.precision_recall_curve.PrecisionRecallDisplay at 0x15b571850>"
      ]
     },
     "execution_count": 99,
     "metadata": {},
     "output_type": "execute_result"
    },
    {
     "data": {
      "image/png": "[encoded data removed]",
      "text/plain": [
       "<Figure size 640x480 with 1 Axes>"
      ]
     },
     "metadata": {},
     "output_type": "display_data"
    }
   ],
   "source": [
    "PrecisionRecallDisplay.from_predictions(y_test, y_pred)"
   ]
  },
  {
   "attachments": {},
   "cell_type": "markdown",
   "metadata": {},
   "source": [
    "Let's also see how this translates to the client data:"
   ]
  },
  {
   "cell_type": "code",
   "execution_count": 100,
   "metadata": {},
   "outputs": [
    {
     "data": {
      "text/html": [
       "<div>\n",
       "<style scoped>\n",
       "    .dataframe tbody tr th:only-of-type {\n",
       "        vertical-align: middle;\n",
       "    }\n",
       "\n",
       "    .dataframe tbody tr th {\n",
       "        vertical-align: top;\n",
       "    }\n",
       "\n",
       "    .dataframe thead th {\n",
       "        text-align: right;\n",
       "    }\n",
       "</style>\n",
       "<table border=\"1\" class=\"dataframe\">\n",
       "  <thead>\n",
       "    <tr style=\"text-align: right;\">\n",
       "      <th></th>\n",
       "      <th>client_id</th>\n",
       "      <th>tarif_type</th>\n",
       "      <th>counter_number</th>\n",
       "      <th>counter_statue</th>\n",
       "      <th>counter_code</th>\n",
       "      <th>reading_remarque</th>\n",
       "      <th>counter_coefficient</th>\n",
       "      <th>consommation_level_1</th>\n",
       "      <th>consommation_level_2</th>\n",
       "      <th>consommation_level_3</th>\n",
       "      <th>consommation_level_4</th>\n",
       "      <th>old_index</th>\n",
       "      <th>new_index</th>\n",
       "      <th>months_number</th>\n",
       "      <th>counter_type</th>\n",
       "      <th>avg_month_use</th>\n",
       "    </tr>\n",
       "  </thead>\n",
       "  <tbody>\n",
       "    <tr>\n",
       "      <th>72</th>\n",
       "      <td>train_Client_10</td>\n",
       "      <td>11</td>\n",
       "      <td>572765</td>\n",
       "      <td>0</td>\n",
       "      <td>203</td>\n",
       "      <td>8</td>\n",
       "      <td>1</td>\n",
       "      <td>407</td>\n",
       "      <td>0</td>\n",
       "      <td>0</td>\n",
       "      <td>0</td>\n",
       "      <td>31955</td>\n",
       "      <td>32362</td>\n",
       "      <td>4</td>\n",
       "      <td>0</td>\n",
       "      <td>101.750000</td>\n",
       "    </tr>\n",
       "    <tr>\n",
       "      <th>73</th>\n",
       "      <td>train_Client_10</td>\n",
       "      <td>11</td>\n",
       "      <td>572765</td>\n",
       "      <td>0</td>\n",
       "      <td>203</td>\n",
       "      <td>8</td>\n",
       "      <td>1</td>\n",
       "      <td>815</td>\n",
       "      <td>0</td>\n",
       "      <td>0</td>\n",
       "      <td>0</td>\n",
       "      <td>37913</td>\n",
       "      <td>38728</td>\n",
       "      <td>8</td>\n",
       "      <td>0</td>\n",
       "      <td>101.875000</td>\n",
       "    </tr>\n",
       "    <tr>\n",
       "      <th>74</th>\n",
       "      <td>train_Client_10</td>\n",
       "      <td>11</td>\n",
       "      <td>572765</td>\n",
       "      <td>0</td>\n",
       "      <td>203</td>\n",
       "      <td>6</td>\n",
       "      <td>1</td>\n",
       "      <td>569</td>\n",
       "      <td>0</td>\n",
       "      <td>0</td>\n",
       "      <td>0</td>\n",
       "      <td>30414</td>\n",
       "      <td>30983</td>\n",
       "      <td>4</td>\n",
       "      <td>0</td>\n",
       "      <td>142.250000</td>\n",
       "    </tr>\n",
       "    <tr>\n",
       "      <th>75</th>\n",
       "      <td>train_Client_10</td>\n",
       "      <td>11</td>\n",
       "      <td>572765</td>\n",
       "      <td>0</td>\n",
       "      <td>207</td>\n",
       "      <td>9</td>\n",
       "      <td>1</td>\n",
       "      <td>2400</td>\n",
       "      <td>682</td>\n",
       "      <td>0</td>\n",
       "      <td>0</td>\n",
       "      <td>41532</td>\n",
       "      <td>44614</td>\n",
       "      <td>12</td>\n",
       "      <td>0</td>\n",
       "      <td>256.833333</td>\n",
       "    </tr>\n",
       "    <tr>\n",
       "      <th>76</th>\n",
       "      <td>train_Client_10</td>\n",
       "      <td>11</td>\n",
       "      <td>572765</td>\n",
       "      <td>0</td>\n",
       "      <td>203</td>\n",
       "      <td>8</td>\n",
       "      <td>1</td>\n",
       "      <td>188</td>\n",
       "      <td>0</td>\n",
       "      <td>0</td>\n",
       "      <td>0</td>\n",
       "      <td>40634</td>\n",
       "      <td>40822</td>\n",
       "      <td>4</td>\n",
       "      <td>0</td>\n",
       "      <td>47.000000</td>\n",
       "    </tr>\n",
       "    <tr>\n",
       "      <th>...</th>\n",
       "      <td>...</td>\n",
       "      <td>...</td>\n",
       "      <td>...</td>\n",
       "      <td>...</td>\n",
       "      <td>...</td>\n",
       "      <td>...</td>\n",
       "      <td>...</td>\n",
       "      <td>...</td>\n",
       "      <td>...</td>\n",
       "      <td>...</td>\n",
       "      <td>...</td>\n",
       "      <td>...</td>\n",
       "      <td>...</td>\n",
       "      <td>...</td>\n",
       "      <td>...</td>\n",
       "      <td>...</td>\n",
       "    </tr>\n",
       "    <tr>\n",
       "      <th>4476587</th>\n",
       "      <td>train_Client_99993</td>\n",
       "      <td>10</td>\n",
       "      <td>1090709</td>\n",
       "      <td>0</td>\n",
       "      <td>202</td>\n",
       "      <td>6</td>\n",
       "      <td>1</td>\n",
       "      <td>200</td>\n",
       "      <td>879</td>\n",
       "      <td>0</td>\n",
       "      <td>0</td>\n",
       "      <td>436</td>\n",
       "      <td>1515</td>\n",
       "      <td>4</td>\n",
       "      <td>0</td>\n",
       "      <td>269.750000</td>\n",
       "    </tr>\n",
       "    <tr>\n",
       "      <th>4476588</th>\n",
       "      <td>train_Client_99993</td>\n",
       "      <td>40</td>\n",
       "      <td>4268059</td>\n",
       "      <td>0</td>\n",
       "      <td>5</td>\n",
       "      <td>9</td>\n",
       "      <td>1</td>\n",
       "      <td>49</td>\n",
       "      <td>0</td>\n",
       "      <td>0</td>\n",
       "      <td>0</td>\n",
       "      <td>184</td>\n",
       "      <td>233</td>\n",
       "      <td>4</td>\n",
       "      <td>1</td>\n",
       "      <td>12.250000</td>\n",
       "    </tr>\n",
       "    <tr>\n",
       "      <th>4476589</th>\n",
       "      <td>train_Client_99993</td>\n",
       "      <td>40</td>\n",
       "      <td>4268059</td>\n",
       "      <td>0</td>\n",
       "      <td>5</td>\n",
       "      <td>9</td>\n",
       "      <td>1</td>\n",
       "      <td>23</td>\n",
       "      <td>0</td>\n",
       "      <td>0</td>\n",
       "      <td>0</td>\n",
       "      <td>266</td>\n",
       "      <td>289</td>\n",
       "      <td>4</td>\n",
       "      <td>1</td>\n",
       "      <td>5.750000</td>\n",
       "    </tr>\n",
       "    <tr>\n",
       "      <th>4476590</th>\n",
       "      <td>train_Client_99993</td>\n",
       "      <td>10</td>\n",
       "      <td>1090709</td>\n",
       "      <td>0</td>\n",
       "      <td>202</td>\n",
       "      <td>9</td>\n",
       "      <td>1</td>\n",
       "      <td>770</td>\n",
       "      <td>0</td>\n",
       "      <td>0</td>\n",
       "      <td>0</td>\n",
       "      <td>14901</td>\n",
       "      <td>15671</td>\n",
       "      <td>4</td>\n",
       "      <td>0</td>\n",
       "      <td>192.500000</td>\n",
       "    </tr>\n",
       "    <tr>\n",
       "      <th>4476591</th>\n",
       "      <td>train_Client_99993</td>\n",
       "      <td>40</td>\n",
       "      <td>4268059</td>\n",
       "      <td>0</td>\n",
       "      <td>5</td>\n",
       "      <td>9</td>\n",
       "      <td>1</td>\n",
       "      <td>19</td>\n",
       "      <td>0</td>\n",
       "      <td>0</td>\n",
       "      <td>0</td>\n",
       "      <td>289</td>\n",
       "      <td>308</td>\n",
       "      <td>4</td>\n",
       "      <td>1</td>\n",
       "      <td>4.750000</td>\n",
       "    </tr>\n",
       "  </tbody>\n",
       "</table>\n",
       "<p>1109112 rows × 16 columns</p>\n",
       "</div>"
      ],
      "text/plain": [
       "                  client_id tarif_type  counter_number counter_statue   \n",
       "72          train_Client_10         11          572765              0  \\\n",
       "73          train_Client_10         11          572765              0   \n",
       "74          train_Client_10         11          572765              0   \n",
       "75          train_Client_10         11          572765              0   \n",
       "76          train_Client_10         11          572765              0   \n",
       "...                     ...        ...             ...            ...   \n",
       "4476587  train_Client_99993         10         1090709              0   \n",
       "4476588  train_Client_99993         40         4268059              0   \n",
       "4476589  train_Client_99993         40         4268059              0   \n",
       "4476590  train_Client_99993         10         1090709              0   \n",
       "4476591  train_Client_99993         40         4268059              0   \n",
       "\n",
       "        counter_code reading_remarque  counter_coefficient   \n",
       "72               203                8                    1  \\\n",
       "73               203                8                    1   \n",
       "74               203                6                    1   \n",
       "75               207                9                    1   \n",
       "76               203                8                    1   \n",
       "...              ...              ...                  ...   \n",
       "4476587          202                6                    1   \n",
       "4476588            5                9                    1   \n",
       "4476589            5                9                    1   \n",
       "4476590          202                9                    1   \n",
       "4476591            5                9                    1   \n",
       "\n",
       "         consommation_level_1  consommation_level_2  consommation_level_3   \n",
       "72                        407                     0                     0  \\\n",
       "73                        815                     0                     0   \n",
       "74                        569                     0                     0   \n",
       "75                       2400                   682                     0   \n",
       "76                        188                     0                     0   \n",
       "...                       ...                   ...                   ...   \n",
       "4476587                   200                   879                     0   \n",
       "4476588                    49                     0                     0   \n",
       "4476589                    23                     0                     0   \n",
       "4476590                   770                     0                     0   \n",
       "4476591                    19                     0                     0   \n",
       "\n",
       "         consommation_level_4  old_index  new_index  months_number   \n",
       "72                          0      31955      32362              4  \\\n",
       "73                          0      37913      38728              8   \n",
       "74                          0      30414      30983              4   \n",
       "75                          0      41532      44614             12   \n",
       "76                          0      40634      40822              4   \n",
       "...                       ...        ...        ...            ...   \n",
       "4476587                     0        436       1515              4   \n",
       "4476588                     0        184        233              4   \n",
       "4476589                     0        266        289              4   \n",
       "4476590                     0      14901      15671              4   \n",
       "4476591                     0        289        308              4   \n",
       "\n",
       "        counter_type  avg_month_use  \n",
       "72                 0     101.750000  \n",
       "73                 0     101.875000  \n",
       "74                 0     142.250000  \n",
       "75                 0     256.833333  \n",
       "76                 0      47.000000  \n",
       "...              ...            ...  \n",
       "4476587            0     269.750000  \n",
       "4476588            1      12.250000  \n",
       "4476589            1       5.750000  \n",
       "4476590            0     192.500000  \n",
       "4476591            1       4.750000  \n",
       "\n",
       "[1109112 rows x 16 columns]"
      ]
     },
     "execution_count": 100,
     "metadata": {},
     "output_type": "execute_result"
    }
   ],
   "source": [
    "dfi.query(f\"index in {y_test.index.tolist()}\")"
   ]
  },
  {
   "cell_type": "code",
   "execution_count": 101,
   "metadata": {},
   "outputs": [],
   "source": [
    "#extract suspects from y_pred\n",
    "\n",
    "test_clients = dfi.loc[y_test.index, 'client_id'].tolist() # get all clients included in y_test\n",
    "\n",
    "y_pred_indexed = pd.DataFrame({'y_pred' : y_pred, 'client_id' : test_clients}, index=y_test.index) # assign row indexes of test data to y_pred\n",
    "\n",
    "#pred_suspects = y_pred_indexed.query(\"y_pred == True\").client_id.tolist()\n",
    "#better line suggested by Bito:\n",
    "\n",
    "pred_suspects = y_pred_indexed[y_pred_indexed[\"y_pred\"] == True][\"client_id\"].values\n",
    "\n",
    "#We can also count how many flagged invoices we get for each client, in case we want to change this threshold\n",
    "\n",
    "num_flagged_invoices = Counter(pred_suspects)\n",
    "\n"
   ]
  },
  {
   "cell_type": "code",
   "execution_count": 102,
   "metadata": {},
   "outputs": [
    {
     "data": {
      "text/plain": [
       "(array([2.3869e+04, 1.0500e+02, 3.0000e+01, 8.0000e+00, 3.0000e+00,\n",
       "        1.0000e+00, 0.0000e+00, 0.0000e+00, 0.0000e+00, 1.0000e+00]),\n",
       " array([  1. ,  20.6,  40.2,  59.8,  79.4,  99. , 118.6, 138.2, 157.8,\n",
       "        177.4, 197. ]),\n",
       " <BarContainer object of 10 artists>)"
      ]
     },
     "execution_count": 102,
     "metadata": {},
     "output_type": "execute_result"
    },
    {
     "data": {
      "image/png": "[encoded data removed]",
      "text/plain": [
       "<Figure size 640x480 with 1 Axes>"
      ]
     },
     "metadata": {},
     "output_type": "display_data"
    }
   ],
   "source": [
    "#histogram of the distribution of number of flagged invoices per client\n",
    "plt.hist(list(num_flagged_invoices.values()))"
   ]
  },
  {
   "cell_type": "code",
   "execution_count": 103,
   "metadata": {},
   "outputs": [
    {
     "name": "stderr",
     "output_type": "stream",
     "text": [
      "/var/folders/vh/9svjskkn54n5t04bltkc_8fw0000gn/T/ipykernel_11670/2191981797.py:5: SettingWithCopyWarning: \n",
      "A value is trying to be set on a copy of a slice from a DataFrame.\n",
      "Try using .loc[row_indexer,col_indexer] = value instead\n",
      "\n",
      "See the caveats in the documentation: https://pandas.pydata.org/pandas-docs/stable/user_guide/indexing.html#returning-a-view-versus-a-copy\n",
      "  dfc_test_clients[\"num_flags\"] = dfc_test_clients[\"client_id\"].map(num_flagged_invoices)\n"
     ]
    }
   ],
   "source": [
    "#compare to list of true suspects\n",
    "\n",
    "dfc_test_clients = dfc[dfc[\"client_id\"].isin(set(test_clients))] # get subset of client df with clients in test set\n",
    "\n",
    "dfc_test_clients[\"num_flags\"] = dfc_test_clients[\"client_id\"].map(num_flagged_invoices)\n",
    "\n",
    "#calculate recall and precision"
   ]
  },
  {
   "cell_type": "code",
   "execution_count": 104,
   "metadata": {},
   "outputs": [
    {
     "data": {
      "text/html": [
       "<div>\n",
       "<style scoped>\n",
       "    .dataframe tbody tr th:only-of-type {\n",
       "        vertical-align: middle;\n",
       "    }\n",
       "\n",
       "    .dataframe tbody tr th {\n",
       "        vertical-align: top;\n",
       "    }\n",
       "\n",
       "    .dataframe thead th {\n",
       "        text-align: right;\n",
       "    }\n",
       "</style>\n",
       "<table border=\"1\" class=\"dataframe\">\n",
       "  <thead>\n",
       "    <tr style=\"text-align: right;\">\n",
       "      <th></th>\n",
       "      <th>disrict</th>\n",
       "      <th>client_id</th>\n",
       "      <th>client_catg</th>\n",
       "      <th>region</th>\n",
       "      <th>creation_date</th>\n",
       "      <th>target</th>\n",
       "      <th>num_flags</th>\n",
       "    </tr>\n",
       "  </thead>\n",
       "  <tbody>\n",
       "    <tr>\n",
       "      <th>2</th>\n",
       "      <td>62</td>\n",
       "      <td>train_Client_10</td>\n",
       "      <td>11</td>\n",
       "      <td>301</td>\n",
       "      <td>13/03/1986</td>\n",
       "      <td>0.0</td>\n",
       "      <td>3</td>\n",
       "    </tr>\n",
       "    <tr>\n",
       "      <th>5</th>\n",
       "      <td>69</td>\n",
       "      <td>train_Client_10000</td>\n",
       "      <td>11</td>\n",
       "      <td>103</td>\n",
       "      <td>29/09/1993</td>\n",
       "      <td>0.0</td>\n",
       "      <td>8</td>\n",
       "    </tr>\n",
       "    <tr>\n",
       "      <th>14</th>\n",
       "      <td>69</td>\n",
       "      <td>train_Client_100008</td>\n",
       "      <td>11</td>\n",
       "      <td>104</td>\n",
       "      <td>22/10/2002</td>\n",
       "      <td>0.0</td>\n",
       "      <td>0</td>\n",
       "    </tr>\n",
       "    <tr>\n",
       "      <th>15</th>\n",
       "      <td>63</td>\n",
       "      <td>train_Client_100009</td>\n",
       "      <td>11</td>\n",
       "      <td>311</td>\n",
       "      <td>06/11/2006</td>\n",
       "      <td>0.0</td>\n",
       "      <td>1</td>\n",
       "    </tr>\n",
       "    <tr>\n",
       "      <th>16</th>\n",
       "      <td>63</td>\n",
       "      <td>train_Client_10001</td>\n",
       "      <td>11</td>\n",
       "      <td>312</td>\n",
       "      <td>14/05/2002</td>\n",
       "      <td>0.0</td>\n",
       "      <td>7</td>\n",
       "    </tr>\n",
       "  </tbody>\n",
       "</table>\n",
       "</div>"
      ],
      "text/plain": [
       "    disrict            client_id  client_catg  region creation_date  target   \n",
       "2        62      train_Client_10           11     301    13/03/1986     0.0  \\\n",
       "5        69   train_Client_10000           11     103    29/09/1993     0.0   \n",
       "14       69  train_Client_100008           11     104    22/10/2002     0.0   \n",
       "15       63  train_Client_100009           11     311    06/11/2006     0.0   \n",
       "16       63   train_Client_10001           11     312    14/05/2002     0.0   \n",
       "\n",
       "    num_flags  \n",
       "2           3  \n",
       "5           8  \n",
       "14          0  \n",
       "15          1  \n",
       "16          7  "
      ]
     },
     "execution_count": 104,
     "metadata": {},
     "output_type": "execute_result"
    }
   ],
   "source": [
    "dfc_test_clients.head()"
   ]
  },
  {
   "cell_type": "code",
   "execution_count": 105,
   "metadata": {},
   "outputs": [
    {
     "data": {
      "text/html": [
       "<div>\n",
       "<style scoped>\n",
       "    .dataframe tbody tr th:only-of-type {\n",
       "        vertical-align: middle;\n",
       "    }\n",
       "\n",
       "    .dataframe tbody tr th {\n",
       "        vertical-align: top;\n",
       "    }\n",
       "\n",
       "    .dataframe thead th {\n",
       "        text-align: right;\n",
       "    }\n",
       "</style>\n",
       "<table border=\"1\" class=\"dataframe\">\n",
       "  <thead>\n",
       "    <tr style=\"text-align: right;\">\n",
       "      <th></th>\n",
       "      <th>disrict</th>\n",
       "      <th>client_id</th>\n",
       "      <th>client_catg</th>\n",
       "      <th>region</th>\n",
       "      <th>creation_date</th>\n",
       "      <th>target</th>\n",
       "      <th>num_flags</th>\n",
       "    </tr>\n",
       "  </thead>\n",
       "  <tbody>\n",
       "    <tr>\n",
       "      <th>2</th>\n",
       "      <td>62</td>\n",
       "      <td>train_Client_10</td>\n",
       "      <td>11</td>\n",
       "      <td>301</td>\n",
       "      <td>13/03/1986</td>\n",
       "      <td>0.0</td>\n",
       "      <td>3</td>\n",
       "    </tr>\n",
       "    <tr>\n",
       "      <th>5</th>\n",
       "      <td>69</td>\n",
       "      <td>train_Client_10000</td>\n",
       "      <td>11</td>\n",
       "      <td>103</td>\n",
       "      <td>29/09/1993</td>\n",
       "      <td>0.0</td>\n",
       "      <td>8</td>\n",
       "    </tr>\n",
       "    <tr>\n",
       "      <th>14</th>\n",
       "      <td>69</td>\n",
       "      <td>train_Client_100008</td>\n",
       "      <td>11</td>\n",
       "      <td>104</td>\n",
       "      <td>22/10/2002</td>\n",
       "      <td>0.0</td>\n",
       "      <td>0</td>\n",
       "    </tr>\n",
       "    <tr>\n",
       "      <th>15</th>\n",
       "      <td>63</td>\n",
       "      <td>train_Client_100009</td>\n",
       "      <td>11</td>\n",
       "      <td>311</td>\n",
       "      <td>06/11/2006</td>\n",
       "      <td>0.0</td>\n",
       "      <td>1</td>\n",
       "    </tr>\n",
       "    <tr>\n",
       "      <th>16</th>\n",
       "      <td>63</td>\n",
       "      <td>train_Client_10001</td>\n",
       "      <td>11</td>\n",
       "      <td>312</td>\n",
       "      <td>14/05/2002</td>\n",
       "      <td>0.0</td>\n",
       "      <td>7</td>\n",
       "    </tr>\n",
       "    <tr>\n",
       "      <th>...</th>\n",
       "      <td>...</td>\n",
       "      <td>...</td>\n",
       "      <td>...</td>\n",
       "      <td>...</td>\n",
       "      <td>...</td>\n",
       "      <td>...</td>\n",
       "      <td>...</td>\n",
       "    </tr>\n",
       "    <tr>\n",
       "      <th>135470</th>\n",
       "      <td>60</td>\n",
       "      <td>train_Client_99979</td>\n",
       "      <td>11</td>\n",
       "      <td>101</td>\n",
       "      <td>17/10/2008</td>\n",
       "      <td>0.0</td>\n",
       "      <td>1</td>\n",
       "    </tr>\n",
       "    <tr>\n",
       "      <th>135477</th>\n",
       "      <td>60</td>\n",
       "      <td>train_Client_99985</td>\n",
       "      <td>51</td>\n",
       "      <td>101</td>\n",
       "      <td>31/12/1994</td>\n",
       "      <td>0.0</td>\n",
       "      <td>1</td>\n",
       "    </tr>\n",
       "    <tr>\n",
       "      <th>135479</th>\n",
       "      <td>62</td>\n",
       "      <td>train_Client_99987</td>\n",
       "      <td>11</td>\n",
       "      <td>303</td>\n",
       "      <td>05/10/2004</td>\n",
       "      <td>0.0</td>\n",
       "      <td>1</td>\n",
       "    </tr>\n",
       "    <tr>\n",
       "      <th>135484</th>\n",
       "      <td>63</td>\n",
       "      <td>train_Client_99991</td>\n",
       "      <td>11</td>\n",
       "      <td>311</td>\n",
       "      <td>22/05/2014</td>\n",
       "      <td>0.0</td>\n",
       "      <td>2</td>\n",
       "    </tr>\n",
       "    <tr>\n",
       "      <th>135486</th>\n",
       "      <td>60</td>\n",
       "      <td>train_Client_99993</td>\n",
       "      <td>11</td>\n",
       "      <td>101</td>\n",
       "      <td>17/11/2006</td>\n",
       "      <td>0.0</td>\n",
       "      <td>2</td>\n",
       "    </tr>\n",
       "  </tbody>\n",
       "</table>\n",
       "<p>33866 rows × 7 columns</p>\n",
       "</div>"
      ],
      "text/plain": [
       "        disrict            client_id  client_catg  region creation_date   \n",
       "2            62      train_Client_10           11     301    13/03/1986  \\\n",
       "5            69   train_Client_10000           11     103    29/09/1993   \n",
       "14           69  train_Client_100008           11     104    22/10/2002   \n",
       "15           63  train_Client_100009           11     311    06/11/2006   \n",
       "16           63   train_Client_10001           11     312    14/05/2002   \n",
       "...         ...                  ...          ...     ...           ...   \n",
       "135470       60   train_Client_99979           11     101    17/10/2008   \n",
       "135477       60   train_Client_99985           51     101    31/12/1994   \n",
       "135479       62   train_Client_99987           11     303    05/10/2004   \n",
       "135484       63   train_Client_99991           11     311    22/05/2014   \n",
       "135486       60   train_Client_99993           11     101    17/11/2006   \n",
       "\n",
       "        target  num_flags  \n",
       "2          0.0          3  \n",
       "5          0.0          8  \n",
       "14         0.0          0  \n",
       "15         0.0          1  \n",
       "16         0.0          7  \n",
       "...        ...        ...  \n",
       "135470     0.0          1  \n",
       "135477     0.0          1  \n",
       "135479     0.0          1  \n",
       "135484     0.0          2  \n",
       "135486     0.0          2  \n",
       "\n",
       "[33866 rows x 7 columns]"
      ]
     },
     "execution_count": 105,
     "metadata": {},
     "output_type": "execute_result"
    }
   ],
   "source": [
    "dfc_test_clients"
   ]
  },
  {
   "cell_type": "code",
   "execution_count": null,
   "metadata": {},
   "outputs": [],
   "source": []
  },
  {
   "cell_type": "code",
   "execution_count": 106,
   "metadata": {},
   "outputs": [],
   "source": [
    "#Add predictions columns based on different thresholds\n",
    "\n",
    "dfc_test_clients.eval(\"thresh_1 = num_flags >= 1\", inplace=True)\n",
    "dfc_test_clients.eval(\"thresh_2 = num_flags >= 2\", inplace=True)"
   ]
  },
  {
   "cell_type": "code",
   "execution_count": 107,
   "metadata": {},
   "outputs": [
    {
     "data": {
      "text/html": [
       "<div>\n",
       "<style scoped>\n",
       "    .dataframe tbody tr th:only-of-type {\n",
       "        vertical-align: middle;\n",
       "    }\n",
       "\n",
       "    .dataframe tbody tr th {\n",
       "        vertical-align: top;\n",
       "    }\n",
       "\n",
       "    .dataframe thead th {\n",
       "        text-align: right;\n",
       "    }\n",
       "</style>\n",
       "<table border=\"1\" class=\"dataframe\">\n",
       "  <thead>\n",
       "    <tr style=\"text-align: right;\">\n",
       "      <th></th>\n",
       "      <th>disrict</th>\n",
       "      <th>client_id</th>\n",
       "      <th>client_catg</th>\n",
       "      <th>region</th>\n",
       "      <th>creation_date</th>\n",
       "      <th>target</th>\n",
       "      <th>num_flags</th>\n",
       "      <th>thresh_1</th>\n",
       "      <th>thresh_2</th>\n",
       "    </tr>\n",
       "  </thead>\n",
       "  <tbody>\n",
       "    <tr>\n",
       "      <th>2</th>\n",
       "      <td>62</td>\n",
       "      <td>train_Client_10</td>\n",
       "      <td>11</td>\n",
       "      <td>301</td>\n",
       "      <td>13/03/1986</td>\n",
       "      <td>0.0</td>\n",
       "      <td>3</td>\n",
       "      <td>True</td>\n",
       "      <td>True</td>\n",
       "    </tr>\n",
       "    <tr>\n",
       "      <th>5</th>\n",
       "      <td>69</td>\n",
       "      <td>train_Client_10000</td>\n",
       "      <td>11</td>\n",
       "      <td>103</td>\n",
       "      <td>29/09/1993</td>\n",
       "      <td>0.0</td>\n",
       "      <td>8</td>\n",
       "      <td>True</td>\n",
       "      <td>True</td>\n",
       "    </tr>\n",
       "    <tr>\n",
       "      <th>14</th>\n",
       "      <td>69</td>\n",
       "      <td>train_Client_100008</td>\n",
       "      <td>11</td>\n",
       "      <td>104</td>\n",
       "      <td>22/10/2002</td>\n",
       "      <td>0.0</td>\n",
       "      <td>0</td>\n",
       "      <td>False</td>\n",
       "      <td>False</td>\n",
       "    </tr>\n",
       "    <tr>\n",
       "      <th>15</th>\n",
       "      <td>63</td>\n",
       "      <td>train_Client_100009</td>\n",
       "      <td>11</td>\n",
       "      <td>311</td>\n",
       "      <td>06/11/2006</td>\n",
       "      <td>0.0</td>\n",
       "      <td>1</td>\n",
       "      <td>True</td>\n",
       "      <td>False</td>\n",
       "    </tr>\n",
       "    <tr>\n",
       "      <th>16</th>\n",
       "      <td>63</td>\n",
       "      <td>train_Client_10001</td>\n",
       "      <td>11</td>\n",
       "      <td>312</td>\n",
       "      <td>14/05/2002</td>\n",
       "      <td>0.0</td>\n",
       "      <td>7</td>\n",
       "      <td>True</td>\n",
       "      <td>True</td>\n",
       "    </tr>\n",
       "    <tr>\n",
       "      <th>18</th>\n",
       "      <td>63</td>\n",
       "      <td>train_Client_100011</td>\n",
       "      <td>11</td>\n",
       "      <td>311</td>\n",
       "      <td>10/02/2012</td>\n",
       "      <td>0.0</td>\n",
       "      <td>7</td>\n",
       "      <td>True</td>\n",
       "      <td>True</td>\n",
       "    </tr>\n",
       "    <tr>\n",
       "      <th>20</th>\n",
       "      <td>62</td>\n",
       "      <td>train_Client_100013</td>\n",
       "      <td>11</td>\n",
       "      <td>305</td>\n",
       "      <td>20/02/2001</td>\n",
       "      <td>0.0</td>\n",
       "      <td>10</td>\n",
       "      <td>True</td>\n",
       "      <td>True</td>\n",
       "    </tr>\n",
       "    <tr>\n",
       "      <th>22</th>\n",
       "      <td>63</td>\n",
       "      <td>train_Client_100015</td>\n",
       "      <td>11</td>\n",
       "      <td>311</td>\n",
       "      <td>30/11/1999</td>\n",
       "      <td>0.0</td>\n",
       "      <td>2</td>\n",
       "      <td>True</td>\n",
       "      <td>True</td>\n",
       "    </tr>\n",
       "    <tr>\n",
       "      <th>26</th>\n",
       "      <td>69</td>\n",
       "      <td>train_Client_100019</td>\n",
       "      <td>11</td>\n",
       "      <td>104</td>\n",
       "      <td>07/11/1983</td>\n",
       "      <td>0.0</td>\n",
       "      <td>2</td>\n",
       "      <td>True</td>\n",
       "      <td>True</td>\n",
       "    </tr>\n",
       "    <tr>\n",
       "      <th>28</th>\n",
       "      <td>60</td>\n",
       "      <td>train_Client_100020</td>\n",
       "      <td>11</td>\n",
       "      <td>101</td>\n",
       "      <td>08/12/2003</td>\n",
       "      <td>0.0</td>\n",
       "      <td>3</td>\n",
       "      <td>True</td>\n",
       "      <td>True</td>\n",
       "    </tr>\n",
       "    <tr>\n",
       "      <th>29</th>\n",
       "      <td>69</td>\n",
       "      <td>train_Client_100021</td>\n",
       "      <td>51</td>\n",
       "      <td>104</td>\n",
       "      <td>13/07/2017</td>\n",
       "      <td>0.0</td>\n",
       "      <td>1</td>\n",
       "      <td>True</td>\n",
       "      <td>False</td>\n",
       "    </tr>\n",
       "    <tr>\n",
       "      <th>36</th>\n",
       "      <td>60</td>\n",
       "      <td>train_Client_100028</td>\n",
       "      <td>11</td>\n",
       "      <td>101</td>\n",
       "      <td>12/11/1979</td>\n",
       "      <td>0.0</td>\n",
       "      <td>10</td>\n",
       "      <td>True</td>\n",
       "      <td>True</td>\n",
       "    </tr>\n",
       "    <tr>\n",
       "      <th>37</th>\n",
       "      <td>62</td>\n",
       "      <td>train_Client_100029</td>\n",
       "      <td>11</td>\n",
       "      <td>301</td>\n",
       "      <td>30/12/1981</td>\n",
       "      <td>0.0</td>\n",
       "      <td>0</td>\n",
       "      <td>False</td>\n",
       "      <td>False</td>\n",
       "    </tr>\n",
       "    <tr>\n",
       "      <th>43</th>\n",
       "      <td>60</td>\n",
       "      <td>train_Client_100034</td>\n",
       "      <td>11</td>\n",
       "      <td>101</td>\n",
       "      <td>04/05/2000</td>\n",
       "      <td>0.0</td>\n",
       "      <td>0</td>\n",
       "      <td>False</td>\n",
       "      <td>False</td>\n",
       "    </tr>\n",
       "    <tr>\n",
       "      <th>47</th>\n",
       "      <td>63</td>\n",
       "      <td>train_Client_100038</td>\n",
       "      <td>11</td>\n",
       "      <td>306</td>\n",
       "      <td>25/12/2000</td>\n",
       "      <td>0.0</td>\n",
       "      <td>3</td>\n",
       "      <td>True</td>\n",
       "      <td>True</td>\n",
       "    </tr>\n",
       "    <tr>\n",
       "      <th>50</th>\n",
       "      <td>63</td>\n",
       "      <td>train_Client_100040</td>\n",
       "      <td>11</td>\n",
       "      <td>313</td>\n",
       "      <td>03/03/2010</td>\n",
       "      <td>0.0</td>\n",
       "      <td>3</td>\n",
       "      <td>True</td>\n",
       "      <td>True</td>\n",
       "    </tr>\n",
       "    <tr>\n",
       "      <th>52</th>\n",
       "      <td>60</td>\n",
       "      <td>train_Client_100042</td>\n",
       "      <td>11</td>\n",
       "      <td>101</td>\n",
       "      <td>16/04/1979</td>\n",
       "      <td>0.0</td>\n",
       "      <td>1</td>\n",
       "      <td>True</td>\n",
       "      <td>False</td>\n",
       "    </tr>\n",
       "    <tr>\n",
       "      <th>53</th>\n",
       "      <td>60</td>\n",
       "      <td>train_Client_100043</td>\n",
       "      <td>11</td>\n",
       "      <td>101</td>\n",
       "      <td>13/02/2011</td>\n",
       "      <td>0.0</td>\n",
       "      <td>0</td>\n",
       "      <td>False</td>\n",
       "      <td>False</td>\n",
       "    </tr>\n",
       "    <tr>\n",
       "      <th>57</th>\n",
       "      <td>60</td>\n",
       "      <td>train_Client_100047</td>\n",
       "      <td>11</td>\n",
       "      <td>101</td>\n",
       "      <td>23/02/2004</td>\n",
       "      <td>0.0</td>\n",
       "      <td>3</td>\n",
       "      <td>True</td>\n",
       "      <td>True</td>\n",
       "    </tr>\n",
       "    <tr>\n",
       "      <th>58</th>\n",
       "      <td>63</td>\n",
       "      <td>train_Client_100048</td>\n",
       "      <td>11</td>\n",
       "      <td>101</td>\n",
       "      <td>26/10/2010</td>\n",
       "      <td>0.0</td>\n",
       "      <td>1</td>\n",
       "      <td>True</td>\n",
       "      <td>False</td>\n",
       "    </tr>\n",
       "    <tr>\n",
       "      <th>59</th>\n",
       "      <td>62</td>\n",
       "      <td>train_Client_100049</td>\n",
       "      <td>12</td>\n",
       "      <td>310</td>\n",
       "      <td>08/06/1994</td>\n",
       "      <td>0.0</td>\n",
       "      <td>3</td>\n",
       "      <td>True</td>\n",
       "      <td>True</td>\n",
       "    </tr>\n",
       "    <tr>\n",
       "      <th>60</th>\n",
       "      <td>69</td>\n",
       "      <td>train_Client_10005</td>\n",
       "      <td>11</td>\n",
       "      <td>104</td>\n",
       "      <td>08/04/2009</td>\n",
       "      <td>0.0</td>\n",
       "      <td>1</td>\n",
       "      <td>True</td>\n",
       "      <td>False</td>\n",
       "    </tr>\n",
       "    <tr>\n",
       "      <th>61</th>\n",
       "      <td>63</td>\n",
       "      <td>train_Client_100050</td>\n",
       "      <td>11</td>\n",
       "      <td>311</td>\n",
       "      <td>31/12/1994</td>\n",
       "      <td>0.0</td>\n",
       "      <td>6</td>\n",
       "      <td>True</td>\n",
       "      <td>True</td>\n",
       "    </tr>\n",
       "    <tr>\n",
       "      <th>62</th>\n",
       "      <td>62</td>\n",
       "      <td>train_Client_100051</td>\n",
       "      <td>11</td>\n",
       "      <td>303</td>\n",
       "      <td>12/03/2003</td>\n",
       "      <td>0.0</td>\n",
       "      <td>4</td>\n",
       "      <td>True</td>\n",
       "      <td>True</td>\n",
       "    </tr>\n",
       "    <tr>\n",
       "      <th>66</th>\n",
       "      <td>69</td>\n",
       "      <td>train_Client_100055</td>\n",
       "      <td>11</td>\n",
       "      <td>104</td>\n",
       "      <td>20/12/2012</td>\n",
       "      <td>0.0</td>\n",
       "      <td>1</td>\n",
       "      <td>True</td>\n",
       "      <td>False</td>\n",
       "    </tr>\n",
       "    <tr>\n",
       "      <th>68</th>\n",
       "      <td>62</td>\n",
       "      <td>train_Client_100057</td>\n",
       "      <td>11</td>\n",
       "      <td>301</td>\n",
       "      <td>26/04/1977</td>\n",
       "      <td>0.0</td>\n",
       "      <td>0</td>\n",
       "      <td>False</td>\n",
       "      <td>False</td>\n",
       "    </tr>\n",
       "    <tr>\n",
       "      <th>70</th>\n",
       "      <td>62</td>\n",
       "      <td>train_Client_100059</td>\n",
       "      <td>11</td>\n",
       "      <td>304</td>\n",
       "      <td>14/10/2014</td>\n",
       "      <td>0.0</td>\n",
       "      <td>0</td>\n",
       "      <td>False</td>\n",
       "      <td>False</td>\n",
       "    </tr>\n",
       "    <tr>\n",
       "      <th>76</th>\n",
       "      <td>69</td>\n",
       "      <td>train_Client_100064</td>\n",
       "      <td>11</td>\n",
       "      <td>104</td>\n",
       "      <td>13/05/2011</td>\n",
       "      <td>0.0</td>\n",
       "      <td>2</td>\n",
       "      <td>True</td>\n",
       "      <td>True</td>\n",
       "    </tr>\n",
       "    <tr>\n",
       "      <th>78</th>\n",
       "      <td>60</td>\n",
       "      <td>train_Client_100066</td>\n",
       "      <td>11</td>\n",
       "      <td>101</td>\n",
       "      <td>28/11/2011</td>\n",
       "      <td>0.0</td>\n",
       "      <td>2</td>\n",
       "      <td>True</td>\n",
       "      <td>True</td>\n",
       "    </tr>\n",
       "    <tr>\n",
       "      <th>79</th>\n",
       "      <td>63</td>\n",
       "      <td>train_Client_100067</td>\n",
       "      <td>11</td>\n",
       "      <td>312</td>\n",
       "      <td>20/12/1990</td>\n",
       "      <td>0.0</td>\n",
       "      <td>3</td>\n",
       "      <td>True</td>\n",
       "      <td>True</td>\n",
       "    </tr>\n",
       "  </tbody>\n",
       "</table>\n",
       "</div>"
      ],
      "text/plain": [
       "    disrict            client_id  client_catg  region creation_date  target   \n",
       "2        62      train_Client_10           11     301    13/03/1986     0.0  \\\n",
       "5        69   train_Client_10000           11     103    29/09/1993     0.0   \n",
       "14       69  train_Client_100008           11     104    22/10/2002     0.0   \n",
       "15       63  train_Client_100009           11     311    06/11/2006     0.0   \n",
       "16       63   train_Client_10001           11     312    14/05/2002     0.0   \n",
       "18       63  train_Client_100011           11     311    10/02/2012     0.0   \n",
       "20       62  train_Client_100013           11     305    20/02/2001     0.0   \n",
       "22       63  train_Client_100015           11     311    30/11/1999     0.0   \n",
       "26       69  train_Client_100019           11     104    07/11/1983     0.0   \n",
       "28       60  train_Client_100020           11     101    08/12/2003     0.0   \n",
       "29       69  train_Client_100021           51     104    13/07/2017     0.0   \n",
       "36       60  train_Client_100028           11     101    12/11/1979     0.0   \n",
       "37       62  train_Client_100029           11     301    30/12/1981     0.0   \n",
       "43       60  train_Client_100034           11     101    04/05/2000     0.0   \n",
       "47       63  train_Client_100038           11     306    25/12/2000     0.0   \n",
       "50       63  train_Client_100040           11     313    03/03/2010     0.0   \n",
       "52       60  train_Client_100042           11     101    16/04/1979     0.0   \n",
       "53       60  train_Client_100043           11     101    13/02/2011     0.0   \n",
       "57       60  train_Client_100047           11     101    23/02/2004     0.0   \n",
       "58       63  train_Client_100048           11     101    26/10/2010     0.0   \n",
       "59       62  train_Client_100049           12     310    08/06/1994     0.0   \n",
       "60       69   train_Client_10005           11     104    08/04/2009     0.0   \n",
       "61       63  train_Client_100050           11     311    31/12/1994     0.0   \n",
       "62       62  train_Client_100051           11     303    12/03/2003     0.0   \n",
       "66       69  train_Client_100055           11     104    20/12/2012     0.0   \n",
       "68       62  train_Client_100057           11     301    26/04/1977     0.0   \n",
       "70       62  train_Client_100059           11     304    14/10/2014     0.0   \n",
       "76       69  train_Client_100064           11     104    13/05/2011     0.0   \n",
       "78       60  train_Client_100066           11     101    28/11/2011     0.0   \n",
       "79       63  train_Client_100067           11     312    20/12/1990     0.0   \n",
       "\n",
       "    num_flags  thresh_1  thresh_2  \n",
       "2           3      True      True  \n",
       "5           8      True      True  \n",
       "14          0     False     False  \n",
       "15          1      True     False  \n",
       "16          7      True      True  \n",
       "18          7      True      True  \n",
       "20         10      True      True  \n",
       "22          2      True      True  \n",
       "26          2      True      True  \n",
       "28          3      True      True  \n",
       "29          1      True     False  \n",
       "36         10      True      True  \n",
       "37          0     False     False  \n",
       "43          0     False     False  \n",
       "47          3      True      True  \n",
       "50          3      True      True  \n",
       "52          1      True     False  \n",
       "53          0     False     False  \n",
       "57          3      True      True  \n",
       "58          1      True     False  \n",
       "59          3      True      True  \n",
       "60          1      True     False  \n",
       "61          6      True      True  \n",
       "62          4      True      True  \n",
       "66          1      True     False  \n",
       "68          0     False     False  \n",
       "70          0     False     False  \n",
       "76          2      True      True  \n",
       "78          2      True      True  \n",
       "79          3      True      True  "
      ]
     },
     "execution_count": 107,
     "metadata": {},
     "output_type": "execute_result"
    }
   ],
   "source": [
    "dfc_test_clients.query(\"target == 0\").head(30)"
   ]
  },
  {
   "cell_type": "code",
   "execution_count": 108,
   "metadata": {},
   "outputs": [],
   "source": [
    "# now we can finally calculate the scores based on these\n",
    "\n",
    "y_true = dfc_test_clients.target.values\n",
    "y_pred_thresh1 = dfc_test_clients.thresh_1.values\n",
    "y_pred_thresh2 = dfc_test_clients.thresh_2.values\n"
   ]
  },
  {
   "cell_type": "code",
   "execution_count": 109,
   "metadata": {},
   "outputs": [
    {
     "data": {
      "text/plain": [
       "array([ True,  True, False, ...,  True,  True,  True])"
      ]
     },
     "execution_count": 109,
     "metadata": {},
     "output_type": "execute_result"
    }
   ],
   "source": [
    "y_pred_thresh1"
   ]
  },
  {
   "cell_type": "code",
   "execution_count": 110,
   "metadata": {},
   "outputs": [
    {
     "name": "stdout",
     "output_type": "stream",
     "text": [
      "Recall score threshold 1: 91.23%\n",
      "Precision score threshold 1: 7.19%\n",
      "Recall score threshold 2: 79.44%\n",
      "Precision score threshold 2: 8.3%\n"
     ]
    }
   ],
   "source": [
    "print(\"Recall score threshold 1: {}%\".format(round(recall_score(y_true,y_pred_thresh1) * 100, 2)))\n",
    "\n",
    "print(\"Precision score threshold 1: {}%\".format(round(precision_score(y_true,y_pred_thresh1) * 100, 2)))\n",
    "\n",
    "print(\"Recall score threshold 2: {}%\".format(round(recall_score(y_true,y_pred_thresh2) * 100, 2)))\n",
    "\n",
    "print(\"Precision score threshold 2: {}%\".format(round(precision_score(y_true,y_pred_thresh2) * 100, 2)))"
   ]
  },
  {
   "attachments": {},
   "cell_type": "markdown",
   "metadata": {},
   "source": [
    "Not very encouraging - on our test data, when we transfer our predictions to the clients our precision is marginally better than our original baseline model, and in both cases our recall is worse..."
   ]
  },
  {
   "cell_type": "code",
   "execution_count": 111,
   "metadata": {},
   "outputs": [
    {
     "data": {
      "text/plain": [
       "Text(0.5, 1.0, 'ROC for threshold = 1 flagged invoice')"
      ]
     },
     "execution_count": 111,
     "metadata": {},
     "output_type": "execute_result"
    },
    {
     "data": {
      "image/png": "[encoded data removed]",
      "text/plain": [
       "<Figure size 640x480 with 1 Axes>"
      ]
     },
     "metadata": {},
     "output_type": "display_data"
    }
   ],
   "source": [
    "RocCurveDisplay.from_predictions(y_true,y_pred_thresh1)\n",
    "plt.title(\"ROC for threshold = 1 flagged invoice\")"
   ]
  },
  {
   "cell_type": "code",
   "execution_count": 112,
   "metadata": {},
   "outputs": [
    {
     "data": {
      "text/plain": [
       "Text(0.5, 1.0, 'ROC for threshold = 2 flagged invoices')"
      ]
     },
     "execution_count": 112,
     "metadata": {},
     "output_type": "execute_result"
    },
    {
     "data": {
      "image/png": "[encoded data removed]",
      "text/plain": [
       "<Figure size 640x480 with 1 Axes>"
      ]
     },
     "metadata": {},
     "output_type": "display_data"
    }
   ],
   "source": [
    "RocCurveDisplay.from_predictions(y_true,y_pred_thresh2)\n",
    "plt.title(\"ROC for threshold = 2 flagged invoices\")"
   ]
  },
  {
   "cell_type": "code",
   "execution_count": 113,
   "metadata": {},
   "outputs": [
    {
     "data": {
      "text/plain": [
       "133"
      ]
     },
     "execution_count": 113,
     "metadata": {},
     "output_type": "execute_result"
    }
   ],
   "source": [
    "tree.tree_.max_depth"
   ]
  },
  {
   "cell_type": "code",
   "execution_count": 114,
   "metadata": {},
   "outputs": [],
   "source": [
    "from sklearn.tree import plot_tree"
   ]
  },
  {
   "cell_type": "code",
   "execution_count": 115,
   "metadata": {},
   "outputs": [
    {
     "data": {
      "text/plain": [
       "[Text(0.4608960543766578, 0.9583333333333334, 'x[11] <= 1.5\\ngini = 0.144\\nsamples = 3366088\\nvalue = [3102749, 263339]'),\n",
       " Text(0.20431138096816975, 0.875, 'x[2] <= 437.5\\ngini = 0.31\\nsamples = 83204\\nvalue = [67233, 15971]'),\n",
       " Text(0.10611806476569408, 0.7916666666666666, 'x[2] <= 7.5\\ngini = 0.349\\nsamples = 65179\\nvalue = [50476, 14703]'),\n",
       " Text(0.046667771883289126, 0.7083333333333334, 'x[3] <= 7.0\\ngini = 0.432\\nsamples = 8364\\nvalue = [5725, 2639]'),\n",
       " Text(0.02061229000884173, 0.625, 'x[10] <= 59219.5\\ngini = 0.386\\nsamples = 4252\\nvalue = [3141, 1111]'),\n",
       " Text(0.020170203359858533, 0.5416666666666666, 'x[10] <= 42040.5\\ngini = 0.403\\nsamples = 3970\\nvalue = [2859, 1111]'),\n",
       " Text(0.011715296198054819, 0.4583333333333333, 'x[13] <= 323.5\\ngini = 0.389\\nsamples = 3676\\nvalue = [2704, 972]'),\n",
       " Text(0.0062997347480106105, 0.375, 'x[10] <= 3042.5\\ngini = 0.363\\nsamples = 2846\\nvalue = [2167, 679]'),\n",
       " Text(0.0035366931918656055, 0.2916666666666667, 'x[10] <= 1790.5\\ngini = 0.406\\nsamples = 1380\\nvalue = [989, 391]'),\n",
       " Text(0.0017683465959328027, 0.20833333333333334, 'x[9] <= 1574.5\\ngini = 0.379\\nsamples = 1113\\nvalue = [830, 283]'),\n",
       " Text(0.0008841732979664014, 0.125, 'x[9] <= 1562.0\\ngini = 0.396\\nsamples = 999\\nvalue = [727, 272]'),\n",
       " Text(0.0004420866489832007, 0.041666666666666664, '\\n  (...)  \\n'),\n",
       " Text(0.001326259946949602, 0.041666666666666664, '\\n  (...)  \\n'),\n",
       " Text(0.002652519893899204, 0.125, 'x[10] <= 1622.0\\ngini = 0.174\\nsamples = 114\\nvalue = [103, 11]'),\n",
       " Text(0.0022104332449160036, 0.041666666666666664, '\\n  (...)  \\n'),\n",
       " Text(0.003094606542882405, 0.041666666666666664, '\\n  (...)  \\n'),\n",
       " Text(0.005305039787798408, 0.20833333333333334, 'x[13] <= 0.5\\ngini = 0.482\\nsamples = 267\\nvalue = [159, 108]'),\n",
       " Text(0.004420866489832007, 0.125, 'x[10] <= 2189.5\\ngini = 0.38\\nsamples = 90\\nvalue = [23, 67]'),\n",
       " Text(0.003978779840848806, 0.041666666666666664, '\\n  (...)  \\n'),\n",
       " Text(0.004862953138815208, 0.041666666666666664, '\\n  (...)  \\n'),\n",
       " Text(0.00618921308576481, 0.125, 'x[9] <= 1681.0\\ngini = 0.356\\nsamples = 177\\nvalue = [136, 41]'),\n",
       " Text(0.005747126436781609, 0.041666666666666664, '\\n  (...)  \\n'),\n",
       " Text(0.006631299734748011, 0.041666666666666664, '\\n  (...)  \\n'),\n",
       " Text(0.009062776304155614, 0.2916666666666667, 'x[9] <= 4618.0\\ngini = 0.316\\nsamples = 1466\\nvalue = [1178, 288]'),\n",
       " Text(0.007515473032714412, 0.20833333333333334, 'x[9] <= 2813.5\\ngini = 0.126\\nsamples = 163\\nvalue = [152, 11]'),\n",
       " Text(0.007073386383731211, 0.125, 'gini = 0.0\\nsamples = 1\\nvalue = [0, 1]'),\n",
       " Text(0.007957559681697613, 0.125, 'x[9] <= 4319.0\\ngini = 0.116\\nsamples = 162\\nvalue = [152, 10]'),\n",
       " Text(0.007515473032714412, 0.041666666666666664, '\\n  (...)  \\n'),\n",
       " Text(0.008399646330680813, 0.041666666666666664, '\\n  (...)  \\n'),\n",
       " Text(0.010610079575596816, 0.20833333333333334, 'x[5] <= 63.5\\ngini = 0.335\\nsamples = 1303\\nvalue = [1026, 277]'),\n",
       " Text(0.009725906277630416, 0.125, 'x[9] <= 11420.5\\ngini = 0.282\\nsamples = 617\\nvalue = [512, 105]'),\n",
       " Text(0.009283819628647215, 0.041666666666666664, '\\n  (...)  \\n'),\n",
       " Text(0.010167992926613616, 0.041666666666666664, '\\n  (...)  \\n'),\n",
       " Text(0.011494252873563218, 0.125, 'x[9] <= 23289.5\\ngini = 0.376\\nsamples = 686\\nvalue = [514, 172]'),\n",
       " Text(0.011052166224580018, 0.041666666666666664, '\\n  (...)  \\n'),\n",
       " Text(0.011936339522546418, 0.041666666666666664, '\\n  (...)  \\n'),\n",
       " Text(0.01713085764809903, 0.375, 'x[5] <= 1001.0\\ngini = 0.457\\nsamples = 830\\nvalue = [537, 293]'),\n",
       " Text(0.015694076038903625, 0.2916666666666667, 'x[5] <= 800.5\\ngini = 0.469\\nsamples = 736\\nvalue = [460, 276]'),\n",
       " Text(0.014146772767462422, 0.20833333333333334, 'x[10] <= 34976.0\\ngini = 0.458\\nsamples = 669\\nvalue = [431, 238]'),\n",
       " Text(0.013262599469496022, 0.125, 'x[9] <= 18457.5\\ngini = 0.466\\nsamples = 613\\nvalue = [387, 226]'),\n",
       " Text(0.01282051282051282, 0.041666666666666664, '\\n  (...)  \\n'),\n",
       " Text(0.013704686118479222, 0.041666666666666664, '\\n  (...)  \\n'),\n",
       " Text(0.015030946065428824, 0.125, 'x[10] <= 39568.0\\ngini = 0.337\\nsamples = 56\\nvalue = [44, 12]'),\n",
       " Text(0.014588859416445624, 0.041666666666666664, '\\n  (...)  \\n'),\n",
       " Text(0.015473032714412025, 0.041666666666666664, '\\n  (...)  \\n'),\n",
       " Text(0.017241379310344827, 0.20833333333333334, 'x[10] <= 36393.0\\ngini = 0.491\\nsamples = 67\\nvalue = [29, 38]'),\n",
       " Text(0.016799292661361626, 0.125, 'x[13] <= 816.5\\ngini = 0.499\\nsamples = 61\\nvalue = [29, 32]'),\n",
       " Text(0.016357206012378427, 0.041666666666666664, '\\n  (...)  \\n'),\n",
       " Text(0.017241379310344827, 0.041666666666666664, '\\n  (...)  \\n'),\n",
       " Text(0.01768346595932803, 0.125, 'gini = 0.0\\nsamples = 6\\nvalue = [0, 6]'),\n",
       " Text(0.01856763925729443, 0.2916666666666667, 'x[9] <= 6521.5\\ngini = 0.296\\nsamples = 94\\nvalue = [77, 17]'),\n",
       " Text(0.018125552608311227, 0.20833333333333334, 'gini = 0.0\\nsamples = 15\\nvalue = [15, 0]'),\n",
       " Text(0.01900972590627763, 0.20833333333333334, 'x[9] <= 6804.5\\ngini = 0.338\\nsamples = 79\\nvalue = [62, 17]'),\n",
       " Text(0.01856763925729443, 0.125, 'gini = 0.0\\nsamples = 3\\nvalue = [0, 3]'),\n",
       " Text(0.019451812555260833, 0.125, 'x[9] <= 39343.0\\ngini = 0.301\\nsamples = 76\\nvalue = [62, 14]'),\n",
       " Text(0.01900972590627763, 0.041666666666666664, '\\n  (...)  \\n'),\n",
       " Text(0.01989389920424403, 0.041666666666666664, '\\n  (...)  \\n'),\n",
       " Text(0.028625110521662247, 0.4583333333333333, 'x[5] <= 908.0\\ngini = 0.499\\nsamples = 294\\nvalue = [155, 139]'),\n",
       " Text(0.02453580901856764, 0.375, 'x[5] <= 2.5\\ngini = 0.5\\nsamples = 259\\nvalue = [126, 133]'),\n",
       " Text(0.021662245800176835, 0.2916666666666667, 'x[9] <= 50590.0\\ngini = 0.368\\nsamples = 37\\nvalue = [9, 28]'),\n",
       " Text(0.020778072502210435, 0.20833333333333334, 'x[10] <= 43595.0\\ngini = 0.346\\nsamples = 9\\nvalue = [7, 2]'),\n",
       " Text(0.020335985853227233, 0.125, 'gini = 0.0\\nsamples = 2\\nvalue = [0, 2]'),\n",
       " Text(0.021220159151193633, 0.125, 'gini = 0.0\\nsamples = 7\\nvalue = [7, 0]'),\n",
       " Text(0.022546419098143235, 0.20833333333333334, 'x[10] <= 52730.0\\ngini = 0.133\\nsamples = 28\\nvalue = [2, 26]'),\n",
       " Text(0.022104332449160036, 0.125, 'gini = 0.0\\nsamples = 24\\nvalue = [0, 24]'),\n",
       " Text(0.022988505747126436, 0.125, 'x[10] <= 54040.0\\ngini = 0.5\\nsamples = 4\\nvalue = [2, 2]'),\n",
       " Text(0.022546419098143235, 0.041666666666666664, '\\n  (...)  \\n'),\n",
       " Text(0.023430592396109638, 0.041666666666666664, '\\n  (...)  \\n'),\n",
       " Text(0.027409372236958444, 0.2916666666666667, 'x[10] <= 48438.0\\ngini = 0.499\\nsamples = 222\\nvalue = [117, 105]'),\n",
       " Text(0.02564102564102564, 0.20833333333333334, 'x[5] <= 229.0\\ngini = 0.489\\nsamples = 108\\nvalue = [46, 62]'),\n",
       " Text(0.02475685234305924, 0.125, 'x[5] <= 84.0\\ngini = 0.38\\nsamples = 55\\nvalue = [14, 41]'),\n",
       " Text(0.02431476569407604, 0.041666666666666664, '\\n  (...)  \\n'),\n",
       " Text(0.025198938992042442, 0.041666666666666664, '\\n  (...)  \\n'),\n",
       " Text(0.026525198938992044, 0.125, 'x[13] <= 475.5\\ngini = 0.478\\nsamples = 53\\nvalue = [32, 21]'),\n",
       " Text(0.026083112290008842, 0.041666666666666664, '\\n  (...)  \\n'),\n",
       " Text(0.026967285587975242, 0.041666666666666664, '\\n  (...)  \\n'),\n",
       " Text(0.029177718832891247, 0.20833333333333334, 'x[10] <= 53459.0\\ngini = 0.47\\nsamples = 114\\nvalue = [71, 43]'),\n",
       " Text(0.028293545534924844, 0.125, 'x[5] <= 176.5\\ngini = 0.357\\nsamples = 56\\nvalue = [43, 13]'),\n",
       " Text(0.027851458885941646, 0.041666666666666664, '\\n  (...)  \\n'),\n",
       " Text(0.028735632183908046, 0.041666666666666664, '\\n  (...)  \\n'),\n",
       " Text(0.030061892130857647, 0.125, 'x[13] <= 87.5\\ngini = 0.499\\nsamples = 58\\nvalue = [28, 30]'),\n",
       " Text(0.02961980548187445, 0.041666666666666664, '\\n  (...)  \\n'),\n",
       " Text(0.03050397877984085, 0.041666666666666664, '\\n  (...)  \\n'),\n",
       " Text(0.032714412024756855, 0.375, 'x[10] <= 45083.0\\ngini = 0.284\\nsamples = 35\\nvalue = [29, 6]'),\n",
       " Text(0.03183023872679045, 0.2916666666666667, 'x[9] <= 43363.5\\ngini = 0.444\\nsamples = 6\\nvalue = [2, 4]'),\n",
       " Text(0.03138815207780725, 0.20833333333333334, 'x[13] <= 1048.5\\ngini = 0.5\\nsamples = 4\\nvalue = [2, 2]'),\n",
       " Text(0.03094606542882405, 0.125, 'gini = 0.0\\nsamples = 1\\nvalue = [1, 0]'),\n",
       " Text(0.03183023872679045, 0.125, 'x[10] <= 44008.5\\ngini = 0.444\\nsamples = 3\\nvalue = [1, 2]'),\n",
       " Text(0.03138815207780725, 0.041666666666666664, '\\n  (...)  \\n'),\n",
       " Text(0.03227232537577365, 0.041666666666666664, '\\n  (...)  \\n'),\n",
       " Text(0.03227232537577365, 0.20833333333333334, 'gini = 0.0\\nsamples = 2\\nvalue = [0, 2]'),\n",
       " Text(0.03359858532272325, 0.2916666666666667, 'x[5] <= 1236.5\\ngini = 0.128\\nsamples = 29\\nvalue = [27, 2]'),\n",
       " Text(0.033156498673740056, 0.20833333333333334, 'gini = 0.0\\nsamples = 18\\nvalue = [18, 0]'),\n",
       " Text(0.03404067197170645, 0.20833333333333334, 'x[13] <= 1330.0\\ngini = 0.298\\nsamples = 11\\nvalue = [9, 2]'),\n",
       " Text(0.03359858532272325, 0.125, 'x[9] <= 48005.5\\ngini = 0.444\\nsamples = 3\\nvalue = [1, 2]'),\n",
       " Text(0.033156498673740056, 0.041666666666666664, '\\n  (...)  \\n'),\n",
       " Text(0.03404067197170645, 0.041666666666666664, '\\n  (...)  \\n'),\n",
       " Text(0.034482758620689655, 0.125, 'gini = 0.0\\nsamples = 8\\nvalue = [8, 0]'),\n",
       " Text(0.021054376657824933, 0.5416666666666666, 'gini = 0.0\\nsamples = 282\\nvalue = [282, 0]'),\n",
       " Text(0.07272325375773651, 0.625, 'x[5] <= 194.5\\ngini = 0.467\\nsamples = 4112\\nvalue = [2584, 1528]'),\n",
       " Text(0.05636604774535809, 0.5416666666666666, 'x[9] <= 31184.5\\ngini = 0.421\\nsamples = 2045\\nvalue = [1429, 616]'),\n",
       " Text(0.04730327144120248, 0.4583333333333333, 'x[10] <= 7493.0\\ngini = 0.403\\nsamples = 1913\\nvalue = [1377, 536]'),\n",
       " Text(0.04078249336870027, 0.375, 'x[9] <= 1508.5\\ngini = 0.349\\nsamples = 962\\nvalue = [745, 217]'),\n",
       " Text(0.03735632183908046, 0.2916666666666667, 'x[13] <= 4.5\\ngini = 0.447\\nsamples = 181\\nvalue = [120, 61]'),\n",
       " Text(0.03580901856763926, 0.20833333333333334, 'x[10] <= 1131.5\\ngini = 0.133\\nsamples = 28\\nvalue = [26, 2]'),\n",
       " Text(0.03536693191865606, 0.125, 'gini = 0.0\\nsamples = 25\\nvalue = [25, 0]'),\n",
       " Text(0.036251105216622455, 0.125, 'x[13] <= 0.5\\ngini = 0.444\\nsamples = 3\\nvalue = [1, 2]'),\n",
       " Text(0.03580901856763926, 0.041666666666666664, '\\n  (...)  \\n'),\n",
       " Text(0.03669319186560566, 0.041666666666666664, '\\n  (...)  \\n'),\n",
       " Text(0.038903625110521665, 0.20833333333333334, 'x[13] <= 23.5\\ngini = 0.474\\nsamples = 153\\nvalue = [94, 59]'),\n",
       " Text(0.03801945181255526, 0.125, 'x[9] <= 473.0\\ngini = 0.488\\nsamples = 57\\nvalue = [24, 33]'),\n",
       " Text(0.03757736516357206, 0.041666666666666664, '\\n  (...)  \\n'),\n",
       " Text(0.038461538461538464, 0.041666666666666664, '\\n  (...)  \\n'),\n",
       " Text(0.03978779840848806, 0.125, 'x[13] <= 64.0\\ngini = 0.395\\nsamples = 96\\nvalue = [70, 26]'),\n",
       " Text(0.03934571175950486, 0.041666666666666664, '\\n  (...)  \\n'),\n",
       " Text(0.040229885057471264, 0.041666666666666664, '\\n  (...)  \\n'),\n",
       " Text(0.04420866489832007, 0.2916666666666667, 'x[5] <= 2.5\\ngini = 0.32\\nsamples = 781\\nvalue = [625, 156]'),\n",
       " Text(0.042440318302387266, 0.20833333333333334, 'x[10] <= 3014.5\\ngini = 0.499\\nsamples = 38\\nvalue = [18, 20]'),\n",
       " Text(0.04155614500442087, 0.125, 'x[9] <= 2316.0\\ngini = 0.413\\nsamples = 24\\nvalue = [7, 17]'),\n",
       " Text(0.04111405835543767, 0.041666666666666664, '\\n  (...)  \\n'),\n",
       " Text(0.041998231653404064, 0.041666666666666664, '\\n  (...)  \\n'),\n",
       " Text(0.04332449160035367, 0.125, 'x[3] <= 8.5\\ngini = 0.337\\nsamples = 14\\nvalue = [11, 3]'),\n",
       " Text(0.04288240495137047, 0.041666666666666664, '\\n  (...)  \\n'),\n",
       " Text(0.04376657824933687, 0.041666666666666664, '\\n  (...)  \\n'),\n",
       " Text(0.04597701149425287, 0.20833333333333334, 'x[10] <= 3931.5\\ngini = 0.299\\nsamples = 743\\nvalue = [607, 136]'),\n",
       " Text(0.04509283819628647, 0.125, 'x[13] <= 145.5\\ngini = 0.21\\nsamples = 336\\nvalue = [296, 40]'),\n",
       " Text(0.044650751547303275, 0.041666666666666664, '\\n  (...)  \\n'),\n",
       " Text(0.04553492484526967, 0.041666666666666664, '\\n  (...)  \\n'),\n",
       " Text(0.046861184792219276, 0.125, 'x[10] <= 4365.0\\ngini = 0.36\\nsamples = 407\\nvalue = [311, 96]'),\n",
       " Text(0.046419098143236075, 0.041666666666666664, '\\n  (...)  \\n'),\n",
       " Text(0.04730327144120248, 0.041666666666666664, '\\n  (...)  \\n'),\n",
       " Text(0.05382404951370469, 0.375, 'x[10] <= 12110.0\\ngini = 0.446\\nsamples = 951\\nvalue = [632, 319]'),\n",
       " Text(0.05106100795755968, 0.2916666666666667, 'x[3] <= 8.5\\ngini = 0.494\\nsamples = 355\\nvalue = [197, 158]'),\n",
       " Text(0.04951370468611848, 0.20833333333333334, 'x[10] <= 8249.5\\ngini = 0.245\\nsamples = 28\\nvalue = [4, 24]'),\n",
       " Text(0.04862953138815208, 0.125, 'x[13] <= 0.5\\ngini = 0.444\\nsamples = 3\\nvalue = [2, 1]'),\n",
       " Text(0.048187444739168875, 0.041666666666666664, '\\n  (...)  \\n'),\n",
       " Text(0.04907161803713528, 0.041666666666666664, '\\n  (...)  \\n'),\n",
       " Text(0.050397877984084884, 0.125, 'x[13] <= 5.5\\ngini = 0.147\\nsamples = 25\\nvalue = [2, 23]'),\n",
       " Text(0.04995579133510168, 0.041666666666666664, '\\n  (...)  \\n'),\n",
       " Text(0.05083996463306808, 0.041666666666666664, '\\n  (...)  \\n'),\n",
       " Text(0.052608311229000886, 0.20833333333333334, 'x[1] <= 0.5\\ngini = 0.484\\nsamples = 327\\nvalue = [193, 134]'),\n",
       " Text(0.052166224580017684, 0.125, 'x[13] <= 36.0\\ngini = 0.479\\nsamples = 320\\nvalue = [193, 127]'),\n",
       " Text(0.05172413793103448, 0.041666666666666664, '\\n  (...)  \\n'),\n",
       " Text(0.052608311229000886, 0.041666666666666664, '\\n  (...)  \\n'),\n",
       " Text(0.05305039787798409, 0.125, 'gini = 0.0\\nsamples = 7\\nvalue = [0, 7]'),\n",
       " Text(0.05658709106984969, 0.2916666666666667, 'x[10] <= 16206.0\\ngini = 0.394\\nsamples = 596\\nvalue = [435, 161]'),\n",
       " Text(0.05481874447391689, 0.20833333333333334, 'x[13] <= 0.5\\ngini = 0.313\\nsamples = 221\\nvalue = [178, 43]'),\n",
       " Text(0.053934571175950484, 0.125, 'x[9] <= 12385.0\\ngini = 0.469\\nsamples = 8\\nvalue = [3, 5]'),\n",
       " Text(0.05349248452696728, 0.041666666666666664, '\\n  (...)  \\n'),\n",
       " Text(0.054376657824933686, 0.041666666666666664, '\\n  (...)  \\n'),\n",
       " Text(0.05570291777188329, 0.125, 'x[9] <= 13447.5\\ngini = 0.293\\nsamples = 213\\nvalue = [175, 38]'),\n",
       " Text(0.05526083112290009, 0.041666666666666664, '\\n  (...)  \\n'),\n",
       " Text(0.05614500442086649, 0.041666666666666664, '\\n  (...)  \\n'),\n",
       " Text(0.058355437665782495, 0.20833333333333334, 'x[10] <= 18548.5\\ngini = 0.431\\nsamples = 375\\nvalue = [257, 118]'),\n",
       " Text(0.05747126436781609, 0.125, 'x[13] <= 28.0\\ngini = 0.498\\nsamples = 128\\nvalue = [68, 60]'),\n",
       " Text(0.05702917771883289, 0.041666666666666664, '\\n  (...)  \\n'),\n",
       " Text(0.05791335101679929, 0.041666666666666664, '\\n  (...)  \\n'),\n",
       " Text(0.0592396109637489, 0.125, 'x[5] <= 104.5\\ngini = 0.359\\nsamples = 247\\nvalue = [189, 58]'),\n",
       " Text(0.058797524314765696, 0.041666666666666664, '\\n  (...)  \\n'),\n",
       " Text(0.05968169761273209, 0.041666666666666664, '\\n  (...)  \\n'),\n",
       " Text(0.06542882404951371, 0.4583333333333333, 'x[3] <= 8.5\\ngini = 0.478\\nsamples = 132\\nvalue = [52, 80]'),\n",
       " Text(0.0627763041556145, 0.375, 'x[9] <= 44569.0\\ngini = 0.451\\nsamples = 35\\nvalue = [23, 12]'),\n",
       " Text(0.0618921308576481, 0.2916666666666667, 'x[9] <= 41726.0\\ngini = 0.469\\nsamples = 16\\nvalue = [6, 10]'),\n",
       " Text(0.0614500442086649, 0.20833333333333334, 'x[9] <= 40709.0\\ngini = 0.497\\nsamples = 13\\nvalue = [6, 7]'),\n",
       " Text(0.0610079575596817, 0.125, 'x[9] <= 32264.0\\ngini = 0.42\\nsamples = 10\\nvalue = [3, 7]'),\n",
       " Text(0.0605658709106985, 0.041666666666666664, '\\n  (...)  \\n'),\n",
       " Text(0.0614500442086649, 0.041666666666666664, '\\n  (...)  \\n'),\n",
       " Text(0.0618921308576481, 0.125, 'gini = 0.0\\nsamples = 3\\nvalue = [3, 0]'),\n",
       " Text(0.0623342175066313, 0.20833333333333334, 'gini = 0.0\\nsamples = 3\\nvalue = [0, 3]'),\n",
       " Text(0.0636604774535809, 0.2916666666666667, 'x[10] <= 56960.0\\ngini = 0.188\\nsamples = 19\\nvalue = [17, 2]'),\n",
       " Text(0.06321839080459771, 0.20833333333333334, 'gini = 0.0\\nsamples = 14\\nvalue = [14, 0]'),\n",
       " Text(0.0641025641025641, 0.20833333333333334, 'x[13] <= 60.5\\ngini = 0.48\\nsamples = 5\\nvalue = [3, 2]'),\n",
       " Text(0.0636604774535809, 0.125, 'gini = 0.0\\nsamples = 2\\nvalue = [0, 2]'),\n",
       " Text(0.0645446507515473, 0.125, 'gini = 0.0\\nsamples = 3\\nvalue = [3, 0]'),\n",
       " Text(0.0680813439434129, 0.375, 'x[5] <= 74.5\\ngini = 0.419\\nsamples = 97\\nvalue = [29, 68]'),\n",
       " Text(0.06542882404951371, 0.2916666666666667, 'x[9] <= 32292.5\\ngini = 0.488\\nsamples = 26\\nvalue = [15, 11]'),\n",
       " Text(0.0649867374005305, 0.20833333333333334, 'gini = 0.0\\nsamples = 4\\nvalue = [0, 4]'),\n",
       " Text(0.0658709106984969, 0.20833333333333334, 'x[9] <= 37617.5\\ngini = 0.434\\nsamples = 22\\nvalue = [15, 7]'),\n",
       " Text(0.06542882404951371, 0.125, 'gini = 0.0\\nsamples = 8\\nvalue = [8, 0]'),\n",
       " Text(0.06631299734748011, 0.125, 'x[10] <= 73523.0\\ngini = 0.5\\nsamples = 14\\nvalue = [7, 7]'),\n",
       " Text(0.0658709106984969, 0.041666666666666664, '\\n  (...)  \\n'),\n",
       " Text(0.06675508399646331, 0.041666666666666664, '\\n  (...)  \\n'),\n",
       " Text(0.07073386383731212, 0.2916666666666667, 'x[5] <= 162.5\\ngini = 0.317\\nsamples = 71\\nvalue = [14, 57]'),\n",
       " Text(0.06896551724137931, 0.20833333333333334, 'x[5] <= 97.0\\ngini = 0.198\\nsamples = 45\\nvalue = [5, 40]'),\n",
       " Text(0.0680813439434129, 0.125, 'x[5] <= 89.0\\ngini = 0.42\\nsamples = 10\\nvalue = [3, 7]'),\n",
       " Text(0.06763925729442971, 0.041666666666666664, '\\n  (...)  \\n'),\n",
       " Text(0.06852343059239611, 0.041666666666666664, '\\n  (...)  \\n'),\n",
       " Text(0.06984969053934571, 0.125, 'x[5] <= 143.5\\ngini = 0.108\\nsamples = 35\\nvalue = [2, 33]'),\n",
       " Text(0.0694076038903625, 0.041666666666666664, '\\n  (...)  \\n'),\n",
       " Text(0.07029177718832891, 0.041666666666666664, '\\n  (...)  \\n'),\n",
       " Text(0.07250221043324491, 0.20833333333333334, 'x[10] <= 50418.0\\ngini = 0.453\\nsamples = 26\\nvalue = [9, 17]'),\n",
       " Text(0.07161803713527852, 0.125, 'x[9] <= 32299.5\\ngini = 0.496\\nsamples = 11\\nvalue = [6, 5]'),\n",
       " Text(0.07117595048629531, 0.041666666666666664, '\\n  (...)  \\n'),\n",
       " Text(0.07206012378426171, 0.041666666666666664, '\\n  (...)  \\n'),\n",
       " Text(0.07338638373121131, 0.125, 'x[13] <= 188.5\\ngini = 0.32\\nsamples = 15\\nvalue = [3, 12]'),\n",
       " Text(0.07294429708222812, 0.041666666666666664, '\\n  (...)  \\n'),\n",
       " Text(0.07382847038019452, 0.041666666666666664, '\\n  (...)  \\n'),\n",
       " Text(0.08908045977011494, 0.5416666666666666, 'x[13] <= 535.5\\ngini = 0.493\\nsamples = 2067\\nvalue = [1155, 912]'),\n",
       " Text(0.08289124668435013, 0.4583333333333333, 'x[10] <= 44739.0\\ngini = 0.495\\nsamples = 1190\\nvalue = [534, 656]'),\n",
       " Text(0.08001768346595933, 0.375, 'x[5] <= 229.5\\ngini = 0.5\\nsamples = 975\\nvalue = [480, 495]'),\n",
       " Text(0.07758620689655173, 0.2916666666666667, 'x[9] <= 31138.5\\ngini = 0.456\\nsamples = 165\\nvalue = [107, 58]'),\n",
       " Text(0.07603890362511052, 0.20833333333333334, 'x[10] <= 20703.0\\ngini = 0.444\\nsamples = 159\\nvalue = [106, 53]'),\n",
       " Text(0.07515473032714412, 0.125, 'x[13] <= 197.5\\ngini = 0.467\\nsamples = 137\\nvalue = [86, 51]'),\n",
       " Text(0.07471264367816093, 0.041666666666666664, '\\n  (...)  \\n'),\n",
       " Text(0.07559681697612732, 0.041666666666666664, '\\n  (...)  \\n'),\n",
       " Text(0.07692307692307693, 0.125, 'x[13] <= 214.5\\ngini = 0.165\\nsamples = 22\\nvalue = [20, 2]'),\n",
       " Text(0.07648099027409372, 0.041666666666666664, '\\n  (...)  \\n'),\n",
       " Text(0.07736516357206012, 0.041666666666666664, '\\n  (...)  \\n'),\n",
       " Text(0.07913351016799293, 0.20833333333333334, 'x[9] <= 35370.0\\ngini = 0.278\\nsamples = 6\\nvalue = [1, 5]'),\n",
       " Text(0.07869142351900972, 0.125, 'x[10] <= 35001.0\\ngini = 0.444\\nsamples = 3\\nvalue = [1, 2]'),\n",
       " Text(0.07824933687002653, 0.041666666666666664, '\\n  (...)  \\n'),\n",
       " Text(0.07913351016799293, 0.041666666666666664, '\\n  (...)  \\n'),\n",
       " Text(0.07957559681697612, 0.125, 'gini = 0.0\\nsamples = 3\\nvalue = [0, 3]'),\n",
       " Text(0.08244916003536693, 0.2916666666666667, 'x[1] <= 0.5\\ngini = 0.497\\nsamples = 810\\nvalue = [373, 437]'),\n",
       " Text(0.08134394341290893, 0.20833333333333334, 'x[13] <= 499.0\\ngini = 0.498\\nsamples = 798\\nvalue = [371, 427]'),\n",
       " Text(0.08045977011494253, 0.125, 'x[10] <= 36269.0\\ngini = 0.496\\nsamples = 735\\nvalue = [333, 402]'),\n",
       " Text(0.08001768346595933, 0.041666666666666664, '\\n  (...)  \\n'),\n",
       " Text(0.08090185676392574, 0.041666666666666664, '\\n  (...)  \\n'),\n",
       " Text(0.08222811671087533, 0.125, 'x[10] <= 27290.0\\ngini = 0.479\\nsamples = 63\\nvalue = [38, 25]'),\n",
       " Text(0.08178603006189213, 0.041666666666666664, '\\n  (...)  \\n'),\n",
       " Text(0.08267020335985853, 0.041666666666666664, '\\n  (...)  \\n'),\n",
       " Text(0.08355437665782493, 0.20833333333333334, 'x[10] <= 1460.0\\ngini = 0.278\\nsamples = 12\\nvalue = [2, 10]'),\n",
       " Text(0.08311229000884174, 0.125, 'gini = 0.0\\nsamples = 2\\nvalue = [2, 0]'),\n",
       " Text(0.08399646330680813, 0.125, 'gini = 0.0\\nsamples = 10\\nvalue = [0, 10]'),\n",
       " Text(0.08576480990274093, 0.375, 'x[5] <= 245.0\\ngini = 0.376\\nsamples = 215\\nvalue = [54, 161]'),\n",
       " Text(0.08488063660477453, 0.2916666666666667, 'x[5] <= 196.0\\ngini = 0.062\\nsamples = 31\\nvalue = [1, 30]'),\n",
       " Text(0.08443854995579134, 0.20833333333333334, 'gini = 0.0\\nsamples = 1\\nvalue = [1, 0]'),\n",
       " Text(0.08532272325375774, 0.20833333333333334, 'gini = 0.0\\nsamples = 30\\nvalue = [0, 30]'),\n",
       " Text(0.08664898320070734, 0.2916666666666667, 'x[13] <= 523.0\\ngini = 0.41\\nsamples = 184\\nvalue = [53, 131]'),\n",
       " Text(0.08620689655172414, 0.20833333333333334, 'x[10] <= 48171.0\\ngini = 0.428\\nsamples = 171\\nvalue = [53, 118]'),\n",
       " Text(0.08532272325375774, 0.125, 'x[5] <= 479.0\\ngini = 0.257\\nsamples = 33\\nvalue = [5, 28]'),\n",
       " Text(0.08488063660477453, 0.041666666666666664, '\\n  (...)  \\n'),\n",
       " Text(0.08576480990274093, 0.041666666666666664, '\\n  (...)  \\n'),\n",
       " Text(0.08709106984969053, 0.125, 'x[9] <= 69044.5\\ngini = 0.454\\nsamples = 138\\nvalue = [48, 90]'),\n",
       " Text(0.08664898320070734, 0.041666666666666664, '\\n  (...)  \\n'),\n",
       " Text(0.08753315649867374, 0.041666666666666664, '\\n  (...)  \\n'),\n",
       " Text(0.08709106984969053, 0.20833333333333334, 'gini = 0.0\\nsamples = 13\\nvalue = [0, 13]'),\n",
       " Text(0.09526967285587976, 0.4583333333333333, 'x[5] <= 1346.0\\ngini = 0.413\\nsamples = 877\\nvalue = [621, 256]'),\n",
       " Text(0.09195402298850575, 0.375, 'x[9] <= 96891.5\\ngini = 0.465\\nsamples = 605\\nvalue = [383, 222]'),\n",
       " Text(0.09151193633952255, 0.2916666666666667, 'x[10] <= 62808.0\\ngini = 0.472\\nsamples = 582\\nvalue = [360, 222]'),\n",
       " Text(0.08974358974358974, 0.20833333333333334, 'x[13] <= 726.0\\ngini = 0.457\\nsamples = 493\\nvalue = [319, 174]'),\n",
       " Text(0.08885941644562334, 0.125, 'x[13] <= 654.5\\ngini = 0.423\\nsamples = 234\\nvalue = [163, 71]'),\n",
       " Text(0.08841732979664015, 0.041666666666666664, '\\n  (...)  \\n'),\n",
       " Text(0.08930150309460655, 0.041666666666666664, '\\n  (...)  \\n'),\n",
       " Text(0.09062776304155615, 0.125, 'x[13] <= 742.5\\ngini = 0.479\\nsamples = 259\\nvalue = [156, 103]'),\n",
       " Text(0.09018567639257294, 0.041666666666666664, '\\n  (...)  \\n'),\n",
       " Text(0.09106984969053934, 0.041666666666666664, '\\n  (...)  \\n'),\n",
       " Text(0.09328028293545534, 0.20833333333333334, 'x[10] <= 63759.0\\ngini = 0.497\\nsamples = 89\\nvalue = [41, 48]'),\n",
       " Text(0.09239610963748895, 0.125, 'x[9] <= 62492.5\\ngini = 0.219\\nsamples = 8\\nvalue = [1, 7]'),\n",
       " Text(0.09195402298850575, 0.041666666666666664, '\\n  (...)  \\n'),\n",
       " Text(0.09283819628647215, 0.041666666666666664, '\\n  (...)  \\n'),\n",
       " Text(0.09416445623342175, 0.125, 'x[13] <= 1305.5\\ngini = 0.5\\nsamples = 81\\nvalue = [40, 41]'),\n",
       " Text(0.09372236958443855, 0.041666666666666664, '\\n  (...)  \\n'),\n",
       " Text(0.09460654288240496, 0.041666666666666664, '\\n  (...)  \\n'),\n",
       " Text(0.09239610963748895, 0.2916666666666667, 'gini = 0.0\\nsamples = 23\\nvalue = [23, 0]'),\n",
       " Text(0.09858532272325375, 0.375, 'x[13] <= 2389.5\\ngini = 0.219\\nsamples = 272\\nvalue = [238, 34]'),\n",
       " Text(0.09725906277630415, 0.2916666666666667, 'x[10] <= 39300.0\\ngini = 0.173\\nsamples = 230\\nvalue = [208, 22]'),\n",
       " Text(0.09637488947833775, 0.20833333333333334, 'x[10] <= 38769.5\\ngini = 0.303\\nsamples = 86\\nvalue = [70, 16]'),\n",
       " Text(0.09593280282935455, 0.125, 'x[5] <= 1612.0\\ngini = 0.278\\nsamples = 84\\nvalue = [70, 14]'),\n",
       " Text(0.09549071618037135, 0.041666666666666664, '\\n  (...)  \\n'),\n",
       " Text(0.09637488947833775, 0.041666666666666664, '\\n  (...)  \\n'),\n",
       " Text(0.09681697612732096, 0.125, 'gini = 0.0\\nsamples = 2\\nvalue = [0, 2]'),\n",
       " Text(0.09814323607427056, 0.20833333333333334, 'x[10] <= 88095.5\\ngini = 0.08\\nsamples = 144\\nvalue = [138, 6]'),\n",
       " Text(0.09770114942528736, 0.125, 'x[10] <= 87361.0\\ngini = 0.131\\nsamples = 85\\nvalue = [79, 6]'),\n",
       " Text(0.09725906277630415, 0.041666666666666664, '\\n  (...)  \\n'),\n",
       " Text(0.09814323607427056, 0.041666666666666664, '\\n  (...)  \\n'),\n",
       " Text(0.09858532272325375, 0.125, 'gini = 0.0\\nsamples = 59\\nvalue = [59, 0]'),\n",
       " Text(0.09991158267020336, 0.2916666666666667, 'x[13] <= 2403.5\\ngini = 0.408\\nsamples = 42\\nvalue = [30, 12]'),\n",
       " Text(0.09946949602122016, 0.20833333333333334, 'gini = 0.0\\nsamples = 2\\nvalue = [0, 2]'),\n",
       " Text(0.10035366931918656, 0.20833333333333334, 'x[13] <= 2735.0\\ngini = 0.375\\nsamples = 40\\nvalue = [30, 10]'),\n",
       " Text(0.09946949602122016, 0.125, 'x[10] <= 42160.0\\ngini = 0.287\\nsamples = 23\\nvalue = [19, 4]'),\n",
       " Text(0.09902740937223696, 0.041666666666666664, '\\n  (...)  \\n'),\n",
       " Text(0.09991158267020336, 0.041666666666666664, '\\n  (...)  \\n'),\n",
       " Text(0.10123784261715296, 0.125, 'x[13] <= 2839.0\\ngini = 0.457\\nsamples = 17\\nvalue = [11, 6]'),\n",
       " Text(0.10079575596816977, 0.041666666666666664, '\\n  (...)  \\n'),\n",
       " Text(0.10167992926613616, 0.041666666666666664, '\\n  (...)  \\n'),\n",
       " Text(0.16556835764809902, 0.7083333333333334, 'x[3] <= 7.0\\ngini = 0.335\\nsamples = 56815\\nvalue = [44751, 12064]'),\n",
       " Text(0.1280946065428824, 0.625, 'x[13] <= 1972.5\\ngini = 0.294\\nsamples = 23385\\nvalue = [19203, 4182]'),\n",
       " Text(0.11035587975243148, 0.5416666666666666, 'x[0] <= 9.5\\ngini = 0.262\\nsamples = 17660\\nvalue = [14921, 2739]'),\n",
       " Text(0.10676392572944297, 0.4583333333333333, 'x[10] <= 3940.5\\ngini = 0.1\\nsamples = 38\\nvalue = [2, 36]'),\n",
       " Text(0.10632183908045977, 0.375, 'gini = 0.0\\nsamples = 36\\nvalue = [0, 36]'),\n",
       " Text(0.10720601237842617, 0.375, 'gini = 0.0\\nsamples = 2\\nvalue = [2, 0]'),\n",
       " Text(0.11394783377541998, 0.4583333333333333, 'x[9] <= 3278.0\\ngini = 0.26\\nsamples = 17622\\nvalue = [14919, 2703]'),\n",
       " Text(0.10809018567639257, 0.375, 'x[2] <= 426.5\\ngini = 0.142\\nsamples = 2210\\nvalue = [2040, 170]'),\n",
       " Text(0.10565870910698497, 0.2916666666666667, 'x[2] <= 32.5\\ngini = 0.126\\nsamples = 2110\\nvalue = [1967, 143]'),\n",
       " Text(0.10389036251105217, 0.20833333333333334, 'x[13] <= 45.5\\ngini = 0.238\\nsamples = 522\\nvalue = [450, 72]'),\n",
       " Text(0.10300618921308577, 0.125, 'x[0] <= 42.5\\ngini = 0.166\\nsamples = 318\\nvalue = [289, 29]'),\n",
       " Text(0.10256410256410256, 0.041666666666666664, '\\n  (...)  \\n'),\n",
       " Text(0.10344827586206896, 0.041666666666666664, '\\n  (...)  \\n'),\n",
       " Text(0.10477453580901856, 0.125, 'x[5] <= 235.0\\ngini = 0.333\\nsamples = 204\\nvalue = [161, 43]'),\n",
       " Text(0.10433244916003537, 0.041666666666666664, '\\n  (...)  \\n'),\n",
       " Text(0.10521662245800177, 0.041666666666666664, '\\n  (...)  \\n'),\n",
       " Text(0.10742705570291777, 0.20833333333333334, 'x[6] <= 953.0\\ngini = 0.085\\nsamples = 1588\\nvalue = [1517, 71]'),\n",
       " Text(0.10654288240495137, 0.125, 'x[9] <= 147.5\\ngini = 0.074\\nsamples = 1531\\nvalue = [1472, 59]'),\n",
       " Text(0.10610079575596817, 0.041666666666666664, '\\n  (...)  \\n'),\n",
       " Text(0.10698496905393456, 0.041666666666666664, '\\n  (...)  \\n'),\n",
       " Text(0.10831122900088418, 0.125, 'x[6] <= 964.5\\ngini = 0.332\\nsamples = 57\\nvalue = [45, 12]'),\n",
       " Text(0.10786914235190097, 0.041666666666666664, '\\n  (...)  \\n'),\n",
       " Text(0.10875331564986737, 0.041666666666666664, '\\n  (...)  \\n'),\n",
       " Text(0.11052166224580018, 0.2916666666666667, 'x[10] <= 400.0\\ngini = 0.394\\nsamples = 100\\nvalue = [73, 27]'),\n",
       " Text(0.11007957559681697, 0.20833333333333334, 'gini = 0.0\\nsamples = 44\\nvalue = [44, 0]'),\n",
       " Text(0.11096374889478337, 0.20833333333333334, 'x[6] <= 136.0\\ngini = 0.499\\nsamples = 56\\nvalue = [29, 27]'),\n",
       " Text(0.11007957559681697, 0.125, 'x[13] <= 27.5\\ngini = 0.408\\nsamples = 28\\nvalue = [8, 20]'),\n",
       " Text(0.10963748894783377, 0.041666666666666664, '\\n  (...)  \\n'),\n",
       " Text(0.11052166224580018, 0.041666666666666664, '\\n  (...)  \\n'),\n",
       " Text(0.11184792219274978, 0.125, 'x[9] <= 7.5\\ngini = 0.375\\nsamples = 28\\nvalue = [21, 7]'),\n",
       " Text(0.11140583554376658, 0.041666666666666664, '\\n  (...)  \\n'),\n",
       " Text(0.11229000884173299, 0.041666666666666664, '\\n  (...)  \\n'),\n",
       " Text(0.1198054818744474, 0.375, 'x[2] <= 411.5\\ngini = 0.275\\nsamples = 15412\\nvalue = [12879, 2533]'),\n",
       " Text(0.11626878868258178, 0.2916666666666667, 'x[2] <= 13.0\\ngini = 0.235\\nsamples = 6310\\nvalue = [5451, 859]'),\n",
       " Text(0.11450044208664899, 0.20833333333333334, 'x[13] <= 158.5\\ngini = 0.297\\nsamples = 2443\\nvalue = [2000, 443]'),\n",
       " Text(0.11361626878868258, 0.125, 'x[10] <= 9178.0\\ngini = 0.193\\nsamples = 997\\nvalue = [889, 108]'),\n",
       " Text(0.11317418213969938, 0.041666666666666664, '\\n  (...)  \\n'),\n",
       " Text(0.11405835543766578, 0.041666666666666664, '\\n  (...)  \\n'),\n",
       " Text(0.11538461538461539, 0.125, 'x[5] <= 1221.0\\ngini = 0.356\\nsamples = 1446\\nvalue = [1111, 335]'),\n",
       " Text(0.11494252873563218, 0.041666666666666664, '\\n  (...)  \\n'),\n",
       " Text(0.11582670203359859, 0.041666666666666664, '\\n  (...)  \\n'),\n",
       " Text(0.11803713527851459, 0.20833333333333334, 'x[10] <= 8252.0\\ngini = 0.192\\nsamples = 3867\\nvalue = [3451, 416]'),\n",
       " Text(0.11715296198054818, 0.125, 'x[10] <= 8201.0\\ngini = 0.438\\nsamples = 266\\nvalue = [180, 86]'),\n",
       " Text(0.11671087533156499, 0.041666666666666664, '\\n  (...)  \\n'),\n",
       " Text(0.11759504862953139, 0.041666666666666664, '\\n  (...)  \\n'),\n",
       " Text(0.11892130857648099, 0.125, 'x[2] <= 32.5\\ngini = 0.166\\nsamples = 3601\\nvalue = [3271, 330]'),\n",
       " Text(0.1184792219274978, 0.041666666666666664, '\\n  (...)  \\n'),\n",
       " Text(0.11936339522546419, 0.041666666666666664, '\\n  (...)  \\n'),\n",
       " Text(0.123342175066313, 0.2916666666666667, 'x[2] <= 416.5\\ngini = 0.3\\nsamples = 9102\\nvalue = [7428, 1674]'),\n",
       " Text(0.12157382847038019, 0.20833333333333334, 'x[9] <= 209634.0\\ngini = 0.372\\nsamples = 4202\\nvalue = [3166, 1036]'),\n",
       " Text(0.1206896551724138, 0.125, 'x[13] <= 963.5\\ngini = 0.353\\nsamples = 4029\\nvalue = [3107, 922]'),\n",
       " Text(0.12024756852343059, 0.041666666666666664, '\\n  (...)  \\n'),\n",
       " Text(0.121131741821397, 0.041666666666666664, '\\n  (...)  \\n'),\n",
       " Text(0.12245800176834659, 0.125, 'x[9] <= 281661.5\\ngini = 0.449\\nsamples = 173\\nvalue = [59, 114]'),\n",
       " Text(0.1220159151193634, 0.041666666666666664, '\\n  (...)  \\n'),\n",
       " Text(0.1229000884173298, 0.041666666666666664, '\\n  (...)  \\n'),\n",
       " Text(0.1251105216622458, 0.20833333333333334, 'x[2] <= 426.5\\ngini = 0.227\\nsamples = 4900\\nvalue = [4262, 638]'),\n",
       " Text(0.1242263483642794, 0.125, 'x[9] <= 65715.0\\ngini = 0.158\\nsamples = 3214\\nvalue = [2937, 277]'),\n",
       " Text(0.1237842617152962, 0.041666666666666664, '\\n  (...)  \\n'),\n",
       " Text(0.1246684350132626, 0.041666666666666664, '\\n  (...)  \\n'),\n",
       " Text(0.1259946949602122, 0.125, 'x[10] <= 182109.5\\ngini = 0.337\\nsamples = 1686\\nvalue = [1325, 361]'),\n",
       " Text(0.125552608311229, 0.041666666666666664, '\\n  (...)  \\n'),\n",
       " Text(0.12643678160919541, 0.041666666666666664, '\\n  (...)  \\n'),\n",
       " Text(0.14583333333333334, 0.5416666666666666, 'x[2] <= 416.5\\ngini = 0.377\\nsamples = 5725\\nvalue = [4282, 1443]'),\n",
       " Text(0.1361626878868258, 0.4583333333333333, 'x[2] <= 411.5\\ngini = 0.429\\nsamples = 2460\\nvalue = [1695, 765]'),\n",
       " Text(0.1319628647214854, 0.375, 'x[10] <= 363305.0\\ngini = 0.347\\nsamples = 1486\\nvalue = [1154, 332]'),\n",
       " Text(0.1304155614500442, 0.2916666666666667, 'x[10] <= 137254.5\\ngini = 0.372\\nsamples = 1325\\nvalue = [998, 327]'),\n",
       " Text(0.1286472148541114, 0.20833333333333334, 'x[2] <= 32.5\\ngini = 0.286\\nsamples = 833\\nvalue = [689, 144]'),\n",
       " Text(0.127763041556145, 0.125, 'x[13] <= 3566.5\\ngini = 0.322\\nsamples = 664\\nvalue = [530, 134]'),\n",
       " Text(0.1273209549071618, 0.041666666666666664, '\\n  (...)  \\n'),\n",
       " Text(0.1282051282051282, 0.041666666666666664, '\\n  (...)  \\n'),\n",
       " Text(0.12953138815207782, 0.125, 'x[0] <= 37.0\\ngini = 0.111\\nsamples = 169\\nvalue = [159, 10]'),\n",
       " Text(0.1290893015030946, 0.041666666666666664, '\\n  (...)  \\n'),\n",
       " Text(0.129973474801061, 0.041666666666666664, '\\n  (...)  \\n'),\n",
       " Text(0.13218390804597702, 0.20833333333333334, 'x[2] <= 32.5\\ngini = 0.467\\nsamples = 492\\nvalue = [309, 183]'),\n",
       " Text(0.1312997347480106, 0.125, 'x[9] <= 227068.5\\ngini = 0.446\\nsamples = 435\\nvalue = [289, 146]'),\n",
       " Text(0.13085764809902742, 0.041666666666666664, '\\n  (...)  \\n'),\n",
       " Text(0.1317418213969938, 0.041666666666666664, '\\n  (...)  \\n'),\n",
       " Text(0.1330680813439434, 0.125, 'x[0] <= 28.0\\ngini = 0.456\\nsamples = 57\\nvalue = [20, 37]'),\n",
       " Text(0.13262599469496023, 0.041666666666666664, '\\n  (...)  \\n'),\n",
       " Text(0.13351016799292661, 0.041666666666666664, '\\n  (...)  \\n'),\n",
       " Text(0.13351016799292661, 0.2916666666666667, 'x[6] <= 850.0\\ngini = 0.06\\nsamples = 161\\nvalue = [156, 5]'),\n",
       " Text(0.1330680813439434, 0.20833333333333334, 'gini = 0.0\\nsamples = 156\\nvalue = [156, 0]'),\n",
       " Text(0.13395225464190982, 0.20833333333333334, 'gini = 0.0\\nsamples = 5\\nvalue = [0, 5]'),\n",
       " Text(0.1403625110521662, 0.375, 'x[9] <= 119962.5\\ngini = 0.494\\nsamples = 974\\nvalue = [541, 433]'),\n",
       " Text(0.1374889478337754, 0.2916666666666667, 'x[10] <= 18598.0\\ngini = 0.459\\nsamples = 726\\nvalue = [467, 259]'),\n",
       " Text(0.13572060123784263, 0.20833333333333334, 'x[10] <= 4073.5\\ngini = 0.185\\nsamples = 58\\nvalue = [52, 6]'),\n",
       " Text(0.1348364279398762, 0.125, 'x[13] <= 3872.5\\ngini = 0.49\\nsamples = 7\\nvalue = [4, 3]'),\n",
       " Text(0.134394341290893, 0.041666666666666664, '\\n  (...)  \\n'),\n",
       " Text(0.13527851458885942, 0.041666666666666664, '\\n  (...)  \\n'),\n",
       " Text(0.13660477453580902, 0.125, 'x[13] <= 3929.5\\ngini = 0.111\\nsamples = 51\\nvalue = [48, 3]'),\n",
       " Text(0.1361626878868258, 0.041666666666666664, '\\n  (...)  \\n'),\n",
       " Text(0.13704686118479223, 0.041666666666666664, '\\n  (...)  \\n'),\n",
       " Text(0.13925729442970822, 0.20833333333333334, 'x[9] <= 38965.5\\ngini = 0.471\\nsamples = 668\\nvalue = [415, 253]'),\n",
       " Text(0.13837312113174183, 0.125, 'x[10] <= 40344.5\\ngini = 0.423\\nsamples = 194\\nvalue = [135, 59]'),\n",
       " Text(0.13793103448275862, 0.041666666666666664, '\\n  (...)  \\n'),\n",
       " Text(0.138815207780725, 0.041666666666666664, '\\n  (...)  \\n'),\n",
       " Text(0.14014146772767463, 0.125, 'x[10] <= 82494.5\\ngini = 0.484\\nsamples = 474\\nvalue = [280, 194]'),\n",
       " Text(0.13969938107869143, 0.041666666666666664, '\\n  (...)  \\n'),\n",
       " Text(0.14058355437665782, 0.041666666666666664, '\\n  (...)  \\n'),\n",
       " Text(0.14323607427055704, 0.2916666666666667, 'x[9] <= 261334.5\\ngini = 0.419\\nsamples = 248\\nvalue = [74, 174]'),\n",
       " Text(0.14279398762157383, 0.20833333333333334, 'x[6] <= 2002.5\\ngini = 0.46\\nsamples = 206\\nvalue = [74, 132]'),\n",
       " Text(0.1419098143236074, 0.125, 'x[13] <= 2280.0\\ngini = 0.5\\nsamples = 73\\nvalue = [36, 37]'),\n",
       " Text(0.14146772767462423, 0.041666666666666664, '\\n  (...)  \\n'),\n",
       " Text(0.14235190097259062, 0.041666666666666664, '\\n  (...)  \\n'),\n",
       " Text(0.14367816091954022, 0.125, 'x[9] <= 183174.5\\ngini = 0.408\\nsamples = 133\\nvalue = [38, 95]'),\n",
       " Text(0.14323607427055704, 0.041666666666666664, '\\n  (...)  \\n'),\n",
       " Text(0.14412024756852343, 0.041666666666666664, '\\n  (...)  \\n'),\n",
       " Text(0.14367816091954022, 0.20833333333333334, 'gini = 0.0\\nsamples = 42\\nvalue = [0, 42]'),\n",
       " Text(0.15550397877984085, 0.4583333333333333, 'x[9] <= 170737.5\\ngini = 0.329\\nsamples = 3265\\nvalue = [2587, 678]'),\n",
       " Text(0.15008841732979664, 0.375, 'x[13] <= 2098.0\\ngini = 0.378\\nsamples = 2145\\nvalue = [1603, 542]'),\n",
       " Text(0.14743589743589744, 0.2916666666666667, 'x[10] <= 155698.0\\ngini = 0.236\\nsamples = 205\\nvalue = [177, 28]'),\n",
       " Text(0.14633068081343945, 0.20833333333333334, 'x[9] <= 53804.0\\ngini = 0.213\\nsamples = 198\\nvalue = [174, 24]'),\n",
       " Text(0.14544650751547303, 0.125, 'x[13] <= 2071.5\\ngini = 0.13\\nsamples = 100\\nvalue = [93, 7]'),\n",
       " Text(0.14500442086648982, 0.041666666666666664, '\\n  (...)  \\n'),\n",
       " Text(0.14588859416445624, 0.041666666666666664, '\\n  (...)  \\n'),\n",
       " Text(0.14721485411140584, 0.125, 'x[2] <= 426.5\\ngini = 0.287\\nsamples = 98\\nvalue = [81, 17]'),\n",
       " Text(0.14677276746242263, 0.041666666666666664, '\\n  (...)  \\n'),\n",
       " Text(0.14765694076038904, 0.041666666666666664, '\\n  (...)  \\n'),\n",
       " Text(0.14854111405835543, 0.20833333333333334, 'x[6] <= 1698.0\\ngini = 0.49\\nsamples = 7\\nvalue = [3, 4]'),\n",
       " Text(0.14809902740937222, 0.125, 'gini = 0.0\\nsamples = 2\\nvalue = [0, 2]'),\n",
       " Text(0.14898320070733864, 0.125, 'x[9] <= 167060.5\\ngini = 0.48\\nsamples = 5\\nvalue = [3, 2]'),\n",
       " Text(0.14854111405835543, 0.041666666666666664, '\\n  (...)  \\n'),\n",
       " Text(0.14942528735632185, 0.041666666666666664, '\\n  (...)  \\n'),\n",
       " Text(0.15274093722369583, 0.2916666666666667, 'x[13] <= 7048.5\\ngini = 0.39\\nsamples = 1940\\nvalue = [1426, 514]'),\n",
       " Text(0.15163572060123784, 0.20833333333333334, 'x[10] <= 100890.5\\ngini = 0.395\\nsamples = 1894\\nvalue = [1381, 513]'),\n",
       " Text(0.15075154730327145, 0.125, 'x[9] <= 248.5\\ngini = 0.409\\nsamples = 1460\\nvalue = [1041, 419]'),\n",
       " Text(0.15030946065428824, 0.041666666666666664, '\\n  (...)  \\n'),\n",
       " Text(0.15119363395225463, 0.041666666666666664, '\\n  (...)  \\n'),\n",
       " Text(0.15251989389920426, 0.125, 'x[10] <= 173855.5\\ngini = 0.339\\nsamples = 434\\nvalue = [340, 94]'),\n",
       " Text(0.15207780725022105, 0.041666666666666664, '\\n  (...)  \\n'),\n",
       " Text(0.15296198054818744, 0.041666666666666664, '\\n  (...)  \\n'),\n",
       " Text(0.15384615384615385, 0.20833333333333334, 'x[10] <= 147435.5\\ngini = 0.043\\nsamples = 46\\nvalue = [45, 1]'),\n",
       " Text(0.15340406719717065, 0.125, 'gini = 0.0\\nsamples = 39\\nvalue = [39, 0]'),\n",
       " Text(0.15428824049513704, 0.125, 'x[10] <= 151813.0\\ngini = 0.245\\nsamples = 7\\nvalue = [6, 1]'),\n",
       " Text(0.15384615384615385, 0.041666666666666664, '\\n  (...)  \\n'),\n",
       " Text(0.15473032714412024, 0.041666666666666664, '\\n  (...)  \\n'),\n",
       " Text(0.16091954022988506, 0.375, 'x[9] <= 549378.0\\ngini = 0.213\\nsamples = 1120\\nvalue = [984, 136]'),\n",
       " Text(0.15870910698496907, 0.2916666666666667, 'x[6] <= 3044.5\\ngini = 0.193\\nsamples = 1097\\nvalue = [978, 119]'),\n",
       " Text(0.15694076038903626, 0.20833333333333334, 'x[13] <= 2002.0\\ngini = 0.149\\nsamples = 580\\nvalue = [533, 47]'),\n",
       " Text(0.15605658709106984, 0.125, 'x[13] <= 1998.0\\ngini = 0.459\\nsamples = 14\\nvalue = [9, 5]'),\n",
       " Text(0.15561450044208666, 0.041666666666666664, '\\n  (...)  \\n'),\n",
       " Text(0.15649867374005305, 0.041666666666666664, '\\n  (...)  \\n'),\n",
       " Text(0.15782493368700265, 0.125, 'x[2] <= 426.5\\ngini = 0.137\\nsamples = 566\\nvalue = [524, 42]'),\n",
       " Text(0.15738284703801944, 0.041666666666666664, '\\n  (...)  \\n'),\n",
       " Text(0.15826702033598586, 0.041666666666666664, '\\n  (...)  \\n'),\n",
       " Text(0.16047745358090185, 0.20833333333333334, 'x[9] <= 478519.0\\ngini = 0.24\\nsamples = 517\\nvalue = [445, 72]'),\n",
       " Text(0.15959328028293546, 0.125, 'x[10] <= 179011.0\\ngini = 0.213\\nsamples = 471\\nvalue = [414, 57]'),\n",
       " Text(0.15915119363395225, 0.041666666666666664, '\\n  (...)  \\n'),\n",
       " Text(0.16003536693191867, 0.041666666666666664, '\\n  (...)  \\n'),\n",
       " Text(0.16136162687886826, 0.125, 'x[2] <= 426.5\\ngini = 0.44\\nsamples = 46\\nvalue = [31, 15]'),\n",
       " Text(0.16091954022988506, 0.041666666666666664, '\\n  (...)  \\n'),\n",
       " Text(0.16180371352785147, 0.041666666666666664, '\\n  (...)  \\n'),\n",
       " Text(0.16312997347480107, 0.2916666666666667, 'x[2] <= 426.5\\ngini = 0.386\\nsamples = 23\\nvalue = [6, 17]'),\n",
       " Text(0.16268788682581786, 0.20833333333333334, 'gini = 0.0\\nsamples = 2\\nvalue = [2, 0]'),\n",
       " Text(0.16357206012378425, 0.20833333333333334, 'x[10] <= 576359.5\\ngini = 0.308\\nsamples = 21\\nvalue = [4, 17]'),\n",
       " Text(0.16312997347480107, 0.125, 'x[10] <= 563585.5\\ngini = 0.494\\nsamples = 9\\nvalue = [4, 5]'),\n",
       " Text(0.16268788682581786, 0.041666666666666664, '\\n  (...)  \\n'),\n",
       " Text(0.16357206012378425, 0.041666666666666664, '\\n  (...)  \\n'),\n",
       " Text(0.16401414677276746, 0.125, 'gini = 0.0\\nsamples = 12\\nvalue = [0, 12]'),\n",
       " Text(0.20304210875331566, 0.625, 'x[8] <= 878.5\\ngini = 0.36\\nsamples = 33430\\nvalue = [25548, 7882]'),\n",
       " Text(0.1842948717948718, 0.5416666666666666, 'x[2] <= 416.5\\ngini = 0.347\\nsamples = 25298\\nvalue = [19657, 5641]'),\n",
       " Text(0.1750110521662246, 0.4583333333333333, 'x[2] <= 310.5\\ngini = 0.361\\nsamples = 18289\\nvalue = [13959, 4330]'),\n",
       " Text(0.17075596816976127, 0.375, 'x[10] <= 359995.0\\ngini = 0.33\\nsamples = 10563\\nvalue = [8364, 2199]'),\n",
       " Text(0.16755083996463307, 0.2916666666666667, 'x[2] <= 32.5\\ngini = 0.321\\nsamples = 9927\\nvalue = [7935, 1992]'),\n",
       " Text(0.16578249336870027, 0.20833333333333334, 'x[5] <= 839.5\\ngini = 0.341\\nsamples = 7418\\nvalue = [5799, 1619]'),\n",
       " Text(0.16489832007073385, 0.125, 'x[13] <= 107.5\\ngini = 0.376\\nsamples = 3290\\nvalue = [2464, 826]'),\n",
       " Text(0.16445623342175067, 0.041666666666666664, '\\n  (...)  \\n'),\n",
       " Text(0.16534040671971706, 0.041666666666666664, '\\n  (...)  \\n'),\n",
       " Text(0.16666666666666666, 0.125, 'x[2] <= 17.5\\ngini = 0.31\\nsamples = 4128\\nvalue = [3335, 793]'),\n",
       " Text(0.16622458001768348, 0.041666666666666664, '\\n  (...)  \\n'),\n",
       " Text(0.16710875331564987, 0.041666666666666664, '\\n  (...)  \\n'),\n",
       " Text(0.16931918656056588, 0.20833333333333334, 'x[5] <= 5232.5\\ngini = 0.253\\nsamples = 2509\\nvalue = [2136, 373]'),\n",
       " Text(0.16843501326259946, 0.125, 'x[0] <= 13.0\\ngini = 0.244\\nsamples = 2485\\nvalue = [2131, 354]'),\n",
       " Text(0.16799292661361626, 0.041666666666666664, '\\n  (...)  \\n'),\n",
       " Text(0.16887709991158267, 0.041666666666666664, '\\n  (...)  \\n'),\n",
       " Text(0.17020335985853227, 0.125, 'x[10] <= 62913.0\\ngini = 0.33\\nsamples = 24\\nvalue = [5, 19]'),\n",
       " Text(0.16976127320954906, 0.041666666666666664, '\\n  (...)  \\n'),\n",
       " Text(0.17064544650751548, 0.041666666666666664, '\\n  (...)  \\n'),\n",
       " Text(0.1739610963748895, 0.2916666666666667, 'x[2] <= 32.5\\ngini = 0.439\\nsamples = 636\\nvalue = [429, 207]'),\n",
       " Text(0.17285587975243147, 0.20833333333333334, 'x[9] <= 477468.0\\ngini = 0.347\\nsamples = 546\\nvalue = [424, 122]'),\n",
       " Text(0.17197170645446508, 0.125, 'x[13] <= 2226.5\\ngini = 0.41\\nsamples = 386\\nvalue = [275, 111]'),\n",
       " Text(0.17152961980548187, 0.041666666666666664, '\\n  (...)  \\n'),\n",
       " Text(0.1724137931034483, 0.041666666666666664, '\\n  (...)  \\n'),\n",
       " Text(0.17374005305039789, 0.125, 'x[9] <= 565698.0\\ngini = 0.128\\nsamples = 160\\nvalue = [149, 11]'),\n",
       " Text(0.17329796640141468, 0.041666666666666664, '\\n  (...)  \\n'),\n",
       " Text(0.17418213969938107, 0.041666666666666664, '\\n  (...)  \\n'),\n",
       " Text(0.17506631299734748, 0.20833333333333334, 'x[13] <= 634.0\\ngini = 0.105\\nsamples = 90\\nvalue = [5, 85]'),\n",
       " Text(0.17462422634836428, 0.125, 'gini = 0.0\\nsamples = 5\\nvalue = [5, 0]'),\n",
       " Text(0.1755083996463307, 0.125, 'gini = 0.0\\nsamples = 85\\nvalue = [0, 85]'),\n",
       " Text(0.17926613616268788, 0.375, 'x[10] <= 358773.0\\ngini = 0.399\\nsamples = 7726\\nvalue = [5595, 2131]'),\n",
       " Text(0.17882404951370467, 0.2916666666666667, 'x[9] <= 26223.0\\ngini = 0.396\\nsamples = 7685\\nvalue = [5595, 2090]'),\n",
       " Text(0.17727674624226347, 0.20833333333333334, 'x[2] <= 411.5\\ngini = 0.44\\nsamples = 2126\\nvalue = [1432, 694]'),\n",
       " Text(0.17639257294429708, 0.125, 'x[6] <= 344.0\\ngini = 0.395\\nsamples = 188\\nvalue = [51, 137]'),\n",
       " Text(0.17595048629531387, 0.041666666666666664, '\\n  (...)  \\n'),\n",
       " Text(0.1768346595932803, 0.041666666666666664, '\\n  (...)  \\n'),\n",
       " Text(0.1781609195402299, 0.125, 'x[10] <= 1770.5\\ngini = 0.41\\nsamples = 1938\\nvalue = [1381, 557]'),\n",
       " Text(0.17771883289124668, 0.041666666666666664, '\\n  (...)  \\n'),\n",
       " Text(0.1786030061892131, 0.041666666666666664, '\\n  (...)  \\n'),\n",
       " Text(0.18037135278514588, 0.20833333333333334, 'x[0] <= 11.5\\ngini = 0.376\\nsamples = 5559\\nvalue = [4163, 1396]'),\n",
       " Text(0.1799292661361627, 0.125, 'x[6] <= 1620.0\\ngini = 0.374\\nsamples = 5540\\nvalue = [4163, 1377]'),\n",
       " Text(0.1794871794871795, 0.041666666666666664, '\\n  (...)  \\n'),\n",
       " Text(0.18037135278514588, 0.041666666666666664, '\\n  (...)  \\n'),\n",
       " Text(0.1808134394341291, 0.125, 'gini = 0.0\\nsamples = 19\\nvalue = [0, 19]'),\n",
       " Text(0.1797082228116711, 0.2916666666666667, 'gini = 0.0\\nsamples = 41\\nvalue = [0, 41]'),\n",
       " Text(0.19357869142351902, 0.4583333333333333, 'x[5] <= 299.5\\ngini = 0.304\\nsamples = 7009\\nvalue = [5698, 1311]'),\n",
       " Text(0.1877763041556145, 0.375, 'x[10] <= 416294.0\\ngini = 0.329\\nsamples = 4599\\nvalue = [3644, 955]'),\n",
       " Text(0.1843501326259947, 0.2916666666666667, 'x[10] <= 3280.5\\ngini = 0.322\\nsamples = 4460\\nvalue = [3559, 901]'),\n",
       " Text(0.1825817860300619, 0.20833333333333334, 'x[9] <= 2216.0\\ngini = 0.45\\nsamples = 225\\nvalue = [148, 77]'),\n",
       " Text(0.1816976127320955, 0.125, 'x[8] <= 781.5\\ngini = 0.417\\nsamples = 182\\nvalue = [128, 54]'),\n",
       " Text(0.1812555260831123, 0.041666666666666664, '\\n  (...)  \\n'),\n",
       " Text(0.18213969938107868, 0.041666666666666664, '\\n  (...)  \\n'),\n",
       " Text(0.18346595932802828, 0.125, 'x[2] <= 426.5\\ngini = 0.498\\nsamples = 43\\nvalue = [20, 23]'),\n",
       " Text(0.1830238726790451, 0.041666666666666664, '\\n  (...)  \\n'),\n",
       " Text(0.1839080459770115, 0.041666666666666664, '\\n  (...)  \\n'),\n",
       " Text(0.1861184792219275, 0.20833333333333334, 'x[5] <= 0.5\\ngini = 0.313\\nsamples = 4235\\nvalue = [3411, 824]'),\n",
       " Text(0.1852343059239611, 0.125, 'x[13] <= 19.5\\ngini = 0.436\\nsamples = 181\\nvalue = [123, 58]'),\n",
       " Text(0.1847922192749779, 0.041666666666666664, '\\n  (...)  \\n'),\n",
       " Text(0.1856763925729443, 0.041666666666666664, '\\n  (...)  \\n'),\n",
       " Text(0.1870026525198939, 0.125, 'x[10] <= 117362.5\\ngini = 0.306\\nsamples = 4054\\nvalue = [3288, 766]'),\n",
       " Text(0.1865605658709107, 0.041666666666666664, '\\n  (...)  \\n'),\n",
       " Text(0.1874447391688771, 0.041666666666666664, '\\n  (...)  \\n'),\n",
       " Text(0.1912024756852343, 0.2916666666666667, 'x[10] <= 478160.0\\ngini = 0.475\\nsamples = 139\\nvalue = [85, 54]'),\n",
       " Text(0.1896551724137931, 0.20833333333333334, 'x[2] <= 426.5\\ngini = 0.425\\nsamples = 75\\nvalue = [23, 52]'),\n",
       " Text(0.1887709991158267, 0.125, 'x[9] <= 431597.0\\ngini = 0.278\\nsamples = 60\\nvalue = [10, 50]'),\n",
       " Text(0.1883289124668435, 0.041666666666666664, '\\n  (...)  \\n'),\n",
       " Text(0.1892130857648099, 0.041666666666666664, '\\n  (...)  \\n'),\n",
       " Text(0.1905393457117595, 0.125, 'x[10] <= 467182.0\\ngini = 0.231\\nsamples = 15\\nvalue = [13, 2]'),\n",
       " Text(0.1900972590627763, 0.041666666666666664, '\\n  (...)  \\n'),\n",
       " Text(0.1909814323607427, 0.041666666666666664, '\\n  (...)  \\n'),\n",
       " Text(0.1927497789566755, 0.20833333333333334, 'x[10] <= 803310.5\\ngini = 0.061\\nsamples = 64\\nvalue = [62, 2]'),\n",
       " Text(0.19230769230769232, 0.125, 'x[8] <= 837.0\\ngini = 0.031\\nsamples = 63\\nvalue = [62, 1]'),\n",
       " Text(0.1918656056587091, 0.041666666666666664, '\\n  (...)  \\n'),\n",
       " Text(0.1927497789566755, 0.041666666666666664, '\\n  (...)  \\n'),\n",
       " Text(0.1931918656056587, 0.125, 'gini = 0.0\\nsamples = 1\\nvalue = [0, 1]'),\n",
       " Text(0.19938107869142352, 0.375, 'x[9] <= 128282.0\\ngini = 0.252\\nsamples = 2410\\nvalue = [2054, 356]'),\n",
       " Text(0.19672855879752432, 0.2916666666666667, 'x[13] <= 2434.0\\ngini = 0.308\\nsamples = 1420\\nvalue = [1150, 270]'),\n",
       " Text(0.19496021220159152, 0.20833333333333334, 'x[9] <= 81224.5\\ngini = 0.215\\nsamples = 941\\nvalue = [826, 115]'),\n",
       " Text(0.1940760389036251, 0.125, 'x[2] <= 426.5\\ngini = 0.129\\nsamples = 722\\nvalue = [672, 50]'),\n",
       " Text(0.19363395225464192, 0.041666666666666664, '\\n  (...)  \\n'),\n",
       " Text(0.1945181255526083, 0.041666666666666664, '\\n  (...)  \\n'),\n",
       " Text(0.1958443854995579, 0.125, 'x[6] <= 95.5\\ngini = 0.417\\nsamples = 219\\nvalue = [154, 65]'),\n",
       " Text(0.19540229885057472, 0.041666666666666664, '\\n  (...)  \\n'),\n",
       " Text(0.1962864721485411, 0.041666666666666664, '\\n  (...)  \\n'),\n",
       " Text(0.19849690539345713, 0.20833333333333334, 'x[2] <= 426.5\\ngini = 0.438\\nsamples = 479\\nvalue = [324, 155]'),\n",
       " Text(0.1976127320954907, 0.125, 'x[13] <= 3850.5\\ngini = 0.379\\nsamples = 244\\nvalue = [182, 62]'),\n",
       " Text(0.1971706454465075, 0.041666666666666664, '\\n  (...)  \\n'),\n",
       " Text(0.19805481874447392, 0.041666666666666664, '\\n  (...)  \\n'),\n",
       " Text(0.19938107869142352, 0.125, 'x[9] <= 103310.0\\ngini = 0.478\\nsamples = 235\\nvalue = [142, 93]'),\n",
       " Text(0.1989389920424403, 0.041666666666666664, '\\n  (...)  \\n'),\n",
       " Text(0.19982316534040673, 0.041666666666666664, '\\n  (...)  \\n'),\n",
       " Text(0.20203359858532272, 0.2916666666666667, 'x[10] <= 649149.0\\ngini = 0.159\\nsamples = 990\\nvalue = [904, 86]'),\n",
       " Text(0.20159151193633953, 0.20833333333333334, 'x[10] <= 388467.0\\ngini = 0.146\\nsamples = 982\\nvalue = [904, 78]'),\n",
       " Text(0.20114942528735633, 0.125, 'x[9] <= 203014.0\\ngini = 0.177\\nsamples = 796\\nvalue = [718, 78]'),\n",
       " Text(0.20070733863837312, 0.041666666666666664, '\\n  (...)  \\n'),\n",
       " Text(0.20159151193633953, 0.041666666666666664, '\\n  (...)  \\n'),\n",
       " Text(0.20203359858532272, 0.125, 'gini = 0.0\\nsamples = 186\\nvalue = [186, 0]'),\n",
       " Text(0.20247568523430592, 0.20833333333333334, 'gini = 0.0\\nsamples = 8\\nvalue = [0, 8]'),\n",
       " Text(0.2217893457117595, 0.5416666666666666, 'x[10] <= 187145.0\\ngini = 0.399\\nsamples = 8132\\nvalue = [5891, 2241]'),\n",
       " Text(0.21314102564102563, 0.4583333333333333, 'x[8] <= 2987.0\\ngini = 0.427\\nsamples = 5326\\nvalue = [3678, 1648]'),\n",
       " Text(0.20833333333333334, 0.375, 'x[2] <= 426.5\\ngini = 0.412\\nsamples = 4414\\nvalue = [3132, 1282]'),\n",
       " Text(0.20557029177718833, 0.2916666666666667, 'x[9] <= 14485.0\\ngini = 0.434\\nsamples = 3271\\nvalue = [2231, 1040]'),\n",
       " Text(0.20380194518125552, 0.20833333333333334, 'x[8] <= 1768.0\\ngini = 0.479\\nsamples = 281\\nvalue = [169, 112]'),\n",
       " Text(0.20291777188328913, 0.125, 'x[8] <= 1054.0\\ngini = 0.458\\nsamples = 206\\nvalue = [133, 73]'),\n",
       " Text(0.20247568523430592, 0.041666666666666664, '\\n  (...)  \\n'),\n",
       " Text(0.20335985853227231, 0.041666666666666664, '\\n  (...)  \\n'),\n",
       " Text(0.20468611847922194, 0.125, 'x[8] <= 1788.5\\ngini = 0.499\\nsamples = 75\\nvalue = [36, 39]'),\n",
       " Text(0.20424403183023873, 0.041666666666666664, '\\n  (...)  \\n'),\n",
       " Text(0.20512820512820512, 0.041666666666666664, '\\n  (...)  \\n'),\n",
       " Text(0.20733863837312114, 0.20833333333333334, 'x[9] <= 166815.5\\ngini = 0.428\\nsamples = 2990\\nvalue = [2062, 928]'),\n",
       " Text(0.20645446507515472, 0.125, 'x[3] <= 8.5\\ngini = 0.423\\nsamples = 2822\\nvalue = [1964, 858]'),\n",
       " Text(0.20601237842617154, 0.041666666666666664, '\\n  (...)  \\n'),\n",
       " Text(0.20689655172413793, 0.041666666666666664, '\\n  (...)  \\n'),\n",
       " Text(0.20822281167108753, 0.125, 'x[9] <= 167265.0\\ngini = 0.486\\nsamples = 168\\nvalue = [98, 70]'),\n",
       " Text(0.20778072502210435, 0.041666666666666664, '\\n  (...)  \\n'),\n",
       " Text(0.20866489832007074, 0.041666666666666664, '\\n  (...)  \\n'),\n",
       " Text(0.21109637488947833, 0.2916666666666667, 'x[9] <= 134780.0\\ngini = 0.334\\nsamples = 1143\\nvalue = [901, 242]'),\n",
       " Text(0.20954907161803712, 0.20833333333333334, 'x[10] <= 1917.5\\ngini = 0.379\\nsamples = 909\\nvalue = [678, 231]'),\n",
       " Text(0.20910698496905394, 0.125, 'gini = 0.0\\nsamples = 4\\nvalue = [0, 4]'),\n",
       " Text(0.20999115826702033, 0.125, 'x[8] <= 2304.5\\ngini = 0.376\\nsamples = 905\\nvalue = [678, 227]'),\n",
       " Text(0.20954907161803712, 0.041666666666666664, '\\n  (...)  \\n'),\n",
       " Text(0.21043324491600354, 0.041666666666666664, '\\n  (...)  \\n'),\n",
       " Text(0.21264367816091953, 0.20833333333333334, 'x[13] <= 3104.0\\ngini = 0.09\\nsamples = 234\\nvalue = [223, 11]'),\n",
       " Text(0.21175950486295314, 0.125, 'x[10] <= 185724.5\\ngini = 0.054\\nsamples = 215\\nvalue = [209, 6]'),\n",
       " Text(0.21131741821396993, 0.041666666666666664, '\\n  (...)  \\n'),\n",
       " Text(0.21220159151193635, 0.041666666666666664, '\\n  (...)  \\n'),\n",
       " Text(0.21352785145888595, 0.125, 'x[8] <= 2665.0\\ngini = 0.388\\nsamples = 19\\nvalue = [14, 5]'),\n",
       " Text(0.21308576480990274, 0.041666666666666664, '\\n  (...)  \\n'),\n",
       " Text(0.21396993810786913, 0.041666666666666664, '\\n  (...)  \\n'),\n",
       " Text(0.21794871794871795, 0.375, 'x[9] <= 87444.5\\ngini = 0.481\\nsamples = 912\\nvalue = [546, 366]'),\n",
       " Text(0.21573828470380194, 0.2916666666666667, 'x[8] <= 6352.0\\ngini = 0.496\\nsamples = 466\\nvalue = [255, 211]'),\n",
       " Text(0.21485411140583555, 0.20833333333333334, 'x[13] <= 3503.0\\ngini = 0.488\\nsamples = 395\\nvalue = [228, 167]'),\n",
       " Text(0.21441202475685234, 0.125, 'gini = 0.0\\nsamples = 7\\nvalue = [0, 7]'),\n",
       " Text(0.21529619805481875, 0.125, 'x[8] <= 5105.5\\ngini = 0.485\\nsamples = 388\\nvalue = [228, 160]'),\n",
       " Text(0.21485411140583555, 0.041666666666666664, '\\n  (...)  \\n'),\n",
       " Text(0.21573828470380194, 0.041666666666666664, '\\n  (...)  \\n'),\n",
       " Text(0.21662245800176835, 0.20833333333333334, 'x[13] <= 6946.0\\ngini = 0.471\\nsamples = 71\\nvalue = [27, 44]'),\n",
       " Text(0.21618037135278514, 0.125, 'gini = 0.0\\nsamples = 5\\nvalue = [0, 5]'),\n",
       " Text(0.21706454465075153, 0.125, 'x[2] <= 426.5\\ngini = 0.483\\nsamples = 66\\nvalue = [27, 39]'),\n",
       " Text(0.21662245800176835, 0.041666666666666664, '\\n  (...)  \\n'),\n",
       " Text(0.21750663129973474, 0.041666666666666664, '\\n  (...)  \\n'),\n",
       " Text(0.22015915119363394, 0.2916666666666667, 'x[2] <= 411.5\\ngini = 0.454\\nsamples = 446\\nvalue = [291, 155]'),\n",
       " Text(0.21927497789566755, 0.20833333333333334, 'x[10] <= 167079.5\\ngini = 0.346\\nsamples = 9\\nvalue = [2, 7]'),\n",
       " Text(0.21883289124668434, 0.125, 'x[13] <= 5885.5\\ngini = 0.219\\nsamples = 8\\nvalue = [1, 7]'),\n",
       " Text(0.21839080459770116, 0.041666666666666664, '\\n  (...)  \\n'),\n",
       " Text(0.21927497789566755, 0.041666666666666664, '\\n  (...)  \\n'),\n",
       " Text(0.21971706454465076, 0.125, 'gini = 0.0\\nsamples = 1\\nvalue = [1, 0]'),\n",
       " Text(0.22104332449160036, 0.20833333333333334, 'x[10] <= 186087.0\\ngini = 0.448\\nsamples = 437\\nvalue = [289, 148]'),\n",
       " Text(0.22060123784261715, 0.125, 'x[2] <= 416.5\\ngini = 0.446\\nsamples = 435\\nvalue = [289, 146]'),\n",
       " Text(0.22015915119363394, 0.041666666666666664, '\\n  (...)  \\n'),\n",
       " Text(0.22104332449160036, 0.041666666666666664, '\\n  (...)  \\n'),\n",
       " Text(0.22148541114058357, 0.125, 'gini = 0.0\\nsamples = 2\\nvalue = [0, 2]'),\n",
       " Text(0.23043766578249336, 0.4583333333333333, 'x[9] <= 813307.0\\ngini = 0.333\\nsamples = 2806\\nvalue = [2213, 593]'),\n",
       " Text(0.22745358090185677, 0.375, 'x[2] <= 416.5\\ngini = 0.325\\nsamples = 2777\\nvalue = [2210, 567]'),\n",
       " Text(0.22435897435897437, 0.2916666666666667, 'x[10] <= 351023.5\\ngini = 0.442\\nsamples = 541\\nvalue = [363, 178]'),\n",
       " Text(0.22281167108753316, 0.20833333333333334, 'x[2] <= 411.5\\ngini = 0.368\\nsamples = 469\\nvalue = [355, 114]'),\n",
       " Text(0.22236958443854996, 0.125, 'gini = 0.0\\nsamples = 30\\nvalue = [30, 0]'),\n",
       " Text(0.22325375773651635, 0.125, 'x[10] <= 251934.5\\ngini = 0.384\\nsamples = 439\\nvalue = [325, 114]'),\n",
       " Text(0.22281167108753316, 0.041666666666666664, '\\n  (...)  \\n'),\n",
       " Text(0.22369584438549955, 0.041666666666666664, '\\n  (...)  \\n'),\n",
       " Text(0.22590627763041557, 0.20833333333333334, 'x[9] <= 366410.5\\ngini = 0.198\\nsamples = 72\\nvalue = [8, 64]'),\n",
       " Text(0.22502210433244915, 0.125, 'x[9] <= 354602.0\\ngini = 0.455\\nsamples = 20\\nvalue = [7, 13]'),\n",
       " Text(0.22458001768346597, 0.041666666666666664, '\\n  (...)  \\n'),\n",
       " Text(0.22546419098143236, 0.041666666666666664, '\\n  (...)  \\n'),\n",
       " Text(0.22679045092838196, 0.125, 'x[13] <= 6070.0\\ngini = 0.038\\nsamples = 52\\nvalue = [1, 51]'),\n",
       " Text(0.22634836427939875, 0.041666666666666664, '\\n  (...)  \\n'),\n",
       " Text(0.22723253757736517, 0.041666666666666664, '\\n  (...)  \\n'),\n",
       " Text(0.23054818744473918, 0.2916666666666667, 'x[10] <= 470653.0\\ngini = 0.287\\nsamples = 2236\\nvalue = [1847, 389]'),\n",
       " Text(0.22944297082228116, 0.20833333333333334, 'x[13] <= 1436.5\\ngini = 0.315\\nsamples = 1820\\nvalue = [1463, 357]'),\n",
       " Text(0.22855879752431477, 0.125, 'x[8] <= 911.5\\ngini = 0.499\\nsamples = 52\\nvalue = [27, 25]'),\n",
       " Text(0.22811671087533156, 0.041666666666666664, '\\n  (...)  \\n'),\n",
       " Text(0.22900088417329797, 0.041666666666666664, '\\n  (...)  \\n'),\n",
       " Text(0.23032714412024757, 0.125, 'x[10] <= 411712.5\\ngini = 0.305\\nsamples = 1768\\nvalue = [1436, 332]'),\n",
       " Text(0.22988505747126436, 0.041666666666666664, '\\n  (...)  \\n'),\n",
       " Text(0.23076923076923078, 0.041666666666666664, '\\n  (...)  \\n'),\n",
       " Text(0.23165340406719717, 0.20833333333333334, 'x[9] <= 588268.5\\ngini = 0.142\\nsamples = 416\\nvalue = [384, 32]'),\n",
       " Text(0.23121131741821396, 0.125, 'gini = 0.0\\nsamples = 179\\nvalue = [179, 0]'),\n",
       " Text(0.23209549071618038, 0.125, 'x[2] <= 426.5\\ngini = 0.234\\nsamples = 237\\nvalue = [205, 32]'),\n",
       " Text(0.23165340406719717, 0.041666666666666664, '\\n  (...)  \\n'),\n",
       " Text(0.23253757736516356, 0.041666666666666664, '\\n  (...)  \\n'),\n",
       " Text(0.23342175066312998, 0.375, 'x[8] <= 3818.5\\ngini = 0.185\\nsamples = 29\\nvalue = [3, 26]'),\n",
       " Text(0.23297966401414677, 0.2916666666666667, 'gini = 0.0\\nsamples = 20\\nvalue = [0, 20]'),\n",
       " Text(0.2338638373121132, 0.2916666666666667, 'x[8] <= 4689.5\\ngini = 0.444\\nsamples = 9\\nvalue = [3, 6]'),\n",
       " Text(0.23342175066312998, 0.20833333333333334, 'x[9] <= 895014.5\\ngini = 0.48\\nsamples = 5\\nvalue = [3, 2]'),\n",
       " Text(0.23297966401414677, 0.125, 'gini = 0.0\\nsamples = 2\\nvalue = [2, 0]'),\n",
       " Text(0.2338638373121132, 0.125, 'x[9] <= 904647.5\\ngini = 0.444\\nsamples = 3\\nvalue = [1, 2]'),\n",
       " Text(0.23342175066312998, 0.041666666666666664, '\\n  (...)  \\n'),\n",
       " Text(0.23430592396109637, 0.041666666666666664, '\\n  (...)  \\n'),\n",
       " Text(0.23430592396109637, 0.20833333333333334, 'gini = 0.0\\nsamples = 4\\nvalue = [0, 4]'),\n",
       " Text(0.30250469717064543, 0.7916666666666666, 'x[2] <= 460.0\\ngini = 0.131\\nsamples = 18025\\nvalue = [16757, 1268]'),\n",
       " Text(0.2774162798408488, 0.7083333333333334, 'x[10] <= 239606.0\\ngini = 0.161\\nsamples = 9718\\nvalue = [8857, 861]'),\n",
       " Text(0.2607620468611848, 0.625, 'x[8] <= 476.5\\ngini = 0.2\\nsamples = 6462\\nvalue = [5735, 727]'),\n",
       " Text(0.2490605658709107, 0.5416666666666666, 'x[10] <= 30657.0\\ngini = 0.151\\nsamples = 4232\\nvalue = [3883, 349]'),\n",
       " Text(0.2434792219274978, 0.4583333333333333, 'x[6] <= 6706.5\\ngini = 0.071\\nsamples = 973\\nvalue = [937, 36]'),\n",
       " Text(0.24071618037135278, 0.375, 'x[6] <= 1553.0\\ngini = 0.066\\nsamples = 961\\nvalue = [928, 33]'),\n",
       " Text(0.2382847038019452, 0.2916666666666667, 'x[10] <= 9717.0\\ngini = 0.047\\nsamples = 708\\nvalue = [691, 17]'),\n",
       " Text(0.23651635720601238, 0.20833333333333334, 'x[9] <= 8484.5\\ngini = 0.105\\nsamples = 197\\nvalue = [186, 11]'),\n",
       " Text(0.23563218390804597, 0.125, 'x[8] <= 62.5\\ngini = 0.064\\nsamples = 182\\nvalue = [176, 6]'),\n",
       " Text(0.23519009725906279, 0.041666666666666664, '\\n  (...)  \\n'),\n",
       " Text(0.23607427055702918, 0.041666666666666664, '\\n  (...)  \\n'),\n",
       " Text(0.23740053050397877, 0.125, 'x[13] <= 82.5\\ngini = 0.444\\nsamples = 15\\nvalue = [10, 5]'),\n",
       " Text(0.2369584438549956, 0.041666666666666664, '\\n  (...)  \\n'),\n",
       " Text(0.23784261715296198, 0.041666666666666664, '\\n  (...)  \\n'),\n",
       " Text(0.24005305039787797, 0.20833333333333334, 'x[2] <= 451.5\\ngini = 0.023\\nsamples = 511\\nvalue = [505, 6]'),\n",
       " Text(0.23916887709991158, 0.125, 'x[8] <= 280.5\\ngini = 0.005\\nsamples = 406\\nvalue = [405, 1]'),\n",
       " Text(0.23872679045092837, 0.041666666666666664, '\\n  (...)  \\n'),\n",
       " Text(0.2396109637488948, 0.041666666666666664, '\\n  (...)  \\n'),\n",
       " Text(0.2409372236958444, 0.125, 'x[6] <= 383.0\\ngini = 0.091\\nsamples = 105\\nvalue = [100, 5]'),\n",
       " Text(0.24049513704686118, 0.041666666666666664, '\\n  (...)  \\n'),\n",
       " Text(0.2413793103448276, 0.041666666666666664, '\\n  (...)  \\n'),\n",
       " Text(0.24314765694076038, 0.2916666666666667, 'x[6] <= 1563.5\\ngini = 0.118\\nsamples = 253\\nvalue = [237, 16]'),\n",
       " Text(0.2427055702917772, 0.20833333333333334, 'gini = 0.0\\nsamples = 1\\nvalue = [0, 1]'),\n",
       " Text(0.24358974358974358, 0.20833333333333334, 'x[6] <= 2589.0\\ngini = 0.112\\nsamples = 252\\nvalue = [237, 15]'),\n",
       " Text(0.2427055702917772, 0.125, 'x[9] <= 5270.5\\ngini = 0.162\\nsamples = 124\\nvalue = [113, 11]'),\n",
       " Text(0.242263483642794, 0.041666666666666664, '\\n  (...)  \\n'),\n",
       " Text(0.24314765694076038, 0.041666666666666664, '\\n  (...)  \\n'),\n",
       " Text(0.24447391688771, 0.125, 'x[10] <= 21441.0\\ngini = 0.061\\nsamples = 128\\nvalue = [124, 4]'),\n",
       " Text(0.2440318302387268, 0.041666666666666664, '\\n  (...)  \\n'),\n",
       " Text(0.24491600353669318, 0.041666666666666664, '\\n  (...)  \\n'),\n",
       " Text(0.24624226348364278, 0.375, 'x[13] <= 7061.0\\ngini = 0.375\\nsamples = 12\\nvalue = [9, 3]'),\n",
       " Text(0.2458001768346596, 0.2916666666666667, 'gini = 0.0\\nsamples = 1\\nvalue = [0, 1]'),\n",
       " Text(0.246684350132626, 0.2916666666666667, 'x[6] <= 14497.0\\ngini = 0.298\\nsamples = 11\\nvalue = [9, 2]'),\n",
       " Text(0.2458001768346596, 0.20833333333333334, 'x[10] <= 20319.0\\ngini = 0.198\\nsamples = 9\\nvalue = [8, 1]'),\n",
       " Text(0.2453580901856764, 0.125, 'gini = 0.0\\nsamples = 5\\nvalue = [5, 0]'),\n",
       " Text(0.24624226348364278, 0.125, 'x[9] <= 14439.5\\ngini = 0.375\\nsamples = 4\\nvalue = [3, 1]'),\n",
       " Text(0.2458001768346596, 0.041666666666666664, '\\n  (...)  \\n'),\n",
       " Text(0.246684350132626, 0.041666666666666664, '\\n  (...)  \\n'),\n",
       " Text(0.2475685234305924, 0.20833333333333334, 'x[2] <= 447.5\\ngini = 0.5\\nsamples = 2\\nvalue = [1, 1]'),\n",
       " Text(0.2471264367816092, 0.125, 'gini = 0.0\\nsamples = 1\\nvalue = [1, 0]'),\n",
       " Text(0.2480106100795756, 0.125, 'gini = 0.0\\nsamples = 1\\nvalue = [0, 1]'),\n",
       " Text(0.2546419098143236, 0.4583333333333333, 'x[10] <= 30698.0\\ngini = 0.174\\nsamples = 3259\\nvalue = [2946, 313]'),\n",
       " Text(0.2541998231653404, 0.375, 'gini = 0.0\\nsamples = 4\\nvalue = [0, 4]'),\n",
       " Text(0.2550839964633068, 0.375, 'x[3] <= 7.0\\ngini = 0.172\\nsamples = 3255\\nvalue = [2946, 309]'),\n",
       " Text(0.2515473032714412, 0.2916666666666667, 'x[2] <= 451.5\\ngini = 0.133\\nsamples = 1987\\nvalue = [1845, 142]'),\n",
       " Text(0.2497789566755084, 0.20833333333333334, 'x[10] <= 49914.5\\ngini = 0.084\\nsamples = 1351\\nvalue = [1292, 59]'),\n",
       " Text(0.248894783377542, 0.125, 'x[13] <= 1038.0\\ngini = 0.144\\nsamples = 319\\nvalue = [294, 25]'),\n",
       " Text(0.2484526967285588, 0.041666666666666664, '\\n  (...)  \\n'),\n",
       " Text(0.2493368700265252, 0.041666666666666664, '\\n  (...)  \\n'),\n",
       " Text(0.2506631299734748, 0.125, 'x[9] <= 112184.5\\ngini = 0.064\\nsamples = 1032\\nvalue = [998, 34]'),\n",
       " Text(0.2502210433244916, 0.041666666666666664, '\\n  (...)  \\n'),\n",
       " Text(0.251105216622458, 0.041666666666666664, '\\n  (...)  \\n'),\n",
       " Text(0.253315649867374, 0.20833333333333334, 'x[13] <= 4499.0\\ngini = 0.227\\nsamples = 636\\nvalue = [553, 83]'),\n",
       " Text(0.2524314765694076, 0.125, 'x[9] <= 156235.0\\ngini = 0.177\\nsamples = 499\\nvalue = [450, 49]'),\n",
       " Text(0.2519893899204244, 0.041666666666666664, '\\n  (...)  \\n'),\n",
       " Text(0.25287356321839083, 0.041666666666666664, '\\n  (...)  \\n'),\n",
       " Text(0.2541998231653404, 0.125, 'x[6] <= 6074.0\\ngini = 0.373\\nsamples = 137\\nvalue = [103, 34]'),\n",
       " Text(0.2537577365163572, 0.041666666666666664, '\\n  (...)  \\n'),\n",
       " Text(0.2546419098143236, 0.041666666666666664, '\\n  (...)  \\n'),\n",
       " Text(0.25862068965517243, 0.2916666666666667, 'x[2] <= 446.0\\ngini = 0.229\\nsamples = 1268\\nvalue = [1101, 167]'),\n",
       " Text(0.2568523430592396, 0.20833333333333334, 'x[13] <= 1960.5\\ngini = 0.288\\nsamples = 821\\nvalue = [678, 143]'),\n",
       " Text(0.25596816976127323, 0.125, 'x[10] <= 83990.5\\ngini = 0.358\\nsamples = 492\\nvalue = [377, 115]'),\n",
       " Text(0.25552608311229, 0.041666666666666664, '\\n  (...)  \\n'),\n",
       " Text(0.2564102564102564, 0.041666666666666664, '\\n  (...)  \\n'),\n",
       " Text(0.257736516357206, 0.125, 'x[1] <= 0.5\\ngini = 0.156\\nsamples = 329\\nvalue = [301, 28]'),\n",
       " Text(0.2572944297082228, 0.041666666666666664, '\\n  (...)  \\n'),\n",
       " Text(0.2581786030061892, 0.041666666666666664, '\\n  (...)  \\n'),\n",
       " Text(0.2603890362511052, 0.20833333333333334, 'x[13] <= 21.0\\ngini = 0.102\\nsamples = 447\\nvalue = [423, 24]'),\n",
       " Text(0.2595048629531388, 0.125, 'x[3] <= 8.5\\ngini = 0.36\\nsamples = 17\\nvalue = [13, 4]'),\n",
       " Text(0.25906277630415564, 0.041666666666666664, '\\n  (...)  \\n'),\n",
       " Text(0.259946949602122, 0.041666666666666664, '\\n  (...)  \\n'),\n",
       " Text(0.2612732095490716, 0.125, 'x[9] <= 122994.5\\ngini = 0.089\\nsamples = 430\\nvalue = [410, 20]'),\n",
       " Text(0.2608311229000884, 0.041666666666666664, '\\n  (...)  \\n'),\n",
       " Text(0.26171529619805484, 0.041666666666666664, '\\n  (...)  \\n'),\n",
       " Text(0.2724635278514589, 0.5416666666666666, 'x[10] <= 54541.5\\ngini = 0.282\\nsamples = 2230\\nvalue = [1852, 378]'),\n",
       " Text(0.26486516357206014, 0.4583333333333333, 'x[8] <= 498.0\\ngini = 0.187\\nsamples = 518\\nvalue = [464, 54]'),\n",
       " Text(0.26171529619805484, 0.375, 'x[9] <= 26955.0\\ngini = 0.49\\nsamples = 7\\nvalue = [4, 3]'),\n",
       " Text(0.2612732095490716, 0.2916666666666667, 'gini = 0.0\\nsamples = 2\\nvalue = [0, 2]'),\n",
       " Text(0.26215738284703805, 0.2916666666666667, 'x[10] <= 34458.0\\ngini = 0.32\\nsamples = 5\\nvalue = [4, 1]'),\n",
       " Text(0.26171529619805484, 0.20833333333333334, 'gini = 0.0\\nsamples = 3\\nvalue = [3, 0]'),\n",
       " Text(0.2625994694960212, 0.20833333333333334, 'x[13] <= 984.0\\ngini = 0.5\\nsamples = 2\\nvalue = [1, 1]'),\n",
       " Text(0.26215738284703805, 0.125, 'gini = 0.0\\nsamples = 1\\nvalue = [0, 1]'),\n",
       " Text(0.2630415561450044, 0.125, 'gini = 0.0\\nsamples = 1\\nvalue = [1, 0]'),\n",
       " Text(0.26801503094606544, 0.375, 'x[13] <= 4292.5\\ngini = 0.18\\nsamples = 511\\nvalue = [460, 51]'),\n",
       " Text(0.265473032714412, 0.2916666666666667, 'x[8] <= 1331.5\\ngini = 0.154\\nsamples = 440\\nvalue = [403, 37]'),\n",
       " Text(0.26436781609195403, 0.20833333333333334, 'x[8] <= 1328.5\\ngini = 0.195\\nsamples = 238\\nvalue = [212, 26]'),\n",
       " Text(0.2639257294429708, 0.125, 'x[8] <= 1300.0\\ngini = 0.189\\nsamples = 237\\nvalue = [212, 25]'),\n",
       " Text(0.2634836427939876, 0.041666666666666664, '\\n  (...)  \\n'),\n",
       " Text(0.26436781609195403, 0.041666666666666664, '\\n  (...)  \\n'),\n",
       " Text(0.26480990274093724, 0.125, 'gini = 0.0\\nsamples = 1\\nvalue = [0, 1]'),\n",
       " Text(0.26657824933687, 0.20833333333333334, 'x[10] <= 51666.0\\ngini = 0.103\\nsamples = 202\\nvalue = [191, 11]'),\n",
       " Text(0.2656940760389036, 0.125, 'x[10] <= 15329.5\\ngini = 0.09\\nsamples = 190\\nvalue = [181, 9]'),\n",
       " Text(0.26525198938992045, 0.041666666666666664, '\\n  (...)  \\n'),\n",
       " Text(0.2661361626878868, 0.041666666666666664, '\\n  (...)  \\n'),\n",
       " Text(0.26746242263483644, 0.125, 'x[10] <= 51845.5\\ngini = 0.278\\nsamples = 12\\nvalue = [10, 2]'),\n",
       " Text(0.26702033598585323, 0.041666666666666664, '\\n  (...)  \\n'),\n",
       " Text(0.26790450928381965, 0.041666666666666664, '\\n  (...)  \\n'),\n",
       " Text(0.27055702917771884, 0.2916666666666667, 'x[8] <= 5921.5\\ngini = 0.317\\nsamples = 71\\nvalue = [57, 14]'),\n",
       " Text(0.27011494252873564, 0.20833333333333334, 'x[13] <= 5537.5\\ngini = 0.45\\nsamples = 41\\nvalue = [27, 14]'),\n",
       " Text(0.2692307692307692, 0.125, 'x[13] <= 4300.0\\ngini = 0.375\\nsamples = 32\\nvalue = [24, 8]'),\n",
       " Text(0.268788682581786, 0.041666666666666664, '\\n  (...)  \\n'),\n",
       " Text(0.2696728558797524, 0.041666666666666664, '\\n  (...)  \\n'),\n",
       " Text(0.27099911582670205, 0.125, 'x[8] <= 5243.5\\ngini = 0.444\\nsamples = 9\\nvalue = [3, 6]'),\n",
       " Text(0.27055702917771884, 0.041666666666666664, '\\n  (...)  \\n'),\n",
       " Text(0.27144120247568526, 0.041666666666666664, '\\n  (...)  \\n'),\n",
       " Text(0.27099911582670205, 0.20833333333333334, 'gini = 0.0\\nsamples = 30\\nvalue = [30, 0]'),\n",
       " Text(0.28006189213085764, 0.4583333333333333, 'x[8] <= 3548.5\\ngini = 0.307\\nsamples = 1712\\nvalue = [1388, 324]'),\n",
       " Text(0.27729885057471265, 0.375, 'x[2] <= 446.0\\ngini = 0.333\\nsamples = 1353\\nvalue = [1067, 286]'),\n",
       " Text(0.27519893899204245, 0.2916666666666667, 'x[13] <= 2433.5\\ngini = 0.379\\nsamples = 847\\nvalue = [632, 215]'),\n",
       " Text(0.27365163572060125, 0.20833333333333334, 'x[9] <= 111392.0\\ngini = 0.425\\nsamples = 591\\nvalue = [410, 181]'),\n",
       " Text(0.27276746242263483, 0.125, 'x[8] <= 584.0\\ngini = 0.388\\nsamples = 330\\nvalue = [243, 87]'),\n",
       " Text(0.2723253757736516, 0.041666666666666664, '\\n  (...)  \\n'),\n",
       " Text(0.27320954907161804, 0.041666666666666664, '\\n  (...)  \\n'),\n",
       " Text(0.27453580901856767, 0.125, 'x[9] <= 158985.0\\ngini = 0.461\\nsamples = 261\\nvalue = [167, 94]'),\n",
       " Text(0.27409372236958446, 0.041666666666666664, '\\n  (...)  \\n'),\n",
       " Text(0.2749778956675508, 0.041666666666666664, '\\n  (...)  \\n'),\n",
       " Text(0.27674624226348365, 0.20833333333333334, 'x[13] <= 4045.0\\ngini = 0.23\\nsamples = 256\\nvalue = [222, 34]'),\n",
       " Text(0.27630415561450045, 0.125, 'x[13] <= 3256.5\\ngini = 0.225\\nsamples = 255\\nvalue = [222, 33]'),\n",
       " Text(0.27586206896551724, 0.041666666666666664, '\\n  (...)  \\n'),\n",
       " Text(0.27674624226348365, 0.041666666666666664, '\\n  (...)  \\n'),\n",
       " Text(0.27718832891246686, 0.125, 'gini = 0.0\\nsamples = 1\\nvalue = [0, 1]'),\n",
       " Text(0.27939876215738285, 0.2916666666666667, 'x[13] <= 3163.0\\ngini = 0.241\\nsamples = 506\\nvalue = [435, 71]'),\n",
       " Text(0.27851458885941643, 0.20833333333333334, 'x[8] <= 484.5\\ngini = 0.157\\nsamples = 408\\nvalue = [373, 35]'),\n",
       " Text(0.2780725022104332, 0.125, 'gini = 0.0\\nsamples = 2\\nvalue = [0, 2]'),\n",
       " Text(0.27895667550839964, 0.125, 'x[8] <= 2042.5\\ngini = 0.149\\nsamples = 406\\nvalue = [373, 33]'),\n",
       " Text(0.27851458885941643, 0.041666666666666664, '\\n  (...)  \\n'),\n",
       " Text(0.27939876215738285, 0.041666666666666664, '\\n  (...)  \\n'),\n",
       " Text(0.28028293545534927, 0.20833333333333334, 'x[10] <= 69734.5\\ngini = 0.465\\nsamples = 98\\nvalue = [62, 36]'),\n",
       " Text(0.27984084880636606, 0.125, 'gini = 0.0\\nsamples = 3\\nvalue = [0, 3]'),\n",
       " Text(0.2807250221043324, 0.125, 'x[9] <= 177269.5\\ngini = 0.453\\nsamples = 95\\nvalue = [62, 33]'),\n",
       " Text(0.28028293545534927, 0.041666666666666664, '\\n  (...)  \\n'),\n",
       " Text(0.28116710875331563, 0.041666666666666664, '\\n  (...)  \\n'),\n",
       " Text(0.2828249336870027, 0.375, 'x[10] <= 58119.5\\ngini = 0.189\\nsamples = 359\\nvalue = [321, 38]'),\n",
       " Text(0.28160919540229884, 0.2916666666666667, 'x[10] <= 55772.5\\ngini = 0.32\\nsamples = 5\\nvalue = [1, 4]'),\n",
       " Text(0.28116710875331563, 0.20833333333333334, 'gini = 0.0\\nsamples = 1\\nvalue = [1, 0]'),\n",
       " Text(0.28205128205128205, 0.20833333333333334, 'gini = 0.0\\nsamples = 4\\nvalue = [0, 4]'),\n",
       " Text(0.28404067197170646, 0.2916666666666667, 'x[9] <= 142492.0\\ngini = 0.174\\nsamples = 354\\nvalue = [320, 34]'),\n",
       " Text(0.28293545534924847, 0.20833333333333334, 'x[9] <= 141272.5\\ngini = 0.249\\nsamples = 185\\nvalue = [158, 27]'),\n",
       " Text(0.28249336870026526, 0.125, 'x[3] <= 7.5\\ngini = 0.236\\nsamples = 183\\nvalue = [158, 25]'),\n",
       " Text(0.28205128205128205, 0.041666666666666664, '\\n  (...)  \\n'),\n",
       " Text(0.28293545534924847, 0.041666666666666664, '\\n  (...)  \\n'),\n",
       " Text(0.2833775419982317, 0.125, 'gini = 0.0\\nsamples = 2\\nvalue = [0, 2]'),\n",
       " Text(0.28514588859416445, 0.20833333333333334, 'x[2] <= 451.5\\ngini = 0.079\\nsamples = 169\\nvalue = [162, 7]'),\n",
       " Text(0.28426171529619804, 0.125, 'x[13] <= 9620.0\\ngini = 0.034\\nsamples = 115\\nvalue = [113, 2]'),\n",
       " Text(0.2838196286472148, 0.041666666666666664, '\\n  (...)  \\n'),\n",
       " Text(0.28470380194518125, 0.041666666666666664, '\\n  (...)  \\n'),\n",
       " Text(0.28603006189213087, 0.125, 'x[8] <= 4980.5\\ngini = 0.168\\nsamples = 54\\nvalue = [49, 5]'),\n",
       " Text(0.28558797524314766, 0.041666666666666664, '\\n  (...)  \\n'),\n",
       " Text(0.2864721485411141, 0.041666666666666664, '\\n  (...)  \\n'),\n",
       " Text(0.29407051282051283, 0.625, 'x[2] <= 446.0\\ngini = 0.079\\nsamples = 3256\\nvalue = [3122, 134]'),\n",
       " Text(0.29089301503094606, 0.5416666666666666, 'x[10] <= 261869.5\\ngini = 0.012\\nsamples = 1982\\nvalue = [1970, 12]'),\n",
       " Text(0.29000884173297964, 0.4583333333333333, 'x[10] <= 261726.0\\ngini = 0.091\\nsamples = 210\\nvalue = [200, 10]'),\n",
       " Text(0.2895667550839965, 0.375, 'x[1] <= 3.0\\ngini = 0.082\\nsamples = 209\\nvalue = [200, 9]'),\n",
       " Text(0.2891246684350133, 0.2916666666666667, 'x[13] <= 1568.5\\ngini = 0.074\\nsamples = 208\\nvalue = [200, 8]'),\n",
       " Text(0.28868258178603007, 0.20833333333333334, 'x[13] <= 1481.0\\ngini = 0.182\\nsamples = 79\\nvalue = [71, 8]'),\n",
       " Text(0.28779840848806365, 0.125, 'x[5] <= 9.0\\ngini = 0.084\\nsamples = 68\\nvalue = [65, 3]'),\n",
       " Text(0.28735632183908044, 0.041666666666666664, '\\n  (...)  \\n'),\n",
       " Text(0.28824049513704686, 0.041666666666666664, '\\n  (...)  \\n'),\n",
       " Text(0.2895667550839965, 0.125, 'x[13] <= 1485.5\\ngini = 0.496\\nsamples = 11\\nvalue = [6, 5]'),\n",
       " Text(0.2891246684350133, 0.041666666666666664, '\\n  (...)  \\n'),\n",
       " Text(0.29000884173297964, 0.041666666666666664, '\\n  (...)  \\n'),\n",
       " Text(0.2895667550839965, 0.20833333333333334, 'gini = 0.0\\nsamples = 129\\nvalue = [129, 0]'),\n",
       " Text(0.29000884173297964, 0.2916666666666667, 'gini = 0.0\\nsamples = 1\\nvalue = [0, 1]'),\n",
       " Text(0.29045092838196285, 0.375, 'gini = 0.0\\nsamples = 1\\nvalue = [0, 1]'),\n",
       " Text(0.2917771883289125, 0.4583333333333333, 'x[9] <= 271218.0\\ngini = 0.002\\nsamples = 1772\\nvalue = [1770, 2]'),\n",
       " Text(0.29133510167992926, 0.375, 'x[9] <= 271059.5\\ngini = 0.04\\nsamples = 97\\nvalue = [95, 2]'),\n",
       " Text(0.29089301503094606, 0.2916666666666667, 'x[8] <= 4972.0\\ngini = 0.021\\nsamples = 96\\nvalue = [95, 1]'),\n",
       " Text(0.29045092838196285, 0.20833333333333334, 'gini = 0.0\\nsamples = 84\\nvalue = [84, 0]'),\n",
       " Text(0.29133510167992926, 0.20833333333333334, 'x[8] <= 5189.5\\ngini = 0.153\\nsamples = 12\\nvalue = [11, 1]'),\n",
       " Text(0.29089301503094606, 0.125, 'gini = 0.0\\nsamples = 1\\nvalue = [0, 1]'),\n",
       " Text(0.2917771883289125, 0.125, 'gini = 0.0\\nsamples = 11\\nvalue = [11, 0]'),\n",
       " Text(0.2917771883289125, 0.2916666666666667, 'gini = 0.0\\nsamples = 1\\nvalue = [0, 1]'),\n",
       " Text(0.2922192749778957, 0.375, 'gini = 0.0\\nsamples = 1675\\nvalue = [1675, 0]'),\n",
       " Text(0.29724801061007955, 0.5416666666666666, 'x[2] <= 451.5\\ngini = 0.173\\nsamples = 1274\\nvalue = [1152, 122]'),\n",
       " Text(0.29398762157382846, 0.4583333333333333, 'x[6] <= 385.0\\ngini = 0.487\\nsamples = 88\\nvalue = [37, 51]'),\n",
       " Text(0.29310344827586204, 0.375, 'x[5] <= 112.0\\ngini = 0.059\\nsamples = 33\\nvalue = [32, 1]'),\n",
       " Text(0.2926613616268789, 0.2916666666666667, 'x[10] <= 327058.0\\ngini = 0.5\\nsamples = 2\\nvalue = [1, 1]'),\n",
       " Text(0.2922192749778957, 0.20833333333333334, 'gini = 0.0\\nsamples = 1\\nvalue = [1, 0]'),\n",
       " Text(0.29310344827586204, 0.20833333333333334, 'gini = 0.0\\nsamples = 1\\nvalue = [0, 1]'),\n",
       " Text(0.29354553492484525, 0.2916666666666667, 'gini = 0.0\\nsamples = 31\\nvalue = [31, 0]'),\n",
       " Text(0.2948717948717949, 0.375, 'x[10] <= 695548.5\\ngini = 0.165\\nsamples = 55\\nvalue = [5, 50]'),\n",
       " Text(0.29442970822281167, 0.2916666666666667, 'gini = 0.0\\nsamples = 50\\nvalue = [0, 50]'),\n",
       " Text(0.2953138815207781, 0.2916666666666667, 'gini = 0.0\\nsamples = 5\\nvalue = [5, 0]'),\n",
       " Text(0.3005083996463307, 0.4583333333333333, 'x[13] <= 959.0\\ngini = 0.113\\nsamples = 1186\\nvalue = [1115, 71]'),\n",
       " Text(0.29708222811671087, 0.375, 'x[6] <= 320.5\\ngini = 0.346\\nsamples = 45\\nvalue = [35, 10]'),\n",
       " Text(0.29619805481874445, 0.2916666666666667, 'x[13] <= 6.0\\ngini = 0.202\\nsamples = 35\\nvalue = [31, 4]'),\n",
       " Text(0.2957559681697613, 0.20833333333333334, 'x[3] <= 8.5\\ngini = 0.408\\nsamples = 14\\nvalue = [10, 4]'),\n",
       " Text(0.2948717948717949, 0.125, 'x[1] <= 2.5\\ngini = 0.298\\nsamples = 11\\nvalue = [9, 2]'),\n",
       " Text(0.29442970822281167, 0.041666666666666664, '\\n  (...)  \\n'),\n",
       " Text(0.2953138815207781, 0.041666666666666664, '\\n  (...)  \\n'),\n",
       " Text(0.29664014146772766, 0.125, 'x[10] <= 447614.0\\ngini = 0.444\\nsamples = 3\\nvalue = [1, 2]'),\n",
       " Text(0.29619805481874445, 0.041666666666666664, '\\n  (...)  \\n'),\n",
       " Text(0.29708222811671087, 0.041666666666666664, '\\n  (...)  \\n'),\n",
       " Text(0.29664014146772766, 0.20833333333333334, 'gini = 0.0\\nsamples = 21\\nvalue = [21, 0]'),\n",
       " Text(0.2979664014146773, 0.2916666666666667, 'x[10] <= 395575.0\\ngini = 0.48\\nsamples = 10\\nvalue = [4, 6]'),\n",
       " Text(0.2975243147656941, 0.20833333333333334, 'gini = 0.0\\nsamples = 4\\nvalue = [4, 0]'),\n",
       " Text(0.2984084880636605, 0.20833333333333334, 'gini = 0.0\\nsamples = 6\\nvalue = [0, 6]'),\n",
       " Text(0.30393457117595046, 0.375, 'x[8] <= 3726.5\\ngini = 0.101\\nsamples = 1141\\nvalue = [1080, 61]'),\n",
       " Text(0.3010610079575597, 0.2916666666666667, 'x[10] <= 482947.5\\ngini = 0.075\\nsamples = 971\\nvalue = [933, 38]'),\n",
       " Text(0.29929266136162685, 0.20833333333333334, 'x[10] <= 427829.5\\ngini = 0.126\\nsamples = 518\\nvalue = [483, 35]'),\n",
       " Text(0.2984084880636605, 0.125, 'x[13] <= 6947.0\\ngini = 0.066\\nsamples = 350\\nvalue = [338, 12]'),\n",
       " Text(0.2979664014146773, 0.041666666666666664, '\\n  (...)  \\n'),\n",
       " Text(0.2988505747126437, 0.041666666666666664, '\\n  (...)  \\n'),\n",
       " Text(0.3001768346595933, 0.125, 'x[13] <= 1837.5\\ngini = 0.236\\nsamples = 168\\nvalue = [145, 23]'),\n",
       " Text(0.29973474801061006, 0.041666666666666664, '\\n  (...)  \\n'),\n",
       " Text(0.3006189213085765, 0.041666666666666664, '\\n  (...)  \\n'),\n",
       " Text(0.30282935455349247, 0.20833333333333334, 'x[8] <= 3384.5\\ngini = 0.013\\nsamples = 453\\nvalue = [450, 3]'),\n",
       " Text(0.3019451812555261, 0.125, 'x[8] <= 3033.5\\ngini = 0.005\\nsamples = 437\\nvalue = [436, 1]'),\n",
       " Text(0.3015030946065429, 0.041666666666666664, '\\n  (...)  \\n'),\n",
       " Text(0.30238726790450926, 0.041666666666666664, '\\n  (...)  \\n'),\n",
       " Text(0.3037135278514589, 0.125, 'x[8] <= 3393.5\\ngini = 0.219\\nsamples = 16\\nvalue = [14, 2]'),\n",
       " Text(0.3032714412024757, 0.041666666666666664, '\\n  (...)  \\n'),\n",
       " Text(0.3041556145004421, 0.041666666666666664, '\\n  (...)  \\n'),\n",
       " Text(0.3068081343943413, 0.2916666666666667, 'x[10] <= 457888.0\\ngini = 0.234\\nsamples = 170\\nvalue = [147, 23]'),\n",
       " Text(0.3059239610963749, 0.20833333333333334, 'x[9] <= 264674.0\\ngini = 0.048\\nsamples = 81\\nvalue = [79, 2]'),\n",
       " Text(0.30548187444739167, 0.125, 'x[9] <= 259529.0\\ngini = 0.298\\nsamples = 11\\nvalue = [9, 2]'),\n",
       " Text(0.3050397877984085, 0.041666666666666664, '\\n  (...)  \\n'),\n",
       " Text(0.3059239610963749, 0.041666666666666664, '\\n  (...)  \\n'),\n",
       " Text(0.3063660477453581, 0.125, 'gini = 0.0\\nsamples = 70\\nvalue = [70, 0]'),\n",
       " Text(0.3076923076923077, 0.20833333333333334, 'x[8] <= 3759.0\\ngini = 0.361\\nsamples = 89\\nvalue = [68, 21]'),\n",
       " Text(0.3072502210433245, 0.125, 'gini = 0.0\\nsamples = 1\\nvalue = [0, 1]'),\n",
       " Text(0.3081343943412909, 0.125, 'x[10] <= 462226.0\\ngini = 0.351\\nsamples = 88\\nvalue = [68, 20]'),\n",
       " Text(0.3076923076923077, 0.041666666666666664, '\\n  (...)  \\n'),\n",
       " Text(0.30857648099027407, 0.041666666666666664, '\\n  (...)  \\n'),\n",
       " Text(0.3275931145004421, 0.7083333333333334, 'x[10] <= 89575.5\\ngini = 0.093\\nsamples = 8307\\nvalue = [7900, 407]'),\n",
       " Text(0.31642351900972593, 0.625, 'x[5] <= 255.5\\ngini = 0.043\\nsamples = 2208\\nvalue = [2160, 48]'),\n",
       " Text(0.3134946949602122, 0.5416666666666666, 'x[0] <= 11.5\\ngini = 0.009\\nsamples = 1153\\nvalue = [1148, 5]'),\n",
       " Text(0.3122236958443855, 0.4583333333333333, 'x[10] <= 87881.0\\ngini = 0.007\\nsamples = 1148\\nvalue = [1144, 4]'),\n",
       " Text(0.3110079575596817, 0.375, 'x[13] <= 6346.5\\ngini = 0.005\\nsamples = 1125\\nvalue = [1122, 3]'),\n",
       " Text(0.3099027409372237, 0.2916666666666667, 'x[13] <= 0.5\\ngini = 0.002\\nsamples = 1041\\nvalue = [1040, 1]'),\n",
       " Text(0.3094606542882405, 0.20833333333333334, 'x[10] <= 48836.5\\ngini = 0.02\\nsamples = 99\\nvalue = [98, 1]'),\n",
       " Text(0.3090185676392573, 0.125, 'gini = 0.0\\nsamples = 71\\nvalue = [71, 0]'),\n",
       " Text(0.3099027409372237, 0.125, 'x[10] <= 51585.0\\ngini = 0.069\\nsamples = 28\\nvalue = [27, 1]'),\n",
       " Text(0.3094606542882405, 0.041666666666666664, '\\n  (...)  \\n'),\n",
       " Text(0.3103448275862069, 0.041666666666666664, '\\n  (...)  \\n'),\n",
       " Text(0.3103448275862069, 0.20833333333333334, 'gini = 0.0\\nsamples = 942\\nvalue = [942, 0]'),\n",
       " Text(0.3121131741821397, 0.2916666666666667, 'x[8] <= 5857.0\\ngini = 0.046\\nsamples = 84\\nvalue = [82, 2]'),\n",
       " Text(0.3112290008841733, 0.20833333333333334, 'x[9] <= 34150.5\\ngini = 0.5\\nsamples = 2\\nvalue = [1, 1]'),\n",
       " Text(0.3107869142351901, 0.125, 'gini = 0.0\\nsamples = 1\\nvalue = [0, 1]'),\n",
       " Text(0.3116710875331565, 0.125, 'gini = 0.0\\nsamples = 1\\nvalue = [1, 0]'),\n",
       " Text(0.3129973474801061, 0.20833333333333334, 'x[10] <= 26019.5\\ngini = 0.024\\nsamples = 82\\nvalue = [81, 1]'),\n",
       " Text(0.3125552608311229, 0.125, 'x[10] <= 25204.5\\ngini = 0.198\\nsamples = 9\\nvalue = [8, 1]'),\n",
       " Text(0.3121131741821397, 0.041666666666666664, '\\n  (...)  \\n'),\n",
       " Text(0.3129973474801061, 0.041666666666666664, '\\n  (...)  \\n'),\n",
       " Text(0.3134394341290893, 0.125, 'gini = 0.0\\nsamples = 73\\nvalue = [73, 0]'),\n",
       " Text(0.3134394341290893, 0.375, 'x[10] <= 87941.0\\ngini = 0.083\\nsamples = 23\\nvalue = [22, 1]'),\n",
       " Text(0.3129973474801061, 0.2916666666666667, 'gini = 0.0\\nsamples = 1\\nvalue = [0, 1]'),\n",
       " Text(0.3138815207780725, 0.2916666666666667, 'gini = 0.0\\nsamples = 22\\nvalue = [22, 0]'),\n",
       " Text(0.3147656940760389, 0.4583333333333333, 'x[10] <= 54522.5\\ngini = 0.32\\nsamples = 5\\nvalue = [4, 1]'),\n",
       " Text(0.31432360742705573, 0.375, 'gini = 0.0\\nsamples = 4\\nvalue = [4, 0]'),\n",
       " Text(0.3152077807250221, 0.375, 'gini = 0.0\\nsamples = 1\\nvalue = [0, 1]'),\n",
       " Text(0.3193523430592396, 0.5416666666666666, 'x[5] <= 258.0\\ngini = 0.078\\nsamples = 1055\\nvalue = [1012, 43]'),\n",
       " Text(0.3189102564102564, 0.4583333333333333, 'gini = 0.0\\nsamples = 1\\nvalue = [0, 1]'),\n",
       " Text(0.3197944297082228, 0.4583333333333333, 'x[13] <= 3421.0\\ngini = 0.077\\nsamples = 1054\\nvalue = [1012, 42]'),\n",
       " Text(0.3163129973474801, 0.375, 'x[5] <= 853.5\\ngini = 0.041\\nsamples = 710\\nvalue = [695, 15]'),\n",
       " Text(0.31587091069849693, 0.2916666666666667, 'x[6] <= 965.5\\ngini = 0.039\\nsamples = 709\\nvalue = [695, 14]'),\n",
       " Text(0.3147656940760389, 0.20833333333333334, 'x[6] <= 959.5\\ngini = 0.101\\nsamples = 168\\nvalue = [159, 9]'),\n",
       " Text(0.31432360742705573, 0.125, 'x[3] <= 7.0\\ngini = 0.091\\nsamples = 167\\nvalue = [159, 8]'),\n",
       " Text(0.3138815207780725, 0.041666666666666664, '\\n  (...)  \\n'),\n",
       " Text(0.3147656940760389, 0.041666666666666664, '\\n  (...)  \\n'),\n",
       " Text(0.3152077807250221, 0.125, 'gini = 0.0\\nsamples = 1\\nvalue = [0, 1]'),\n",
       " Text(0.3169761273209549, 0.20833333333333334, 'x[13] <= 2191.0\\ngini = 0.018\\nsamples = 541\\nvalue = [536, 5]'),\n",
       " Text(0.3160919540229885, 0.125, 'x[2] <= 582.5\\ngini = 0.006\\nsamples = 342\\nvalue = [341, 1]'),\n",
       " Text(0.3156498673740053, 0.041666666666666664, '\\n  (...)  \\n'),\n",
       " Text(0.3165340406719717, 0.041666666666666664, '\\n  (...)  \\n'),\n",
       " Text(0.3178603006189213, 0.125, 'x[6] <= 1912.5\\ngini = 0.039\\nsamples = 199\\nvalue = [195, 4]'),\n",
       " Text(0.31741821396993813, 0.041666666666666664, '\\n  (...)  \\n'),\n",
       " Text(0.3183023872679045, 0.041666666666666664, '\\n  (...)  \\n'),\n",
       " Text(0.3167550839964633, 0.2916666666666667, 'gini = 0.0\\nsamples = 1\\nvalue = [0, 1]'),\n",
       " Text(0.3232758620689655, 0.375, 'x[1] <= 0.5\\ngini = 0.145\\nsamples = 344\\nvalue = [317, 27]'),\n",
       " Text(0.32161803713527853, 0.2916666666666667, 'x[2] <= 519.0\\ngini = 0.122\\nsamples = 322\\nvalue = [301, 21]'),\n",
       " Text(0.32051282051282054, 0.20833333333333334, 'x[2] <= 494.5\\ngini = 0.165\\nsamples = 220\\nvalue = [200, 20]'),\n",
       " Text(0.3196286472148541, 0.125, 'x[13] <= 8839.5\\ngini = 0.08\\nsamples = 167\\nvalue = [160, 7]'),\n",
       " Text(0.3191865605658709, 0.041666666666666664, '\\n  (...)  \\n'),\n",
       " Text(0.32007073386383733, 0.041666666666666664, '\\n  (...)  \\n'),\n",
       " Text(0.3213969938107869, 0.125, 'x[6] <= 6692.5\\ngini = 0.37\\nsamples = 53\\nvalue = [40, 13]'),\n",
       " Text(0.3209549071618037, 0.041666666666666664, '\\n  (...)  \\n'),\n",
       " Text(0.3218390804597701, 0.041666666666666664, '\\n  (...)  \\n'),\n",
       " Text(0.32272325375773653, 0.20833333333333334, 'x[13] <= 9561.0\\ngini = 0.019\\nsamples = 102\\nvalue = [101, 1]'),\n",
       " Text(0.3222811671087533, 0.125, 'gini = 0.0\\nsamples = 83\\nvalue = [83, 0]'),\n",
       " Text(0.32316534040671974, 0.125, 'x[13] <= 9823.5\\ngini = 0.1\\nsamples = 19\\nvalue = [18, 1]'),\n",
       " Text(0.32272325375773653, 0.041666666666666664, '\\n  (...)  \\n'),\n",
       " Text(0.32360742705570295, 0.041666666666666664, '\\n  (...)  \\n'),\n",
       " Text(0.3249336870026525, 0.2916666666666667, 'x[3] <= 7.5\\ngini = 0.397\\nsamples = 22\\nvalue = [16, 6]'),\n",
       " Text(0.3244916003536693, 0.20833333333333334, 'x[10] <= 46705.5\\ngini = 0.48\\nsamples = 10\\nvalue = [4, 6]'),\n",
       " Text(0.3240495137046861, 0.125, 'gini = 0.0\\nsamples = 4\\nvalue = [4, 0]'),\n",
       " Text(0.3249336870026525, 0.125, 'gini = 0.0\\nsamples = 6\\nvalue = [0, 6]'),\n",
       " Text(0.3253757736516357, 0.20833333333333334, 'gini = 0.0\\nsamples = 12\\nvalue = [12, 0]'),\n",
       " Text(0.33876270999115826, 0.625, 'x[2] <= 582.5\\ngini = 0.111\\nsamples = 6099\\nvalue = [5740, 359]'),\n",
       " Text(0.3343280282935455, 0.5416666666666666, 'x[2] <= 519.0\\ngini = 0.102\\nsamples = 5692\\nvalue = [5384, 308]'),\n",
       " Text(0.3338859416445623, 0.4583333333333333, 'x[10] <= 606579.5\\ngini = 0.127\\nsamples = 4521\\nvalue = [4213, 308]'),\n",
       " Text(0.33001768346595933, 0.375, 'x[9] <= 467306.5\\ngini = 0.141\\nsamples = 4009\\nvalue = [3703, 306]'),\n",
       " Text(0.32780725022104334, 0.2916666666666667, 'x[13] <= 2672.5\\ngini = 0.129\\nsamples = 3562\\nvalue = [3316, 246]'),\n",
       " Text(0.3267020335985853, 0.20833333333333334, 'x[9] <= 110973.5\\ngini = 0.062\\nsamples = 1303\\nvalue = [1261, 42]'),\n",
       " Text(0.32581786030061893, 0.125, 'x[9] <= 110932.0\\ngini = 0.136\\nsamples = 232\\nvalue = [215, 17]'),\n",
       " Text(0.3253757736516357, 0.041666666666666664, '\\n  (...)  \\n'),\n",
       " Text(0.32625994694960214, 0.041666666666666664, '\\n  (...)  \\n'),\n",
       " Text(0.3275862068965517, 0.125, 'x[6] <= 1777.5\\ngini = 0.046\\nsamples = 1071\\nvalue = [1046, 25]'),\n",
       " Text(0.3271441202475685, 0.041666666666666664, '\\n  (...)  \\n'),\n",
       " Text(0.3280282935455349, 0.041666666666666664, '\\n  (...)  \\n'),\n",
       " Text(0.32891246684350134, 0.20833333333333334, 'x[10] <= 89618.0\\ngini = 0.164\\nsamples = 2259\\nvalue = [2055, 204]'),\n",
       " Text(0.32847038019451813, 0.125, 'gini = 0.0\\nsamples = 1\\nvalue = [0, 1]'),\n",
       " Text(0.32935455349248455, 0.125, 'x[10] <= 479804.0\\ngini = 0.164\\nsamples = 2258\\nvalue = [2055, 203]'),\n",
       " Text(0.32891246684350134, 0.041666666666666664, '\\n  (...)  \\n'),\n",
       " Text(0.3297966401414677, 0.041666666666666664, '\\n  (...)  \\n'),\n",
       " Text(0.3322281167108753, 0.2916666666666667, 'x[13] <= 3562.0\\ngini = 0.232\\nsamples = 447\\nvalue = [387, 60]'),\n",
       " Text(0.3306808134394341, 0.20833333333333334, 'x[2] <= 475.0\\ngini = 0.446\\nsamples = 158\\nvalue = [105, 53]'),\n",
       " Text(0.3302387267904509, 0.125, 'gini = 0.0\\nsamples = 68\\nvalue = [68, 0]'),\n",
       " Text(0.3311229000884173, 0.125, 'x[3] <= 7.0\\ngini = 0.484\\nsamples = 90\\nvalue = [37, 53]'),\n",
       " Text(0.3306808134394341, 0.041666666666666664, '\\n  (...)  \\n'),\n",
       " Text(0.33156498673740054, 0.041666666666666664, '\\n  (...)  \\n'),\n",
       " Text(0.3337754199823165, 0.20833333333333334, 'x[8] <= 8764.5\\ngini = 0.047\\nsamples = 289\\nvalue = [282, 7]'),\n",
       " Text(0.3328912466843501, 0.125, 'x[10] <= 524262.5\\ngini = 0.024\\nsamples = 244\\nvalue = [241, 3]'),\n",
       " Text(0.33244916003536695, 0.041666666666666664, '\\n  (...)  \\n'),\n",
       " Text(0.3333333333333333, 0.041666666666666664, '\\n  (...)  \\n'),\n",
       " Text(0.33465959328028294, 0.125, 'x[8] <= 8956.0\\ngini = 0.162\\nsamples = 45\\nvalue = [41, 4]'),\n",
       " Text(0.33421750663129973, 0.041666666666666664, '\\n  (...)  \\n'),\n",
       " Text(0.33510167992926615, 0.041666666666666664, '\\n  (...)  \\n'),\n",
       " Text(0.33775419982316535, 0.375, 'x[9] <= 624287.5\\ngini = 0.008\\nsamples = 512\\nvalue = [510, 2]'),\n",
       " Text(0.33731211317418214, 0.2916666666666667, 'x[9] <= 624139.5\\ngini = 0.069\\nsamples = 56\\nvalue = [54, 2]'),\n",
       " Text(0.33687002652519893, 0.20833333333333334, 'x[13] <= 2225.5\\ngini = 0.036\\nsamples = 55\\nvalue = [54, 1]'),\n",
       " Text(0.3364279398762157, 0.125, 'x[13] <= 2038.0\\ngini = 0.278\\nsamples = 6\\nvalue = [5, 1]'),\n",
       " Text(0.3359858532272325, 0.041666666666666664, '\\n  (...)  \\n'),\n",
       " Text(0.33687002652519893, 0.041666666666666664, '\\n  (...)  \\n'),\n",
       " Text(0.33731211317418214, 0.125, 'gini = 0.0\\nsamples = 49\\nvalue = [49, 0]'),\n",
       " Text(0.33775419982316535, 0.20833333333333334, 'gini = 0.0\\nsamples = 1\\nvalue = [0, 1]'),\n",
       " Text(0.33819628647214856, 0.2916666666666667, 'gini = 0.0\\nsamples = 456\\nvalue = [456, 0]'),\n",
       " Text(0.33477011494252873, 0.4583333333333333, 'gini = 0.0\\nsamples = 1171\\nvalue = [1171, 0]'),\n",
       " Text(0.343197391688771, 0.5416666666666666, 'x[9] <= 910592.0\\ngini = 0.219\\nsamples = 407\\nvalue = [356, 51]'),\n",
       " Text(0.3395225464190981, 0.4583333333333333, 'x[13] <= 9903.0\\ngini = 0.156\\nsamples = 316\\nvalue = [289, 27]'),\n",
       " Text(0.3390804597701149, 0.375, 'gini = 0.0\\nsamples = 109\\nvalue = [109, 0]'),\n",
       " Text(0.33996463306808133, 0.375, 'x[13] <= 20958.0\\ngini = 0.227\\nsamples = 207\\nvalue = [180, 27]'),\n",
       " Text(0.3395225464190981, 0.2916666666666667, 'x[13] <= 20544.5\\ngini = 0.306\\nsamples = 143\\nvalue = [116, 27]'),\n",
       " Text(0.3390804597701149, 0.20833333333333334, 'x[6] <= 9925.0\\ngini = 0.292\\nsamples = 141\\nvalue = [116, 25]'),\n",
       " Text(0.33819628647214856, 0.125, 'x[9] <= 779217.0\\ngini = 0.444\\nsamples = 30\\nvalue = [20, 10]'),\n",
       " Text(0.33775419982316535, 0.041666666666666664, '\\n  (...)  \\n'),\n",
       " Text(0.33863837312113176, 0.041666666666666664, '\\n  (...)  \\n'),\n",
       " Text(0.33996463306808133, 0.125, 'x[10] <= 535013.0\\ngini = 0.234\\nsamples = 111\\nvalue = [96, 15]'),\n",
       " Text(0.3395225464190981, 0.041666666666666664, '\\n  (...)  \\n'),\n",
       " Text(0.34040671971706454, 0.041666666666666664, '\\n  (...)  \\n'),\n",
       " Text(0.33996463306808133, 0.20833333333333334, 'gini = 0.0\\nsamples = 2\\nvalue = [0, 2]'),\n",
       " Text(0.34040671971706454, 0.2916666666666667, 'gini = 0.0\\nsamples = 64\\nvalue = [64, 0]'),\n",
       " Text(0.3468722369584439, 0.4583333333333333, 'x[8] <= 12993.0\\ngini = 0.388\\nsamples = 91\\nvalue = [67, 24]'),\n",
       " Text(0.34493810786914236, 0.375, 'x[9] <= 1422470.5\\ngini = 0.495\\nsamples = 40\\nvalue = [22, 18]'),\n",
       " Text(0.3437223695844385, 0.2916666666666667, 'x[10] <= 1074942.5\\ngini = 0.491\\nsamples = 30\\nvalue = [13, 17]'),\n",
       " Text(0.34261715296198053, 0.20833333333333334, 'x[10] <= 935227.5\\ngini = 0.408\\nsamples = 14\\nvalue = [10, 4]'),\n",
       " Text(0.34173297966401417, 0.125, 'x[8] <= 8836.5\\ngini = 0.444\\nsamples = 3\\nvalue = [1, 2]'),\n",
       " Text(0.34129089301503096, 0.041666666666666664, '\\n  (...)  \\n'),\n",
       " Text(0.3421750663129973, 0.041666666666666664, '\\n  (...)  \\n'),\n",
       " Text(0.34350132625994695, 0.125, 'x[10] <= 952316.5\\ngini = 0.298\\nsamples = 11\\nvalue = [9, 2]'),\n",
       " Text(0.34305923961096374, 0.041666666666666664, '\\n  (...)  \\n'),\n",
       " Text(0.34394341290893016, 0.041666666666666664, '\\n  (...)  \\n'),\n",
       " Text(0.3448275862068966, 0.20833333333333334, 'x[10] <= 1247696.0\\ngini = 0.305\\nsamples = 16\\nvalue = [3, 13]'),\n",
       " Text(0.34438549955791337, 0.125, 'gini = 0.0\\nsamples = 6\\nvalue = [0, 6]'),\n",
       " Text(0.34526967285587973, 0.125, 'x[8] <= 11679.0\\ngini = 0.42\\nsamples = 10\\nvalue = [3, 7]'),\n",
       " Text(0.3448275862068966, 0.041666666666666664, '\\n  (...)  \\n'),\n",
       " Text(0.34571175950486294, 0.041666666666666664, '\\n  (...)  \\n'),\n",
       " Text(0.34615384615384615, 0.2916666666666667, 'x[9] <= 1457972.0\\ngini = 0.18\\nsamples = 10\\nvalue = [9, 1]'),\n",
       " Text(0.34571175950486294, 0.20833333333333334, 'gini = 0.0\\nsamples = 7\\nvalue = [7, 0]'),\n",
       " Text(0.34659593280282935, 0.20833333333333334, 'x[10] <= 1497007.5\\ngini = 0.444\\nsamples = 3\\nvalue = [2, 1]'),\n",
       " Text(0.34615384615384615, 0.125, 'gini = 0.0\\nsamples = 1\\nvalue = [0, 1]'),\n",
       " Text(0.34703801945181256, 0.125, 'gini = 0.0\\nsamples = 2\\nvalue = [2, 0]'),\n",
       " Text(0.34880636604774534, 0.375, 'x[10] <= 953055.0\\ngini = 0.208\\nsamples = 51\\nvalue = [45, 6]'),\n",
       " Text(0.34836427939876213, 0.2916666666666667, 'gini = 0.0\\nsamples = 1\\nvalue = [0, 1]'),\n",
       " Text(0.34924845269672855, 0.2916666666666667, 'x[10] <= 1001081.5\\ngini = 0.18\\nsamples = 50\\nvalue = [45, 5]'),\n",
       " Text(0.34836427939876213, 0.20833333333333334, 'x[8] <= 19215.5\\ngini = 0.408\\nsamples = 7\\nvalue = [5, 2]'),\n",
       " Text(0.347922192749779, 0.125, 'x[13] <= 17130.5\\ngini = 0.444\\nsamples = 3\\nvalue = [1, 2]'),\n",
       " Text(0.34748010610079577, 0.041666666666666664, '\\n  (...)  \\n'),\n",
       " Text(0.34836427939876213, 0.041666666666666664, '\\n  (...)  \\n'),\n",
       " Text(0.34880636604774534, 0.125, 'gini = 0.0\\nsamples = 4\\nvalue = [4, 0]'),\n",
       " Text(0.35013262599469497, 0.20833333333333334, 'x[9] <= 1209208.0\\ngini = 0.13\\nsamples = 43\\nvalue = [40, 3]'),\n",
       " Text(0.34969053934571176, 0.125, 'x[10] <= 1225024.0\\ngini = 0.204\\nsamples = 26\\nvalue = [23, 3]'),\n",
       " Text(0.34924845269672855, 0.041666666666666664, '\\n  (...)  \\n'),\n",
       " Text(0.35013262599469497, 0.041666666666666664, '\\n  (...)  \\n'),\n",
       " Text(0.3505747126436782, 0.125, 'gini = 0.0\\nsamples = 17\\nvalue = [17, 0]'),\n",
       " ...]"
      ]
     },
     "execution_count": 115,
     "metadata": {},
     "output_type": "execute_result"
    },
    {
     "data": {
      "image/png": "[encoded data removed]",
      "text/plain": [
       "<Figure size 640x480 with 1 Axes>"
      ]
     },
     "metadata": {},
     "output_type": "display_data"
    }
   ],
   "source": [
    "plot_tree(tree, max_depth=10)"
   ]
  },
  {
   "cell_type": "code",
   "execution_count": 116,
   "metadata": {},
   "outputs": [
    {
     "ename": "AttributeError",
     "evalue": "'Series' object has no attribute 'columns'",
     "output_type": "error",
     "traceback": [
      "\u001b[0;31m---------------------------------------------------------------------------\u001b[0m",
      "\u001b[0;31mAttributeError\u001b[0m                            Traceback (most recent call last)",
      "\u001b[0;32m/var/folders/vh/9svjskkn54n5t04bltkc_8fw0000gn/T/ipykernel_11670/2045240327.py\u001b[0m in \u001b[0;36m?\u001b[0;34m()\u001b[0m\n\u001b[0;32m----> 1\u001b[0;31m \u001b[0mX\u001b[0m\u001b[0;34m.\u001b[0m\u001b[0mcolumns\u001b[0m\u001b[0;34m.\u001b[0m\u001b[0mtolist\u001b[0m\u001b[0;34m(\u001b[0m\u001b[0;34m)\u001b[0m\u001b[0;34m\u001b[0m\u001b[0;34m\u001b[0m\u001b[0m\n\u001b[0m",
      "\u001b[0;32m~/git/NeueFische/Fraud-Detection-ML/.venv/lib/python3.11/site-packages/pandas/core/generic.py\u001b[0m in \u001b[0;36m?\u001b[0;34m(self, name)\u001b[0m\n\u001b[1;32m   5985\u001b[0m             \u001b[0;32mand\u001b[0m \u001b[0mname\u001b[0m \u001b[0;32mnot\u001b[0m \u001b[0;32min\u001b[0m \u001b[0mself\u001b[0m\u001b[0;34m.\u001b[0m\u001b[0m_accessors\u001b[0m\u001b[0;34m\u001b[0m\u001b[0;34m\u001b[0m\u001b[0m\n\u001b[1;32m   5986\u001b[0m             \u001b[0;32mand\u001b[0m \u001b[0mself\u001b[0m\u001b[0;34m.\u001b[0m\u001b[0m_info_axis\u001b[0m\u001b[0;34m.\u001b[0m\u001b[0m_can_hold_identifiers_and_holds_name\u001b[0m\u001b[0;34m(\u001b[0m\u001b[0mname\u001b[0m\u001b[0;34m)\u001b[0m\u001b[0;34m\u001b[0m\u001b[0;34m\u001b[0m\u001b[0m\n\u001b[1;32m   5987\u001b[0m         ):\n\u001b[1;32m   5988\u001b[0m             \u001b[0;32mreturn\u001b[0m \u001b[0mself\u001b[0m\u001b[0;34m[\u001b[0m\u001b[0mname\u001b[0m\u001b[0;34m]\u001b[0m\u001b[0;34m\u001b[0m\u001b[0;34m\u001b[0m\u001b[0m\n\u001b[0;32m-> 5989\u001b[0;31m         \u001b[0;32mreturn\u001b[0m \u001b[0mobject\u001b[0m\u001b[0;34m.\u001b[0m\u001b[0m__getattribute__\u001b[0m\u001b[0;34m(\u001b[0m\u001b[0mself\u001b[0m\u001b[0;34m,\u001b[0m \u001b[0mname\u001b[0m\u001b[0;34m)\u001b[0m\u001b[0;34m\u001b[0m\u001b[0;34m\u001b[0m\u001b[0m\n\u001b[0m",
      "\u001b[0;31mAttributeError\u001b[0m: 'Series' object has no attribute 'columns'"
     ]
    }
   ],
   "source": [
    "X.columns.tolist()"
   ]
  },
  {
   "cell_type": "code",
   "execution_count": 117,
   "metadata": {},
   "outputs": [
    {
     "data": {
      "text/plain": [
       "array([5.41326905e-03, 3.77770048e-03, 1.73972051e-02, 1.63369079e-02,\n",
       "       8.09333709e-06, 1.04953842e-01, 2.50870731e-02, 5.29182338e-03,\n",
       "       8.62717981e-03, 3.25136677e-01, 3.28080754e-01, 1.27843802e-02,\n",
       "       3.42800154e-04, 1.46762295e-01])"
      ]
     },
     "execution_count": 117,
     "metadata": {},
     "output_type": "execute_result"
    }
   ],
   "source": [
    "tree.feature_importances_"
   ]
  },
  {
   "cell_type": "code",
   "execution_count": null,
   "metadata": {},
   "outputs": [
    {
     "data": {
      "text/plain": [
       "(array([ 0,  1,  2,  3,  4,  5,  6,  7,  8,  9, 10, 11, 12, 13, 14]),\n",
       " [Text(0, 0, 'tarif_type'),\n",
       "  Text(1, 0, 'counter_number'),\n",
       "  Text(2, 0, 'counter_statue'),\n",
       "  Text(3, 0, 'counter_code'),\n",
       "  Text(4, 0, 'reading_remarque'),\n",
       "  Text(5, 0, 'counter_coefficient'),\n",
       "  Text(6, 0, 'consommation_level_1'),\n",
       "  Text(7, 0, 'consommation_level_2'),\n",
       "  Text(8, 0, 'consommation_level_3'),\n",
       "  Text(9, 0, 'consommation_level_4'),\n",
       "  Text(10, 0, 'old_index'),\n",
       "  Text(11, 0, 'new_index'),\n",
       "  Text(12, 0, 'months_number'),\n",
       "  Text(13, 0, 'counter_type'),\n",
       "  Text(14, 0, 'avg_month_use')])"
      ]
     },
     "execution_count": 42,
     "metadata": {},
     "output_type": "execute_result"
    },
    {
     "data": {
      "image/png": "[encoded data removed]",
      "text/plain": [
       "<Figure size 1500x1500 with 1 Axes>"
      ]
     },
     "metadata": {},
     "output_type": "display_data"
    }
   ],
   "source": [
    "fig, ax = plt.subplots(figsize=(15,15))\n",
    "\n",
    "ax = sns.barplot(x=X.columns.tolist(), y=tree.feature_importances_)\n",
    "plt.xticks(rotation=45)\n"
   ]
  },
  {
   "attachments": {},
   "cell_type": "markdown",
   "metadata": {},
   "source": [
    "Uh oh...our most important feature is the counter number...that's probably basically an identifier for the client ID in the end...\n",
    "\n",
    "We also want to make sure our train and test data is split so that either one of the following conditions are true:\n",
    "\n",
    "* We have our clients separated cleanly across the train and test (so we are predicting solely for 'new' clients rather than clients based on their own behaviour)\n",
    "\n",
    "* All of our test data is later invoices for a given customer (so we are not predicting their past behaviour based on later behaviour)\n",
    "\n",
    "Back to the drawing board..."
   ]
  },
  {
   "cell_type": "code",
   "execution_count": null,
   "metadata": {},
   "outputs": [],
   "source": [
    "list_of_targets = dfc.query('target == 1').client_id.tolist()\n",
    "y = pd.Series(dfi.client_id.isin(list_of_targets))"
   ]
  },
  {
   "cell_type": "code",
   "execution_count": null,
   "metadata": {},
   "outputs": [],
   "source": [
    "#We can use train_test_split on the client ids to ensure separation of clients between train and test\n",
    "clients_train, clients_test, target_train, target_test = train_test_split(dfc.client_id, dfc.target, stratify=dfc.target, random_state=42)"
   ]
  },
  {
   "cell_type": "code",
   "execution_count": 120,
   "metadata": {},
   "outputs": [],
   "source": [
    "X_train = dfi[dfi[\"client_id\"].isin(set(clients_train))].drop(['client_id','counter_number', 'old_index', 'new_index', 'months_number'], axis=1) # we get rid of counter_number now\n",
    "\n",
    "X_test = dfi[dfi[\"client_id\"].isin(set(clients_test))].drop(['client_id','counter_number', 'old_index', 'new_index', 'months_number'], axis=1) # we get rid of counter_number now\n",
    "\n",
    "y_train = dfi[dfi[\"client_id\"].isin(set(clients_train))]\n",
    "y_train = pd.Series(y_train.client_id.isin(list_of_targets))\n",
    "\n",
    "y_test = dfi[dfi[\"client_id\"].isin(set(clients_test))]\n",
    "y_test = pd.Series(y_test.client_id.isin(list_of_targets))"
   ]
  },
  {
   "cell_type": "code",
   "execution_count": 121,
   "metadata": {},
   "outputs": [
    {
     "data": {
      "text/plain": [
       "818.5751293424753"
      ]
     },
     "execution_count": 121,
     "metadata": {},
     "output_type": "execute_result"
    }
   ],
   "source": [
    "len(y_test) / len(y) * 100"
   ]
  },
  {
   "attachments": {},
   "cell_type": "markdown",
   "metadata": {},
   "source": [
    "We end up with our test set as 25% of the data, which is alright"
   ]
  },
  {
   "cell_type": "code",
   "execution_count": 122,
   "metadata": {},
   "outputs": [
    {
     "data": {
      "text/html": [
       "<style>#sk-container-id-6 {color: black;background-color: white;}#sk-container-id-6 pre{padding: 0;}#sk-container-id-6 div.sk-toggleable {background-color: white;}#sk-container-id-6 label.sk-toggleable__label {cursor: pointer;display: block;width: 100%;margin-bottom: 0;padding: 0.3em;box-sizing: border-box;text-align: center;}#sk-container-id-6 label.sk-toggleable__label-arrow:before {content: \"▸\";float: left;margin-right: 0.25em;color: #696969;}#sk-container-id-6 label.sk-toggleable__label-arrow:hover:before {color: black;}#sk-container-id-6 div.sk-estimator:hover label.sk-toggleable__label-arrow:before {color: black;}#sk-container-id-6 div.sk-toggleable__content {max-height: 0;max-width: 0;overflow: hidden;text-align: left;background-color: #f0f8ff;}#sk-container-id-6 div.sk-toggleable__content pre {margin: 0.2em;color: black;border-radius: 0.25em;background-color: #f0f8ff;}#sk-container-id-6 input.sk-toggleable__control:checked~div.sk-toggleable__content {max-height: 200px;max-width: 100%;overflow: auto;}#sk-container-id-6 input.sk-toggleable__control:checked~label.sk-toggleable__label-arrow:before {content: \"▾\";}#sk-container-id-6 div.sk-estimator input.sk-toggleable__control:checked~label.sk-toggleable__label {background-color: #d4ebff;}#sk-container-id-6 div.sk-label input.sk-toggleable__control:checked~label.sk-toggleable__label {background-color: #d4ebff;}#sk-container-id-6 input.sk-hidden--visually {border: 0;clip: rect(1px 1px 1px 1px);clip: rect(1px, 1px, 1px, 1px);height: 1px;margin: -1px;overflow: hidden;padding: 0;position: absolute;width: 1px;}#sk-container-id-6 div.sk-estimator {font-family: monospace;background-color: #f0f8ff;border: 1px dotted black;border-radius: 0.25em;box-sizing: border-box;margin-bottom: 0.5em;}#sk-container-id-6 div.sk-estimator:hover {background-color: #d4ebff;}#sk-container-id-6 div.sk-parallel-item::after {content: \"\";width: 100%;border-bottom: 1px solid gray;flex-grow: 1;}#sk-container-id-6 div.sk-label:hover label.sk-toggleable__label {background-color: #d4ebff;}#sk-container-id-6 div.sk-serial::before {content: \"\";position: absolute;border-left: 1px solid gray;box-sizing: border-box;top: 0;bottom: 0;left: 50%;z-index: 0;}#sk-container-id-6 div.sk-serial {display: flex;flex-direction: column;align-items: center;background-color: white;padding-right: 0.2em;padding-left: 0.2em;position: relative;}#sk-container-id-6 div.sk-item {position: relative;z-index: 1;}#sk-container-id-6 div.sk-parallel {display: flex;align-items: stretch;justify-content: center;background-color: white;position: relative;}#sk-container-id-6 div.sk-item::before, #sk-container-id-6 div.sk-parallel-item::before {content: \"\";position: absolute;border-left: 1px solid gray;box-sizing: border-box;top: 0;bottom: 0;left: 50%;z-index: -1;}#sk-container-id-6 div.sk-parallel-item {display: flex;flex-direction: column;z-index: 1;position: relative;background-color: white;}#sk-container-id-6 div.sk-parallel-item:first-child::after {align-self: flex-end;width: 50%;}#sk-container-id-6 div.sk-parallel-item:last-child::after {align-self: flex-start;width: 50%;}#sk-container-id-6 div.sk-parallel-item:only-child::after {width: 0;}#sk-container-id-6 div.sk-dashed-wrapped {border: 1px dashed gray;margin: 0 0.4em 0.5em 0.4em;box-sizing: border-box;padding-bottom: 0.4em;background-color: white;}#sk-container-id-6 div.sk-label label {font-family: monospace;font-weight: bold;display: inline-block;line-height: 1.2em;}#sk-container-id-6 div.sk-label-container {text-align: center;}#sk-container-id-6 div.sk-container {/* jupyter's `normalize.less` sets `[hidden] { display: none; }` but bootstrap.min.css set `[hidden] { display: none !important; }` so we also need the `!important` here to be able to override the default hidden behavior on the sphinx rendered scikit-learn.org. See: https://github.com/scikit-learn/scikit-learn/issues/21755 */display: inline-block !important;position: relative;}#sk-container-id-6 div.sk-text-repr-fallback {display: none;}</style><div id=\"sk-container-id-6\" class=\"sk-top-container\"><div class=\"sk-text-repr-fallback\"><pre>DecisionTreeClassifier(random_state=42)</pre><b>In a Jupyter environment, please rerun this cell to show the HTML representation or trust the notebook. <br />On GitHub, the HTML representation is unable to render, please try loading this page with nbviewer.org.</b></div><div class=\"sk-container\" hidden><div class=\"sk-item\"><div class=\"sk-estimator sk-toggleable\"><input class=\"sk-toggleable__control sk-hidden--visually\" id=\"sk-estimator-id-8\" type=\"checkbox\" checked><label for=\"sk-estimator-id-8\" class=\"sk-toggleable__label sk-toggleable__label-arrow\">DecisionTreeClassifier</label><div class=\"sk-toggleable__content\"><pre>DecisionTreeClassifier(random_state=42)</pre></div></div></div></div></div>"
      ],
      "text/plain": [
       "DecisionTreeClassifier(random_state=42)"
      ]
     },
     "execution_count": 122,
     "metadata": {},
     "output_type": "execute_result"
    }
   ],
   "source": [
    "tree2 = DecisionTreeClassifier(random_state=42)\n",
    "\n",
    "tree2.fit(X_train, y_train)"
   ]
  },
  {
   "cell_type": "code",
   "execution_count": 123,
   "metadata": {},
   "outputs": [],
   "source": [
    "y_pred = tree2.predict(X_test)\n",
    "y_probs = tree2.predict_proba(X_test)"
   ]
  },
  {
   "cell_type": "code",
   "execution_count": 124,
   "metadata": {},
   "outputs": [
    {
     "data": {
      "text/plain": [
       "2.079889191725124"
      ]
     },
     "execution_count": 124,
     "metadata": {},
     "output_type": "execute_result"
    }
   ],
   "source": [
    "recall_score(y_test, y_pred) * 100"
   ]
  },
  {
   "cell_type": "code",
   "execution_count": 125,
   "metadata": {},
   "outputs": [
    {
     "data": {
      "text/plain": [
       "15.323841659122706"
      ]
     },
     "execution_count": 125,
     "metadata": {},
     "output_type": "execute_result"
    }
   ],
   "source": [
    "precision_score(y_test, y_pred) * 100"
   ]
  },
  {
   "attachments": {},
   "cell_type": "markdown",
   "metadata": {},
   "source": [
    "So now it sucks."
   ]
  },
  {
   "cell_type": "code",
   "execution_count": null,
   "metadata": {},
   "outputs": [
    {
     "data": {
      "text/plain": [
       "<sklearn.metrics._plot.roc_curve.RocCurveDisplay at 0x15bf7bcd0>"
      ]
     },
     "execution_count": 51,
     "metadata": {},
     "output_type": "execute_result"
    },
    {
     "data": {
      "image/png": "[encoded data removed]",
      "text/plain": [
       "<Figure size 640x480 with 1 Axes>"
      ]
     },
     "metadata": {},
     "output_type": "display_data"
    }
   ],
   "source": [
    "RocCurveDisplay.from_predictions(y_test, y_pred)"
   ]
  },
  {
   "cell_type": "code",
   "execution_count": null,
   "metadata": {},
   "outputs": [],
   "source": [
    "from sklearn.metrics import make_scorer #this is used to create scoring metrics for searches"
   ]
  },
  {
   "attachments": {},
   "cell_type": "markdown",
   "metadata": {},
   "source": [
    "### Let's start on the grid search ###"
   ]
  },
  {
   "cell_type": "code",
   "execution_count": null,
   "metadata": {},
   "outputs": [],
   "source": [
    "from sklearn.metrics import roc_auc_score, classification_report, confusion_matrix"
   ]
  },
  {
   "cell_type": "code",
   "execution_count": null,
   "metadata": {},
   "outputs": [],
   "source": [
    "scorers = {\n",
    "    'precision_score': make_scorer(precision_score),\n",
    "    'recall_score': make_scorer(recall_score),\n",
    "    'f1_score' : make_scorer(f1_score),\n",
    "    'roc_auc_score': make_scorer(roc_auc_score)\n",
    "}"
   ]
  },
  {
   "cell_type": "code",
   "execution_count": null,
   "metadata": {},
   "outputs": [],
   "source": [
    "param_grid = {\n",
    "    'criterion': ['gini', 'entropy'],\n",
    "    'max_depth': range(2,30, 2),\n",
    "    'min_samples_split': range(1,20, 2),\n",
    "    'min_samples_leaf': range(2,12,2)\n",
    "}\n",
    "\n",
    "randsearch = RandomizedSearchCV(estimator=tree2, param_distributions=param_grid, cv=5, n_iter=60, n_jobs=-1, verbose=2, scoring=scorers, refit='roc_auc_score')"
   ]
  },
  {
   "cell_type": "code",
   "execution_count": null,
   "metadata": {},
   "outputs": [
    {
     "name": "stdout",
     "output_type": "stream",
     "text": [
      "Fitting 5 folds for each of 60 candidates, totalling 300 fits\n",
      "[CV] END criterion=entropy, max_depth=12, min_samples_leaf=8, min_samples_split=1; total time=   0.3s\n",
      "[CV] END criterion=entropy, max_depth=12, min_samples_leaf=8, min_samples_split=1; total time=   0.4s\n",
      "[CV] END criterion=entropy, max_depth=12, min_samples_leaf=8, min_samples_split=1; total time=   0.4s\n",
      "[CV] END criterion=entropy, max_depth=12, min_samples_leaf=8, min_samples_split=1; total time=   0.5s\n",
      "[CV] END criterion=entropy, max_depth=12, min_samples_leaf=8, min_samples_split=1; total time=   0.5s\n",
      "[CV] END criterion=gini, max_depth=18, min_samples_leaf=4, min_samples_split=3; total time=  25.5s\n",
      "[CV] END criterion=gini, max_depth=18, min_samples_leaf=4, min_samples_split=3; total time=  25.9s\n",
      "[CV] END criterion=gini, max_depth=18, min_samples_leaf=4, min_samples_split=3; total time=  26.0s\n",
      "[CV] END criterion=gini, max_depth=18, min_samples_leaf=4, min_samples_split=3; total time=  26.3s\n",
      "[CV] END criterion=gini, max_depth=18, min_samples_leaf=4, min_samples_split=3; total time=  26.6s\n",
      "[CV] END criterion=gini, max_depth=22, min_samples_leaf=10, min_samples_split=5; total time=  29.6s\n",
      "[CV] END criterion=gini, max_depth=22, min_samples_leaf=10, min_samples_split=5; total time=  31.0s\n",
      "[CV] END criterion=gini, max_depth=22, min_samples_leaf=10, min_samples_split=5; total time=  31.1s\n",
      "[CV] END criterion=gini, max_depth=8, min_samples_leaf=2, min_samples_split=1; total time=   0.4s\n",
      "[CV] END criterion=gini, max_depth=8, min_samples_leaf=2, min_samples_split=1; total time=   0.3s\n",
      "[CV] END criterion=gini, max_depth=8, min_samples_leaf=2, min_samples_split=1; total time=   0.4s\n",
      "[CV] END criterion=gini, max_depth=8, min_samples_leaf=2, min_samples_split=1; total time=   0.4s\n",
      "[CV] END criterion=gini, max_depth=8, min_samples_leaf=2, min_samples_split=1; total time=   0.3s\n"
     ]
    },
    {
     "name": "stderr",
     "output_type": "stream",
     "text": [
      "/Users/annawey/git/NeueFische/Fraud-Detection-ML/.venv/lib/python3.11/site-packages/sklearn/metrics/_classification.py:1344: UndefinedMetricWarning: Precision is ill-defined and being set to 0.0 due to no predicted samples. Use `zero_division` parameter to control this behavior.\n",
      "  _warn_prf(average, modifier, msg_start, len(result))\n",
      "/Users/annawey/git/NeueFische/Fraud-Detection-ML/.venv/lib/python3.11/site-packages/sklearn/metrics/_classification.py:1344: UndefinedMetricWarning: Precision is ill-defined and being set to 0.0 due to no predicted samples. Use `zero_division` parameter to control this behavior.\n",
      "  _warn_prf(average, modifier, msg_start, len(result))\n",
      "/Users/annawey/git/NeueFische/Fraud-Detection-ML/.venv/lib/python3.11/site-packages/sklearn/metrics/_classification.py:1344: UndefinedMetricWarning: Precision is ill-defined and being set to 0.0 due to no predicted samples. Use `zero_division` parameter to control this behavior.\n",
      "  _warn_prf(average, modifier, msg_start, len(result))\n"
     ]
    },
    {
     "name": "stdout",
     "output_type": "stream",
     "text": [
      "[CV] END criterion=entropy, max_depth=4, min_samples_leaf=6, min_samples_split=9; total time=   9.1s\n",
      "[CV] END criterion=entropy, max_depth=4, min_samples_leaf=6, min_samples_split=9; total time=   8.7s\n",
      "[CV] END criterion=entropy, max_depth=4, min_samples_leaf=6, min_samples_split=9; total time=   9.1s\n"
     ]
    },
    {
     "name": "stderr",
     "output_type": "stream",
     "text": [
      "/Users/annawey/git/NeueFische/Fraud-Detection-ML/.venv/lib/python3.11/site-packages/sklearn/metrics/_classification.py:1344: UndefinedMetricWarning: Precision is ill-defined and being set to 0.0 due to no predicted samples. Use `zero_division` parameter to control this behavior.\n",
      "  _warn_prf(average, modifier, msg_start, len(result))\n"
     ]
    },
    {
     "name": "stdout",
     "output_type": "stream",
     "text": [
      "[CV] END criterion=entropy, max_depth=4, min_samples_leaf=6, min_samples_split=9; total time=   9.1s\n"
     ]
    },
    {
     "name": "stderr",
     "output_type": "stream",
     "text": [
      "/Users/annawey/git/NeueFische/Fraud-Detection-ML/.venv/lib/python3.11/site-packages/sklearn/metrics/_classification.py:1344: UndefinedMetricWarning: Precision is ill-defined and being set to 0.0 due to no predicted samples. Use `zero_division` parameter to control this behavior.\n",
      "  _warn_prf(average, modifier, msg_start, len(result))\n"
     ]
    },
    {
     "name": "stdout",
     "output_type": "stream",
     "text": [
      "[CV] END criterion=entropy, max_depth=4, min_samples_leaf=6, min_samples_split=9; total time=   9.5s\n",
      "[CV] END criterion=gini, max_depth=22, min_samples_leaf=10, min_samples_split=5; total time=  34.3s\n",
      "[CV] END criterion=gini, max_depth=22, min_samples_leaf=10, min_samples_split=5; total time=  34.6s\n",
      "[CV] END criterion=entropy, max_depth=26, min_samples_leaf=2, min_samples_split=5; total time=  41.0s\n",
      "[CV] END criterion=entropy, max_depth=26, min_samples_leaf=2, min_samples_split=5; total time=  40.6s\n",
      "[CV] END criterion=entropy, max_depth=26, min_samples_leaf=2, min_samples_split=5; total time=  41.0s\n",
      "[CV] END criterion=entropy, max_depth=26, min_samples_leaf=2, min_samples_split=5; total time=  41.0s\n",
      "[CV] END criterion=entropy, max_depth=24, min_samples_leaf=8, min_samples_split=11; total time=  37.4s\n",
      "[CV] END criterion=entropy, max_depth=26, min_samples_leaf=2, min_samples_split=5; total time=  40.6s\n",
      "[CV] END criterion=entropy, max_depth=24, min_samples_leaf=8, min_samples_split=11; total time=  38.4s\n",
      "[CV] END criterion=entropy, max_depth=24, min_samples_leaf=8, min_samples_split=11; total time=  37.5s\n",
      "[CV] END criterion=entropy, max_depth=22, min_samples_leaf=4, min_samples_split=15; total time=  35.9s\n",
      "[CV] END criterion=entropy, max_depth=22, min_samples_leaf=4, min_samples_split=15; total time=  36.4s\n",
      "[CV] END criterion=entropy, max_depth=24, min_samples_leaf=8, min_samples_split=11; total time=  38.8s\n",
      "[CV] END criterion=entropy, max_depth=24, min_samples_leaf=8, min_samples_split=11; total time=  38.7s\n",
      "[CV] END criterion=entropy, max_depth=22, min_samples_leaf=4, min_samples_split=15; total time=  36.9s\n",
      "[CV] END criterion=entropy, max_depth=22, min_samples_leaf=4, min_samples_split=15; total time=  36.1s\n"
     ]
    },
    {
     "name": "stderr",
     "output_type": "stream",
     "text": [
      "/Users/annawey/git/NeueFische/Fraud-Detection-ML/.venv/lib/python3.11/site-packages/sklearn/metrics/_classification.py:1344: UndefinedMetricWarning: Precision is ill-defined and being set to 0.0 due to no predicted samples. Use `zero_division` parameter to control this behavior.\n",
      "  _warn_prf(average, modifier, msg_start, len(result))\n"
     ]
    },
    {
     "name": "stdout",
     "output_type": "stream",
     "text": [
      "[CV] END criterion=entropy, max_depth=4, min_samples_leaf=6, min_samples_split=5; total time=   9.1s\n"
     ]
    },
    {
     "name": "stderr",
     "output_type": "stream",
     "text": [
      "/Users/annawey/git/NeueFische/Fraud-Detection-ML/.venv/lib/python3.11/site-packages/joblib/externals/loky/process_executor.py:700: UserWarning: A worker stopped while some jobs were given to the executor. This can be caused by a too short worker timeout or by a memory leak.\n",
      "  warnings.warn(\n",
      "/Users/annawey/git/NeueFische/Fraud-Detection-ML/.venv/lib/python3.11/site-packages/sklearn/metrics/_classification.py:1344: UndefinedMetricWarning: Precision is ill-defined and being set to 0.0 due to no predicted samples. Use `zero_division` parameter to control this behavior.\n",
      "  _warn_prf(average, modifier, msg_start, len(result))\n"
     ]
    },
    {
     "name": "stdout",
     "output_type": "stream",
     "text": [
      "[CV] END criterion=entropy, max_depth=4, min_samples_leaf=6, min_samples_split=5; total time=   9.3s\n"
     ]
    },
    {
     "name": "stderr",
     "output_type": "stream",
     "text": [
      "/Users/annawey/git/NeueFische/Fraud-Detection-ML/.venv/lib/python3.11/site-packages/sklearn/metrics/_classification.py:1344: UndefinedMetricWarning: Precision is ill-defined and being set to 0.0 due to no predicted samples. Use `zero_division` parameter to control this behavior.\n",
      "  _warn_prf(average, modifier, msg_start, len(result))\n",
      "/Users/annawey/git/NeueFische/Fraud-Detection-ML/.venv/lib/python3.11/site-packages/sklearn/metrics/_classification.py:1344: UndefinedMetricWarning: Precision is ill-defined and being set to 0.0 due to no predicted samples. Use `zero_division` parameter to control this behavior.\n",
      "  _warn_prf(average, modifier, msg_start, len(result))\n"
     ]
    },
    {
     "name": "stdout",
     "output_type": "stream",
     "text": [
      "[CV] END criterion=entropy, max_depth=4, min_samples_leaf=6, min_samples_split=5; total time=   8.6s\n",
      "[CV] END criterion=entropy, max_depth=4, min_samples_leaf=6, min_samples_split=5; total time=   8.4s\n",
      "[CV] END criterion=entropy, max_depth=22, min_samples_leaf=4, min_samples_split=15; total time=  37.1s\n",
      "[CV] END criterion=entropy, max_depth=28, min_samples_leaf=6, min_samples_split=9; total time=  42.9s\n"
     ]
    },
    {
     "name": "stderr",
     "output_type": "stream",
     "text": [
      "/Users/annawey/git/NeueFische/Fraud-Detection-ML/.venv/lib/python3.11/site-packages/sklearn/metrics/_classification.py:1344: UndefinedMetricWarning: Precision is ill-defined and being set to 0.0 due to no predicted samples. Use `zero_division` parameter to control this behavior.\n",
      "  _warn_prf(average, modifier, msg_start, len(result))\n"
     ]
    },
    {
     "name": "stdout",
     "output_type": "stream",
     "text": [
      "[CV] END criterion=entropy, max_depth=4, min_samples_leaf=6, min_samples_split=5; total time=   9.2s\n",
      "[CV] END criterion=entropy, max_depth=28, min_samples_leaf=6, min_samples_split=9; total time=  42.9s\n",
      "[CV] END criterion=entropy, max_depth=28, min_samples_leaf=6, min_samples_split=9; total time=  44.3s\n",
      "[CV] END criterion=entropy, max_depth=28, min_samples_leaf=6, min_samples_split=9; total time=  43.9s\n",
      "[CV] END criterion=entropy, max_depth=28, min_samples_leaf=6, min_samples_split=9; total time=  43.8s\n",
      "[CV] END criterion=gini, max_depth=8, min_samples_leaf=10, min_samples_split=19; total time=  14.5s\n",
      "[CV] END criterion=gini, max_depth=8, min_samples_leaf=10, min_samples_split=19; total time=  14.5s\n",
      "[CV] END criterion=gini, max_depth=8, min_samples_leaf=10, min_samples_split=19; total time=  14.6s\n",
      "[CV] END criterion=gini, max_depth=22, min_samples_leaf=10, min_samples_split=1; total time=   0.3s\n",
      "[CV] END criterion=gini, max_depth=22, min_samples_leaf=10, min_samples_split=1; total time=   0.4s\n",
      "[CV] END criterion=gini, max_depth=22, min_samples_leaf=10, min_samples_split=1; total time=   0.4s\n",
      "[CV] END criterion=gini, max_depth=22, min_samples_leaf=10, min_samples_split=1; total time=   0.4s\n",
      "[CV] END criterion=gini, max_depth=22, min_samples_leaf=10, min_samples_split=1; total time=   0.3s\n",
      "[CV] END criterion=entropy, max_depth=28, min_samples_leaf=2, min_samples_split=3; total time=  43.0s\n",
      "[CV] END criterion=entropy, max_depth=28, min_samples_leaf=2, min_samples_split=3; total time=  43.7s\n",
      "[CV] END criterion=entropy, max_depth=28, min_samples_leaf=2, min_samples_split=3; total time=  43.4s\n",
      "[CV] END criterion=entropy, max_depth=28, min_samples_leaf=2, min_samples_split=3; total time=  43.4s\n",
      "[CV] END criterion=gini, max_depth=8, min_samples_leaf=10, min_samples_split=19; total time=  15.8s\n",
      "[CV] END criterion=gini, max_depth=8, min_samples_leaf=10, min_samples_split=19; total time=  15.7s\n",
      "[CV] END criterion=entropy, max_depth=28, min_samples_leaf=2, min_samples_split=3; total time=  44.1s\n",
      "[CV] END criterion=gini, max_depth=16, min_samples_leaf=6, min_samples_split=3; total time=  28.6s\n",
      "[CV] END criterion=gini, max_depth=16, min_samples_leaf=6, min_samples_split=3; total time=  27.8s\n",
      "[CV] END criterion=gini, max_depth=16, min_samples_leaf=6, min_samples_split=3; total time=  28.5s\n",
      "[CV] END criterion=gini, max_depth=16, min_samples_leaf=6, min_samples_split=3; total time=  28.1s\n",
      "[CV] END criterion=gini, max_depth=16, min_samples_leaf=6, min_samples_split=3; total time=  27.9s\n",
      "[CV] END criterion=entropy, max_depth=22, min_samples_leaf=2, min_samples_split=11; total time=  37.3s\n",
      "[CV] END criterion=entropy, max_depth=22, min_samples_leaf=2, min_samples_split=11; total time=  37.4s\n",
      "[CV] END criterion=entropy, max_depth=22, min_samples_leaf=2, min_samples_split=11; total time=  36.9s\n",
      "[CV] END criterion=entropy, max_depth=22, min_samples_leaf=2, min_samples_split=11; total time=  36.0s\n",
      "[CV] END criterion=entropy, max_depth=22, min_samples_leaf=2, min_samples_split=11; total time=  35.2s\n",
      "[CV] END criterion=entropy, max_depth=28, min_samples_leaf=2, min_samples_split=7; total time=  42.2s\n",
      "[CV] END criterion=entropy, max_depth=28, min_samples_leaf=2, min_samples_split=7; total time=  42.8s\n",
      "[CV] END criterion=entropy, max_depth=28, min_samples_leaf=2, min_samples_split=7; total time=  42.5s\n",
      "[CV] END criterion=entropy, max_depth=28, min_samples_leaf=2, min_samples_split=7; total time=  43.5s\n",
      "[CV] END criterion=entropy, max_depth=28, min_samples_leaf=2, min_samples_split=7; total time=  43.9s\n",
      "[CV] END criterion=gini, max_depth=10, min_samples_leaf=6, min_samples_split=5; total time=  19.2s\n",
      "[CV] END criterion=entropy, max_depth=28, min_samples_leaf=4, min_samples_split=9; total time=  43.7s\n",
      "[CV] END criterion=entropy, max_depth=28, min_samples_leaf=4, min_samples_split=9; total time=  42.9s\n",
      "[CV] END criterion=entropy, max_depth=28, min_samples_leaf=4, min_samples_split=9; total time=  43.1s\n",
      "[CV] END criterion=gini, max_depth=10, min_samples_leaf=6, min_samples_split=5; total time=  18.6s\n"
     ]
    },
    {
     "name": "stderr",
     "output_type": "stream",
     "text": [
      "/Users/annawey/git/NeueFische/Fraud-Detection-ML/.venv/lib/python3.11/site-packages/sklearn/metrics/_classification.py:1344: UndefinedMetricWarning: Precision is ill-defined and being set to 0.0 due to no predicted samples. Use `zero_division` parameter to control this behavior.\n",
      "  _warn_prf(average, modifier, msg_start, len(result))\n"
     ]
    },
    {
     "name": "stdout",
     "output_type": "stream",
     "text": [
      "[CV] END criterion=entropy, max_depth=2, min_samples_leaf=2, min_samples_split=11; total time=   5.3s\n",
      "[CV] END criterion=gini, max_depth=10, min_samples_leaf=6, min_samples_split=5; total time=  19.0s\n"
     ]
    },
    {
     "name": "stderr",
     "output_type": "stream",
     "text": [
      "/Users/annawey/git/NeueFische/Fraud-Detection-ML/.venv/lib/python3.11/site-packages/sklearn/metrics/_classification.py:1344: UndefinedMetricWarning: Precision is ill-defined and being set to 0.0 due to no predicted samples. Use `zero_division` parameter to control this behavior.\n",
      "  _warn_prf(average, modifier, msg_start, len(result))\n"
     ]
    },
    {
     "name": "stdout",
     "output_type": "stream",
     "text": [
      "[CV] END criterion=entropy, max_depth=2, min_samples_leaf=2, min_samples_split=11; total time=   5.4s\n"
     ]
    },
    {
     "name": "stderr",
     "output_type": "stream",
     "text": [
      "/Users/annawey/git/NeueFische/Fraud-Detection-ML/.venv/lib/python3.11/site-packages/sklearn/metrics/_classification.py:1344: UndefinedMetricWarning: Precision is ill-defined and being set to 0.0 due to no predicted samples. Use `zero_division` parameter to control this behavior.\n",
      "  _warn_prf(average, modifier, msg_start, len(result))\n"
     ]
    },
    {
     "name": "stdout",
     "output_type": "stream",
     "text": [
      "[CV] END criterion=entropy, max_depth=2, min_samples_leaf=2, min_samples_split=11; total time=   5.6s\n",
      "[CV] END criterion=entropy, max_depth=28, min_samples_leaf=4, min_samples_split=9; total time=  44.1s\n"
     ]
    },
    {
     "name": "stderr",
     "output_type": "stream",
     "text": [
      "/Users/annawey/git/NeueFische/Fraud-Detection-ML/.venv/lib/python3.11/site-packages/sklearn/metrics/_classification.py:1344: UndefinedMetricWarning: Precision is ill-defined and being set to 0.0 due to no predicted samples. Use `zero_division` parameter to control this behavior.\n",
      "  _warn_prf(average, modifier, msg_start, len(result))\n"
     ]
    },
    {
     "name": "stdout",
     "output_type": "stream",
     "text": [
      "[CV] END criterion=entropy, max_depth=2, min_samples_leaf=2, min_samples_split=11; total time=   5.4s\n"
     ]
    },
    {
     "name": "stderr",
     "output_type": "stream",
     "text": [
      "/Users/annawey/git/NeueFische/Fraud-Detection-ML/.venv/lib/python3.11/site-packages/sklearn/metrics/_classification.py:1344: UndefinedMetricWarning: Precision is ill-defined and being set to 0.0 due to no predicted samples. Use `zero_division` parameter to control this behavior.\n",
      "  _warn_prf(average, modifier, msg_start, len(result))\n"
     ]
    },
    {
     "name": "stdout",
     "output_type": "stream",
     "text": [
      "[CV] END criterion=gini, max_depth=10, min_samples_leaf=6, min_samples_split=5; total time=  18.3s\n",
      "[CV] END criterion=entropy, max_depth=2, min_samples_leaf=2, min_samples_split=11; total time=   5.3s\n",
      "[CV] END criterion=entropy, max_depth=16, min_samples_leaf=8, min_samples_split=1; total time=   0.3s\n",
      "[CV] END criterion=entropy, max_depth=16, min_samples_leaf=8, min_samples_split=1; total time=   0.3s\n",
      "[CV] END criterion=entropy, max_depth=16, min_samples_leaf=8, min_samples_split=1; total time=   0.4s\n",
      "[CV] END criterion=entropy, max_depth=16, min_samples_leaf=8, min_samples_split=1; total time=   0.4s\n",
      "[CV] END criterion=entropy, max_depth=16, min_samples_leaf=8, min_samples_split=1; total time=   0.3s\n"
     ]
    },
    {
     "name": "stderr",
     "output_type": "stream",
     "text": [
      "/Users/annawey/git/NeueFische/Fraud-Detection-ML/.venv/lib/python3.11/site-packages/sklearn/metrics/_classification.py:1344: UndefinedMetricWarning: Precision is ill-defined and being set to 0.0 due to no predicted samples. Use `zero_division` parameter to control this behavior.\n",
      "  _warn_prf(average, modifier, msg_start, len(result))\n"
     ]
    },
    {
     "name": "stdout",
     "output_type": "stream",
     "text": [
      "[CV] END criterion=gini, max_depth=4, min_samples_leaf=2, min_samples_split=17; total time=   9.0s\n",
      "[CV] END criterion=gini, max_depth=10, min_samples_leaf=6, min_samples_split=5; total time=  19.3s\n",
      "[CV] END criterion=entropy, max_depth=28, min_samples_leaf=4, min_samples_split=9; total time=  44.7s\n",
      "[CV] END criterion=gini, max_depth=4, min_samples_leaf=2, min_samples_split=17; total time=   9.4s\n"
     ]
    },
    {
     "name": "stderr",
     "output_type": "stream",
     "text": [
      "/Users/annawey/git/NeueFische/Fraud-Detection-ML/.venv/lib/python3.11/site-packages/sklearn/metrics/_classification.py:1344: UndefinedMetricWarning: Precision is ill-defined and being set to 0.0 due to no predicted samples. Use `zero_division` parameter to control this behavior.\n",
      "  _warn_prf(average, modifier, msg_start, len(result))\n"
     ]
    },
    {
     "name": "stdout",
     "output_type": "stream",
     "text": [
      "[CV] END criterion=gini, max_depth=4, min_samples_leaf=2, min_samples_split=17; total time=   9.2s\n",
      "[CV] END criterion=gini, max_depth=4, min_samples_leaf=2, min_samples_split=17; total time=   9.3s\n",
      "[CV] END criterion=gini, max_depth=4, min_samples_leaf=2, min_samples_split=17; total time=   9.4s\n",
      "[CV] END criterion=gini, max_depth=12, min_samples_leaf=8, min_samples_split=17; total time=  22.7s\n",
      "[CV] END criterion=gini, max_depth=12, min_samples_leaf=8, min_samples_split=17; total time=  22.3s\n",
      "[CV] END criterion=gini, max_depth=12, min_samples_leaf=8, min_samples_split=17; total time=  22.3s\n",
      "[CV] END criterion=gini, max_depth=12, min_samples_leaf=8, min_samples_split=17; total time=  23.0s\n",
      "[CV] END criterion=gini, max_depth=12, min_samples_leaf=8, min_samples_split=17; total time=  22.6s\n",
      "[CV] END criterion=gini, max_depth=16, min_samples_leaf=4, min_samples_split=9; total time=  29.7s\n",
      "[CV] END criterion=gini, max_depth=16, min_samples_leaf=4, min_samples_split=9; total time=  28.7s\n",
      "[CV] END criterion=gini, max_depth=16, min_samples_leaf=4, min_samples_split=9; total time=  29.2s\n",
      "[CV] END criterion=gini, max_depth=6, min_samples_leaf=8, min_samples_split=11; total time=  13.2s\n",
      "[CV] END criterion=gini, max_depth=6, min_samples_leaf=8, min_samples_split=11; total time=  13.6s\n",
      "[CV] END criterion=gini, max_depth=6, min_samples_leaf=8, min_samples_split=11; total time=  14.0s\n",
      "[CV] END criterion=gini, max_depth=6, min_samples_leaf=8, min_samples_split=11; total time=  13.5s\n",
      "[CV] END criterion=gini, max_depth=6, min_samples_leaf=8, min_samples_split=11; total time=  14.0s\n",
      "[CV] END criterion=gini, max_depth=16, min_samples_leaf=4, min_samples_split=9; total time=  30.9s\n",
      "[CV] END criterion=gini, max_depth=16, min_samples_leaf=4, min_samples_split=9; total time=  30.8s\n",
      "[CV] END criterion=gini, max_depth=10, min_samples_leaf=6, min_samples_split=19; total time=  20.8s\n",
      "[CV] END criterion=gini, max_depth=10, min_samples_leaf=6, min_samples_split=19; total time=  20.7s\n",
      "[CV] END criterion=gini, max_depth=10, min_samples_leaf=6, min_samples_split=19; total time=  21.0s\n",
      "[CV] END criterion=gini, max_depth=10, min_samples_leaf=6, min_samples_split=19; total time=  19.8s\n"
     ]
    },
    {
     "name": "stderr",
     "output_type": "stream",
     "text": [
      "/Users/annawey/git/NeueFische/Fraud-Detection-ML/.venv/lib/python3.11/site-packages/sklearn/metrics/_classification.py:1344: UndefinedMetricWarning: Precision is ill-defined and being set to 0.0 due to no predicted samples. Use `zero_division` parameter to control this behavior.\n",
      "  _warn_prf(average, modifier, msg_start, len(result))\n"
     ]
    },
    {
     "name": "stdout",
     "output_type": "stream",
     "text": [
      "[CV] END criterion=entropy, max_depth=2, min_samples_leaf=2, min_samples_split=5; total time=   5.4s\n"
     ]
    },
    {
     "name": "stderr",
     "output_type": "stream",
     "text": [
      "/Users/annawey/git/NeueFische/Fraud-Detection-ML/.venv/lib/python3.11/site-packages/sklearn/metrics/_classification.py:1344: UndefinedMetricWarning: Precision is ill-defined and being set to 0.0 due to no predicted samples. Use `zero_division` parameter to control this behavior.\n",
      "  _warn_prf(average, modifier, msg_start, len(result))\n"
     ]
    },
    {
     "name": "stdout",
     "output_type": "stream",
     "text": [
      "[CV] END criterion=entropy, max_depth=2, min_samples_leaf=2, min_samples_split=5; total time=   5.4s\n",
      "[CV] END criterion=gini, max_depth=10, min_samples_leaf=6, min_samples_split=19; total time=  19.1s\n"
     ]
    },
    {
     "name": "stderr",
     "output_type": "stream",
     "text": [
      "/Users/annawey/git/NeueFische/Fraud-Detection-ML/.venv/lib/python3.11/site-packages/sklearn/metrics/_classification.py:1344: UndefinedMetricWarning: Precision is ill-defined and being set to 0.0 due to no predicted samples. Use `zero_division` parameter to control this behavior.\n",
      "  _warn_prf(average, modifier, msg_start, len(result))\n"
     ]
    },
    {
     "name": "stdout",
     "output_type": "stream",
     "text": [
      "[CV] END criterion=entropy, max_depth=2, min_samples_leaf=2, min_samples_split=5; total time=   5.0s\n"
     ]
    },
    {
     "name": "stderr",
     "output_type": "stream",
     "text": [
      "/Users/annawey/git/NeueFische/Fraud-Detection-ML/.venv/lib/python3.11/site-packages/sklearn/metrics/_classification.py:1344: UndefinedMetricWarning: Precision is ill-defined and being set to 0.0 due to no predicted samples. Use `zero_division` parameter to control this behavior.\n",
      "  _warn_prf(average, modifier, msg_start, len(result))\n"
     ]
    },
    {
     "name": "stdout",
     "output_type": "stream",
     "text": [
      "[CV] END criterion=entropy, max_depth=2, min_samples_leaf=2, min_samples_split=5; total time=   4.9s\n"
     ]
    },
    {
     "name": "stderr",
     "output_type": "stream",
     "text": [
      "/Users/annawey/git/NeueFische/Fraud-Detection-ML/.venv/lib/python3.11/site-packages/sklearn/metrics/_classification.py:1344: UndefinedMetricWarning: Precision is ill-defined and being set to 0.0 due to no predicted samples. Use `zero_division` parameter to control this behavior.\n",
      "  _warn_prf(average, modifier, msg_start, len(result))\n"
     ]
    },
    {
     "name": "stdout",
     "output_type": "stream",
     "text": [
      "[CV] END criterion=entropy, max_depth=2, min_samples_leaf=2, min_samples_split=5; total time=   5.2s\n",
      "[CV] END criterion=entropy, max_depth=22, min_samples_leaf=8, min_samples_split=11; total time=  38.3s\n",
      "[CV] END criterion=entropy, max_depth=10, min_samples_leaf=8, min_samples_split=5; total time=  18.9s\n",
      "[CV] END criterion=entropy, max_depth=10, min_samples_leaf=8, min_samples_split=5; total time=  19.8s\n",
      "[CV] END criterion=entropy, max_depth=22, min_samples_leaf=8, min_samples_split=11; total time=  37.5s\n",
      "[CV] END criterion=entropy, max_depth=10, min_samples_leaf=8, min_samples_split=5; total time=  19.1s\n",
      "[CV] END criterion=entropy, max_depth=22, min_samples_leaf=8, min_samples_split=11; total time=  37.1s\n",
      "[CV] END criterion=entropy, max_depth=22, min_samples_leaf=8, min_samples_split=11; total time=  37.6s\n",
      "[CV] END criterion=entropy, max_depth=22, min_samples_leaf=8, min_samples_split=11; total time=  37.2s\n",
      "[CV] END criterion=entropy, max_depth=6, min_samples_leaf=6, min_samples_split=13; total time=  12.5s\n",
      "[CV] END criterion=entropy, max_depth=6, min_samples_leaf=6, min_samples_split=13; total time=  12.7s\n",
      "[CV] END criterion=entropy, max_depth=6, min_samples_leaf=6, min_samples_split=13; total time=  12.5s\n",
      "[CV] END criterion=entropy, max_depth=6, min_samples_leaf=6, min_samples_split=13; total time=  12.7s\n",
      "[CV] END criterion=entropy, max_depth=10, min_samples_leaf=8, min_samples_split=5; total time=  19.4s\n",
      "[CV] END criterion=entropy, max_depth=2, min_samples_leaf=4, min_samples_split=1; total time=   0.3s\n",
      "[CV] END criterion=entropy, max_depth=2, min_samples_leaf=4, min_samples_split=1; total time=   0.4s\n",
      "[CV] END criterion=entropy, max_depth=2, min_samples_leaf=4, min_samples_split=1; total time=   0.3s\n",
      "[CV] END criterion=entropy, max_depth=6, min_samples_leaf=6, min_samples_split=13; total time=  12.6s\n",
      "[CV] END criterion=entropy, max_depth=2, min_samples_leaf=4, min_samples_split=1; total time=   0.3s\n",
      "[CV] END criterion=entropy, max_depth=2, min_samples_leaf=4, min_samples_split=1; total time=   0.4s\n",
      "[CV] END criterion=entropy, max_depth=10, min_samples_leaf=8, min_samples_split=5; total time=  19.8s\n",
      "[CV] END criterion=entropy, max_depth=20, min_samples_leaf=8, min_samples_split=19; total time=  33.8s\n",
      "[CV] END criterion=entropy, max_depth=20, min_samples_leaf=8, min_samples_split=19; total time=  33.0s\n",
      "[CV] END criterion=entropy, max_depth=20, min_samples_leaf=8, min_samples_split=19; total time=  32.9s\n",
      "[CV] END criterion=gini, max_depth=28, min_samples_leaf=8, min_samples_split=1; total time=   0.4s\n",
      "[CV] END criterion=gini, max_depth=28, min_samples_leaf=8, min_samples_split=1; total time=   0.3s\n",
      "[CV] END criterion=entropy, max_depth=20, min_samples_leaf=8, min_samples_split=19; total time=  32.7s\n",
      "[CV] END criterion=entropy, max_depth=20, min_samples_leaf=8, min_samples_split=19; total time=  33.5s\n",
      "[CV] END criterion=gini, max_depth=28, min_samples_leaf=8, min_samples_split=1; total time=   0.3s\n",
      "[CV] END criterion=gini, max_depth=28, min_samples_leaf=8, min_samples_split=1; total time=   0.3s\n",
      "[CV] END criterion=gini, max_depth=28, min_samples_leaf=8, min_samples_split=1; total time=   0.3s\n",
      "[CV] END criterion=entropy, max_depth=24, min_samples_leaf=6, min_samples_split=3; total time=  37.4s\n",
      "[CV] END criterion=entropy, max_depth=24, min_samples_leaf=6, min_samples_split=3; total time=  37.6s\n",
      "[CV] END criterion=entropy, max_depth=24, min_samples_leaf=6, min_samples_split=3; total time=  38.0s\n",
      "[CV] END criterion=gini, max_depth=8, min_samples_leaf=10, min_samples_split=9; total time=  14.2s\n",
      "[CV] END criterion=entropy, max_depth=24, min_samples_leaf=6, min_samples_split=3; total time=  37.5s\n",
      "[CV] END criterion=entropy, max_depth=24, min_samples_leaf=6, min_samples_split=3; total time=  37.5s\n",
      "[CV] END criterion=gini, max_depth=8, min_samples_leaf=10, min_samples_split=9; total time=  14.1s\n",
      "[CV] END criterion=entropy, max_depth=26, min_samples_leaf=8, min_samples_split=3; total time=  39.1s\n",
      "[CV] END criterion=entropy, max_depth=26, min_samples_leaf=8, min_samples_split=3; total time=  39.3s\n",
      "[CV] END criterion=entropy, max_depth=26, min_samples_leaf=8, min_samples_split=3; total time=  39.6s\n",
      "[CV] END criterion=gini, max_depth=8, min_samples_leaf=10, min_samples_split=9; total time=  14.8s\n",
      "[CV] END criterion=entropy, max_depth=26, min_samples_leaf=8, min_samples_split=3; total time=  39.3s\n",
      "[CV] END criterion=entropy, max_depth=26, min_samples_leaf=8, min_samples_split=3; total time=  39.7s\n",
      "[CV] END criterion=gini, max_depth=8, min_samples_leaf=10, min_samples_split=9; total time=  15.0s\n",
      "[CV] END criterion=gini, max_depth=8, min_samples_leaf=10, min_samples_split=9; total time=  15.1s\n",
      "[CV] END criterion=gini, max_depth=16, min_samples_leaf=8, min_samples_split=17; total time=  27.0s\n",
      "[CV] END criterion=gini, max_depth=16, min_samples_leaf=8, min_samples_split=17; total time=  27.0s\n",
      "[CV] END criterion=gini, max_depth=16, min_samples_leaf=8, min_samples_split=17; total time=  27.8s\n",
      "[CV] END criterion=gini, max_depth=12, min_samples_leaf=10, min_samples_split=3; total time=  21.8s\n",
      "[CV] END criterion=gini, max_depth=16, min_samples_leaf=8, min_samples_split=17; total time=  27.8s\n",
      "[CV] END criterion=gini, max_depth=12, min_samples_leaf=10, min_samples_split=3; total time=  22.0s\n",
      "[CV] END criterion=gini, max_depth=12, min_samples_leaf=10, min_samples_split=3; total time=  22.0s\n",
      "[CV] END criterion=gini, max_depth=16, min_samples_leaf=8, min_samples_split=17; total time=  27.9s\n",
      "[CV] END criterion=gini, max_depth=10, min_samples_leaf=2, min_samples_split=9; total time=  18.2s\n",
      "[CV] END criterion=gini, max_depth=10, min_samples_leaf=2, min_samples_split=9; total time=  18.2s\n",
      "[CV] END criterion=gini, max_depth=12, min_samples_leaf=10, min_samples_split=3; total time=  22.1s\n",
      "[CV] END criterion=gini, max_depth=12, min_samples_leaf=10, min_samples_split=3; total time=  22.0s\n",
      "[CV] END criterion=gini, max_depth=10, min_samples_leaf=2, min_samples_split=9; total time=  19.4s\n",
      "[CV] END criterion=gini, max_depth=10, min_samples_leaf=2, min_samples_split=9; total time=  19.0s\n",
      "[CV] END criterion=gini, max_depth=10, min_samples_leaf=2, min_samples_split=9; total time=  18.4s\n",
      "[CV] END criterion=gini, max_depth=12, min_samples_leaf=4, min_samples_split=19; total time=  21.7s\n",
      "[CV] END criterion=gini, max_depth=12, min_samples_leaf=4, min_samples_split=19; total time=  21.8s\n",
      "[CV] END criterion=gini, max_depth=12, min_samples_leaf=4, min_samples_split=19; total time=  21.8s\n",
      "[CV] END criterion=gini, max_depth=12, min_samples_leaf=4, min_samples_split=19; total time=  21.8s\n",
      "[CV] END criterion=gini, max_depth=12, min_samples_leaf=4, min_samples_split=19; total time=  21.7s\n"
     ]
    },
    {
     "name": "stderr",
     "output_type": "stream",
     "text": [
      "/Users/annawey/git/NeueFische/Fraud-Detection-ML/.venv/lib/python3.11/site-packages/sklearn/metrics/_classification.py:1344: UndefinedMetricWarning: Precision is ill-defined and being set to 0.0 due to no predicted samples. Use `zero_division` parameter to control this behavior.\n",
      "  _warn_prf(average, modifier, msg_start, len(result))\n"
     ]
    },
    {
     "name": "stdout",
     "output_type": "stream",
     "text": [
      "[CV] END criterion=entropy, max_depth=2, min_samples_leaf=2, min_samples_split=17; total time=   5.1s\n"
     ]
    },
    {
     "name": "stderr",
     "output_type": "stream",
     "text": [
      "/Users/annawey/git/NeueFische/Fraud-Detection-ML/.venv/lib/python3.11/site-packages/sklearn/metrics/_classification.py:1344: UndefinedMetricWarning: Precision is ill-defined and being set to 0.0 due to no predicted samples. Use `zero_division` parameter to control this behavior.\n",
      "  _warn_prf(average, modifier, msg_start, len(result))\n",
      "/Users/annawey/git/NeueFische/Fraud-Detection-ML/.venv/lib/python3.11/site-packages/sklearn/metrics/_classification.py:1344: UndefinedMetricWarning: Precision is ill-defined and being set to 0.0 due to no predicted samples. Use `zero_division` parameter to control this behavior.\n",
      "  _warn_prf(average, modifier, msg_start, len(result))\n"
     ]
    },
    {
     "name": "stdout",
     "output_type": "stream",
     "text": [
      "[CV] END criterion=entropy, max_depth=2, min_samples_leaf=2, min_samples_split=17; total time=   5.2s\n",
      "[CV] END criterion=entropy, max_depth=2, min_samples_leaf=2, min_samples_split=17; total time=   5.0s\n",
      "[CV] END criterion=gini, max_depth=20, min_samples_leaf=8, min_samples_split=1; total time=   0.3s\n",
      "[CV] END criterion=gini, max_depth=20, min_samples_leaf=8, min_samples_split=1; total time=   0.3s\n",
      "[CV] END criterion=gini, max_depth=20, min_samples_leaf=8, min_samples_split=1; total time=   0.3s\n",
      "[CV] END criterion=gini, max_depth=20, min_samples_leaf=8, min_samples_split=1; total time=   0.3s\n",
      "[CV] END criterion=gini, max_depth=20, min_samples_leaf=8, min_samples_split=1; total time=   0.3s\n"
     ]
    },
    {
     "name": "stderr",
     "output_type": "stream",
     "text": [
      "/Users/annawey/git/NeueFische/Fraud-Detection-ML/.venv/lib/python3.11/site-packages/sklearn/metrics/_classification.py:1344: UndefinedMetricWarning: Precision is ill-defined and being set to 0.0 due to no predicted samples. Use `zero_division` parameter to control this behavior.\n",
      "  _warn_prf(average, modifier, msg_start, len(result))\n",
      "/Users/annawey/git/NeueFische/Fraud-Detection-ML/.venv/lib/python3.11/site-packages/sklearn/metrics/_classification.py:1344: UndefinedMetricWarning: Precision is ill-defined and being set to 0.0 due to no predicted samples. Use `zero_division` parameter to control this behavior.\n",
      "  _warn_prf(average, modifier, msg_start, len(result))\n"
     ]
    },
    {
     "name": "stdout",
     "output_type": "stream",
     "text": [
      "[CV] END criterion=entropy, max_depth=2, min_samples_leaf=2, min_samples_split=17; total time=   5.2s\n",
      "[CV] END criterion=entropy, max_depth=2, min_samples_leaf=2, min_samples_split=17; total time=   5.2s\n"
     ]
    },
    {
     "name": "stderr",
     "output_type": "stream",
     "text": [
      "/Users/annawey/git/NeueFische/Fraud-Detection-ML/.venv/lib/python3.11/site-packages/sklearn/metrics/_classification.py:1344: UndefinedMetricWarning: Precision is ill-defined and being set to 0.0 due to no predicted samples. Use `zero_division` parameter to control this behavior.\n",
      "  _warn_prf(average, modifier, msg_start, len(result))\n"
     ]
    },
    {
     "name": "stdout",
     "output_type": "stream",
     "text": [
      "[CV] END criterion=entropy, max_depth=2, min_samples_leaf=2, min_samples_split=15; total time=   5.1s\n"
     ]
    },
    {
     "name": "stderr",
     "output_type": "stream",
     "text": [
      "/Users/annawey/git/NeueFische/Fraud-Detection-ML/.venv/lib/python3.11/site-packages/sklearn/metrics/_classification.py:1344: UndefinedMetricWarning: Precision is ill-defined and being set to 0.0 due to no predicted samples. Use `zero_division` parameter to control this behavior.\n",
      "  _warn_prf(average, modifier, msg_start, len(result))\n",
      "/Users/annawey/git/NeueFische/Fraud-Detection-ML/.venv/lib/python3.11/site-packages/sklearn/metrics/_classification.py:1344: UndefinedMetricWarning: Precision is ill-defined and being set to 0.0 due to no predicted samples. Use `zero_division` parameter to control this behavior.\n",
      "  _warn_prf(average, modifier, msg_start, len(result))\n"
     ]
    },
    {
     "name": "stdout",
     "output_type": "stream",
     "text": [
      "[CV] END criterion=entropy, max_depth=2, min_samples_leaf=2, min_samples_split=15; total time=   5.7s\n",
      "[CV] END criterion=entropy, max_depth=2, min_samples_leaf=2, min_samples_split=15; total time=   5.5s\n"
     ]
    },
    {
     "name": "stderr",
     "output_type": "stream",
     "text": [
      "/Users/annawey/git/NeueFische/Fraud-Detection-ML/.venv/lib/python3.11/site-packages/sklearn/metrics/_classification.py:1344: UndefinedMetricWarning: Precision is ill-defined and being set to 0.0 due to no predicted samples. Use `zero_division` parameter to control this behavior.\n",
      "  _warn_prf(average, modifier, msg_start, len(result))\n"
     ]
    },
    {
     "name": "stdout",
     "output_type": "stream",
     "text": [
      "[CV] END criterion=gini, max_depth=22, min_samples_leaf=2, min_samples_split=5; total time=  35.6s\n",
      "[CV] END criterion=entropy, max_depth=2, min_samples_leaf=2, min_samples_split=15; total time=   5.8s\n",
      "[CV] END criterion=gini, max_depth=22, min_samples_leaf=2, min_samples_split=5; total time=  36.4s\n",
      "[CV] END criterion=gini, max_depth=22, min_samples_leaf=2, min_samples_split=5; total time=  35.9s\n"
     ]
    },
    {
     "name": "stderr",
     "output_type": "stream",
     "text": [
      "/Users/annawey/git/NeueFische/Fraud-Detection-ML/.venv/lib/python3.11/site-packages/sklearn/metrics/_classification.py:1344: UndefinedMetricWarning: Precision is ill-defined and being set to 0.0 due to no predicted samples. Use `zero_division` parameter to control this behavior.\n",
      "  _warn_prf(average, modifier, msg_start, len(result))\n"
     ]
    },
    {
     "name": "stdout",
     "output_type": "stream",
     "text": [
      "[CV] END criterion=entropy, max_depth=2, min_samples_leaf=2, min_samples_split=15; total time=   5.8s\n",
      "[CV] END criterion=gini, max_depth=22, min_samples_leaf=2, min_samples_split=5; total time=  35.9s\n"
     ]
    },
    {
     "name": "stderr",
     "output_type": "stream",
     "text": [
      "/Users/annawey/git/NeueFische/Fraud-Detection-ML/.venv/lib/python3.11/site-packages/sklearn/metrics/_classification.py:1344: UndefinedMetricWarning: Precision is ill-defined and being set to 0.0 due to no predicted samples. Use `zero_division` parameter to control this behavior.\n",
      "  _warn_prf(average, modifier, msg_start, len(result))\n"
     ]
    },
    {
     "name": "stdout",
     "output_type": "stream",
     "text": [
      "[CV] END criterion=entropy, max_depth=2, min_samples_leaf=2, min_samples_split=3; total time=   5.7s\n"
     ]
    },
    {
     "name": "stderr",
     "output_type": "stream",
     "text": [
      "/Users/annawey/git/NeueFische/Fraud-Detection-ML/.venv/lib/python3.11/site-packages/sklearn/metrics/_classification.py:1344: UndefinedMetricWarning: Precision is ill-defined and being set to 0.0 due to no predicted samples. Use `zero_division` parameter to control this behavior.\n",
      "  _warn_prf(average, modifier, msg_start, len(result))\n"
     ]
    },
    {
     "name": "stdout",
     "output_type": "stream",
     "text": [
      "[CV] END criterion=entropy, max_depth=2, min_samples_leaf=2, min_samples_split=3; total time=   5.6s\n"
     ]
    },
    {
     "name": "stderr",
     "output_type": "stream",
     "text": [
      "/Users/annawey/git/NeueFische/Fraud-Detection-ML/.venv/lib/python3.11/site-packages/sklearn/metrics/_classification.py:1344: UndefinedMetricWarning: Precision is ill-defined and being set to 0.0 due to no predicted samples. Use `zero_division` parameter to control this behavior.\n",
      "  _warn_prf(average, modifier, msg_start, len(result))\n"
     ]
    },
    {
     "name": "stdout",
     "output_type": "stream",
     "text": [
      "[CV] END criterion=entropy, max_depth=2, min_samples_leaf=2, min_samples_split=3; total time=   5.2s\n",
      "[CV] END criterion=entropy, max_depth=8, min_samples_leaf=6, min_samples_split=3; total time=  16.9s\n"
     ]
    },
    {
     "name": "stderr",
     "output_type": "stream",
     "text": [
      "/Users/annawey/git/NeueFische/Fraud-Detection-ML/.venv/lib/python3.11/site-packages/sklearn/metrics/_classification.py:1344: UndefinedMetricWarning: Precision is ill-defined and being set to 0.0 due to no predicted samples. Use `zero_division` parameter to control this behavior.\n",
      "  _warn_prf(average, modifier, msg_start, len(result))\n"
     ]
    },
    {
     "name": "stdout",
     "output_type": "stream",
     "text": [
      "[CV] END criterion=entropy, max_depth=2, min_samples_leaf=2, min_samples_split=3; total time=   5.5s\n",
      "[CV] END criterion=gini, max_depth=22, min_samples_leaf=2, min_samples_split=5; total time=  36.8s\n",
      "[CV] END criterion=entropy, max_depth=8, min_samples_leaf=6, min_samples_split=3; total time=  16.7s\n",
      "[CV] END criterion=entropy, max_depth=8, min_samples_leaf=6, min_samples_split=3; total time=  16.9s\n",
      "[CV] END criterion=entropy, max_depth=8, min_samples_leaf=6, min_samples_split=3; total time=  16.2s\n",
      "[CV] END criterion=entropy, max_depth=8, min_samples_leaf=6, min_samples_split=3; total time=  17.0s\n"
     ]
    },
    {
     "name": "stderr",
     "output_type": "stream",
     "text": [
      "/Users/annawey/git/NeueFische/Fraud-Detection-ML/.venv/lib/python3.11/site-packages/sklearn/metrics/_classification.py:1344: UndefinedMetricWarning: Precision is ill-defined and being set to 0.0 due to no predicted samples. Use `zero_division` parameter to control this behavior.\n",
      "  _warn_prf(average, modifier, msg_start, len(result))\n"
     ]
    },
    {
     "name": "stdout",
     "output_type": "stream",
     "text": [
      "[CV] END criterion=entropy, max_depth=2, min_samples_leaf=2, min_samples_split=3; total time=   5.4s\n",
      "[CV] END criterion=gini, max_depth=14, min_samples_leaf=2, min_samples_split=15; total time=  24.1s\n",
      "[CV] END criterion=gini, max_depth=14, min_samples_leaf=2, min_samples_split=15; total time=  24.5s\n",
      "[CV] END criterion=entropy, max_depth=16, min_samples_leaf=6, min_samples_split=3; total time=  28.2s\n",
      "[CV] END criterion=gini, max_depth=14, min_samples_leaf=2, min_samples_split=15; total time=  24.1s\n",
      "[CV] END criterion=entropy, max_depth=16, min_samples_leaf=6, min_samples_split=3; total time=  28.9s\n",
      "[CV] END criterion=entropy, max_depth=16, min_samples_leaf=6, min_samples_split=3; total time=  28.7s\n",
      "[CV] END criterion=entropy, max_depth=16, min_samples_leaf=6, min_samples_split=3; total time=  29.1s\n",
      "[CV] END criterion=entropy, max_depth=16, min_samples_leaf=6, min_samples_split=3; total time=  28.9s\n",
      "[CV] END criterion=gini, max_depth=14, min_samples_leaf=2, min_samples_split=15; total time=  23.7s\n",
      "[CV] END criterion=gini, max_depth=14, min_samples_leaf=2, min_samples_split=15; total time=  24.5s\n",
      "[CV] END criterion=entropy, max_depth=14, min_samples_leaf=8, min_samples_split=15; total time=  25.1s\n",
      "[CV] END criterion=entropy, max_depth=14, min_samples_leaf=8, min_samples_split=15; total time=  24.7s\n",
      "[CV] END criterion=entropy, max_depth=14, min_samples_leaf=8, min_samples_split=15; total time=  25.0s\n",
      "[CV] END criterion=entropy, max_depth=14, min_samples_leaf=8, min_samples_split=15; total time=  25.5s\n",
      "[CV] END criterion=entropy, max_depth=14, min_samples_leaf=8, min_samples_split=15; total time=  25.0s\n",
      "[CV] END criterion=entropy, max_depth=14, min_samples_leaf=10, min_samples_split=15; total time=  25.7s\n",
      "[CV] END criterion=entropy, max_depth=14, min_samples_leaf=10, min_samples_split=15; total time=  26.3s\n",
      "[CV] END criterion=entropy, max_depth=14, min_samples_leaf=10, min_samples_split=15; total time=  25.8s\n",
      "[CV] END criterion=entropy, max_depth=14, min_samples_leaf=10, min_samples_split=15; total time=  25.7s\n",
      "[CV] END criterion=entropy, max_depth=14, min_samples_leaf=10, min_samples_split=15; total time=  25.7s\n",
      "[CV] END criterion=gini, max_depth=26, min_samples_leaf=6, min_samples_split=13; total time=  40.3s\n",
      "[CV] END criterion=gini, max_depth=26, min_samples_leaf=6, min_samples_split=13; total time=  40.3s\n",
      "[CV] END criterion=gini, max_depth=26, min_samples_leaf=6, min_samples_split=13; total time=  40.6s\n",
      "[CV] END criterion=entropy, max_depth=14, min_samples_leaf=2, min_samples_split=1; total time=   0.5s\n",
      "[CV] END criterion=entropy, max_depth=14, min_samples_leaf=2, min_samples_split=1; total time=   0.3s\n",
      "[CV] END criterion=entropy, max_depth=14, min_samples_leaf=2, min_samples_split=1; total time=   0.3s\n",
      "[CV] END criterion=gini, max_depth=26, min_samples_leaf=6, min_samples_split=13; total time=  40.6s\n",
      "[CV] END criterion=entropy, max_depth=14, min_samples_leaf=2, min_samples_split=1; total time=   0.3s\n",
      "[CV] END criterion=entropy, max_depth=14, min_samples_leaf=2, min_samples_split=1; total time=   0.4s\n",
      "[CV] END criterion=gini, max_depth=26, min_samples_leaf=6, min_samples_split=13; total time=  41.1s\n",
      "[CV] END criterion=gini, max_depth=28, min_samples_leaf=6, min_samples_split=11; total time=  41.8s\n",
      "[CV] END criterion=gini, max_depth=28, min_samples_leaf=6, min_samples_split=11; total time=  42.4s\n",
      "[CV] END criterion=gini, max_depth=28, min_samples_leaf=6, min_samples_split=11; total time=  42.9s\n",
      "[CV] END criterion=entropy, max_depth=18, min_samples_leaf=8, min_samples_split=5; total time=  33.1s\n",
      "[CV] END criterion=entropy, max_depth=18, min_samples_leaf=8, min_samples_split=5; total time=  33.8s\n",
      "[CV] END criterion=gini, max_depth=28, min_samples_leaf=6, min_samples_split=11; total time=  41.9s\n",
      "[CV] END criterion=gini, max_depth=28, min_samples_leaf=6, min_samples_split=11; total time=  43.3s\n",
      "[CV] END criterion=gini, max_depth=8, min_samples_leaf=8, min_samples_split=13; total time=  16.4s\n"
     ]
    },
    {
     "name": "stderr",
     "output_type": "stream",
     "text": [
      "/Users/annawey/git/NeueFische/Fraud-Detection-ML/.venv/lib/python3.11/site-packages/sklearn/metrics/_classification.py:1344: UndefinedMetricWarning: Precision is ill-defined and being set to 0.0 due to no predicted samples. Use `zero_division` parameter to control this behavior.\n",
      "  _warn_prf(average, modifier, msg_start, len(result))\n"
     ]
    },
    {
     "name": "stdout",
     "output_type": "stream",
     "text": [
      "[CV] END criterion=gini, max_depth=2, min_samples_leaf=10, min_samples_split=7; total time=   6.0s\n",
      "[CV] END criterion=gini, max_depth=8, min_samples_leaf=8, min_samples_split=13; total time=  18.0s\n",
      "[CV] END criterion=gini, max_depth=8, min_samples_leaf=8, min_samples_split=13; total time=  17.6s\n"
     ]
    },
    {
     "name": "stderr",
     "output_type": "stream",
     "text": [
      "/Users/annawey/git/NeueFische/Fraud-Detection-ML/.venv/lib/python3.11/site-packages/sklearn/metrics/_classification.py:1344: UndefinedMetricWarning: Precision is ill-defined and being set to 0.0 due to no predicted samples. Use `zero_division` parameter to control this behavior.\n",
      "  _warn_prf(average, modifier, msg_start, len(result))\n"
     ]
    },
    {
     "name": "stdout",
     "output_type": "stream",
     "text": [
      "[CV] END criterion=gini, max_depth=2, min_samples_leaf=10, min_samples_split=7; total time=   5.8s\n",
      "[CV] END criterion=entropy, max_depth=18, min_samples_leaf=8, min_samples_split=5; total time=  35.0s\n"
     ]
    },
    {
     "name": "stderr",
     "output_type": "stream",
     "text": [
      "/Users/annawey/git/NeueFische/Fraud-Detection-ML/.venv/lib/python3.11/site-packages/sklearn/metrics/_classification.py:1344: UndefinedMetricWarning: Precision is ill-defined and being set to 0.0 due to no predicted samples. Use `zero_division` parameter to control this behavior.\n",
      "  _warn_prf(average, modifier, msg_start, len(result))\n",
      "/Users/annawey/git/NeueFische/Fraud-Detection-ML/.venv/lib/python3.11/site-packages/sklearn/metrics/_classification.py:1344: UndefinedMetricWarning: Precision is ill-defined and being set to 0.0 due to no predicted samples. Use `zero_division` parameter to control this behavior.\n",
      "  _warn_prf(average, modifier, msg_start, len(result))\n"
     ]
    },
    {
     "name": "stdout",
     "output_type": "stream",
     "text": [
      "[CV] END criterion=entropy, max_depth=18, min_samples_leaf=8, min_samples_split=5; total time=  34.8s\n",
      "[CV] END criterion=gini, max_depth=8, min_samples_leaf=8, min_samples_split=13; total time=  17.8s\n",
      "[CV] END criterion=gini, max_depth=2, min_samples_leaf=10, min_samples_split=7; total time=   5.5s\n",
      "[CV] END criterion=gini, max_depth=2, min_samples_leaf=10, min_samples_split=7; total time=   5.9s\n"
     ]
    },
    {
     "name": "stderr",
     "output_type": "stream",
     "text": [
      "/Users/annawey/git/NeueFische/Fraud-Detection-ML/.venv/lib/python3.11/site-packages/sklearn/metrics/_classification.py:1344: UndefinedMetricWarning: Precision is ill-defined and being set to 0.0 due to no predicted samples. Use `zero_division` parameter to control this behavior.\n",
      "  _warn_prf(average, modifier, msg_start, len(result))\n"
     ]
    },
    {
     "name": "stdout",
     "output_type": "stream",
     "text": [
      "[CV] END criterion=gini, max_depth=2, min_samples_leaf=10, min_samples_split=7; total time=   5.9s\n",
      "[CV] END criterion=gini, max_depth=8, min_samples_leaf=8, min_samples_split=13; total time=  18.1s\n",
      "[CV] END criterion=entropy, max_depth=18, min_samples_leaf=8, min_samples_split=5; total time=  35.6s\n",
      "[CV] END criterion=gini, max_depth=8, min_samples_leaf=2, min_samples_split=9; total time=  15.3s\n",
      "[CV] END criterion=gini, max_depth=8, min_samples_leaf=2, min_samples_split=9; total time=  15.5s\n",
      "[CV] END criterion=gini, max_depth=8, min_samples_leaf=2, min_samples_split=9; total time=  15.8s\n",
      "[CV] END criterion=gini, max_depth=8, min_samples_leaf=2, min_samples_split=9; total time=  17.1s\n",
      "[CV] END criterion=gini, max_depth=8, min_samples_leaf=2, min_samples_split=9; total time=  17.0s\n",
      "[CV] END criterion=entropy, max_depth=8, min_samples_leaf=4, min_samples_split=5; total time=  16.8s\n",
      "[CV] END criterion=entropy, max_depth=24, min_samples_leaf=10, min_samples_split=11; total time=  42.5s\n",
      "[CV] END criterion=entropy, max_depth=24, min_samples_leaf=10, min_samples_split=11; total time=  41.2s\n",
      "[CV] END criterion=entropy, max_depth=24, min_samples_leaf=10, min_samples_split=11; total time=  41.4s\n",
      "[CV] END criterion=entropy, max_depth=24, min_samples_leaf=10, min_samples_split=11; total time=  41.5s\n",
      "[CV] END criterion=gini, max_depth=12, min_samples_leaf=8, min_samples_split=1; total time=   0.4s\n",
      "[CV] END criterion=entropy, max_depth=24, min_samples_leaf=10, min_samples_split=11; total time=  42.4s\n",
      "[CV] END criterion=gini, max_depth=12, min_samples_leaf=8, min_samples_split=1; total time=   0.4s\n",
      "[CV] END criterion=gini, max_depth=12, min_samples_leaf=8, min_samples_split=1; total time=   0.4s\n",
      "[CV] END criterion=gini, max_depth=12, min_samples_leaf=8, min_samples_split=1; total time=   0.4s\n",
      "[CV] END criterion=gini, max_depth=12, min_samples_leaf=8, min_samples_split=1; total time=   0.4s\n",
      "[CV] END criterion=entropy, max_depth=8, min_samples_leaf=4, min_samples_split=5; total time=  16.2s\n",
      "[CV] END criterion=entropy, max_depth=8, min_samples_leaf=4, min_samples_split=5; total time=  16.2s\n",
      "[CV] END criterion=entropy, max_depth=8, min_samples_leaf=4, min_samples_split=5; total time=  15.9s\n",
      "[CV] END criterion=entropy, max_depth=8, min_samples_leaf=4, min_samples_split=5; total time=  15.5s\n",
      "[CV] END criterion=entropy, max_depth=28, min_samples_leaf=8, min_samples_split=7; total time=  36.6s\n",
      "[CV] END criterion=entropy, max_depth=28, min_samples_leaf=8, min_samples_split=7; total time=  36.7s\n",
      "[CV] END criterion=entropy, max_depth=28, min_samples_leaf=8, min_samples_split=7; total time=  36.8s\n",
      "[CV] END criterion=entropy, max_depth=28, min_samples_leaf=8, min_samples_split=7; total time=  37.1s\n",
      "[CV] END criterion=entropy, max_depth=28, min_samples_leaf=8, min_samples_split=7; total time=  32.4s\n"
     ]
    },
    {
     "name": "stderr",
     "output_type": "stream",
     "text": [
      "/Users/annawey/git/NeueFische/Fraud-Detection-ML/.venv/lib/python3.11/site-packages/sklearn/model_selection/_validation.py:378: FitFailedWarning: \n",
      "45 fits failed out of a total of 300.\n",
      "The score on these train-test partitions for these parameters will be set to nan.\n",
      "If these failures are not expected, you can try to debug them by setting error_score='raise'.\n",
      "\n",
      "Below are more details about the failures:\n",
      "--------------------------------------------------------------------------------\n",
      "45 fits failed with the following error:\n",
      "Traceback (most recent call last):\n",
      "  File \"/Users/annawey/git/NeueFische/Fraud-Detection-ML/.venv/lib/python3.11/site-packages/sklearn/model_selection/_validation.py\", line 686, in _fit_and_score\n",
      "    estimator.fit(X_train, y_train, **fit_params)\n",
      "  File \"/Users/annawey/git/NeueFische/Fraud-Detection-ML/.venv/lib/python3.11/site-packages/sklearn/tree/_classes.py\", line 889, in fit\n",
      "    super().fit(\n",
      "  File \"/Users/annawey/git/NeueFische/Fraud-Detection-ML/.venv/lib/python3.11/site-packages/sklearn/tree/_classes.py\", line 177, in fit\n",
      "    self._validate_params()\n",
      "  File \"/Users/annawey/git/NeueFische/Fraud-Detection-ML/.venv/lib/python3.11/site-packages/sklearn/base.py\", line 600, in _validate_params\n",
      "    validate_parameter_constraints(\n",
      "  File \"/Users/annawey/git/NeueFische/Fraud-Detection-ML/.venv/lib/python3.11/site-packages/sklearn/utils/_param_validation.py\", line 97, in validate_parameter_constraints\n",
      "    raise InvalidParameterError(\n",
      "sklearn.utils._param_validation.InvalidParameterError: The 'min_samples_split' parameter of DecisionTreeClassifier must be an int in the range [2, inf) or a float in the range (0.0, 1.0]. Got 1 instead.\n",
      "\n",
      "  warnings.warn(some_fits_failed_message, FitFailedWarning)\n",
      "/Users/annawey/git/NeueFische/Fraud-Detection-ML/.venv/lib/python3.11/site-packages/sklearn/model_selection/_search.py:952: UserWarning: One or more of the test scores are non-finite: [0.17879007        nan 0.20727641 0.                nan 0.13981646\n",
      " 0.18131243 0.16831057 0.16146137 0.         0.13427409 0.29774508\n",
      "        nan 0.19662038 0.16089044 0.13657816 0.14625039 0.27300558\n",
      " 0.         0.                nan 0.24449897 0.18952339 0.27362804\n",
      " 0.27956917 0.18561975 0.         0.25612297 0.2654741  0.18919457\n",
      "        nan 0.17088536        nan 0.17989449 0.29774508 0.20610757\n",
      " 0.25073686 0.2819081  0.24918264 0.15878862 0.                nan\n",
      " 0.         0.29985288 0.         0.19769959 0.21047869 0.22370554\n",
      " 0.22855445 0.16892472 0.16374312        nan 0.19160886 0.2959035\n",
      " 0.         0.1928532  0.30002335 0.30654496        nan 0.17579899]\n",
      "  warnings.warn(\n",
      "/Users/annawey/git/NeueFische/Fraud-Detection-ML/.venv/lib/python3.11/site-packages/sklearn/model_selection/_search.py:952: UserWarning: One or more of the test scores are non-finite: [0.0145364         nan 0.0178705  0.                nan 0.02913734\n",
      " 0.02020589 0.01949958 0.02669563 0.         0.03277144 0.00233919\n",
      "        nan 0.01109977 0.02058563 0.03287017 0.03033352 0.00354296\n",
      " 0.         0.                nan 0.00532014 0.0109061  0.00196706\n",
      " 0.00355435 0.01804138 0.         0.00308728 0.00193288 0.01501487\n",
      "        nan 0.0222337         nan 0.02218433 0.00233919 0.01103521\n",
      " 0.00540748 0.00354676 0.00528596 0.02240838 0.                nan\n",
      " 0.         0.0017468  0.         0.01013143 0.00767452 0.00733656\n",
      " 0.00719605 0.02530199 0.02710955        nan 0.01254657 0.00229362\n",
      " 0.         0.01849327 0.00230121 0.0017354         nan 0.02357038]\n",
      "  warnings.warn(\n",
      "/Users/annawey/git/NeueFische/Fraud-Detection-ML/.venv/lib/python3.11/site-packages/sklearn/model_selection/_search.py:952: UserWarning: One or more of the test scores are non-finite: [0.02688024        nan 0.03290068 0.                nan 0.04821742\n",
      " 0.03635646 0.03494751 0.04581224 0.         0.05267935 0.00463971\n",
      "        nan 0.02101109 0.03649851 0.05298243 0.05024064 0.00699197\n",
      " 0.         0.                nan 0.01041101 0.02062321 0.00389751\n",
      " 0.00701616 0.03288397 0.         0.00609705 0.00383025 0.02781989\n",
      "        nan 0.03934366        nan 0.03949486 0.00463971 0.02094743\n",
      " 0.01058391 0.00700182 0.01034755 0.03926997 0.                nan\n",
      " 0.         0.00346631 0.         0.01927386 0.0148088  0.01420424\n",
      " 0.01395115 0.04400937 0.04651662        nan 0.02354815 0.00454994\n",
      " 0.         0.03374452 0.00456412 0.00344382        nan 0.04156511]\n",
      "  warnings.warn(\n",
      "/Users/annawey/git/NeueFische/Fraud-Detection-ML/.venv/lib/python3.11/site-packages/sklearn/model_selection/_search.py:952: UserWarning: One or more of the test scores are non-finite: [0.50444022        nan 0.50604297 0.5               nan 0.50694737\n",
      " 0.50622767 0.50564617 0.50745498 0.5        0.50740836 0.5009435\n",
      "        nan 0.50362965 0.50572332 0.50760808 0.50763957 0.50138134\n",
      " 0.5        0.49998372        nan 0.50196536 0.50348415 0.50084945\n",
      " 0.50139735 0.50565319 0.5        0.50115543 0.50084268 0.50477663\n",
      "        nan 0.50652769        nan 0.50679533 0.5009435  0.50372017\n",
      " 0.5020237  0.50139533 0.50195907 0.5061701  0.5               nan\n",
      " 0.5        0.50070951 0.5        0.50331646 0.50261544 0.50259036\n",
      " 0.50256201 0.50737229 0.50767821        nan 0.50402479 0.50092298\n",
      " 0.5        0.50595729 0.50093193 0.50070478        nan 0.50709306]\n",
      "  warnings.warn(\n"
     ]
    },
    {
     "data": {
      "text/html": [
       "<style>#sk-container-id-3 {color: black;background-color: white;}#sk-container-id-3 pre{padding: 0;}#sk-container-id-3 div.sk-toggleable {background-color: white;}#sk-container-id-3 label.sk-toggleable__label {cursor: pointer;display: block;width: 100%;margin-bottom: 0;padding: 0.3em;box-sizing: border-box;text-align: center;}#sk-container-id-3 label.sk-toggleable__label-arrow:before {content: \"▸\";float: left;margin-right: 0.25em;color: #696969;}#sk-container-id-3 label.sk-toggleable__label-arrow:hover:before {color: black;}#sk-container-id-3 div.sk-estimator:hover label.sk-toggleable__label-arrow:before {color: black;}#sk-container-id-3 div.sk-toggleable__content {max-height: 0;max-width: 0;overflow: hidden;text-align: left;background-color: #f0f8ff;}#sk-container-id-3 div.sk-toggleable__content pre {margin: 0.2em;color: black;border-radius: 0.25em;background-color: #f0f8ff;}#sk-container-id-3 input.sk-toggleable__control:checked~div.sk-toggleable__content {max-height: 200px;max-width: 100%;overflow: auto;}#sk-container-id-3 input.sk-toggleable__control:checked~label.sk-toggleable__label-arrow:before {content: \"▾\";}#sk-container-id-3 div.sk-estimator input.sk-toggleable__control:checked~label.sk-toggleable__label {background-color: #d4ebff;}#sk-container-id-3 div.sk-label input.sk-toggleable__control:checked~label.sk-toggleable__label {background-color: #d4ebff;}#sk-container-id-3 input.sk-hidden--visually {border: 0;clip: rect(1px 1px 1px 1px);clip: rect(1px, 1px, 1px, 1px);height: 1px;margin: -1px;overflow: hidden;padding: 0;position: absolute;width: 1px;}#sk-container-id-3 div.sk-estimator {font-family: monospace;background-color: #f0f8ff;border: 1px dotted black;border-radius: 0.25em;box-sizing: border-box;margin-bottom: 0.5em;}#sk-container-id-3 div.sk-estimator:hover {background-color: #d4ebff;}#sk-container-id-3 div.sk-parallel-item::after {content: \"\";width: 100%;border-bottom: 1px solid gray;flex-grow: 1;}#sk-container-id-3 div.sk-label:hover label.sk-toggleable__label {background-color: #d4ebff;}#sk-container-id-3 div.sk-serial::before {content: \"\";position: absolute;border-left: 1px solid gray;box-sizing: border-box;top: 0;bottom: 0;left: 50%;z-index: 0;}#sk-container-id-3 div.sk-serial {display: flex;flex-direction: column;align-items: center;background-color: white;padding-right: 0.2em;padding-left: 0.2em;position: relative;}#sk-container-id-3 div.sk-item {position: relative;z-index: 1;}#sk-container-id-3 div.sk-parallel {display: flex;align-items: stretch;justify-content: center;background-color: white;position: relative;}#sk-container-id-3 div.sk-item::before, #sk-container-id-3 div.sk-parallel-item::before {content: \"\";position: absolute;border-left: 1px solid gray;box-sizing: border-box;top: 0;bottom: 0;left: 50%;z-index: -1;}#sk-container-id-3 div.sk-parallel-item {display: flex;flex-direction: column;z-index: 1;position: relative;background-color: white;}#sk-container-id-3 div.sk-parallel-item:first-child::after {align-self: flex-end;width: 50%;}#sk-container-id-3 div.sk-parallel-item:last-child::after {align-self: flex-start;width: 50%;}#sk-container-id-3 div.sk-parallel-item:only-child::after {width: 0;}#sk-container-id-3 div.sk-dashed-wrapped {border: 1px dashed gray;margin: 0 0.4em 0.5em 0.4em;box-sizing: border-box;padding-bottom: 0.4em;background-color: white;}#sk-container-id-3 div.sk-label label {font-family: monospace;font-weight: bold;display: inline-block;line-height: 1.2em;}#sk-container-id-3 div.sk-label-container {text-align: center;}#sk-container-id-3 div.sk-container {/* jupyter's `normalize.less` sets `[hidden] { display: none; }` but bootstrap.min.css set `[hidden] { display: none !important; }` so we also need the `!important` here to be able to override the default hidden behavior on the sphinx rendered scikit-learn.org. See: https://github.com/scikit-learn/scikit-learn/issues/21755 */display: inline-block !important;position: relative;}#sk-container-id-3 div.sk-text-repr-fallback {display: none;}</style><div id=\"sk-container-id-3\" class=\"sk-top-container\"><div class=\"sk-text-repr-fallback\"><pre>RandomizedSearchCV(cv=5, estimator=DecisionTreeClassifier(random_state=42),\n",
       "                   n_iter=60, n_jobs=-1,\n",
       "                   param_distributions={&#x27;criterion&#x27;: [&#x27;gini&#x27;, &#x27;entropy&#x27;],\n",
       "                                        &#x27;max_depth&#x27;: range(2, 30, 2),\n",
       "                                        &#x27;min_samples_leaf&#x27;: range(2, 12, 2),\n",
       "                                        &#x27;min_samples_split&#x27;: range(1, 20, 2)},\n",
       "                   refit=&#x27;roc_auc_score&#x27;,\n",
       "                   scoring={&#x27;f1_score&#x27;: make_scorer(f1_score),\n",
       "                            &#x27;precision_score&#x27;: make_scorer(precision_score),\n",
       "                            &#x27;recall_score&#x27;: make_scorer(recall_score),\n",
       "                            &#x27;roc_auc_score&#x27;: make_scorer(roc_auc_score)},\n",
       "                   verbose=2)</pre><b>In a Jupyter environment, please rerun this cell to show the HTML representation or trust the notebook. <br />On GitHub, the HTML representation is unable to render, please try loading this page with nbviewer.org.</b></div><div class=\"sk-container\" hidden><div class=\"sk-item sk-dashed-wrapped\"><div class=\"sk-label-container\"><div class=\"sk-label sk-toggleable\"><input class=\"sk-toggleable__control sk-hidden--visually\" id=\"sk-estimator-id-3\" type=\"checkbox\" ><label for=\"sk-estimator-id-3\" class=\"sk-toggleable__label sk-toggleable__label-arrow\">RandomizedSearchCV</label><div class=\"sk-toggleable__content\"><pre>RandomizedSearchCV(cv=5, estimator=DecisionTreeClassifier(random_state=42),\n",
       "                   n_iter=60, n_jobs=-1,\n",
       "                   param_distributions={&#x27;criterion&#x27;: [&#x27;gini&#x27;, &#x27;entropy&#x27;],\n",
       "                                        &#x27;max_depth&#x27;: range(2, 30, 2),\n",
       "                                        &#x27;min_samples_leaf&#x27;: range(2, 12, 2),\n",
       "                                        &#x27;min_samples_split&#x27;: range(1, 20, 2)},\n",
       "                   refit=&#x27;roc_auc_score&#x27;,\n",
       "                   scoring={&#x27;f1_score&#x27;: make_scorer(f1_score),\n",
       "                            &#x27;precision_score&#x27;: make_scorer(precision_score),\n",
       "                            &#x27;recall_score&#x27;: make_scorer(recall_score),\n",
       "                            &#x27;roc_auc_score&#x27;: make_scorer(roc_auc_score)},\n",
       "                   verbose=2)</pre></div></div></div><div class=\"sk-parallel\"><div class=\"sk-parallel-item\"><div class=\"sk-item\"><div class=\"sk-label-container\"><div class=\"sk-label sk-toggleable\"><input class=\"sk-toggleable__control sk-hidden--visually\" id=\"sk-estimator-id-4\" type=\"checkbox\" ><label for=\"sk-estimator-id-4\" class=\"sk-toggleable__label sk-toggleable__label-arrow\">estimator: DecisionTreeClassifier</label><div class=\"sk-toggleable__content\"><pre>DecisionTreeClassifier(random_state=42)</pre></div></div></div><div class=\"sk-serial\"><div class=\"sk-item\"><div class=\"sk-estimator sk-toggleable\"><input class=\"sk-toggleable__control sk-hidden--visually\" id=\"sk-estimator-id-5\" type=\"checkbox\" ><label for=\"sk-estimator-id-5\" class=\"sk-toggleable__label sk-toggleable__label-arrow\">DecisionTreeClassifier</label><div class=\"sk-toggleable__content\"><pre>DecisionTreeClassifier(random_state=42)</pre></div></div></div></div></div></div></div></div></div></div>"
      ],
      "text/plain": [
       "RandomizedSearchCV(cv=5, estimator=DecisionTreeClassifier(random_state=42),\n",
       "                   n_iter=60, n_jobs=-1,\n",
       "                   param_distributions={'criterion': ['gini', 'entropy'],\n",
       "                                        'max_depth': range(2, 30, 2),\n",
       "                                        'min_samples_leaf': range(2, 12, 2),\n",
       "                                        'min_samples_split': range(1, 20, 2)},\n",
       "                   refit='roc_auc_score',\n",
       "                   scoring={'f1_score': make_scorer(f1_score),\n",
       "                            'precision_score': make_scorer(precision_score),\n",
       "                            'recall_score': make_scorer(recall_score),\n",
       "                            'roc_auc_score': make_scorer(roc_auc_score)},\n",
       "                   verbose=2)"
      ]
     },
     "execution_count": 58,
     "metadata": {},
     "output_type": "execute_result"
    }
   ],
   "source": [
    "randsearch.fit(X_train, y_train,)"
   ]
  },
  {
   "attachments": {},
   "cell_type": "markdown",
   "metadata": {},
   "source": [
    "to do:\n",
    "\n",
    "Understand scoring method during search, and how to set it\n",
    "how to properly refit and score output models"
   ]
  },
  {
   "cell_type": "code",
   "execution_count": null,
   "metadata": {},
   "outputs": [],
   "source": [
    "rand_tree = randsearch.best_estimator_"
   ]
  },
  {
   "cell_type": "code",
   "execution_count": null,
   "metadata": {},
   "outputs": [
    {
     "data": {
      "text/html": [
       "<style>#sk-container-id-4 {color: black;background-color: white;}#sk-container-id-4 pre{padding: 0;}#sk-container-id-4 div.sk-toggleable {background-color: white;}#sk-container-id-4 label.sk-toggleable__label {cursor: pointer;display: block;width: 100%;margin-bottom: 0;padding: 0.3em;box-sizing: border-box;text-align: center;}#sk-container-id-4 label.sk-toggleable__label-arrow:before {content: \"▸\";float: left;margin-right: 0.25em;color: #696969;}#sk-container-id-4 label.sk-toggleable__label-arrow:hover:before {color: black;}#sk-container-id-4 div.sk-estimator:hover label.sk-toggleable__label-arrow:before {color: black;}#sk-container-id-4 div.sk-toggleable__content {max-height: 0;max-width: 0;overflow: hidden;text-align: left;background-color: #f0f8ff;}#sk-container-id-4 div.sk-toggleable__content pre {margin: 0.2em;color: black;border-radius: 0.25em;background-color: #f0f8ff;}#sk-container-id-4 input.sk-toggleable__control:checked~div.sk-toggleable__content {max-height: 200px;max-width: 100%;overflow: auto;}#sk-container-id-4 input.sk-toggleable__control:checked~label.sk-toggleable__label-arrow:before {content: \"▾\";}#sk-container-id-4 div.sk-estimator input.sk-toggleable__control:checked~label.sk-toggleable__label {background-color: #d4ebff;}#sk-container-id-4 div.sk-label input.sk-toggleable__control:checked~label.sk-toggleable__label {background-color: #d4ebff;}#sk-container-id-4 input.sk-hidden--visually {border: 0;clip: rect(1px 1px 1px 1px);clip: rect(1px, 1px, 1px, 1px);height: 1px;margin: -1px;overflow: hidden;padding: 0;position: absolute;width: 1px;}#sk-container-id-4 div.sk-estimator {font-family: monospace;background-color: #f0f8ff;border: 1px dotted black;border-radius: 0.25em;box-sizing: border-box;margin-bottom: 0.5em;}#sk-container-id-4 div.sk-estimator:hover {background-color: #d4ebff;}#sk-container-id-4 div.sk-parallel-item::after {content: \"\";width: 100%;border-bottom: 1px solid gray;flex-grow: 1;}#sk-container-id-4 div.sk-label:hover label.sk-toggleable__label {background-color: #d4ebff;}#sk-container-id-4 div.sk-serial::before {content: \"\";position: absolute;border-left: 1px solid gray;box-sizing: border-box;top: 0;bottom: 0;left: 50%;z-index: 0;}#sk-container-id-4 div.sk-serial {display: flex;flex-direction: column;align-items: center;background-color: white;padding-right: 0.2em;padding-left: 0.2em;position: relative;}#sk-container-id-4 div.sk-item {position: relative;z-index: 1;}#sk-container-id-4 div.sk-parallel {display: flex;align-items: stretch;justify-content: center;background-color: white;position: relative;}#sk-container-id-4 div.sk-item::before, #sk-container-id-4 div.sk-parallel-item::before {content: \"\";position: absolute;border-left: 1px solid gray;box-sizing: border-box;top: 0;bottom: 0;left: 50%;z-index: -1;}#sk-container-id-4 div.sk-parallel-item {display: flex;flex-direction: column;z-index: 1;position: relative;background-color: white;}#sk-container-id-4 div.sk-parallel-item:first-child::after {align-self: flex-end;width: 50%;}#sk-container-id-4 div.sk-parallel-item:last-child::after {align-self: flex-start;width: 50%;}#sk-container-id-4 div.sk-parallel-item:only-child::after {width: 0;}#sk-container-id-4 div.sk-dashed-wrapped {border: 1px dashed gray;margin: 0 0.4em 0.5em 0.4em;box-sizing: border-box;padding-bottom: 0.4em;background-color: white;}#sk-container-id-4 div.sk-label label {font-family: monospace;font-weight: bold;display: inline-block;line-height: 1.2em;}#sk-container-id-4 div.sk-label-container {text-align: center;}#sk-container-id-4 div.sk-container {/* jupyter's `normalize.less` sets `[hidden] { display: none; }` but bootstrap.min.css set `[hidden] { display: none !important; }` so we also need the `!important` here to be able to override the default hidden behavior on the sphinx rendered scikit-learn.org. See: https://github.com/scikit-learn/scikit-learn/issues/21755 */display: inline-block !important;position: relative;}#sk-container-id-4 div.sk-text-repr-fallback {display: none;}</style><div id=\"sk-container-id-4\" class=\"sk-top-container\"><div class=\"sk-text-repr-fallback\"><pre>DecisionTreeClassifier(max_depth=28, min_samples_leaf=6, min_samples_split=11,\n",
       "                       random_state=42)</pre><b>In a Jupyter environment, please rerun this cell to show the HTML representation or trust the notebook. <br />On GitHub, the HTML representation is unable to render, please try loading this page with nbviewer.org.</b></div><div class=\"sk-container\" hidden><div class=\"sk-item\"><div class=\"sk-estimator sk-toggleable\"><input class=\"sk-toggleable__control sk-hidden--visually\" id=\"sk-estimator-id-6\" type=\"checkbox\" checked><label for=\"sk-estimator-id-6\" class=\"sk-toggleable__label sk-toggleable__label-arrow\">DecisionTreeClassifier</label><div class=\"sk-toggleable__content\"><pre>DecisionTreeClassifier(max_depth=28, min_samples_leaf=6, min_samples_split=11,\n",
       "                       random_state=42)</pre></div></div></div></div></div>"
      ],
      "text/plain": [
       "DecisionTreeClassifier(max_depth=28, min_samples_leaf=6, min_samples_split=11,\n",
       "                       random_state=42)"
      ]
     },
     "execution_count": 60,
     "metadata": {},
     "output_type": "execute_result"
    }
   ],
   "source": [
    "rand_tree.fit(X_train, y_train)"
   ]
  },
  {
   "cell_type": "code",
   "execution_count": null,
   "metadata": {},
   "outputs": [],
   "source": [
    "y_pred_rand = rand_tree.predict(X_test)"
   ]
  },
  {
   "cell_type": "code",
   "execution_count": null,
   "metadata": {},
   "outputs": [
    {
     "name": "stdout",
     "output_type": "stream",
     "text": [
      "              precision    recall  f1-score   support\n",
      "\n",
      "       False       0.92      0.99      0.95   1019588\n",
      "        True       0.16      0.03      0.04     89524\n",
      "\n",
      "    accuracy                           0.91   1109112\n",
      "   macro avg       0.54      0.51      0.50   1109112\n",
      "weighted avg       0.86      0.91      0.88   1109112\n",
      "\n"
     ]
    }
   ],
   "source": [
    "print(classification_report(y_test, y_pred_rand))"
   ]
  },
  {
   "cell_type": "code",
   "execution_count": null,
   "metadata": {},
   "outputs": [
    {
     "data": {
      "text/plain": [
       "0.025926008668066665"
      ]
     },
     "execution_count": 66,
     "metadata": {},
     "output_type": "execute_result"
    }
   ],
   "source": [
    "recall_score(y_test, y_pred_rand)"
   ]
  },
  {
   "cell_type": "code",
   "execution_count": null,
   "metadata": {},
   "outputs": [
    {
     "data": {
      "text/plain": [
       "{'ccp_alpha': 0.0,\n",
       " 'class_weight': None,\n",
       " 'criterion': 'gini',\n",
       " 'max_depth': 28,\n",
       " 'max_features': None,\n",
       " 'max_leaf_nodes': None,\n",
       " 'min_impurity_decrease': 0.0,\n",
       " 'min_samples_leaf': 6,\n",
       " 'min_samples_split': 11,\n",
       " 'min_weight_fraction_leaf': 0.0,\n",
       " 'random_state': 42,\n",
       " 'splitter': 'best'}"
      ]
     },
     "execution_count": 67,
     "metadata": {},
     "output_type": "execute_result"
    }
   ],
   "source": [
    "rand_tree.get_params()"
   ]
  },
  {
   "attachments": {},
   "cell_type": "markdown",
   "metadata": {},
   "source": [
    "### Random Forest time"
   ]
  },
  {
   "cell_type": "code",
   "execution_count": null,
   "metadata": {},
   "outputs": [],
   "source": [
    "forest = RandomForestClassifier(n_estimators=100,\n",
    "                                random_state=42,\n",
    "                                max_features='sqrt',\n",
    "                                n_jobs=-1,\n",
    "                                verbose=1)\n",
    "\n",
    "forest.fit(X_train, y_train)"
   ]
  },
  {
   "attachments": {},
   "cell_type": "markdown",
   "metadata": {},
   "source": [
    "## Feature importance ##\n",
    "\n",
    "first we will permutate the f"
   ]
  },
  {
   "cell_type": "code",
   "execution_count": 118,
   "metadata": {},
   "outputs": [],
   "source": [
    "from sklearn.inspection import PartialDependenceDisplay\n",
    "from sklearn.inspection import permutation_importance"
   ]
  },
  {
   "cell_type": "code",
   "execution_count": 119,
   "metadata": {},
   "outputs": [
    {
     "data": {
      "text/plain": [
       "{'importances_mean': array([-1.69402019e-02,  5.35652150e-05, -3.34585939e-02, -1.32381355e-03,\n",
       "         0.00000000e+00, -1.55249854e-02, -2.36644570e-03,  8.14890122e-04,\n",
       "         8.48556874e-04, -4.22939311e-02, -4.34664465e-02,  6.13441443e-03,\n",
       "        -3.51694961e-05, -1.13000759e-02]),\n",
       " 'importances_std': array([5.65080625e-04, 1.23316195e-04, 5.67386244e-04, 5.43146258e-04,\n",
       "        0.00000000e+00, 5.76958086e-04, 3.01912452e-04, 7.73284772e-05,\n",
       "        7.82918486e-05, 5.76121717e-04, 6.87613216e-04, 3.20597290e-04,\n",
       "        1.65190198e-05, 6.24243415e-04]),\n",
       " 'importances': array([[-1.69600075e-02, -1.66048802e-02, -1.64659561e-02,\n",
       "         -1.61434175e-02, -1.76354806e-02, -1.69148731e-02,\n",
       "         -1.65040165e-02, -1.69308068e-02, -1.70652366e-02,\n",
       "         -1.81773438e-02],\n",
       "        [ 2.40019662e-05,  5.38747795e-05,  3.52207945e-04,\n",
       "          4.45215544e-05,  1.28669302e-04,  3.59292562e-05,\n",
       "         -1.08459634e-04,  1.05572177e-04,  1.76132115e-06,\n",
       "         -1.02426517e-04],\n",
       "        [-3.33932674e-02, -3.35787136e-02, -3.37382829e-02,\n",
       "         -3.31597136e-02, -3.40094198e-02, -3.31136969e-02,\n",
       "         -3.39014857e-02, -3.38951189e-02, -3.37913407e-02,\n",
       "         -3.20048989e-02],\n",
       "        [-1.04123294e-03, -1.31237915e-03, -1.32339526e-03,\n",
       "         -1.94722921e-03, -5.56831568e-04, -2.54572533e-03,\n",
       "         -1.13009862e-03, -1.46242825e-03, -1.15663353e-03,\n",
       "         -7.62181679e-04],\n",
       "        [ 0.00000000e+00,  0.00000000e+00,  0.00000000e+00,\n",
       "          0.00000000e+00,  0.00000000e+00,  0.00000000e+00,\n",
       "          0.00000000e+00,  0.00000000e+00,  0.00000000e+00,\n",
       "          0.00000000e+00],\n",
       "        [-1.56779171e-02, -1.62515411e-02, -1.47218313e-02,\n",
       "         -1.58649723e-02, -1.54606360e-02, -1.56221756e-02,\n",
       "         -1.55531533e-02, -1.57821639e-02, -1.60705885e-02,\n",
       "         -1.42448746e-02],\n",
       "        [-2.49859907e-03, -2.71777266e-03, -2.48892379e-03,\n",
       "         -2.16000661e-03, -2.34625045e-03, -1.65419081e-03,\n",
       "         -2.45518101e-03, -2.78888945e-03, -2.31646489e-03,\n",
       "         -2.23817829e-03],\n",
       "        [ 8.17350179e-04,  8.67634168e-04,  6.79548162e-04,\n",
       "          8.65525795e-04,  6.79124735e-04,  9.21961303e-04,\n",
       "          7.99802617e-04,  7.86481566e-04,  8.62151976e-04,\n",
       "          8.69320721e-04],\n",
       "        [ 7.65565470e-04,  8.72305230e-04,  7.66835736e-04,\n",
       "          9.18024647e-04,  7.42484184e-04,  8.58949629e-04,\n",
       "          9.47285503e-04,  7.59636595e-04,  9.05509156e-04,\n",
       "          9.48972593e-04],\n",
       "        [-4.26742065e-02, -4.35349943e-02, -4.19902000e-02,\n",
       "         -4.25876725e-02, -4.14618233e-02, -4.16288766e-02,\n",
       "         -4.22985537e-02, -4.18870621e-02, -4.21991886e-02,\n",
       "         -4.26767337e-02],\n",
       "        [-4.32580841e-02, -4.30700919e-02, -4.37727359e-02,\n",
       "         -4.27677082e-02, -4.28356809e-02, -4.48161298e-02,\n",
       "         -4.24638825e-02, -4.36694804e-02, -4.42276964e-02,\n",
       "         -4.37829748e-02],\n",
       "        [ 6.03259765e-03,  6.26955065e-03,  5.61815310e-03,\n",
       "          5.87472058e-03,  5.94265720e-03,  6.83391836e-03,\n",
       "          6.05641661e-03,  5.98020384e-03,  6.37796198e-03,\n",
       "          6.35796434e-03],\n",
       "        [-1.62497382e-05, -5.39169445e-05, -3.20662747e-05,\n",
       "         -7.18871820e-05, -3.68078472e-05, -3.50835228e-05,\n",
       "         -3.72389491e-05, -1.79733536e-05, -3.42214104e-05,\n",
       "         -1.62497382e-05],\n",
       "        [-1.13219248e-02, -1.12620586e-02, -1.19374094e-02,\n",
       "         -1.16967852e-02, -1.21568729e-02, -1.06864758e-02,\n",
       "         -1.14414468e-02, -9.91658693e-03, -1.09121219e-02,\n",
       "         -1.16690767e-02]])}"
      ]
     },
     "execution_count": 119,
     "metadata": {},
     "output_type": "execute_result"
    }
   ],
   "source": [
    "#Permutate all features and alayze the loss in f1 score \n",
    "result = permutation_importance(rand_tree, X_test, y_test, scoring='f1' , n_repeats=10, random_state=42, n_jobs=2)\n",
    "result"
   ]
  },
  {
   "cell_type": "code",
   "execution_count": null,
   "metadata": {},
   "outputs": [],
   "source": [
    "forest_importances = pd.Series(result.importances_mean, index=X_test.columns)"
   ]
  },
  {
   "cell_type": "code",
   "execution_count": null,
   "metadata": {},
   "outputs": [],
   "source": [
    "f = pd.DataFrame(forest_importances, columns=['feature']).query('abs(feature) > 0.001')\n",
    "f.sort_values('feature', ascending=False, inplace=True)"
   ]
  },
  {
   "cell_type": "code",
   "execution_count": null,
   "metadata": {},
   "outputs": [
    {
     "data": {
      "image/png": "[encoded data removed]",
      "text/plain": [
       "<Figure size 640x480 with 1 Axes>"
      ]
     },
     "metadata": {},
     "output_type": "display_data"
    }
   ],
   "source": [
    "fig, ax = plt.subplots()\n",
    "f.plot.bar(yerr=abs(f.feature), ax=ax)\n",
    "ax.set_title(\"Feature importances using permutation on full model\")\n",
    "ax.set_ylabel(\"Mean F1 score decrease\")\n",
    "fig.tight_layout()\n",
    "plt.show()"
   ]
  },
  {
   "cell_type": "code",
   "execution_count": null,
   "metadata": {},
   "outputs": [
    {
     "ename": "AttributeError",
     "evalue": "'DecisionTreeClassifier' object has no attribute 'get_booster'",
     "output_type": "error",
     "traceback": [
      "\u001b[0;31m---------------------------------------------------------------------------\u001b[0m",
      "\u001b[0;31mAttributeError\u001b[0m                            Traceback (most recent call last)",
      "Cell \u001b[0;32mIn[76], line 3\u001b[0m\n\u001b[1;32m      1\u001b[0m \u001b[39m# Apparently it does not work with trees just boosting methods which makes sense \u001b[39;00m\n\u001b[0;32m----> 3\u001b[0m feature_important \u001b[39m=\u001b[39m rand_tree\u001b[39m.\u001b[39;49mget_booster()\u001b[39m.\u001b[39mget_score(importance_type\u001b[39m=\u001b[39m\u001b[39m'\u001b[39m\u001b[39mtotal_gain\u001b[39m\u001b[39m'\u001b[39m)\n\u001b[1;32m      4\u001b[0m keys \u001b[39m=\u001b[39m \u001b[39mlist\u001b[39m(feature_important\u001b[39m.\u001b[39mkeys())\n\u001b[1;32m      5\u001b[0m values \u001b[39m=\u001b[39m \u001b[39mlist\u001b[39m(feature_important\u001b[39m.\u001b[39mvalues())\n",
      "\u001b[0;31mAttributeError\u001b[0m: 'DecisionTreeClassifier' object has no attribute 'get_booster'"
     ]
    }
   ],
   "source": [
    "# Apparently it does not work with trees just boosting methods which makes sense \n",
    "\n",
    "feature_important = rand_tree.get_booster().get_score(importance_type='total_gain')\n",
    "keys = list(feature_important.keys())\n",
    "values = list(feature_important.values())\n",
    "\n",
    "data = pd.DataFrame(data=values, index=keys, columns=[\"score\"]).sort_values(by = \"score\", ascending=True)\n",
    "data.nlargest(10, columns='score').plot(kind='barh', figsize = (20,10)) ## plot top 10 features"
   ]
  }
 ],
 "metadata": {
  "kernelspec": {
   "display_name": ".venv",
   "language": "python",
   "name": "python3"
  },
  "language_info": {
   "codemirror_mode": {
    "name": "ipython",
    "version": 3
   },
   "file_extension": ".py",
   "mimetype": "text/x-python",
   "name": "python",
   "nbconvert_exporter": "python",
   "pygments_lexer": "ipython3",
   "version": "3.11.3"
  },
  "orig_nbformat": 4
 },
 "nbformat": 4,
 "nbformat_minor": 2
}
